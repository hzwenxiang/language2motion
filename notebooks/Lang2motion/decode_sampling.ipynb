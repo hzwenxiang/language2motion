{
 "cells": [
  {
   "cell_type": "code",
   "execution_count": null,
   "metadata": {},
   "outputs": [],
   "source": [
    "import TensorFlow\n",
    "import PythonKit\n",
    "let np  = Python.import(\"numpy\")"
   ]
  },
  {
   "cell_type": "markdown",
   "metadata": {},
   "source": [
    "# gaussian_pdf"
   ]
  },
  {
   "cell_type": "code",
   "execution_count": null,
   "metadata": {},
   "outputs": [],
   "source": [
    "let sample: Tensor<Float> = Tensor( [ 0.07302398, -0.05352596, -0.49435979, -0.63558447, -0.4825839 ,\n",
    "        -1.14608109,  0.59895985, -0.42538716, -0.0585548 ,  0.1465245 ,\n",
    "        -0.62833426,  0.07476875, -0.64981115, -0.62148309,  0.88461525,\n",
    "        -0.87353999, -0.91989656,  1.0210292 ,  0.40432688,  0.1662731 ,\n",
    "         2.26028443, -1.16876916,  0.15839239,  0.45524302,  0.85473012,\n",
    "         0.94942612, -1.45573125, -0.56644532,  1.25762885, -1.34921461,\n",
    "        -0.12130737, -1.44653917, -0.26442676,  0.07117945, -0.19593498,\n",
    "        -0.17900124,  0.1910719 , -0.40384093, -0.32847037,  0.13990416,\n",
    "         0.46173778,  0.93727768, -0.79425243, -0.28385625])\n",
    "let means: Tensor<Float> = Tensor([ 0.15408649,  0.29816347, -0.13377258, -0.17361103, -0.11629181,\n",
    "         0.06266706,  0.09763305, -0.08253729, -0.02466551, -0.0345402 ,\n",
    "        -0.13521798,  0.17153735,  0.07983932, -0.18635072,  0.08232449,\n",
    "        -0.23305307,  0.37902492, -0.00329562,  0.1583495 , -0.09259565,\n",
    "         0.24752717, -0.08673161, -0.15374787,  0.09038167, -0.12145634,\n",
    "        -0.00117256, -0.04958278,  0.07207216, -0.02987621, -0.04854284,\n",
    "        -0.04310755, -0.1209391 , -0.02794004,  0.07519907,  0.16054006,\n",
    "         0.20887403,  0.0396167 , -0.23697911, -0.04111701,  0.13819726,\n",
    "        -0.12531766,  0.01778293,  0.08020163, -0.04682036])\n",
    "let variances: Tensor<Float> = Tensor( [ 0.70221317,  0.70673585,  0.6062988 ,  0.7421605 ,  0.63953811,\n",
    "         0.65401101,  0.68929565,  0.68973207,  0.75350386,  0.65106231,\n",
    "         0.77213335,  0.68754119,  0.65901625,  0.56018007,  0.70559245,\n",
    "         0.68746239,  0.78692478,  0.70397818,  0.78736299,  0.7884137 ,\n",
    "         0.78003544,  0.77387136,  0.61530006,  0.6682021 ,  0.62115371,\n",
    "         0.68115312,  0.6882652 ,  0.67010355,  0.81538665,  0.62063217,\n",
    "         0.67558163,  0.62255567,  0.73009133,  0.66459596,  0.66031897,\n",
    "         0.73138642,  0.75803137,  0.63522118,  0.75455576,  0.70993203,\n",
    "         0.76642156,  0.73074347,  0.65240794,  0.73463118])\n",
    "let g_pdf_out: Tensor<Float> = Tensor([ 0.47385293,  0.43478914,  0.46025513,  0.40106723,  0.44918074,\n",
    "         0.16143838,  0.40043482,  0.44112638,  0.45923645,  0.48213014,\n",
    "         0.38786352,  0.47786278,  0.32812433,  0.45014325,  0.30098334,\n",
    "         0.35703369,  0.15394707,  0.22567542,  0.43264919,  0.43060201,\n",
    "         0.03365713,  0.21283808,  0.46987437,  0.44176834,  0.23505804,\n",
    "         0.24900825,  0.11434309,  0.3595194 ,  0.15987151,  0.1295935 ,\n",
    "         0.48317625,  0.12328342,  0.44935306,  0.48935715,  0.4459072 ,\n",
    "         0.4208905 ,  0.45133126,  0.48969947,  0.43481219,  0.47347907,\n",
    "         0.36394216,  0.2616906 ,  0.27487673,  0.4479892 ]\n",
    ")"
   ]
  },
  {
   "cell_type": "code",
   "execution_count": null,
   "metadata": {},
   "outputs": [],
   "source": [
    "func gaussian_pdf(sample: Tensor<Float>, means: Tensor<Float>, variances: Tensor<Float>) -> Tensor<Float> {\n",
    "    // one-dim tensors\n",
    "    assert(sample.shape.count == 1)\n",
    "    assert(sample.shape == means.shape)\n",
    "    assert(sample.shape == variances.shape)\n",
    "    let a1 = sqrt(Float(2.0) * Float(np.pi)! * variances)\n",
    "    let a2 = -(sample - means).squared()\n",
    "    return Float(1.0) / a1 * exp(a2 / (2.0 * variances))\n",
    "}"
   ]
  },
  {
   "cell_type": "code",
   "execution_count": null,
   "metadata": {},
   "outputs": [],
   "source": [
    "gaussian_pdf(sample: sample, means: means, variances: variances).sum()"
   ]
  },
  {
   "cell_type": "code",
   "execution_count": null,
   "metadata": {},
   "outputs": [],
   "source": [
    "g_pdf_out.sum()"
   ]
  },
  {
   "cell_type": "code",
   "execution_count": null,
   "metadata": {},
   "outputs": [],
   "source": [
    "sample.shape.count"
   ]
  },
  {
   "cell_type": "markdown",
   "metadata": {},
   "source": [
    "# bernoulli_pdf"
   ]
  },
  {
   "cell_type": "code",
   "execution_count": 1,
   "metadata": {},
   "outputs": [],
   "source": [
    "import TensorFlow"
   ]
  },
  {
   "cell_type": "code",
   "execution_count": 2,
   "metadata": {},
   "outputs": [],
   "source": [
    "let sample = 1\n",
    "let p: Float = 0.57663208"
   ]
  },
  {
   "cell_type": "code",
   "execution_count": 19,
   "metadata": {},
   "outputs": [],
   "source": [
    "// def bernoulli_pdf(sample, p):\n",
    "//     return float(sample) * p + float(1. - sample) * (1. - p)\n",
    "func bernoulli_pdf(sample: Int, p: Float) -> Float {\n",
    "    let fSample = Float(sample)\n",
    "    return fSample * p + Float(1.0 - fSample) * (1.0 - p)\n",
    "}"
   ]
  },
  {
   "cell_type": "code",
   "execution_count": 20,
   "metadata": {},
   "outputs": [
    {
     "data": {
      "text/plain": [
       "0.5766321\n"
      ]
     },
     "execution_count": 20,
     "metadata": {},
     "output_type": "execute_result"
    }
   ],
   "source": [
    "bernoulli_pdf(sample: sample, p: p)"
   ]
  },
  {
   "cell_type": "code",
   "execution_count": null,
   "metadata": {},
   "outputs": [],
   "source": [
    "# cont.d"
   ]
  },
  {
   "cell_type": "code",
   "execution_count": 21,
   "metadata": {},
   "outputs": [],
   "source": [
    "let sample: Tensor<Float> = Tensor( [ 0.07302398, -0.05352596, -0.49435979, -0.63558447, -0.4825839 ,\n",
    "        -1.14608109,  0.59895985, -0.42538716, -0.0585548 ,  0.1465245 ,\n",
    "        -0.62833426,  0.07476875, -0.64981115, -0.62148309,  0.88461525,\n",
    "        -0.87353999, -0.91989656,  1.0210292 ,  0.40432688,  0.1662731 ,\n",
    "         2.26028443, -1.16876916,  0.15839239,  0.45524302,  0.85473012,\n",
    "         0.94942612, -1.45573125, -0.56644532,  1.25762885, -1.34921461,\n",
    "        -0.12130737, -1.44653917, -0.26442676,  0.07117945, -0.19593498,\n",
    "        -0.17900124,  0.1910719 , -0.40384093, -0.32847037,  0.13990416,\n",
    "         0.46173778,  0.93727768, -0.79425243, -0.28385625])"
   ]
  },
  {
   "cell_type": "code",
   "execution_count": 25,
   "metadata": {},
   "outputs": [
    {
     "name": "stdout",
     "output_type": "stream",
     "text": [
      "Tensor<Float>\n"
     ]
    }
   ],
   "source": [
    "print(type(of:sample.sum()))"
   ]
  },
  {
   "cell_type": "code",
   "execution_count": null,
   "metadata": {},
   "outputs": [],
   "source": []
  },
  {
   "cell_type": "code",
   "execution_count": null,
   "metadata": {},
   "outputs": [],
   "source": []
  }
 ],
 "metadata": {
  "kernelspec": {
   "display_name": "Swift",
   "language": "swift",
   "name": "swift"
  },
  "language_info": {
   "file_extension": ".swift",
   "mimetype": "text/x-swift",
   "name": "swift",
   "version": ""
  }
 },
 "nbformat": 4,
 "nbformat_minor": 4
}
