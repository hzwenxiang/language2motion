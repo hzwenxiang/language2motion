{
 "cells": [
  {
   "cell_type": "markdown",
   "metadata": {},
   "source": [
    "# Save Lang2motion transformer model"
   ]
  },
  {
   "cell_type": "code",
   "execution_count": null,
   "metadata": {},
   "outputs": [],
   "source": [
    "// for local development\n",
    "%install-location /notebooks/language2motion.gt/swift-install\n",
    "%install-swiftpm-flags -c release\n",
    "%install '.package(path: \"/notebooks/language2motion.gt\")' Datasets TranslationModels TextModels ModelSupport SummaryWriter LangMotionModels Checkpoints"
   ]
  },
  {
   "cell_type": "code",
   "execution_count": null,
   "metadata": {},
   "outputs": [],
   "source": [
    "import TensorFlow\n",
    "import TextModels\n",
    "import TranslationModels\n",
    "import Foundation\n",
    "import ModelSupport\n",
    "import Datasets\n",
    "import SummaryWriter\n",
    "import LangMotionModels\n",
    "import Checkpoints"
   ]
  },
  {
   "cell_type": "markdown",
   "metadata": {},
   "source": [
    "## Set training params"
   ]
  },
  {
   "cell_type": "code",
   "execution_count": null,
   "metadata": {},
   "outputs": [],
   "source": [
    "let maxTextSequenceLength =  20\n",
    "let maxMotionLength =  100"
   ]
  },
  {
   "cell_type": "code",
   "execution_count": null,
   "metadata": {},
   "outputs": [],
   "source": [
    "let dataURL = URL(fileURLWithPath: \"/notebooks/language2motion.gt/data/\")"
   ]
  },
  {
   "cell_type": "markdown",
   "metadata": {},
   "source": [
    "## Instantiate model"
   ]
  },
  {
   "cell_type": "code",
   "execution_count": null,
   "metadata": {},
   "outputs": [],
   "source": [
    "/// instantiate text processor\n",
    "let vocabularyURL = dataURL.appendingPathComponent(\"vocab.txt\")\n",
    "let vocabulary: Vocabulary = try! Vocabulary(fromFile: vocabularyURL)\n",
    "let tokenizer: Tokenizer = BERTTokenizer(vocabulary: vocabulary, caseSensitive: false, unknownToken: \"[UNK]\", maxTokenLength: nil)\n",
    "let textProcessor = TextProcessor2(vocabulary: vocabulary, tokenizer: tokenizer, maxTextSequenceLength: maxTextSequenceLength, maxMotionLength: maxMotionLength)\n",
    "\n",
    "/// instantiate model\n",
    "let vocabSize = vocabulary.count\n",
    "let nbJoints = 47 // TODO: get value from dataset\n",
    "let nbMixtures = 20\n",
    "let layerCount: Int = 6\n",
    "let modelSize: Int = 256\n",
    "let feedForwardSize: Int = 1024\n",
    "let headCount: Int = 8\n",
    "let dropoutProbability: Double = 0.1\n",
    "\n",
    "var model = LangMotionTransformer(\n",
    "    vocabSize: vocabSize, \n",
    "    nbJoints: nbJoints,\n",
    "    nbMixtures: nbMixtures,\n",
    "    layerCount: layerCount, \n",
    "    modelSize: modelSize, \n",
    "    feedForwardSize: feedForwardSize, \n",
    "    headCount: headCount, \n",
    "    dropoutProbability: dropoutProbability\n",
    ")"
   ]
  },
  {
   "cell_type": "raw",
   "metadata": {},
   "source": [
    "model"
   ]
  },
  {
   "cell_type": "markdown",
   "metadata": {},
   "source": [
    "## play with writer and reader"
   ]
  },
  {
   "cell_type": "code",
   "execution_count": null,
   "metadata": {},
   "outputs": [],
   "source": [
    "let temporaryDirectory = dataURL.appendingPathComponent(\"CheckpointsTests\", isDirectory: true)"
   ]
  },
  {
   "cell_type": "raw",
   "metadata": {},
   "source": [
    "func setUp() {\n",
    "    // Remove pre-existing test files.\n",
    "    let headerPath = temporaryDirectory.appendingPathComponent(\n",
    "        \"testmodel.ckpt.index\"\n",
    "    ).path\n",
    "    if FileManager.default.fileExists(atPath: headerPath) {\n",
    "        try! FileManager.default.removeItem(atPath: headerPath)\n",
    "    }\n",
    "    let shardPath = temporaryDirectory.appendingPathComponent(\n",
    "        \"testmodel.ckpt.data-00000-of-00001\"\n",
    "    ).path\n",
    "    if FileManager.default.fileExists(atPath: shardPath) {\n",
    "        try! FileManager.default.removeItem(atPath: shardPath)\n",
    "    }\n",
    "}"
   ]
  },
  {
   "cell_type": "raw",
   "metadata": {},
   "source": [
    "setUp()"
   ]
  },
  {
   "cell_type": "raw",
   "metadata": {},
   "source": [
    "let vector = Tensor<Float>([1])\n",
    "let matrix = Tensor<Float>([[1.0, 2.0, 3.0], [4.0, 5.0, 6.0]])\n",
    "let ones = Tensor<Float>(ones: [1, 2, 2, 2, 2, 2, 1])\n",
    "let tensor = Tensor<Float>(\n",
    "    shape: [3, 4, 5], scalars: [Float](stride(from: 0.0, to: 60.0, by: 1.0)))\n",
    "\n",
    "let tensors = [\n",
    "    \"model/vector\": vector, \"model/matrix\": matrix, \"ones\": ones, \"tensor\": tensor,\n",
    "]\n",
    "\n",
    "do {\n",
    "    let writer = CheckpointWriter(tensors: tensors)\n",
    "    try writer.write(to: temporaryDirectory, name: \"testmodel.ckpt\")\n",
    "} catch {\n",
    "    print(\"Checkpoint writing / reading failed with error: \\(error).\")\n",
    "}"
   ]
  },
  {
   "cell_type": "markdown",
   "metadata": {},
   "source": [
    "## save parts of the model"
   ]
  },
  {
   "cell_type": "code",
   "execution_count": null,
   "metadata": {},
   "outputs": [],
   "source": [
    "public protocol ExportableLayer {\n",
    "    var nameMappings: [String: String] { get }\n",
    "}"
   ]
  },
  {
   "cell_type": "code",
   "execution_count": null,
   "metadata": {},
   "outputs": [],
   "source": [
    "extension LangMotionTransformer: ExportableLayer {\n",
    "    public var nameMappings: [String: String] {        \n",
    "        [\n",
    "            \"encoder\": \"encoder\",\n",
    "            \"decoder\": \"decoder\",\n",
    "            \"positionalEncoding\": \"positionalEncoding\",\n",
    "            \"motionDense\": \"motionDense\",\n",
    "            \"sourceEmbed\": \"sourceEmbed\",\n",
    "            \"mixtureModel\": \"mixtureModel\",\n",
    "        ]\n",
    "        // modelSize: Int\n",
    "        // nbJoints: Int\n",
    "        // nbMixtures: Int\n",
    "    }\n",
    "}"
   ]
  },
  {
   "cell_type": "code",
   "execution_count": null,
   "metadata": {},
   "outputs": [],
   "source": [
    "extension Encoder: ExportableLayer {\n",
    "    public var nameMappings: [String: String] { \n",
    "        [\n",
    "            \"layers\": \"layers\",\n",
    "            \"norm\": \"norm\"\n",
    "        ]\n",
    "    }\n",
    "}"
   ]
  },
  {
   "cell_type": "code",
   "execution_count": null,
   "metadata": {},
   "outputs": [],
   "source": [
    "extension Decoder: ExportableLayer {\n",
    "    public var nameMappings: [String: String] { \n",
    "        [\n",
    "            \"layers\": \"layers\",\n",
    "            \"norm\": \"norm\"\n",
    "        ]\n",
    "    }\n",
    "}"
   ]
  },
  {
   "cell_type": "raw",
   "metadata": {},
   "source": [
    "extension Array: ExportableLayer where Element == SublayerConnection {\n",
    "    public var nameMappings: [String: String] { [\"SublayerConnection_h\": \"SublayerConnection_h\"] }\n",
    "}"
   ]
  },
  {
   "cell_type": "raw",
   "metadata": {},
   "source": [
    "extension Array: ExportableLayer where Element == TransformerEncoderLayer2 {\n",
    "    public var nameMappings: [String: String] { [\"TransformerEncoderLayer2_h\": \"TransformerEncoderLayer2_h\"] }\n",
    "}"
   ]
  },
  {
   "cell_type": "raw",
   "metadata": {},
   "source": [
    "extension Array: ExportableLayer where Element == TransformerDecoderLayer {\n",
    "    public var nameMappings: [String: String] { [\"TransformerDecoderLayer_h\": \"TransformerDecoderLayer_h\"] }\n",
    "}"
   ]
  },
  {
   "cell_type": "code",
   "execution_count": null,
   "metadata": {},
   "outputs": [],
   "source": [
    "extension Array: ExportableLayer {\n",
    "    public var nameMappings: [String: String] { [\"h\": \"\\(type(of:self))\".components(separatedBy: [\"<\", \">\"])[1] + \"_h\" ] }\n",
    "}"
   ]
  },
  {
   "cell_type": "raw",
   "metadata": {},
   "source": [
    "let a: Array<Float> = [1.0, 2.0]"
   ]
  },
  {
   "cell_type": "raw",
   "metadata": {},
   "source": [
    "a.nameMappings"
   ]
  },
  {
   "cell_type": "raw",
   "metadata": {},
   "source": [
    "\"Array<Float>\".components(separatedBy: [\"<\", \">\"])"
   ]
  },
  {
   "cell_type": "raw",
   "metadata": {},
   "source": [
    "\"Array<Float>\".components(separatedBy: [\"<\", \">\"])[1] + \"_h\""
   ]
  },
  {
   "cell_type": "code",
   "execution_count": null,
   "metadata": {},
   "outputs": [],
   "source": []
  },
  {
   "cell_type": "code",
   "execution_count": null,
   "metadata": {},
   "outputs": [],
   "source": [
    "extension MotionGaussianMixtureModel: ExportableLayer {\n",
    "    public var nameMappings: [String: String] {\n",
    "        [\n",
    "            \"linearMixtureMeans\": \"linearMixtureMeans\",\n",
    "            \"linearMixtureVars\": \"linearMixtureVars\",\n",
    "            \"linearMixtureWeights\": \"linearMixtureWeights\",\n",
    "            \"linearStop\": \"linearStop\",\n",
    "            // inputSize: Int\n",
    "            // nbJoints: Int\n",
    "            // nbMixtures: Int\n",
    "            // outputSize: Int\n",
    "        ] \n",
    "    }\n",
    "}"
   ]
  },
  {
   "cell_type": "code",
   "execution_count": null,
   "metadata": {},
   "outputs": [],
   "source": [
    "extension Embedding: ExportableLayer {\n",
    "    public var nameMappings: [String: String] { [\"weight\": \"weight\"] }\n",
    "}"
   ]
  },
  {
   "cell_type": "code",
   "execution_count": null,
   "metadata": {},
   "outputs": [],
   "source": [
    "extension LayerNorm: ExportableLayer {\n",
    "    public var nameMappings: [String: String] { [\"offset\": \"offset\", \"scale\": \"scale\"] }\n",
    "}"
   ]
  },
  {
   "cell_type": "code",
   "execution_count": null,
   "metadata": {},
   "outputs": [],
   "source": [
    "extension Dense: ExportableLayer {\n",
    "    public var nameMappings: [String: String] { [\"weight\": \"weight\", \"bias\": \"bias\"] }\n",
    "}"
   ]
  },
  {
   "cell_type": "code",
   "execution_count": null,
   "metadata": {},
   "outputs": [],
   "source": []
  },
  {
   "cell_type": "code",
   "execution_count": null,
   "metadata": {},
   "outputs": [],
   "source": [
    "extension MultiHeadAttention: ExportableLayer {\n",
    "    public var nameMappings: [String: String] { \n",
    "        [\n",
    "            // sourceSize: Int\n",
    "            // targetSize: Int\n",
    "            // headCount: Int\n",
    "            // eadSize: Int\n",
    "            // queryActivation: Activation<Scalar>\n",
    "            // keyActivation: Activation<Scalar>\n",
    "            // valueActivation: Activation<Scalar>\n",
    "            // matrixResult: Bool\n",
    "\n",
    "            \"queryWeight\": \"queryWeight\",\n",
    "            \"queryBias\": \"queryBias\",\n",
    "            \"keyWeight\": \"keyWeight\",\n",
    "            \"keyBias\": \"keyBias\",\n",
    "            \"valueWeight\": \"valueWeight\",\n",
    "            \"valueBias\": \"valueBias\",\n",
    "            // attentionDropout: Dropout<Scalar>\n",
    "        ] \n",
    "    }\n",
    "}"
   ]
  },
  {
   "cell_type": "code",
   "execution_count": null,
   "metadata": {},
   "outputs": [],
   "source": [
    "extension TransformerEncoderLayer2: ExportableLayer {\n",
    "    public var nameMappings: [String: String] { \n",
    "        [\n",
    "            \"selfAttention\": \"selfAttention\",\n",
    "            \"feedForward\": \"feedForward\",\n",
    "            \"sublayers\": \"sublayers\",\n",
    "        ] \n",
    "    }\n",
    "}"
   ]
  },
  {
   "cell_type": "code",
   "execution_count": null,
   "metadata": {},
   "outputs": [],
   "source": [
    "extension PositionwiseFeedForward: ExportableLayer {\n",
    "    public var nameMappings: [String: String] { \n",
    "        [\n",
    "            \"dense1\": \"dense1\",\n",
    "            \"dense2\": \"dense2\",\n",
    "            \"dropout\": \"dropout\",\n",
    "        ] \n",
    "    }\n",
    "}"
   ]
  },
  {
   "cell_type": "code",
   "execution_count": null,
   "metadata": {},
   "outputs": [],
   "source": [
    "extension SublayerConnection: ExportableLayer {\n",
    "    public var nameMappings: [String: String] { \n",
    "        [\n",
    "            \"norm\": \"norm\",\n",
    "            \"dropout\": \"dropout\",\n",
    "        ] \n",
    "    }\n",
    "}"
   ]
  },
  {
   "cell_type": "code",
   "execution_count": null,
   "metadata": {},
   "outputs": [],
   "source": [
    "extension TransformerDecoderLayer: ExportableLayer {\n",
    "    public var nameMappings: [String: String] { \n",
    "        [\n",
    "            \"selfAttention\": \"selfAttention\",\n",
    "            \"sourceAttention\": \"sourceAttention\",\n",
    "            \"feedForward\": \"feedForward\",\n",
    "            \"sublayers\": \"sublayers\",            \n",
    "        ] \n",
    "    }\n",
    "}"
   ]
  },
  {
   "cell_type": "code",
   "execution_count": null,
   "metadata": {},
   "outputs": [],
   "source": []
  },
  {
   "cell_type": "code",
   "execution_count": null,
   "metadata": {},
   "outputs": [],
   "source": [
    "public func recursivelyObtainTensors(\n",
    "    _ obj: Any, scope: String? = nil, tensors: inout [String: Tensor<Float>], separator: String\n",
    ") {\n",
    "    \n",
    "    let m = Mirror(reflecting: obj)\n",
    "    let nameMappings: [String: String]\n",
    "    if let exportableLayer = obj as? ExportableLayer {\n",
    "        nameMappings = exportableLayer.nameMappings\n",
    "    } else {\n",
    "        if (obj is Int) || (obj is Bool) || (obj is Tensor<Float>) || \n",
    "           (obj is Double) || (obj is Float) || (obj is Dropout<Float>) ||\n",
    "           (obj is Parameter<Float>) || (obj is PositionalEncoding)\n",
    "        {}\n",
    "        else {\n",
    "            let s = \"\\(scope!) -> \\(type(of:obj))\"\n",
    "            if !s.contains(\"Tensor\") {\n",
    "                print(s)\n",
    "            }\n",
    "        }\n",
    "        nameMappings = [:]\n",
    "    }\n",
    "\n",
    "    var repeatedLabels: [String: Int] = [:]\n",
    "    func suffix(for label: String) -> String {\n",
    "        if let currentSuffix = repeatedLabels[label] {\n",
    "            repeatedLabels[label] = currentSuffix + 1\n",
    "            return \"\\(currentSuffix + 1)\"\n",
    "        } else {\n",
    "            repeatedLabels[label] = 0\n",
    "            return \"0\"\n",
    "        }\n",
    "    }\n",
    "\n",
    "    let hasSuffix = (m.children.first?.label == nil)\n",
    "\n",
    "    var path = scope\n",
    "    for child in m.children {\n",
    "        let label = child.label ?? \"h\"\n",
    "\n",
    "        if let remappedLabel = nameMappings[label] {\n",
    "            let labelSuffix = hasSuffix ? suffix(for: remappedLabel) : \"\"\n",
    "            let conditionalSeparator = remappedLabel == \"\" ? \"\" : separator\n",
    "\n",
    "            path = (scope != nil ? scope! + conditionalSeparator : \"\") + remappedLabel + labelSuffix\n",
    "            if let tensor = child.value as? Tensor<Float> {\n",
    "                tensors[path!] = tensor\n",
    "            }\n",
    "        }\n",
    "        recursivelyObtainTensors(child.value, scope: path, tensors: &tensors, separator: separator)\n",
    "    }\n",
    "}"
   ]
  },
  {
   "cell_type": "raw",
   "metadata": {},
   "source": [
    "setUp()"
   ]
  },
  {
   "cell_type": "code",
   "execution_count": null,
   "metadata": {},
   "outputs": [],
   "source": [
    "func writeCheckpoint(to location: URL, name: String) throws {\n",
    "    var tensors = [String: Tensor<Float>]()\n",
    "    recursivelyObtainTensors(model, scope: \"model\", tensors: &tensors, separator: \"/\")\n",
    "    \n",
    "    tensors.keys.sorted().map {print($0)}\n",
    "    \n",
    "    let writer = CheckpointWriter(tensors: tensors)\n",
    "    try writer.write(to: location, name: name)\n",
    "}"
   ]
  },
  {
   "cell_type": "code",
   "execution_count": null,
   "metadata": {},
   "outputs": [],
   "source": [
    "writeCheckpoint(to: temporaryDirectory, name: \"model1\")"
   ]
  },
  {
   "cell_type": "code",
   "execution_count": null,
   "metadata": {},
   "outputs": [],
   "source": []
  },
  {
   "cell_type": "code",
   "execution_count": null,
   "metadata": {},
   "outputs": [],
   "source": []
  },
  {
   "cell_type": "code",
   "execution_count": null,
   "metadata": {},
   "outputs": [],
   "source": []
  },
  {
   "cell_type": "code",
   "execution_count": null,
   "metadata": {},
   "outputs": [],
   "source": []
  }
 ],
 "metadata": {
  "kernelspec": {
   "display_name": "Swift",
   "language": "swift",
   "name": "swift"
  },
  "language_info": {
   "file_extension": ".swift",
   "mimetype": "text/x-swift",
   "name": "swift",
   "version": ""
  }
 },
 "nbformat": 4,
 "nbformat_minor": 4
}
