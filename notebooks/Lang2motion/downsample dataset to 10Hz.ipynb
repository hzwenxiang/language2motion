{
 "cells": [
  {
   "cell_type": "markdown",
   "metadata": {},
   "source": [
    "# Downsample dataset to 10Hz"
   ]
  },
  {
   "cell_type": "code",
   "execution_count": null,
   "metadata": {},
   "outputs": [],
   "source": [
    "%install-location /notebooks/language2motion.gt/swift-install\n",
    "%install-swiftpm-flags -c release\n",
    "%install '.package(path: \"/notebooks/language2motion.gt\")' Datasets ModelSupport"
   ]
  },
  {
   "cell_type": "code",
   "execution_count": null,
   "metadata": {},
   "outputs": [],
   "source": [
    "import TensorFlow\n",
    "import Foundation\n",
    "import Datasets"
   ]
  },
  {
   "cell_type": "code",
   "execution_count": null,
   "metadata": {},
   "outputs": [],
   "source": [
    "// TODO: kill motion flag"
   ]
  },
  {
   "cell_type": "code",
   "execution_count": null,
   "metadata": {},
   "outputs": [],
   "source": [
    "extension MotionSample {\n",
    "    public static func downsampledMutlipliedMotionSamples(sampleID: Int, mmmURL: URL, annotationsURL: URL, freq: Int = 10, maxFrames: Int = 500) -> [MotionSample] {\n",
    "        let mmm_doc = MotionSample.loadMMM(fileURL: mmmURL)\n",
    "        let jointNames = MotionSample.getJointNames(mmm_doc: mmm_doc)\n",
    "\n",
    "        let motionFrames = MotionSample.getMotionFrames(mmm_doc: mmm_doc, jointNames: jointNames)\n",
    "        let annotations = MotionSample.getAnnotations(fileURL: annotationsURL)\n",
    "        let timesteps: [Float] = motionFrames.map { $0.timestep }\n",
    "\n",
    "        // calculate factor\n",
    "        let origFreq = Float(timesteps.count)/timesteps.last!\n",
    "        let factor = Int(origFreq)/freq\n",
    "        \n",
    "        var motionFramesBuckets = [[MotionFrame]](repeating: [], count: factor)\n",
    "        var timestepsBuckets = [[Float]](repeating: [], count: factor)\n",
    "\n",
    "        for idx in 0..<motionFrames.count {\n",
    "            let bucket = idx % factor\n",
    "            if motionFramesBuckets[bucket].count < maxFrames {\n",
    "                motionFramesBuckets[bucket].append(motionFrames[idx])\n",
    "                timestepsBuckets[bucket].append(timesteps[idx])\n",
    "            }\n",
    "        }\n",
    "        // filter out empty buckets\n",
    "        let nBuckets = (motionFrames.count>=factor) ? factor : motionFrames.count\n",
    "\n",
    "        return (0..<nBuckets).map {\n",
    "            MotionSample(\n",
    "                sampleID: sampleID, \n",
    "                motionFrames: motionFramesBuckets[$0], \n",
    "                annotations: annotations, \n",
    "                jointNames: jointNames, \n",
    "                timesteps: timestepsBuckets[$0], \n",
    "                grouppedJoints: false, \n",
    "                normalized: false\n",
    "            )\n",
    "        }\n",
    "    }\n",
    "}"
   ]
  },
  {
   "cell_type": "code",
   "execution_count": null,
   "metadata": {},
   "outputs": [],
   "source": [
    "extension MotionDataset {\n",
    "    public convenience init(datasetFolderURL: URL, sampled: Int? = nil, freq: Int? = 10, maxFrames: Int = 500, maxSampleID: Int = 3966) {\n",
    "        var motionSamples: [MotionSample] = []\n",
    "        let fm = FileManager()\n",
    "        \n",
    "        var sampleIDs: [Int] = Array<Int>((0...maxSampleID))\n",
    "        if sampled != nil {\n",
    "            sampleIDs = Array(sampleIDs.choose(sampled!))\n",
    "        }\n",
    "        \n",
    "        for sampleID in sampleIDs {\n",
    "            let mmmFilename = String(format: \"%05d_mmm.xml\", sampleID)\n",
    "            let annotationsFilename = String(format: \"%05d_annotations.json\", sampleID)\n",
    "            print(\"Sample \\(sampleID), \\(mmmFilename), \\(annotationsFilename)\")\n",
    "            \n",
    "            let mmmURL = datasetFolderURL.appendingPathComponent(mmmFilename)\n",
    "            let annotationsURL = datasetFolderURL.appendingPathComponent(annotationsFilename)\n",
    "            \n",
    "            if fm.fileExists(atPath: mmmURL.path) {\n",
    "                if freq == nil {\n",
    "                    let motionSample = MotionSample(sampleID: sampleID, mmmURL: mmmURL, annotationsURL: annotationsURL, grouppedJoints: false, normalized: false, maxFrames: maxFrames)\n",
    "                    motionSamples.append(motionSample)\n",
    "                } else {\n",
    "                    let _motionSamples = MotionSample.downsampledMutlipliedMotionSamples(\n",
    "                        sampleID: sampleID, \n",
    "                        mmmURL: mmmURL, \n",
    "                        annotationsURL: annotationsURL, \n",
    "                        freq: freq!, \n",
    "                        maxFrames: maxFrames\n",
    "                    )\n",
    "                    motionSamples.append(contentsOf: _motionSamples)\n",
    "                }\n",
    "            } else {\n",
    "                print(\"** Sample \\(sampleID) doesn't exist.\")\n",
    "            }\n",
    "        }\n",
    "        print(\"motionSamples.count: \\(motionSamples.count)\")\n",
    "        self.init(datasetFolderURL: datasetFolderURL, motionSamples: motionSamples)\n",
    "    }\n",
    "}"
   ]
  },
  {
   "cell_type": "code",
   "execution_count": null,
   "metadata": {},
   "outputs": [],
   "source": [
    "let sampled: Int? = 100 // nil\n",
    "let freq: Int? = 10\n",
    "let maxFrames = 500\n",
    "\n",
    "let datasetFolderURL = URL(fileURLWithPath: \"/notebooks/language2motion.gt/data/2017-06-22/\")\n",
    "let sampledStr = (sampled != nil) ? \"sampled.\" : \"\"\n",
    "let freqStr = (freq != nil) ? \"\\(freq!)Hz.\" : \"\"\n",
    "\n",
    "print(\"Running MotionData preprocessing (\\(String(describing:sampled)))...\")\n",
    "\n",
    "var date = Date()\n",
    "let motionDataset = MotionDataset(datasetFolderURL: datasetFolderURL, sampled: sampled, freq: freq, maxFrames: maxFrames)\n",
    "print(abs(date.timeIntervalSinceNow))\n",
    "\n",
    "let numberStr = \"\\(motionDataset.motionSamples.count).\"\n",
    "let serializedDatasetURL = URL(fileURLWithPath: \"/notebooks/language2motion.gt/data/motion_dataset.motion_flag.\\(freqStr)\\(sampledStr)\\(numberStr)plist\")\n",
    "\n",
    "date = Date()\n",
    "print(\"Encoding to property list..., writing to file '\\(serializedDatasetURL.path)'\")\n",
    "motionDataset.write(to: serializedDatasetURL)\n",
    "print(\"Done in \\(abs(date.timeIntervalSinceNow)) sec.\")"
   ]
  },
  {
   "cell_type": "code",
   "execution_count": null,
   "metadata": {},
   "outputs": [],
   "source": []
  }
 ],
 "metadata": {
  "kernelspec": {
   "display_name": "Swift",
   "language": "swift",
   "name": "swift"
  },
  "language_info": {
   "file_extension": ".swift",
   "mimetype": "text/x-swift",
   "name": "swift",
   "version": ""
  }
 },
 "nbformat": 4,
 "nbformat_minor": 4
}
