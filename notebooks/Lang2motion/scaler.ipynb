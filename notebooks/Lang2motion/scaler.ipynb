{
 "cells": [
  {
   "cell_type": "code",
   "execution_count": null,
   "metadata": {},
   "outputs": [],
   "source": [
    "// load not normalized dataset\n",
    "// create numpy arrays\n",
    "// use scikit scaler\n",
    "// fit\n",
    "// scale numpy arrays\n",
    "// convert to shaped arrays\n",
    "// save dataset\n",
    "// load dataset\n",
    "// descale\n",
    "// check\n",
    "\n",
    "// TODO: * code swift scaler\n",
    "// + code swift descaler"
   ]
  },
  {
   "cell_type": "code",
   "execution_count": 2,
   "metadata": {},
   "outputs": [
    {
     "name": "stdout",
     "output_type": "stream",
     "text": [
      "Installing packages:\n",
      "\t.package(path: \"/notebooks/language2motion.gt\")\n",
      "\t\tDatasets\n",
      "\t\tModelSupport\n",
      "With SwiftPM flags: ['-c', 'release']\n",
      "Working in: /tmp/tmpb37pwho0/swift-install\n",
      "[1/5] Compiling STBImage stb_image_write.c\n",
      "[2/5] Compiling Batcher Backend.swift\n",
      "[3/5] Compiling STBImage stb_image.c\n",
      "[4/5] Compiling SwiftProtobuf AnyMessageStorage.swift\n",
      "[5/6] Compiling ModelSupport BijectiveDictionary.swift\n",
      "[6/7] Compiling Datasets ArrayUtils.swift\n",
      "[7/8] Compiling jupyterInstalledPackages jupyterInstalledPackages.swift\n",
      "[8/8] Linking libjupyterInstalledPackages.so\n",
      "Initializing Swift...\n",
      "Installation complete!\n"
     ]
    }
   ],
   "source": [
    "%install-location /notebooks/language2motion.gt/swift-install\n",
    "%install-swiftpm-flags -c release\n",
    "%install '.package(path: \"/notebooks/language2motion.gt\")' Datasets ModelSupport"
   ]
  },
  {
   "cell_type": "code",
   "execution_count": 5,
   "metadata": {},
   "outputs": [],
   "source": [
    "import TensorFlow\n",
    "import PythonKit\n",
    "import Foundation\n",
    "import Datasets\n",
    "let np  = Python.import(\"numpy\")\n",
    "let sklearn_preprocessing  = Python.import(\"sklearn.preprocessing\")"
   ]
  },
  {
   "cell_type": "markdown",
   "metadata": {},
   "source": [
    "# load dataset"
   ]
  },
  {
   "cell_type": "code",
   "execution_count": 9,
   "metadata": {},
   "outputs": [],
   "source": [
    "let dataURL = URL(fileURLWithPath: \"/notebooks/language2motion.gt/data/\")\n",
    "let motionDatasetURL = dataURL.appendingPathComponent(\"motion_dataset.motion_flag.downsampled.sampled.490.plist\")\n",
    "let motionDataset = MotionDataset(from: motionDatasetURL)"
   ]
  },
  {
   "cell_type": "code",
   "execution_count": 10,
   "metadata": {},
   "outputs": [
    {
     "data": {
      "text/plain": [
       "490\n"
      ]
     },
     "execution_count": 10,
     "metadata": {},
     "output_type": "execute_result"
    }
   ],
   "source": [
    "motionDataset.motionSamples.count"
   ]
  },
  {
   "cell_type": "markdown",
   "metadata": {},
   "source": [
    "# scaler"
   ]
  },
  {
   "cell_type": "code",
   "execution_count": 17,
   "metadata": {},
   "outputs": [
    {
     "data": {
      "text/plain": [
       "StandardScaler()\n"
      ]
     },
     "execution_count": 17,
     "metadata": {},
     "output_type": "execute_result"
    }
   ],
   "source": [
    "// https://scikit-learn.org/stable/modules/generated/sklearn.preprocessing.StandardScaler.html\n",
    "var scaler = sklearn_preprocessing.StandardScaler()\n",
    "scaler"
   ]
  },
  {
   "cell_type": "code",
   "execution_count": 12,
   "metadata": {},
   "outputs": [],
   "source": [
    "let a = motionDataset.motionSamples[0].motionFramesArray"
   ]
  },
  {
   "cell_type": "code",
   "execution_count": 13,
   "metadata": {},
   "outputs": [
    {
     "data": {
      "text/plain": [
       "▿ 2 elements\n",
       "  - 0 : 49\n",
       "  - 1 : 48\n"
      ]
     },
     "execution_count": 13,
     "metadata": {},
     "output_type": "execute_result"
    }
   ],
   "source": [
    "a.shape"
   ]
  },
  {
   "cell_type": "code",
   "execution_count": 15,
   "metadata": {},
   "outputs": [],
   "source": [
    "let npA = a.makeNumpyArray()"
   ]
  },
  {
   "cell_type": "code",
   "execution_count": 28,
   "metadata": {},
   "outputs": [],
   "source": [
    "let motions = Python.list(motionDataset.motionSamples.map { $0.motionFramesArray.makeNumpyArray()})"
   ]
  },
  {
   "cell_type": "code",
   "execution_count": 30,
   "metadata": {},
   "outputs": [
    {
     "data": {
      "text/plain": [
       "(48274, 48)\n"
      ]
     },
     "execution_count": 30,
     "metadata": {},
     "output_type": "execute_result"
    }
   ],
   "source": [
    "let stacked_motions = np.vstack(motions)\n",
    "stacked_motions.shape"
   ]
  },
  {
   "cell_type": "code",
   "execution_count": 31,
   "metadata": {},
   "outputs": [
    {
     "data": {
      "text/plain": [
       "StandardScaler()\n"
      ]
     },
     "execution_count": 31,
     "metadata": {},
     "output_type": "execute_result"
    }
   ],
   "source": [
    "scaler.fit(stacked_motions)"
   ]
  },
  {
   "cell_type": "code",
   "execution_count": 32,
   "metadata": {},
   "outputs": [
    {
     "data": {
      "text/plain": [
       "▿ 2 elements\n",
       "  - .0 : 48\n",
       "  - .1 : [-3.86169465e-01 -2.83683262e-02  1.06112291e-02  2.60505961e-01\n",
       "  3.42672013e-02 -7.51978928e-03 -3.37331292e-01 -6.17138096e-02\n",
       " -2.48127053e-02  4.43296821e-01  5.08883075e-02 -1.22765045e-02\n",
       "  1.25790876e-01 -1.12877344e-02 -1.32145870e-01  7.73947404e-01\n",
       " -3.66688109e-02  2.81046953e-01  1.06115052e-01  3.22632884e-01\n",
       " -5.13037878e-01  6.48838217e-02  4.34229828e-01 -2.61530084e-01\n",
       " -1.75917954e-03 -1.91664896e-01  1.69300537e-01 -1.04058357e-01\n",
       "  1.23793975e-01  3.08525498e-02 -8.55237486e-02  7.46350646e-01\n",
       "  1.66010954e-01  2.71713831e-01 -9.34685385e-02 -2.22868449e-01\n",
       " -4.72681821e-01  2.56467830e-01 -3.70286819e-01  7.71452474e-02\n",
       " -1.12153719e-01  1.43349796e-01  8.06677092e-02  1.03460553e-01\n",
       " -6.00920782e-02  7.18564344e-04  3.66181776e-01  1.00000000e+00]\n"
      ]
     },
     "execution_count": 32,
     "metadata": {},
     "output_type": "execute_result"
    }
   ],
   "source": [
    "(Python.len(scaler.mean_), scaler.mean_)"
   ]
  },
  {
   "cell_type": "code",
   "execution_count": 33,
   "metadata": {},
   "outputs": [
    {
     "data": {
      "text/plain": [
       "[0.21834358 0.19132168 0.19353141 0.27364075 0.23867012 0.39199509\n",
       " 0.26793277 0.22347969 0.41026719 0.1230846  0.1928966  0.23048713\n",
       " 0.22872466 0.26660226 0.19822902 0.4365514  0.46578455 0.3231954\n",
       " 0.14234086 0.22176184 0.36690283 0.53004466 0.41595678 0.42639012\n",
       " 0.29005018 0.27792109 0.86855073 0.1821989  0.25098125 0.29729783\n",
       " 0.24379512 0.54187217 0.59238249 0.35741851 0.1352758  0.27445885\n",
       " 0.43717864 0.70880289 0.48205985 0.47803695 0.27154997 0.31303667\n",
       " 0.81331719 0.19926945 0.13165495 0.09373328 1.64753663 1.        ]\n"
      ]
     },
     "execution_count": 33,
     "metadata": {},
     "output_type": "execute_result"
    }
   ],
   "source": [
    "scaler.scale_"
   ]
  },
  {
   "cell_type": "code",
   "execution_count": 34,
   "metadata": {},
   "outputs": [
    {
     "data": {
      "text/plain": [
       "[0.04767392 0.03660399 0.03745441 0.07487926 0.05696343 0.15366015\n",
       " 0.07178797 0.04994317 0.16831917 0.01514982 0.0372091  0.05312432\n",
       " 0.05231497 0.07107676 0.03929475 0.19057712 0.21695525 0.10445526\n",
       " 0.02026092 0.04917831 0.13461769 0.28094734 0.17302004 0.18180853\n",
       " 0.08412911 0.07724013 0.75438037 0.03319644 0.06299159 0.088386\n",
       " 0.05943606 0.29362544 0.35091702 0.12774799 0.01829954 0.07532766\n",
       " 0.19112516 0.50240154 0.23238169 0.22851932 0.07373939 0.09799196\n",
       " 0.66148485 0.03970831 0.01733302 0.00878593 2.71437694 0.        ]\n"
      ]
     },
     "execution_count": 34,
     "metadata": {},
     "output_type": "execute_result"
    }
   ],
   "source": [
    "scaler.var_"
   ]
  },
  {
   "cell_type": "code",
   "execution_count": 35,
   "metadata": {},
   "outputs": [
    {
     "data": {
      "text/plain": [
       "48274\n"
      ]
     },
     "execution_count": 35,
     "metadata": {},
     "output_type": "execute_result"
    }
   ],
   "source": [
    "scaler.n_samples_seen_"
   ]
  },
  {
   "cell_type": "code",
   "execution_count": 37,
   "metadata": {},
   "outputs": [],
   "source": [
    "let scaled_motions = motions.map {scaler.transform($0)}"
   ]
  },
  {
   "cell_type": "code",
   "execution_count": 40,
   "metadata": {},
   "outputs": [
    {
     "data": {
      "text/plain": [
       "(49, 48)\n"
      ]
     },
     "execution_count": 40,
     "metadata": {},
     "output_type": "execute_result"
    }
   ],
   "source": [
    "scaled_motions[0].shape"
   ]
  },
  {
   "cell_type": "code",
   "execution_count": 54,
   "metadata": {},
   "outputs": [
    {
     "data": {
      "text/plain": [
       "227.37338\n"
      ]
     },
     "execution_count": 54,
     "metadata": {},
     "output_type": "execute_result"
    }
   ],
   "source": [
    "scaled_motions[0].sum()"
   ]
  },
  {
   "cell_type": "code",
   "execution_count": 52,
   "metadata": {},
   "outputs": [
    {
     "data": {
      "text/plain": [
       "0.096672356\n"
      ]
     },
     "execution_count": 52,
     "metadata": {},
     "output_type": "execute_result"
    }
   ],
   "source": [
    "scaled_motions[0].mean()"
   ]
  },
  {
   "cell_type": "code",
   "execution_count": 56,
   "metadata": {},
   "outputs": [
    {
     "data": {
      "text/plain": [
       "3.8193857e-09\n"
      ]
     },
     "execution_count": 56,
     "metadata": {},
     "output_type": "execute_result"
    }
   ],
   "source": [
    "np.vstack(scaled_motions).mean()"
   ]
  },
  {
   "cell_type": "code",
   "execution_count": 60,
   "metadata": {},
   "outputs": [
    {
     "data": {
      "text/plain": [
       "0.008850098\n"
      ]
     },
     "execution_count": 60,
     "metadata": {},
     "output_type": "execute_result"
    }
   ],
   "source": [
    "np.vstack(scaled_motions).sum()"
   ]
  },
  {
   "cell_type": "code",
   "execution_count": 58,
   "metadata": {},
   "outputs": [
    {
     "data": {
      "text/plain": [
       "0.9895284\n"
      ]
     },
     "execution_count": 58,
     "metadata": {},
     "output_type": "execute_result"
    }
   ],
   "source": [
    "np.vstack(scaled_motions).std()"
   ]
  },
  {
   "cell_type": "code",
   "execution_count": 59,
   "metadata": {},
   "outputs": [
    {
     "data": {
      "text/plain": [
       "0.5255867\n"
      ]
     },
     "execution_count": 59,
     "metadata": {},
     "output_type": "execute_result"
    }
   ],
   "source": [
    "np.vstack(motions).std()"
   ]
  },
  {
   "cell_type": "code",
   "execution_count": 61,
   "metadata": {},
   "outputs": [
    {
     "data": {
      "text/plain": [
       "140806.06\n"
      ]
     },
     "execution_count": 61,
     "metadata": {},
     "output_type": "execute_result"
    }
   ],
   "source": [
    "np.vstack(motions).sum()"
   ]
  },
  {
   "cell_type": "code",
   "execution_count": 46,
   "metadata": {},
   "outputs": [
    {
     "data": {
      "text/plain": [
       "(49, 48)\n"
      ]
     },
     "execution_count": 46,
     "metadata": {},
     "output_type": "execute_result"
    }
   ],
   "source": [
    "let descaled_motion = scaler.inverse_transform(scaled_motions[0])\n",
    "descaled_motion.shape"
   ]
  },
  {
   "cell_type": "code",
   "execution_count": 49,
   "metadata": {},
   "outputs": [
    {
     "data": {
      "text/plain": [
       "289.24924\n"
      ]
     },
     "execution_count": 49,
     "metadata": {},
     "output_type": "execute_result"
    }
   ],
   "source": [
    "descaled_motion.sum()"
   ]
  },
  {
   "cell_type": "code",
   "execution_count": 50,
   "metadata": {},
   "outputs": [
    {
     "data": {
      "text/plain": [
       "289.24927\n"
      ]
     },
     "execution_count": 50,
     "metadata": {},
     "output_type": "execute_result"
    }
   ],
   "source": [
    "motions[0].sum()"
   ]
  },
  {
   "cell_type": "code",
   "execution_count": 53,
   "metadata": {},
   "outputs": [
    {
     "data": {
      "text/plain": [
       "0.12298013\n"
      ]
     },
     "execution_count": 53,
     "metadata": {},
     "output_type": "execute_result"
    }
   ],
   "source": [
    "motions[0].mean()"
   ]
  },
  {
   "cell_type": "code",
   "execution_count": 63,
   "metadata": {},
   "outputs": [
    {
     "data": {
      "text/plain": [
       "{'copy': True, 'with_mean': True, 'with_std': True}\n"
      ]
     },
     "execution_count": 63,
     "metadata": {},
     "output_type": "execute_result"
    }
   ],
   "source": [
    "scaler.get_params()"
   ]
  },
  {
   "cell_type": "code",
   "execution_count": 64,
   "metadata": {},
   "outputs": [],
   "source": [
    "var scaler2 = sklearn_preprocessing.StandardScaler()"
   ]
  },
  {
   "cell_type": "code",
   "execution_count": 65,
   "metadata": {},
   "outputs": [
    {
     "data": {
      "text/plain": [
       "{'copy': True, 'with_mean': True, 'with_std': True}\n"
      ]
     },
     "execution_count": 65,
     "metadata": {},
     "output_type": "execute_result"
    }
   ],
   "source": [
    "scaler2.get_params()"
   ]
  },
  {
   "cell_type": "code",
   "execution_count": 66,
   "metadata": {},
   "outputs": [
    {
     "name": "stdout",
     "output_type": "stream",
     "text": [
      "Fatal error: Could not access PythonObject member 'scale_': file /swift-base/PythonKit/PythonKit/Python.swift, line 529\n",
      "Current stack trace:\n",
      "0    libswiftCore.so                    0x00007fe19ed83140 swift_reportError + 50\n",
      "1    libswiftCore.so                    0x00007fe19edf8ab0 _swift_stdlib_reportFatalErrorInFile + 115\n",
      "2    libswiftCore.so                    0x00007fe19ea944a2 <unavailable> + 1533090\n",
      "3    libswiftCore.so                    0x00007fe19ea940e6 <unavailable> + 1532134\n",
      "4    libswiftCore.so                    0x00007fe19ea94685 <unavailable> + 1533573\n",
      "5    libswiftCore.so                    0x00007fe19ea92b00 _assertionFailure(_:_:file:line:flags:) + 528\n",
      "6    libPythonKit.so                    0x00007fe19fa5ef4f <unavailable> + 94031\n"
     ]
    },
    {
     "ename": "",
     "evalue": "",
     "execution_count": 66,
     "output_type": "error",
     "status": "error",
     "traceback": [
      "Current stack trace:",
      "\tframe #2: 0x00007fe11aa4bcc6 $__lldb_expr617`main at <Cell 66>:1:1"
     ]
    }
   ],
   "source": [
    "scaler2.scale_"
   ]
  },
  {
   "cell_type": "code",
   "execution_count": 72,
   "metadata": {},
   "outputs": [],
   "source": [
    "scaler2.scale_ = scaler.scale_\n",
    "scaler2.mean_ = scaler.mean_\n",
    "scaler2.var_ = scaler.var_"
   ]
  },
  {
   "cell_type": "code",
   "execution_count": 73,
   "metadata": {},
   "outputs": [
    {
     "data": {
      "text/plain": [
       "[0.21834358 0.19132168 0.19353141 0.27364075 0.23867012 0.39199509\n",
       " 0.26793277 0.22347969 0.41026719 0.1230846  0.1928966  0.23048713\n",
       " 0.22872466 0.26660226 0.19822902 0.4365514  0.46578455 0.3231954\n",
       " 0.14234086 0.22176184 0.36690283 0.53004466 0.41595678 0.42639012\n",
       " 0.29005018 0.27792109 0.86855073 0.1821989  0.25098125 0.29729783\n",
       " 0.24379512 0.54187217 0.59238249 0.35741851 0.1352758  0.27445885\n",
       " 0.43717864 0.70880289 0.48205985 0.47803695 0.27154997 0.31303667\n",
       " 0.81331719 0.19926945 0.13165495 0.09373328 1.64753663 1.        ]\n"
      ]
     },
     "execution_count": 73,
     "metadata": {},
     "output_type": "execute_result"
    }
   ],
   "source": [
    "scaler2.scale_"
   ]
  },
  {
   "cell_type": "code",
   "execution_count": 74,
   "metadata": {},
   "outputs": [
    {
     "data": {
      "text/plain": [
       "(49, 48)\n"
      ]
     },
     "execution_count": 74,
     "metadata": {},
     "output_type": "execute_result"
    }
   ],
   "source": [
    "let descaled_motion2 = scaler2.inverse_transform(scaled_motions[0])\n",
    "descaled_motion2.shape"
   ]
  },
  {
   "cell_type": "code",
   "execution_count": 75,
   "metadata": {},
   "outputs": [
    {
     "data": {
      "text/plain": [
       "[[-5.1124001e-01 -1.3823402e-01  4.7617801e-02 ...  3.9191801e-02\n",
       "   1.5865300e+00  1.0000000e+00]\n",
       " [-5.3033298e-01 -1.3687301e-01  3.4561899e-02 ...  3.4753401e-02\n",
       "   1.5760300e+00  1.0000000e+00]\n",
       " [-5.1855701e-01 -1.4374800e-01  4.0779300e-02 ...  3.0587999e-02\n",
       "   1.5680799e+00  1.0000000e+00]\n",
       " ...\n",
       " [-5.0524300e-01 -1.6800000e-01  2.5258301e-02 ... -2.0546800e-02\n",
       "  -3.1360798e+00  1.0000000e+00]\n",
       " [-4.9981099e-01 -1.5659900e-01  4.7574053e-04 ... -2.3479298e-02\n",
       "  -3.1063199e+00  1.0000000e+00]\n",
       " [-5.0624299e-01 -1.5646601e-01 -1.2373599e-02 ... -2.5724901e-02\n",
       "  -3.0703001e+00  1.0000000e+00]]\n"
      ]
     },
     "execution_count": 75,
     "metadata": {},
     "output_type": "execute_result"
    }
   ],
   "source": [
    "descaled_motion2"
   ]
  },
  {
   "cell_type": "code",
   "execution_count": 76,
   "metadata": {},
   "outputs": [
    {
     "data": {
      "text/plain": [
       "[[-0.5728153  -0.57424587  0.1912174  ...  0.4104544   0.74071085\n",
       "   0.        ]\n",
       " [-0.66025996 -0.5671322   0.12375598 ...  0.363103    0.7343377\n",
       "   0.        ]\n",
       " [-0.60632676 -0.6030664   0.15588205 ...  0.31866413  0.7295123\n",
       "   0.        ]\n",
       " ...\n",
       " [-0.5453494  -0.7298267   0.07568318 ... -0.226871   -2.1257565\n",
       "   0.        ]\n",
       " [-0.52047116 -0.670236   -0.05237129 ... -0.25815657 -2.1076932\n",
       "   0.        ]\n",
       " [-0.54992926 -0.6695409  -0.11876537 ... -0.28211394 -2.0858305\n",
       "   0.        ]]\n"
      ]
     },
     "execution_count": 76,
     "metadata": {},
     "output_type": "execute_result"
    }
   ],
   "source": [
    "scaled_motions[0]"
   ]
  },
  {
   "cell_type": "code",
   "execution_count": 82,
   "metadata": {},
   "outputs": [
    {
     "data": {
      "text/plain": [
       "[0.21834357, 0.19132169, 0.19353141, 0.27364075, 0.23867013,  0.3919951, 0.26793277, 0.22347969,\n",
       "  0.4102672,  0.1230846,  0.1928966, 0.23048714, 0.22872466, 0.26660225, 0.19822903,  0.4365514,\n",
       " 0.46578455,  0.3231954, 0.14234087, 0.22176184, 0.36690283,  0.5300447, 0.41595677,  0.4263901,\n",
       " 0.29005018, 0.27792108,  0.8685507,  0.1821989, 0.25098124, 0.29729784, 0.24379511, 0.54187214,\n",
       "  0.5923825,  0.3574185,  0.1352758, 0.27445886, 0.43717864,  0.7088029, 0.48205984, 0.47803694,\n",
       " 0.27154997, 0.31303668,  0.8133172, 0.19926944, 0.13165495, 0.09373328,  1.6475366,        1.0]\n"
      ]
     },
     "execution_count": 82,
     "metadata": {},
     "output_type": "execute_result"
    }
   ],
   "source": [
    "let scale = Tensor<Float>(Array(scaler.scale_)!)\n",
    "scale"
   ]
  },
  {
   "cell_type": "code",
   "execution_count": 83,
   "metadata": {},
   "outputs": [
    {
     "data": {
      "text/plain": [
       "[  -0.38616946,  -0.028368326,    0.01061123,    0.26050597,   0.034267202, -0.0075197895,\n",
       "    -0.3373313,   -0.06171381,  -0.024812706,    0.44329682,   0.050888307,  -0.012276504,\n",
       "    0.12579088,  -0.011287735,   -0.13214587,     0.7739474,   -0.03666881,    0.28104696,\n",
       "    0.10611505,    0.32263288,   -0.51303786,    0.06488382,    0.43422982,   -0.26153007,\n",
       " -0.0017591795,   -0.19166489,    0.16930054,  -0.104058355,   0.123793975,    0.03085255,\n",
       "   -0.08552375,    0.74635065,    0.16601096,    0.27171382,   -0.09346854,   -0.22286844,\n",
       "   -0.47268182,    0.25646782,   -0.37028682,    0.07714525,   -0.11215372,     0.1433498,\n",
       "    0.08066771,    0.10346055,  -0.060092077,  0.0007185643,    0.36618176,           1.0]\n"
      ]
     },
     "execution_count": 83,
     "metadata": {},
     "output_type": "execute_result"
    }
   ],
   "source": [
    "let mean = Tensor<Float>(Array(scaler.mean_)!)\n",
    "mean"
   ]
  },
  {
   "cell_type": "code",
   "execution_count": 88,
   "metadata": {},
   "outputs": [
    {
     "data": {
      "text/plain": [
       "[[    -0.5728153,    -0.57424587,      0.1912174, ...,      0.4104544,\n",
       "      0.74071085,            0.0],\n",
       " [   -0.66025996,     -0.5671322,    0.123755984, ...,       0.363103,\n",
       "       0.7343377,            0.0],\n",
       " [   -0.60632676,     -0.6030664,     0.15588205, ...,     0.31866413,\n",
       "       0.7295123,            0.0],\n",
       " ...,\n",
       " [    -0.5453494,     -0.7298267,     0.07568318, ...,      -0.226871,\n",
       "      -2.1257565,            0.0],\n",
       " [   -0.52047116,      -0.670236,   -0.052371286, ...,    -0.25815657,\n",
       "      -2.1076932,            0.0],\n",
       " [   -0.54992926,     -0.6695409,    -0.11876537, ...,    -0.28211394,\n",
       "      -2.0858305,            0.0]]\n"
      ]
     },
     "execution_count": 88,
     "metadata": {},
     "output_type": "execute_result"
    }
   ],
   "source": [
    "let scaled_motion = Tensor<Float>(numpy: scaled_motions[0])!\n",
    "scaled_motion"
   ]
  },
  {
   "cell_type": "code",
   "execution_count": 94,
   "metadata": {},
   "outputs": [
    {
     "data": {
      "text/plain": [
       "[[-5.1124001e-01 -1.3823402e-01  4.7617801e-02 ...  3.9191801e-02\n",
       "   1.5865300e+00  1.0000000e+00]\n",
       " [-5.3033298e-01 -1.3687301e-01  3.4561899e-02 ...  3.4753401e-02\n",
       "   1.5760300e+00  1.0000000e+00]\n",
       " [-5.1855701e-01 -1.4374800e-01  4.0779300e-02 ...  3.0587999e-02\n",
       "   1.5680799e+00  1.0000000e+00]\n",
       " ...\n",
       " [-5.0524300e-01 -1.6800000e-01  2.5258303e-02 ... -2.0546800e-02\n",
       "  -3.1360798e+00  1.0000000e+00]\n",
       " [-4.9981099e-01 -1.5659900e-01  4.7574099e-04 ... -2.3479298e-02\n",
       "  -3.1063199e+00  1.0000000e+00]\n",
       " [-5.0624299e-01 -1.5646601e-01 -1.2373599e-02 ... -2.5724901e-02\n",
       "  -3.0703003e+00  1.0000000e+00]]\n"
      ]
     },
     "execution_count": 94,
     "metadata": {},
     "output_type": "execute_result"
    }
   ],
   "source": [
    "// descaling\n",
    "(scaled_motion .* scale + mean).makeNumpyArray()"
   ]
  },
  {
   "cell_type": "code",
   "execution_count": 93,
   "metadata": {},
   "outputs": [
    {
     "data": {
      "text/plain": [
       "[[-5.1124001e-01 -1.3823402e-01  4.7617801e-02 ...  3.9191801e-02\n",
       "   1.5865300e+00  1.0000000e+00]\n",
       " [-5.3033298e-01 -1.3687301e-01  3.4561899e-02 ...  3.4753401e-02\n",
       "   1.5760300e+00  1.0000000e+00]\n",
       " [-5.1855701e-01 -1.4374800e-01  4.0779300e-02 ...  3.0587999e-02\n",
       "   1.5680799e+00  1.0000000e+00]\n",
       " ...\n",
       " [-5.0524300e-01 -1.6800000e-01  2.5258301e-02 ... -2.0546800e-02\n",
       "  -3.1360798e+00  1.0000000e+00]\n",
       " [-4.9981099e-01 -1.5659900e-01  4.7574053e-04 ... -2.3479298e-02\n",
       "  -3.1063199e+00  1.0000000e+00]\n",
       " [-5.0624299e-01 -1.5646601e-01 -1.2373599e-02 ... -2.5724901e-02\n",
       "  -3.0703001e+00  1.0000000e+00]]\n"
      ]
     },
     "execution_count": 93,
     "metadata": {},
     "output_type": "execute_result"
    }
   ],
   "source": [
    "descaled_motion"
   ]
  },
  {
   "cell_type": "code",
   "execution_count": null,
   "metadata": {},
   "outputs": [],
   "source": [
    "print('Scaling motions ...')\n",
    "scaler = StandardScaler()\n",
    "stacked_motions = np.vstack(motions)\n",
    "assert stacked_motions.ndim == 2\n",
    "assert stacked_motions.shape[1] == motions[0].shape[1]\n",
    "scaler.fit(stacked_motions)\n",
    "motions = [scaler.transform(m) for m in motions]\n",
    "print('done, min = {}, max = {}'.format(np.min([np.min(m) for m in motions]), np.max([np.max(m) for m in motions])))\n",
    "print('')"
   ]
  },
  {
   "cell_type": "markdown",
   "metadata": {},
   "source": [
    "# swift scaler"
   ]
  },
  {
   "cell_type": "code",
   "execution_count": 98,
   "metadata": {},
   "outputs": [
    {
     "data": {
      "text/plain": [
       "▿ [48274, 48]\n",
       "  ▿ dimensions : 2 elements\n",
       "    - 0 : 48274\n",
       "    - 1 : 48\n"
      ]
     },
     "execution_count": 98,
     "metadata": {},
     "output_type": "execute_result"
    }
   ],
   "source": [
    "let stacked_motions = Tensor<Float>(numpy:np.vstack(motions))!\n",
    "stacked_motions.shape"
   ]
  },
  {
   "cell_type": "code",
   "execution_count": null,
   "metadata": {},
   "outputs": [],
   "source": [
    "// Compute the mean and std to be used for later scaling"
   ]
  },
  {
   "cell_type": "code",
   "execution_count": 101,
   "metadata": {},
   "outputs": [
    {
     "data": {
      "text/plain": [
       "▿ [1, 48]\n",
       "  ▿ dimensions : 2 elements\n",
       "    - 0 : 1\n",
       "    - 1 : 48\n"
      ]
     },
     "execution_count": 101,
     "metadata": {},
     "output_type": "execute_result"
    }
   ],
   "source": [
    "stacked_motions.mean(alongAxes:0).shape"
   ]
  },
  {
   "cell_type": "code",
   "execution_count": 150,
   "metadata": {},
   "outputs": [],
   "source": [
    "import TensorFlow\n",
    "\n",
    "\n",
    "public struct Scaler {\n",
    "    // https://scikit-learn.org/stable/modules/generated/sklearn.preprocessing.StandardScaler.html\n",
    "    public var mean: Tensor<Float>? = nil\n",
    "    public var scale: Tensor<Float>? = nil\n",
    "\n",
    "    public init() {\n",
    "    }\n",
    "\n",
    "    public init(X: Tensor<Float>) {\n",
    "        fit(X)\n",
    "    }\n",
    "\n",
    "    public init(mean: Tensor<Float>, scale: Tensor<Float>) {\n",
    "        self.mean = mean\n",
    "        self.scale = scale\n",
    "    }\n",
    "\n",
    "    public mutating func fit(_ X: Tensor<Float>) {\n",
    "        mean = X.mean(squeezingAxes:0)\n",
    "        scale = sqrt(X.variance(squeezingAxes:0))\n",
    "    }\n",
    "\n",
    "    public func transform(_ X: Tensor<Float>) -> Tensor<Float> {\n",
    "        var _X = X\n",
    "        _X -= mean!\n",
    "        _X /= scale!\n",
    "        return _X\n",
    "    }\n",
    "\n",
    "    public func inverse_transform(_ X: Tensor<Float>) -> Tensor<Float> {\n",
    "        return (X .* scale! + mean!)\n",
    "    }\n",
    "}"
   ]
  },
  {
   "cell_type": "raw",
   "metadata": {},
   "source": [
    "if self.with_mean:\n",
    "    X -= self.mean_\n",
    "if self.with_std:\n",
    "    X /= self.scale_"
   ]
  },
  {
   "cell_type": "code",
   "execution_count": 151,
   "metadata": {},
   "outputs": [],
   "source": [
    "var swift_scaler = Scaler(X: stacked_motions)\n",
    "// swift_scaler.fit(stacked_motions)"
   ]
  },
  {
   "cell_type": "raw",
   "metadata": {},
   "source": [
    "let mean = stacked_motions.mean(squeezingAxes:0)"
   ]
  },
  {
   "cell_type": "raw",
   "metadata": {},
   "source": [
    "stacked_motions.standardDeviation(squeezingAxes:0)"
   ]
  },
  {
   "cell_type": "raw",
   "metadata": {},
   "source": [
    "scaler.mean_"
   ]
  },
  {
   "cell_type": "raw",
   "metadata": {},
   "source": [
    "stacked_motions.variance(squeezingAxes:0)"
   ]
  },
  {
   "cell_type": "code",
   "execution_count": 114,
   "metadata": {},
   "outputs": [],
   "source": [
    "// self.scale_ = _handle_zeros_in_scale(np.sqrt(self.var_))"
   ]
  },
  {
   "cell_type": "raw",
   "metadata": {},
   "source": [
    "scaler.scale_"
   ]
  },
  {
   "cell_type": "raw",
   "metadata": {},
   "source": [
    "let scale = sqrt(stacked_motions.variance(squeezingAxes:0))\n",
    "scale"
   ]
  },
  {
   "cell_type": "raw",
   "metadata": {},
   "source": [
    "print(type(of: motions[0]))"
   ]
  },
  {
   "cell_type": "code",
   "execution_count": 152,
   "metadata": {},
   "outputs": [
    {
     "data": {
      "text/plain": [
       "[[    -0.51124,    -0.138234,    0.0476178, ...,    0.0391918,      1.58653,\n",
       "           1.0],\n",
       " [   -0.530333,    -0.136873,    0.0345619, ...,    0.0347534,      1.57603,\n",
       "           1.0],\n",
       " [   -0.518557,    -0.143748,    0.0407793, ...,     0.030588,      1.56808,\n",
       "           1.0],\n",
       " ...,\n",
       " [   -0.505243,       -0.168,    0.0252583, ...,   -0.0205468,     -3.13608,\n",
       "           1.0],\n",
       " [   -0.499811,    -0.156599,  0.000475741, ...,   -0.0234793,     -3.10632,\n",
       "           1.0],\n",
       " [   -0.506243,    -0.156466,   -0.0123736, ...,   -0.0257249,      -3.0703,\n",
       "           1.0]]\n"
      ]
     },
     "execution_count": 152,
     "metadata": {},
     "output_type": "execute_result"
    }
   ],
   "source": [
    "let motion = Tensor<Float>(numpy: motions[0])!\n",
    "motion"
   ]
  },
  {
   "cell_type": "code",
   "execution_count": 153,
   "metadata": {},
   "outputs": [
    {
     "data": {
      "text/plain": [
       "[[   -0.57284445,     -0.5742357,     0.19121037, ...,     0.41045627,\n",
       "       0.7407111,           -nan],\n",
       " [    -0.6602889,    -0.56712216,     0.12375225, ...,      0.3631047,\n",
       "        0.734338,           -nan],\n",
       " [    -0.6063558,    -0.60305583,     0.15587674, ...,     0.31866565,\n",
       "       0.7295126,           -nan],\n",
       " ...,\n",
       " [    -0.5453786,    -0.72981435,     0.07568179, ...,     -0.2268717,\n",
       "      -2.1257524,           -nan],\n",
       " [    -0.5205004,     -0.6702245,   -0.052366413, ...,     -0.2581574,\n",
       "      -2.1076891,           -nan],\n",
       " [    -0.5499585,     -0.6695294,    -0.11875726, ...,    -0.28211486,\n",
       "      -2.0858264,           -nan]]\n"
      ]
     },
     "execution_count": 153,
     "metadata": {},
     "output_type": "execute_result"
    }
   ],
   "source": [
    "let scaled_motion = swift_scaler.transform(motion)\n",
    "scaled_motion"
   ]
  },
  {
   "cell_type": "code",
   "execution_count": 154,
   "metadata": {},
   "outputs": [
    {
     "data": {
      "text/plain": [
       "[[      -0.51124,    -0.13823399,      0.0476178, ...,      0.0391918,\n",
       "         1.58653,           -nan],\n",
       " [     -0.530333,      -0.136873,      0.0345619, ...,      0.0347534,\n",
       "         1.57603,           -nan],\n",
       " [     -0.518557,      -0.143748,      0.0407793, ...,       0.030588,\n",
       "         1.56808,           -nan],\n",
       " ...,\n",
       " [     -0.505243,         -0.168,    0.025258299, ...,     -0.0205468,\n",
       "      -3.1360798,           -nan],\n",
       " [     -0.499811,      -0.156599,    0.000475741, ...,     -0.0234793,\n",
       "        -3.10632,           -nan],\n",
       " [     -0.506243,      -0.156466,     -0.0123736, ...,     -0.0257249,\n",
       "         -3.0703,           -nan]]\n"
      ]
     },
     "execution_count": 154,
     "metadata": {},
     "output_type": "execute_result"
    }
   ],
   "source": [
    "// descaling\n",
    "swift_scaler.inverse_transform(scaled_motion)"
   ]
  },
  {
   "cell_type": "code",
   "execution_count": null,
   "metadata": {},
   "outputs": [],
   "source": []
  }
 ],
 "metadata": {
  "kernelspec": {
   "display_name": "Swift",
   "language": "swift",
   "name": "swift"
  },
  "language_info": {
   "file_extension": ".swift",
   "mimetype": "text/x-swift",
   "name": "swift",
   "version": ""
  }
 },
 "nbformat": 4,
 "nbformat_minor": 4
}
