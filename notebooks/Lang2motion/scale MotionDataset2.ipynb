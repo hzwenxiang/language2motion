{
 "cells": [
  {
   "cell_type": "markdown",
   "metadata": {},
   "source": [
    "# Scale MotionDataset2"
   ]
  },
  {
   "cell_type": "code",
   "execution_count": 1,
   "metadata": {},
   "outputs": [
    {
     "name": "stdout",
     "output_type": "stream",
     "text": [
      "[1/2] Compiling Datasets ArrayUtils.swift\n",
      "[2/3] Compiling jupyterInstalledPackages jupyterInstalledPackages.swift\n",
      "[3/3] Linking libjupyterInstalledPackages.so\n",
      "Initializing Swift...\n",
      "Installation complete!\n"
     ]
    }
   ],
   "source": [
    "%install-location /notebooks/language2motion.gt/swift-install\n",
    "%install-swiftpm-flags -c release\n",
    "%install '.package(path: \"/notebooks/language2motion.gt\")' Datasets ModelSupport"
   ]
  },
  {
   "cell_type": "code",
   "execution_count": 2,
   "metadata": {},
   "outputs": [],
   "source": [
    "import TensorFlow\n",
    "import Foundation\n",
    "import Datasets"
   ]
  },
  {
   "cell_type": "markdown",
   "metadata": {},
   "source": [
    "# load dataset"
   ]
  },
  {
   "cell_type": "code",
   "execution_count": 3,
   "metadata": {},
   "outputs": [],
   "source": [
    "let dataURL = URL(fileURLWithPath: \"/notebooks/language2motion.gt/data/\")\n",
    "let motionDatasetURL = dataURL.appendingPathComponent(\"motion_dataset2.10Hz.sampled.1030.plist\")\n",
    "let motionDataset = MotionDataset2(from: motionDatasetURL)"
   ]
  },
  {
   "cell_type": "code",
   "execution_count": 4,
   "metadata": {},
   "outputs": [
    {
     "data": {
      "text/plain": [
       "1030\n"
      ]
     },
     "execution_count": 4,
     "metadata": {},
     "output_type": "execute_result"
    }
   ],
   "source": [
    "motionDataset.motionSamples.count"
   ]
  },
  {
   "cell_type": "code",
   "execution_count": 5,
   "metadata": {},
   "outputs": [
    {
     "data": {
      "text/plain": [
       "1030\n"
      ]
     },
     "execution_count": 5,
     "metadata": {},
     "output_type": "execute_result"
    }
   ],
   "source": [
    "let motions = motionDataset.motionSamples.map { $0.motion }\n",
    "motions.count"
   ]
  },
  {
   "cell_type": "code",
   "execution_count": 6,
   "metadata": {},
   "outputs": [],
   "source": [
    "let motionsTensor = Tensor(concatenating: motions, alongAxis: 0)"
   ]
  },
  {
   "cell_type": "code",
   "execution_count": 7,
   "metadata": {},
   "outputs": [
    {
     "data": {
      "text/plain": [
       "▿ [92832, 47]\n",
       "  ▿ dimensions : 2 elements\n",
       "    - 0 : 92832\n",
       "    - 1 : 47\n"
      ]
     },
     "execution_count": 7,
     "metadata": {},
     "output_type": "execute_result"
    }
   ],
   "source": [
    "motionsTensor.shape"
   ]
  },
  {
   "cell_type": "markdown",
   "metadata": {},
   "source": [
    "# fit"
   ]
  },
  {
   "cell_type": "code",
   "execution_count": 8,
   "metadata": {},
   "outputs": [],
   "source": [
    "var scaler = Scaler(X: motionsTensor)"
   ]
  },
  {
   "cell_type": "code",
   "execution_count": 9,
   "metadata": {},
   "outputs": [
    {
     "data": {
      "text/plain": [
       "▿ Optional<Tensor<Float>>\n",
       "  - some : [  -0.34078965,  -0.068409435,   -0.03630747,     0.2506568,   -0.08986137,   -0.14633873,\n",
       "     -0.389129,   0.030954227,    0.14568251,     0.3976978,    0.05287882,  -0.038604677,\n",
       "    0.12440302,  -0.059347775,   -0.15363087,     0.7543044,   -0.13893533,    0.38505882,\n",
       "    0.12983732,    0.24611071,   -0.63609207,   0.010299834,    0.38174042,   -0.15769899,\n",
       "  -0.024871143,   -0.16533779,    0.02992501,   -0.09844912,    0.11918882,     0.0353815,\n",
       "  -0.061191246,     0.6826776,    0.18526918,    0.32431132,  -0.088867605,   -0.14776435,\n",
       "    -0.5530926,   0.119272076,    -0.4143303,    0.12367784,    0.01516713,   0.097938985,\n",
       "    0.16381533,    0.05280813,  -0.055266757, -0.0048589343,    0.29919544]\n"
      ]
     },
     "execution_count": 9,
     "metadata": {},
     "output_type": "execute_result"
    }
   ],
   "source": [
    "scaler.mean"
   ]
  },
  {
   "cell_type": "code",
   "execution_count": 10,
   "metadata": {},
   "outputs": [
    {
     "data": {
      "text/plain": [
       "▿ Optional<Tensor<Float>>\n",
       "  - some : [0.26698136, 0.18734223, 0.20377766, 0.29567528,  0.2300828, 0.36494046, 0.26739872,  0.2146595,\n",
       " 0.36011773, 0.15484701, 0.16207428, 0.21501967, 0.22894022, 0.25092104,  0.2226527, 0.45858613,\n",
       "  0.4284074, 0.38067085, 0.16260687, 0.26107603, 0.49490926,  0.4847579, 0.47395694,   0.412564,\n",
       "  0.2272591, 0.28481176,  0.7516817, 0.19621933, 0.25842974,  0.2772743, 0.24647239,   0.478086,\n",
       "  0.4966929, 0.39639622,  0.1384902, 0.26851568,  0.5103892,  0.6415767, 0.51911414,  0.4358937,\n",
       " 0.27638873,  0.3761632,  0.7387135, 0.22005245, 0.31046918, 0.43787664,  1.7433685]\n"
      ]
     },
     "execution_count": 10,
     "metadata": {},
     "output_type": "execute_result"
    }
   ],
   "source": [
    "scaler.scale"
   ]
  },
  {
   "cell_type": "markdown",
   "metadata": {},
   "source": [
    "# transform"
   ]
  },
  {
   "cell_type": "code",
   "execution_count": 11,
   "metadata": {},
   "outputs": [
    {
     "data": {
      "text/plain": [
       "1030\n"
      ]
     },
     "execution_count": 11,
     "metadata": {},
     "output_type": "execute_result"
    }
   ],
   "source": [
    "let scaledMotions = motions.map {scaler.transform($0)}\n",
    "scaledMotions.count"
   ]
  },
  {
   "cell_type": "code",
   "execution_count": 12,
   "metadata": {},
   "outputs": [
    {
     "data": {
      "text/plain": [
       "▿ [92832, 47]\n",
       "  ▿ dimensions : 2 elements\n",
       "    - 0 : 92832\n",
       "    - 1 : 47\n"
      ]
     },
     "execution_count": 12,
     "metadata": {},
     "output_type": "execute_result"
    }
   ],
   "source": [
    "let scaledMotionsTensor = Tensor(concatenating: scaledMotions, alongAxis: 0)\n",
    "scaledMotionsTensor.shape"
   ]
  },
  {
   "cell_type": "code",
   "execution_count": 13,
   "metadata": {},
   "outputs": [
    {
     "data": {
      "text/plain": [
       "[[-0.785398, -0.349066, -0.261799, -0.872665, -0.349066, -0.785398, -0.610865, -0.349066,\n",
       "  -0.628319, -0.349066, -0.261799, -0.349066, -0.698132, -0.349066, -0.523599,       0.0,\n",
       "    -1.5708, -0.852739, -0.349066, -0.785398,  -2.26893,  -1.22173,       0.0,  -1.22173,\n",
       "  -0.523599,  -1.22173, -0.785398, -0.261799, -0.698132, -0.349066, -0.523599,       0.0,\n",
       "    -1.5708, -0.842493,   -1.0244, -0.785398,  -2.26893,  -1.22173,  -2.79253,   -1.0472,\n",
       "  -0.523599,   -1.5708, -0.785398, -0.261799,  -1.12863,  -3.14158,  -3.14157]]\n"
      ]
     },
     "execution_count": 13,
     "metadata": {},
     "output_type": "execute_result"
    }
   ],
   "source": [
    "motionsTensor.min(alongAxes: 0)"
   ]
  },
  {
   "cell_type": "code",
   "execution_count": 14,
   "metadata": {},
   "outputs": [
    {
     "data": {
      "text/plain": [
       "[[0.261799, 0.349066, 0.261799, 0.610865, 0.349066, 0.785398, 0.471239, 0.349066, 0.628319, 0.523599,\n",
       "  0.261799, 0.349066, 0.523599, 0.349066, 0.523599,  2.72588,   1.5708,  1.65806,  1.13446, 0.785398,\n",
       "      -0.0,  3.31613,  2.79253,   1.0472, 0.349066,   1.5708,   1.5708, 0.261799, 0.523599, 0.349066,\n",
       "  0.523599,  2.79253,   1.5708,  1.65806, 0.349066, 0.785398,     -0.0,  3.31613,     -0.0,  1.22173,\n",
       "  0.349066,  1.22173,   1.5708, 0.261799,  2.04686,  3.14153,  3.14157]]\n"
      ]
     },
     "execution_count": 14,
     "metadata": {},
     "output_type": "execute_result"
    }
   ],
   "source": [
    "motionsTensor.max(alongAxes: 0)"
   ]
  },
  {
   "cell_type": "code",
   "execution_count": 15,
   "metadata": {},
   "outputs": [
    {
     "data": {
      "text/plain": [
       "[[-1.6653161, -1.4980955, -1.1065568, -3.7991738,  -1.126571, -1.7511331, -0.8292335, -1.7703396,\n",
       "  -2.1493013, -4.8225913, -1.9415655,  -1.443874, -3.5927937,  -1.154619, -1.6616379, -1.6448479,\n",
       "  -3.3422966, -3.2516222, -2.9451604, -3.9509895, -3.2992673, -2.5415363, -0.8054327,  -2.579069,\n",
       "  -2.1945343,  -3.709089, -1.0846653, -0.8324863, -3.1626422,  -1.386524, -1.8761038, -1.4279389,\n",
       "   -3.535523, -2.9435303, -6.7552247,  -2.374661, -3.3618214, -2.0901663,  -4.581266, -2.6861544,\n",
       "  -1.9493058, -4.4362097, -1.2849547, -1.4296916, -3.4572299,  -7.163481, -1.9736307]]\n"
      ]
     },
     "execution_count": 15,
     "metadata": {},
     "output_type": "execute_result"
    }
   ],
   "source": [
    "scaledMotionsTensor.min(alongAxes: 0)"
   ]
  },
  {
   "cell_type": "code",
   "execution_count": 16,
   "metadata": {},
   "outputs": [
    {
     "data": {
      "text/plain": [
       "[[ 2.2570438,  2.2284107,  1.4629008,   1.218256,   1.907693,  2.5531197,  3.2175474,  1.4819367,\n",
       "   1.3402187, 0.81306845,  1.2890397,  1.8029544,  1.7436692,  1.6276585,  3.0416422,   4.299248,\n",
       "   3.9909098,  3.3440995,   6.178231,  2.0656333,  1.2852701,  6.8195486,  5.0865164,  2.9205139,\n",
       "    1.645422,  6.0957375,  2.0499036,  1.8359462,  1.5648749,  1.1313146,  2.3726401,   4.413123,\n",
       "    2.789512,  3.3646853,  3.1621993,   3.475262,  1.0836682,   4.982815, 0.79814875,  2.5190823,\n",
       "    1.208077,   2.987509,  1.9046417, 0.94973207,   6.770807,    7.18556,  1.6303923]]\n"
      ]
     },
     "execution_count": 16,
     "metadata": {},
     "output_type": "execute_result"
    }
   ],
   "source": [
    "scaledMotionsTensor.max(alongAxes: 0)"
   ]
  },
  {
   "cell_type": "code",
   "execution_count": 17,
   "metadata": {},
   "outputs": [
    {
     "data": {
      "text/plain": [
       "[[  -4.178705e-05,   1.7123464e-05,  -1.7077971e-06,   -6.052819e-05,    4.613509e-05,\n",
       "   -3.5726953e-06,   0.00026971768,  -1.2282144e-05,    4.551088e-05,    0.0003985076,\n",
       "    2.6325924e-05,   5.7399557e-06,   2.8802866e-05,  -3.9038255e-06,  -2.1501512e-05,\n",
       "   -1.2413229e-06,    2.104728e-05,   1.9752565e-06,   -1.808439e-06,   6.0719585e-06,\n",
       "    1.2435548e-05,  -3.5176328e-07,  -1.7057173e-05,  -1.6436389e-06,   -5.815557e-06,\n",
       "   -1.2569718e-05,  -3.7995316e-05,  -0.00013812215,    2.787877e-05,  -2.3065806e-05,\n",
       "    3.5642431e-06,  -5.2682963e-06,   -2.598134e-05,  -4.7677886e-06,    -4.25158e-06,\n",
       "   -1.7488286e-06,   -5.954158e-06,  -1.1378097e-06,    1.316845e-05,     8.37044e-06,\n",
       "  -1.48982535e-05,   -2.357497e-06,  -2.9695955e-05,    3.961491e-05,  -3.4073437e-07,\n",
       "    2.9886976e-08,   -1.862649e-06]]\n"
      ]
     },
     "execution_count": 17,
     "metadata": {},
     "output_type": "execute_result"
    }
   ],
   "source": [
    "scaledMotionsTensor.mean(alongAxes: 0)"
   ]
  },
  {
   "cell_type": "code",
   "execution_count": 18,
   "metadata": {},
   "outputs": [
    {
     "data": {
      "text/plain": [
       "[[0.99996054, 0.99996084,  1.0000913, 0.99997044,  0.9998486,  1.0000064,  0.9999041,  1.0000119,\n",
       "   0.9999362,  1.0000049, 0.99995625, 0.99993765,  1.0000237, 0.99992895,  0.9999721,  0.9999963,\n",
       "   0.9999926,   1.000001,  0.9999972, 0.99999064,   1.000012,  1.0000081,  0.9999797, 0.99999976,\n",
       "   1.0000294, 0.99998564,  1.0002428,  1.0002263, 0.99999136,  0.9998849,   1.000008,  1.0000218,\n",
       "  0.99999666, 0.99998707,  0.9999944,  1.0000007, 0.99995667, 0.99999255,   1.000009, 0.99999994,\n",
       "   1.0001887, 0.99996996, 0.99983925, 0.99995095, 0.99999595,  1.0000443, 0.99998784]]\n"
      ]
     },
     "execution_count": 18,
     "metadata": {},
     "output_type": "execute_result"
    }
   ],
   "source": [
    "scaledMotionsTensor.standardDeviation(alongAxes: 0)"
   ]
  },
  {
   "cell_type": "code",
   "execution_count": 19,
   "metadata": {},
   "outputs": [
    {
     "data": {
      "text/plain": [
       "▿ [92832, 47]\n",
       "  ▿ dimensions : 2 elements\n",
       "    - 0 : 92832\n",
       "    - 1 : 47\n"
      ]
     },
     "execution_count": 19,
     "metadata": {},
     "output_type": "execute_result"
    }
   ],
   "source": [
    "let descaledMotions = scaledMotions.map {scaler.inverse_transform($0)}\n",
    "let descaledMotionsTensor = Tensor(concatenating: descaledMotions, alongAxis: 0)\n",
    "descaledMotionsTensor.shape"
   ]
  },
  {
   "cell_type": "code",
   "execution_count": 20,
   "metadata": {},
   "outputs": [
    {
     "data": {
      "text/plain": [
       "[[  -0.785398,   -0.349066,   -0.261799,  -0.8726649,   -0.349066,   -0.785398,   -0.610865,\n",
       "  -0.34906596,   -0.628319, -0.34906602,   -0.261799,   -0.349066,   -0.698132, -0.34906596,\n",
       "    -0.523599,         0.0,     -1.5708,  -0.8527389, -0.34906596,   -0.785398,    -2.26893,\n",
       "     -1.22173,         0.0,    -1.22173,   -0.523599,    -1.22173, -0.78539807,   -0.261799,\n",
       "    -0.698132,   -0.349066,   -0.523599,         0.0,  -1.5708001,   -0.842493,     -1.0244,\n",
       "    -0.785398,    -2.26893,  -1.2217299,    -2.79253,     -1.0472,   -0.523599,  -1.5707998,\n",
       "  -0.78539807,   -0.261799,    -1.12863,    -3.14158,    -3.14157]]\n"
      ]
     },
     "execution_count": 20,
     "metadata": {},
     "output_type": "execute_result"
    }
   ],
   "source": [
    "descaledMotionsTensor.min(alongAxes: 0)"
   ]
  },
  {
   "cell_type": "code",
   "execution_count": 21,
   "metadata": {},
   "outputs": [
    {
     "data": {
      "text/plain": [
       "[[           0.0,            0.0,            0.0,  5.9604645e-08,            0.0,\n",
       "             0.0,            0.0,  2.9802322e-08,            0.0, -2.9802322e-08,\n",
       "             0.0,            0.0,            0.0,  2.9802322e-08,            0.0,\n",
       "             0.0,            0.0,  5.9604645e-08,  2.9802322e-08,            0.0,\n",
       "             0.0,            0.0,            0.0,            0.0,            0.0,\n",
       "             0.0, -5.9604645e-08,            0.0,            0.0,            0.0,\n",
       "             0.0,            0.0, -1.1920929e-07,            0.0,            0.0,\n",
       "             0.0,            0.0,  1.1920929e-07,            0.0,            0.0,\n",
       "             0.0,  1.1920929e-07, -5.9604645e-08,            0.0,            0.0,\n",
       "             0.0,            0.0]]\n"
      ]
     },
     "execution_count": 21,
     "metadata": {},
     "output_type": "execute_result"
    }
   ],
   "source": [
    "descaledMotionsTensor.min(alongAxes: 0)-motionsTensor.min(alongAxes: 0)"
   ]
  },
  {
   "cell_type": "code",
   "execution_count": 22,
   "metadata": {},
   "outputs": [
    {
     "data": {
      "text/plain": [
       "[[  0.261799,   0.349066, 0.26179904,   0.610865,   0.349066,  0.7853979, 0.47123906, 0.34906602,\n",
       "    0.628319,   0.523599,   0.261799,   0.349066,   0.523599,   0.349066,   0.523599,  2.7258801,\n",
       "      1.5708,  1.6580601,    1.13446,   0.785398,        0.0,    3.31613,    2.79253,     1.0472,\n",
       "    0.349066,     1.5708,     1.5708,   0.261799,   0.523599,   0.349066,   0.523599,    2.79253,\n",
       "   1.5707998,  1.6580598,   0.349066,   0.785398,        0.0,    3.31613,        0.0,    1.22173,\n",
       "    0.349066,    1.22173,     1.5708,   0.261799,    2.04686,    3.14153,    3.14157]]\n"
      ]
     },
     "execution_count": 22,
     "metadata": {},
     "output_type": "execute_result"
    }
   ],
   "source": [
    "descaledMotionsTensor.max(alongAxes: 0)"
   ]
  },
  {
   "cell_type": "code",
   "execution_count": 23,
   "metadata": {},
   "outputs": [
    {
     "data": {
      "text/plain": [
       "[[           0.0,            0.0,  2.9802322e-08,            0.0,            0.0,\n",
       "  -1.1920929e-07,  5.9604645e-08,  2.9802322e-08,            0.0,            0.0,\n",
       "             0.0,            0.0,            0.0,            0.0,            0.0,\n",
       "   2.3841858e-07,            0.0,  1.1920929e-07,            0.0,            0.0,\n",
       "             0.0,            0.0,            0.0,            0.0,            0.0,\n",
       "             0.0,            0.0,            0.0,            0.0,            0.0,\n",
       "             0.0,            0.0, -1.1920929e-07, -1.1920929e-07,            0.0,\n",
       "             0.0,            0.0,            0.0,            0.0,            0.0,\n",
       "             0.0,            0.0,            0.0,            0.0,            0.0,\n",
       "             0.0,            0.0]]\n"
      ]
     },
     "execution_count": 23,
     "metadata": {},
     "output_type": "execute_result"
    }
   ],
   "source": [
    "descaledMotionsTensor.max(alongAxes: 0)-motionsTensor.max(alongAxes: 0)"
   ]
  },
  {
   "cell_type": "code",
   "execution_count": null,
   "metadata": {},
   "outputs": [],
   "source": []
  }
 ],
 "metadata": {
  "kernelspec": {
   "display_name": "Swift",
   "language": "swift",
   "name": "swift"
  },
  "language_info": {
   "file_extension": ".swift",
   "mimetype": "text/x-swift",
   "name": "swift",
   "version": ""
  }
 },
 "nbformat": 4,
 "nbformat_minor": 4
}
