{
 "cells": [
  {
   "cell_type": "markdown",
   "metadata": {
    "colab_type": "text",
    "id": "QJwHDGwK7aGN"
   },
   "source": [
    "# Generate motion"
   ]
  },
  {
   "cell_type": "code",
   "execution_count": null,
   "metadata": {},
   "outputs": [],
   "source": [
    "// for local development\n",
    "%install-location /notebooks/language2motion.gt/swift-install\n",
    "%install-swiftpm-flags -c release\n",
    "%install '.package(path: \"/notebooks/language2motion.gt\")' Datasets TranslationModels TextModels ModelSupport SummaryWriter LangMotionModels"
   ]
  },
  {
   "cell_type": "code",
   "execution_count": null,
   "metadata": {
    "colab": {},
    "colab_type": "code",
    "id": "qvk1la6a7jqe"
   },
   "outputs": [],
   "source": [
    "import TensorFlow\n",
    "import TextModels\n",
    "import TranslationModels\n",
    "import Foundation\n",
    "import FoundationXML\n",
    "import ModelSupport\n",
    "import Datasets\n",
    "import SummaryWriter\n",
    "import LangMotionModels"
   ]
  },
  {
   "cell_type": "code",
   "execution_count": null,
   "metadata": {},
   "outputs": [],
   "source": [
    "import PythonKit\n",
    "\n",
    "%include \"EnableIPythonDisplay.swift\"\n",
    "IPythonDisplay.shell.enable_matplotlib(\"inline\")"
   ]
  },
  {
   "cell_type": "markdown",
   "metadata": {
    "colab_type": "text",
    "id": "5xCh7jaO7qpA"
   },
   "source": [
    "## What's the GPU?"
   ]
  },
  {
   "cell_type": "code",
   "execution_count": null,
   "metadata": {
    "colab": {},
    "colab_type": "code",
    "id": "QF9_tK8p7rPS"
   },
   "outputs": [],
   "source": [
    "import Foundation\n",
    "\n",
    "func shell(_ command: String) -> String {\n",
    "    let task = Process()\n",
    "    let pipe = Pipe()\n",
    "\n",
    "    task.standardOutput = pipe\n",
    "    task.arguments = [\"-c\", command]\n",
    "    task.launchPath = \"/bin/bash\"\n",
    "    task.launch()\n",
    "\n",
    "    let data = pipe.fileHandleForReading.readDataToEndOfFile()\n",
    "    return String(data: data, encoding: .utf8)!\n",
    "}\n",
    "\n",
    "func sh(_ command: String) {\n",
    "    print(shell(command))\n",
    "}"
   ]
  },
  {
   "cell_type": "markdown",
   "metadata": {
    "colab_type": "text",
    "id": "PzOE5kHy743R"
   },
   "source": [
    "## Download data"
   ]
  },
  {
   "cell_type": "code",
   "execution_count": null,
   "metadata": {
    "colab": {},
    "colab_type": "code",
    "id": "ee6ivU1w75u2"
   },
   "outputs": [],
   "source": [
    "let datasetSize: DatasetSize = .mini\n",
    "let dataset_name = \"motion_dataset_v3.10Hz.\\(datasetSize.rawValue)\""
   ]
  },
  {
   "cell_type": "markdown",
   "metadata": {
    "colab_type": "text",
    "id": "anldphJN8lL_"
   },
   "source": [
    "## Set training params"
   ]
  },
  {
   "cell_type": "code",
   "execution_count": null,
   "metadata": {
    "colab": {},
    "colab_type": "code",
    "id": "Lcru9CBe8nbs"
   },
   "outputs": [],
   "source": [
    "let runName = \"run_1\"\n",
    "let batchSize = 2\n",
    "// let batchSize = 150\n",
    "let maxTextSequenceLength =  20\n",
    "let maxMotionLength =  10\n",
    "let nEpochs = 5\n",
    "let learningRate: Float = 5e-4\n",
    "\n",
    "print(\"runName: \\(runName)\")\n",
    "print(\"batchSize: \\(batchSize)\")\n",
    "print(\"maxTextSequenceLength: \\(maxTextSequenceLength)\")\n",
    "print(\"maxMotionLength: \\(maxMotionLength)\")\n",
    "print(\"nEpochs: \\(nEpochs)\")\n",
    "print(\"learningRate: \\(learningRate)\")\n",
    "\n",
    "// let dataURL = URL(fileURLWithPath: \"/content/data/\")\n",
    "let dataURL = URL(fileURLWithPath: \"/notebooks/language2motion.gt/data/\")\n",
    "let motionDatasetURL = dataURL.appendingPathComponent(\"\\(dataset_name)plist\")\n",
    "let langDatasetURL = dataURL.appendingPathComponent(\"labels_ds_v2.csv\")"
   ]
  },
  {
   "cell_type": "markdown",
   "metadata": {
    "colab_type": "text",
    "id": "lts7GgHE8pS3"
   },
   "source": [
    "## Select eager or X10 backend"
   ]
  },
  {
   "cell_type": "code",
   "execution_count": null,
   "metadata": {
    "colab": {},
    "colab_type": "code",
    "id": "0Obl55068up1"
   },
   "outputs": [],
   "source": [
    "// let device = Device.defaultXLA\n",
    "let device = Device.defaultTFEager\n",
    "print(device)"
   ]
  },
  {
   "cell_type": "markdown",
   "metadata": {
    "colab_type": "text",
    "id": "y_XNP-hV8w0o"
   },
   "source": [
    "## Instantiate model"
   ]
  },
  {
   "cell_type": "code",
   "execution_count": null,
   "metadata": {
    "colab": {},
    "colab_type": "code",
    "id": "4Hrsx_O-9cyb"
   },
   "outputs": [],
   "source": [
    "/// instantiate text processor\n",
    "let vocabularyURL = dataURL.appendingPathComponent(\"vocab.txt\")\n",
    "let vocabulary: Vocabulary = try! Vocabulary(fromFile: vocabularyURL)\n",
    "let tokenizer: Tokenizer = BERTTokenizer(vocabulary: vocabulary, caseSensitive: false, unknownToken: \"[UNK]\", maxTokenLength: nil)\n",
    "let textProcessor = TextProcessor2(vocabulary: vocabulary, tokenizer: tokenizer, maxTextSequenceLength: maxTextSequenceLength, maxMotionLength: maxMotionLength)\n",
    "\n",
    "/// instantiate model\n",
    "let vocabSize = vocabulary.count\n",
    "let nbJoints = 47 // TODO: get value from dataset\n",
    "let layerCount: Int = 6\n",
    "let modelSize: Int = 256\n",
    "let feedForwardSize: Int = 1024\n",
    "let headCount: Int = 8\n",
    "let dropoutProbability: Double = 0.1\n",
    "\n",
    "var transformer = LangMotionTransformer(\n",
    "    vocabSize: vocabSize, \n",
    "    nbJoints: nbJoints,\n",
    "    layerCount: layerCount, \n",
    "    modelSize: modelSize, \n",
    "    feedForwardSize: feedForwardSize, \n",
    "    headCount: headCount, \n",
    "    dropoutProbability: dropoutProbability\n",
    ")\n",
    "\n",
    "let nbMixtures = 20\n",
    "// TODO: integrate MotionGaussianMixtureModel with Generator\n",
    "var mixtureModel = MotionGaussianMixtureModel(inputSize: nbJoints, nbJoints: nbJoints, nbMixtures: nbMixtures)\n",
    "// mixtureModel.move(to: device)\n",
    "\n",
    "var model = LangMotionModel(transformer: transformer, mixtureModel: mixtureModel)\n",
    "model.move(to: device)"
   ]
  },
  {
   "cell_type": "markdown",
   "metadata": {
    "colab_type": "text",
    "id": "1jZXyKzG-fVp"
   },
   "source": [
    "## Load dataset"
   ]
  },
  {
   "cell_type": "code",
   "execution_count": null,
   "metadata": {
    "colab": {},
    "colab_type": "code",
    "id": "W-L0QTV0-fwa"
   },
   "outputs": [],
   "source": [
    "print(\"\\nLoading dataset...\")\n",
    "\n",
    "var dataset = try Lang2Motion(\n",
    "    motionDatasetURL: motionDatasetURL,\n",
    "    langDatasetURL: langDatasetURL,\n",
    "    batchSize: batchSize\n",
    ") { (example: Lang2Motion.Example) -> LangMotionBatch in    \n",
    "    let singleBatch = textProcessor.preprocess(example: example)\n",
    "    return singleBatch\n",
    "}\n",
    "\n",
    "print(\"Dataset acquired.\")"
   ]
  },
  {
   "cell_type": "markdown",
   "metadata": {
    "colab_type": "text",
    "id": "ODISB-IWBUof"
   },
   "source": [
    "## Generate motion"
   ]
  },
  {
   "cell_type": "code",
   "execution_count": null,
   "metadata": {
    "colab": {},
    "colab_type": "code",
    "id": "_CfnBQGW-6Ho"
   },
   "outputs": [],
   "source": [
    "public func greedyDecodeMotion(sentence: String, prefix: String = \"prefix\", showMotion: Bool = false) -> Tensor<Float> {\n",
    "    // TODO: incorporate done/stop signal\n",
    "    // TODO: save mmm file\n",
    "    Context.local.learningPhase = .inference\n",
    "    print(\"\\ngreedyDecodeMotion(sentence: \\\"\\(sentence)\\\")\")\n",
    "\n",
    "    let source = textProcessor.preprocess(sentence: sentence)\n",
    "    source.printSource()\n",
    "\n",
    "    print(\"\\nEncode:\")\n",
    "    print(\"======\")\n",
    "    let memory = model.transformer.encode(input: source)\n",
    "    print(\"  memory.count: \\(memory.shape)\")\n",
    "\n",
    "    print(\"\\nGenerate:\")\n",
    "    print(\"=========\")\n",
    "    // tensor for neutral motion frame\n",
    "    var ys: Tensor<Float> = Tensor<Float>(repeating:0.0, shape: [1, 1, nbJoints])\n",
    "    for _ in 0..<maxMotionLength {\n",
    "        // prepare input\n",
    "        let targetMask = Tensor<Float>(subsequentMask(size: ys.shape[1]))\n",
    "        let target = LangMotionBatch.Target(motion: ys, mask: targetMask)\n",
    "\n",
    "        // decode motion\n",
    "        let out = model.transformer.decode(sourceMask: source.mask, target: target, memory: memory)\n",
    "        let singlePreds = model.mixtureModel(model.transformer.generate(input: out[0...,-1].expandingShape(at: 0)))\n",
    "        \n",
    "        // perform sampling\n",
    "        let (sampledMotion, log_probs, done) = MotionDecoder.performNormalMixtureSampling(\n",
    "            preds: singlePreds, nb_joints: nbJoints, nb_mixtures: nbMixtures, maxMotionLength: maxMotionLength)\n",
    "        \n",
    "        // concatenate motion\n",
    "        ys = Tensor(concatenating: [ys, sampledMotion.expandingShape(at: 0)], alongAxis: 1)        \n",
    "    }\n",
    "\n",
    "    // descale motion    \n",
    "    let descaled_motion = dataset.scaler.inverse_transform(ys.squeezingShape(at:0))\n",
    "    print(\"  descaled_motion.shape: \\(descaled_motion.shape)\")\n",
    "\n",
    "    let imageURL = !showMotion ? dataURL.appendingPathComponent(\"motion_images/\\(prefix).png\") : nil\n",
    "    motionToImg(url: imageURL, motion: descaled_motion, motionFlag: nil, padTo: maxMotionLength, descr: \"\\(prefix), \\(sentence)\")\n",
    "    if !showMotion {\n",
    "        print(\"Saved image: \\(imageURL!.path)\")\n",
    "    }\n",
    "    return descaled_motion\n",
    "}"
   ]
  },
  {
   "cell_type": "code",
   "execution_count": null,
   "metadata": {
    "colab": {},
    "colab_type": "code",
    "id": "1bbmqcOHBU_j"
   },
   "outputs": [],
   "source": [
    "let motion = greedyDecodeMotion(sentence: \"human is walking\", prefix: \"foo9\", showMotion: true)"
   ]
  },
  {
   "cell_type": "markdown",
   "metadata": {},
   "source": [
    "# save to mmm"
   ]
  },
  {
   "cell_type": "code",
   "execution_count": null,
   "metadata": {},
   "outputs": [],
   "source": [
    "motion.shape"
   ]
  },
  {
   "cell_type": "code",
   "execution_count": null,
   "metadata": {},
   "outputs": [],
   "source": [
    "let jointNames = dataset.trainExamples[0].motionSample.jointNames"
   ]
  },
  {
   "cell_type": "code",
   "execution_count": null,
   "metadata": {},
   "outputs": [],
   "source": [
    "let xmlDoc = MMMWriter.getMMMXMLDoc(jointNames: jointNames, motion: motion)"
   ]
  },
  {
   "cell_type": "code",
   "execution_count": null,
   "metadata": {},
   "outputs": [],
   "source": [
    "xmlDoc.xmlData(options: XMLNode.Options.nodePrettyPrint).write(to: dataURL.appendingPathComponent(\"generated_motions/generated_1.mmm.xml\"))"
   ]
  },
  {
   "cell_type": "code",
   "execution_count": null,
   "metadata": {},
   "outputs": [],
   "source": [
    "print(xmlDoc.xmlString(options: XMLNode.Options.nodePrettyPrint))"
   ]
  },
  {
   "cell_type": "code",
   "execution_count": null,
   "metadata": {},
   "outputs": [],
   "source": []
  }
 ],
 "metadata": {
  "accelerator": "GPU",
  "colab": {
   "collapsed_sections": [],
   "name": "TraningLang2motionColab.ipynb",
   "provenance": []
  },
  "kernelspec": {
   "display_name": "Swift",
   "language": "swift",
   "name": "swift"
  },
  "language_info": {
   "file_extension": ".swift",
   "mimetype": "text/x-swift",
   "name": "swift",
   "version": ""
  }
 },
 "nbformat": 4,
 "nbformat_minor": 4
}
