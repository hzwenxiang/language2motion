{
 "cells": [
  {
   "cell_type": "markdown",
   "metadata": {
    "colab_type": "text",
    "id": "QJwHDGwK7aGN"
   },
   "source": [
    "# Generate motion"
   ]
  },
  {
   "cell_type": "code",
   "execution_count": null,
   "metadata": {},
   "outputs": [],
   "source": [
    "// for local development\n",
    "%install-location /notebooks/language2motion.gt/swift-install\n",
    "%install-swiftpm-flags -c release\n",
    "%install '.package(path: \"/notebooks/language2motion.gt\")' Datasets TranslationModels TextModels ModelSupport SummaryWriter LangMotionModels"
   ]
  },
  {
   "cell_type": "code",
   "execution_count": null,
   "metadata": {
    "colab": {},
    "colab_type": "code",
    "id": "qvk1la6a7jqe"
   },
   "outputs": [],
   "source": [
    "import TensorFlow\n",
    "import TextModels\n",
    "import TranslationModels\n",
    "import Foundation\n",
    "import ModelSupport\n",
    "import Datasets\n",
    "import SummaryWriter\n",
    "import LangMotionModels"
   ]
  },
  {
   "cell_type": "markdown",
   "metadata": {
    "colab_type": "text",
    "id": "5xCh7jaO7qpA"
   },
   "source": [
    "## What's the GPU?"
   ]
  },
  {
   "cell_type": "code",
   "execution_count": null,
   "metadata": {
    "colab": {},
    "colab_type": "code",
    "id": "QF9_tK8p7rPS"
   },
   "outputs": [],
   "source": [
    "import Foundation\n",
    "\n",
    "func shell(_ command: String) -> String {\n",
    "    let task = Process()\n",
    "    let pipe = Pipe()\n",
    "\n",
    "    task.standardOutput = pipe\n",
    "    task.arguments = [\"-c\", command]\n",
    "    task.launchPath = \"/bin/bash\"\n",
    "    task.launch()\n",
    "\n",
    "    let data = pipe.fileHandleForReading.readDataToEndOfFile()\n",
    "    return String(data: data, encoding: .utf8)!\n",
    "}\n",
    "\n",
    "func sh(_ command: String) {\n",
    "    print(shell(command))\n",
    "}"
   ]
  },
  {
   "cell_type": "markdown",
   "metadata": {
    "colab_type": "text",
    "id": "PzOE5kHy743R"
   },
   "source": [
    "## Download data"
   ]
  },
  {
   "cell_type": "code",
   "execution_count": null,
   "metadata": {
    "colab": {},
    "colab_type": "code",
    "id": "ee6ivU1w75u2"
   },
   "outputs": [],
   "source": [
    "let datasetSize: DatasetSize = .mini\n",
    "let dataset_name = \"motion_dataset_v3.10Hz.\\(datasetSize.rawValue)\""
   ]
  },
  {
   "cell_type": "markdown",
   "metadata": {
    "colab_type": "text",
    "id": "anldphJN8lL_"
   },
   "source": [
    "## Set training params"
   ]
  },
  {
   "cell_type": "code",
   "execution_count": null,
   "metadata": {
    "colab": {},
    "colab_type": "code",
    "id": "Lcru9CBe8nbs"
   },
   "outputs": [],
   "source": [
    "let runName = \"run_1\"\n",
    "let batchSize = 1\n",
    "// let batchSize = 150\n",
    "let maxTextSequenceLength =  20\n",
    "let maxMotionLength =  100\n",
    "let nEpochs = 5\n",
    "let learningRate: Float = 5e-4\n",
    "\n",
    "print(\"runName: \\(runName)\")\n",
    "print(\"batchSize: \\(batchSize)\")\n",
    "print(\"maxTextSequenceLength: \\(maxTextSequenceLength)\")\n",
    "print(\"maxMotionLength: \\(maxMotionLength)\")\n",
    "print(\"nEpochs: \\(nEpochs)\")\n",
    "print(\"learningRate: \\(learningRate)\")\n",
    "\n",
    "// let dataURL = URL(fileURLWithPath: \"/content/data/\")\n",
    "let dataURL = URL(fileURLWithPath: \"/notebooks/language2motion.gt/data/\")\n",
    "let motionDatasetURL = dataURL.appendingPathComponent(\"\\(dataset_name)plist\")\n",
    "let langDatasetURL = dataURL.appendingPathComponent(\"labels_ds_v2.csv\")"
   ]
  },
  {
   "cell_type": "markdown",
   "metadata": {
    "colab_type": "text",
    "id": "lts7GgHE8pS3"
   },
   "source": [
    "## Select eager or X10 backend"
   ]
  },
  {
   "cell_type": "code",
   "execution_count": null,
   "metadata": {
    "colab": {},
    "colab_type": "code",
    "id": "0Obl55068up1"
   },
   "outputs": [],
   "source": [
    "// let device = Device.defaultXLA\n",
    "let device = Device.defaultTFEager\n",
    "print(device)"
   ]
  },
  {
   "cell_type": "markdown",
   "metadata": {
    "colab_type": "text",
    "id": "y_XNP-hV8w0o"
   },
   "source": [
    "## Instantiate model"
   ]
  },
  {
   "cell_type": "code",
   "execution_count": null,
   "metadata": {
    "colab": {},
    "colab_type": "code",
    "id": "4Hrsx_O-9cyb"
   },
   "outputs": [],
   "source": [
    "/// instantiate text processor\n",
    "let vocabularyURL = dataURL.appendingPathComponent(\"vocab.txt\")\n",
    "let vocabulary: Vocabulary = try! Vocabulary(fromFile: vocabularyURL)\n",
    "let tokenizer: Tokenizer = BERTTokenizer(vocabulary: vocabulary, caseSensitive: false, unknownToken: \"[UNK]\", maxTokenLength: nil)\n",
    "let textProcessor = TextProcessor2(vocabulary: vocabulary, tokenizer: tokenizer, maxTextSequenceLength: maxTextSequenceLength, maxMotionLength: maxMotionLength)\n",
    "\n",
    "/// instantiate model\n",
    "let vocabSize = vocabulary.count\n",
    "let nbJoints = 47 // TODO: get value from dataset\n",
    "let layerCount: Int = 6\n",
    "let modelSize: Int = 256\n",
    "let feedForwardSize: Int = 1024\n",
    "let headCount: Int = 8\n",
    "let dropoutProbability: Double = 0.1\n",
    "\n",
    "var transformer = LangMotionTransformer(\n",
    "    vocabSize: vocabSize, \n",
    "    nbJoints: nbJoints,\n",
    "    layerCount: layerCount, \n",
    "    modelSize: modelSize, \n",
    "    feedForwardSize: feedForwardSize, \n",
    "    headCount: headCount, \n",
    "    dropoutProbability: dropoutProbability\n",
    ")\n",
    "\n",
    "let nbMixtures = 20\n",
    "// TODO: integrate MotionGaussianMixtureModel with Generator\n",
    "var mixtureModel = MotionGaussianMixtureModel(inputSize: nbJoints, nbJoints: nbJoints, nbMixtures: nbMixtures)\n",
    "// mixtureModel.move(to: device)\n",
    "\n",
    "var model = LangMotionModel(transformer: transformer, mixtureModel: mixtureModel)\n",
    "model.move(to: device)"
   ]
  },
  {
   "cell_type": "markdown",
   "metadata": {
    "colab_type": "text",
    "id": "1jZXyKzG-fVp"
   },
   "source": [
    "## Load dataset"
   ]
  },
  {
   "cell_type": "code",
   "execution_count": null,
   "metadata": {
    "colab": {},
    "colab_type": "code",
    "id": "W-L0QTV0-fwa"
   },
   "outputs": [],
   "source": [
    "print(\"\\nLoading dataset...\")\n",
    "\n",
    "var dataset = try Lang2Motion(\n",
    "    motionDatasetURL: motionDatasetURL,\n",
    "    langDatasetURL: langDatasetURL,\n",
    "    batchSize: batchSize\n",
    ") { (example: Lang2Motion.Example) -> LangMotionBatch in    \n",
    "    let singleBatch = textProcessor.preprocess(example: example)\n",
    "    return singleBatch\n",
    "}\n",
    "\n",
    "print(\"Dataset acquired.\")"
   ]
  },
  {
   "cell_type": "markdown",
   "metadata": {
    "colab_type": "text",
    "id": "reg6NcYt-5wu"
   },
   "source": [
    "## Set up decoding"
   ]
  },
  {
   "cell_type": "code",
   "execution_count": null,
   "metadata": {
    "colab": {},
    "colab_type": "code",
    "id": "_CfnBQGW-6Ho"
   },
   "outputs": [],
   "source": [
    "public func greedyDecodeMotion(sentence: String, prefix: String = \"prefix\") {\n",
    "    // FIXME: for generation don't supply motion in a batch, maybe neutral motion frame only\n",
    "    let randomMotionSample = dataset.trainExamples[0].motionSample\n",
    "    let example = Lang2Motion.Example(sampleID: -1, sentence: sentence, motionSample: randomMotionSample)\n",
    "    print(\"\\ngreedyDecodeMotion(sentence: \\\"\\(sentence)\\\")\")\n",
    "\n",
    "    let singleBatch = textProcessor.preprocess(example: example)\n",
    "    LangMotionBatch.printBatch(singleBatch)\n",
    "\n",
    "    print(\"\\nGenerate:\")\n",
    "    print(\"=========\")\n",
    "    Context.local.learningPhase = .inference\n",
    "    let singlePreds = model.generate(input: LangMotionBatch(copying: singleBatch, to: device))//.squeezingShape(at: 0)\n",
    "    singlePreds.printPreds()\n",
    "\n",
    "    let (motion, log_probs, done) = MotionDecoder.performNormalMixtureSampling(\n",
    "        preds: singlePreds, nb_joints: nbJoints, nb_mixtures: nbMixtures, maxMotionLength: maxMotionLength)\n",
    "\n",
    "    let descaled_motion = dataset.scaler.inverse_transform(motion)\n",
    "\n",
    "    print(\"\\nmotion.shape: \\(motion.shape)\")\n",
    "    print(\"log_probs.count: \\(log_probs.count)\")\n",
    "    print(\"done.shape: \\(done.shape)\")\n",
    "    print(\"done: \\(done)\")\n",
    "    // print(\"log_probs: \\(log_probs)\")\n",
    "    // print(\"descaled_motion: \\(descaled_motion)\")\n",
    "\n",
    "    let imageURL = dataURL.appendingPathComponent(\"motion_images/\\(prefix).png\")\n",
    "    motionToImg(url: imageURL, motion: descaled_motion, motionFlag: done, padTo: maxMotionLength, descr: \"\\(prefix), \\(example.sentence)\")\n",
    "    print(\"Saved image: \\(imageURL.path)\")\n",
    "}"
   ]
  },
  {
   "cell_type": "markdown",
   "metadata": {
    "colab_type": "text",
    "id": "ODISB-IWBUof"
   },
   "source": [
    "## Generate motion"
   ]
  },
  {
   "cell_type": "code",
   "execution_count": null,
   "metadata": {
    "colab": {},
    "colab_type": "code",
    "id": "1bbmqcOHBU_j"
   },
   "outputs": [],
   "source": [
    "// TODO: show motion inline\n",
    "greedyDecodeMotion(sentence: \"human is walking\", prefix: \"foo9\")"
   ]
  },
  {
   "cell_type": "code",
   "execution_count": null,
   "metadata": {},
   "outputs": [],
   "source": []
  }
 ],
 "metadata": {
  "accelerator": "GPU",
  "colab": {
   "collapsed_sections": [],
   "name": "TraningLang2motionColab.ipynb",
   "provenance": []
  },
  "kernelspec": {
   "display_name": "Swift",
   "language": "swift",
   "name": "swift"
  },
  "language_info": {
   "file_extension": ".swift",
   "mimetype": "text/x-swift",
   "name": "swift",
   "version": ""
  }
 },
 "nbformat": 4,
 "nbformat_minor": 4
}
