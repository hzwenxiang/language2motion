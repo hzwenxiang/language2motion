{
  "nbformat": 4,
  "nbformat_minor": 0,
  "metadata": {
    "kernelspec": {
      "display_name": "Python 3",
      "language": "python",
      "name": "python3"
    },
    "language_info": {
      "codemirror_mode": {
        "name": "ipython",
        "version": 3
      },
      "file_extension": ".py",
      "mimetype": "text/x-python",
      "name": "python",
      "nbconvert_exporter": "python",
      "pygments_lexer": "ipython3",
      "version": "3.6.9"
    },
    "colab": {
      "name": "MotionBrowserColab.ipynb",
      "provenance": [],
      "collapsed_sections": []
    }
  },
  "cells": [
    {
      "cell_type": "markdown",
      "metadata": {
        "id": "WT_ekokzc4hj",
        "colab_type": "text"
      },
      "source": [
        "# Motion Browser"
      ]
    },
    {
      "cell_type": "code",
      "metadata": {
        "id": "kquAxbUwc06S",
        "colab_type": "code",
        "colab": {}
      },
      "source": [
        "import IPython.display\n",
        "from pathlib import Path\n",
        "import pandas as pd"
      ],
      "execution_count": null,
      "outputs": []
    },
    {
      "cell_type": "markdown",
      "metadata": {
        "id": "AaX4Sc2Tgq27",
        "colab_type": "text"
      },
      "source": [
        "## Download data"
      ]
    },
    {
      "cell_type": "code",
      "metadata": {
        "id": "UmyLx-FQ2G38",
        "colab_type": "code",
        "colab": {}
      },
      "source": [
        "# annotations_name = 'annotations.csv'\n",
        "annotations_name = 'annotations.mini.csv'"
      ],
      "execution_count": null,
      "outputs": []
    },
    {
      "cell_type": "code",
      "metadata": {
        "id": "jMS1ZZBwRmtf",
        "colab_type": "code",
        "colab": {}
      },
      "source": [
        "!wget -nv -N https://github.com/wojtekcz/language2motion/releases/download/v0.2.0/c3d_metadata.csv\n",
        "!wget -nv -N https://github.com/wojtekcz/language2motion/releases/download/v0.2.0/$annotations_name\n",
        "!wget -nv --show-progress -N https://github.com/wojtekcz/language2motion/releases/download/v0.2.0/motion-viewer_v1.tgz"
      ],
      "execution_count": null,
      "outputs": []
    },
    {
      "cell_type": "code",
      "metadata": {
        "id": "E-rAAb5zcgRJ",
        "colab_type": "code",
        "colab": {}
      },
      "source": [
        "!tar xzf motion-viewer_v1.tgz --skip-old-files"
      ],
      "execution_count": null,
      "outputs": []
    },
    {
      "cell_type": "markdown",
      "metadata": {
        "id": "ThfHQUkrda4-",
        "colab_type": "text"
      },
      "source": [
        "## Load metadata"
      ]
    },
    {
      "cell_type": "code",
      "metadata": {
        "id": "q2fsMBAfcgM_",
        "colab_type": "code",
        "colab": {}
      },
      "source": [
        "ann_df = pd.read_csv(annotations_name, index_col='sample_id')\n",
        "print(len(ann_df))\n",
        "ann_df.head()"
      ],
      "execution_count": null,
      "outputs": []
    },
    {
      "cell_type": "code",
      "metadata": {
        "id": "TCjgHul2cgJK",
        "colab_type": "code",
        "colab": {}
      },
      "source": [
        "meta_df = pd.read_csv('c3d_metadata.csv', index_col='sample_id')\n",
        "print(len(meta_df))\n",
        "meta_df.head()"
      ],
      "execution_count": null,
      "outputs": []
    },
    {
      "cell_type": "markdown",
      "metadata": {
        "id": "V1m9i9WhgygT",
        "colab_type": "text"
      },
      "source": [
        "## Code"
      ]
    },
    {
      "cell_type": "code",
      "metadata": {
        "id": "jsO7MQ1f2Rwd",
        "colab_type": "code",
        "colab": {}
      },
      "source": [
        "def display_motion(motion_path: Path, n_frames = 900):\n",
        "    !jupyter nbextension install {str(motion_path)} --log-level=50\n",
        "    nb_path = f'/nbextensions/{motion_path.name}'\n",
        "    # nb_path = f'{motion_path}'\n",
        "    # print(motion_path)\n",
        "    a_html = f'''\n",
        "        <script\n",
        "          src=\"https://code.jquery.com/jquery-3.5.1.min.js\"\n",
        "          integrity=\"sha256-9/aliU8dGd2tb6OSsuzixeV4y/faTqgFtohetphbbj0=\"\n",
        "          crossorigin=\"anonymous\"></script>\n",
        "        <script src=\"https://cdn.jsdelivr.net/gh/wojtekcz/language2motion@koszalin-dl-9/notebooks/Motion-Browser/static/js/three.min.js\"></script>\n",
        "        <script src=\"https://cdn.jsdelivr.net/gh/wojtekcz/language2motion@koszalin-dl-9/notebooks/Motion-Browser/static/js/controls.js\"></script>\n",
        "        <script src=\"https://cdn.jsdelivr.net/gh/wojtekcz/language2motion@koszalin-dl-9/notebooks/Motion-Browser/static/js/viewer4.js\"></script>\n",
        "        <div id=\"motion-content\" style=\"height: 300px; width: 700px\"></div>\n",
        "        <script>$(document).ready(initViewer('{nb_path}', true, new THREE.Vector3(20, 0, 15), new THREE.Vector3(0, 0, 10)));</script>\n",
        "        <td class=\"left\"><input id=\"motion-ui-slider\" type=\"range\" value=\"0\" max=\"{n_frames}\" min=\"0\"></td>\n",
        "        <td class=\"right\"><input id=\"motion-ui-button\" type=\"button\" value=\"Play\"></td>\n",
        "        '''\n",
        "    # print(a_html)\n",
        "    display(IPython.display.HTML(a_html));"
      ],
      "execution_count": null,
      "outputs": []
    },
    {
      "cell_type": "code",
      "metadata": {
        "id": "MLQFqa8faGXt",
        "colab_type": "code",
        "colab": {}
      },
      "source": [
        "def display_sample(sample_id: int):\n",
        "    meta_rec = meta_df[meta_df.index==sample_id].iloc[0]\n",
        "    print(meta_rec)\n",
        "    annotation = ann_df[ann_df.index==sample_id].text.to_list()[0]\n",
        "    meta_rec = meta_df[meta_df.index==sample_id].iloc[0]\n",
        "    n_frames = meta_rec.last_frame - meta_rec.first_frame\n",
        "    print('\\n', annotation)\n",
        "    motion_path = Path(f\"/content/motion-viewer/{sample_id:05}_raw.json\")\n",
        "    display_motion(motion_path, n_frames=n_frames)"
      ],
      "execution_count": null,
      "outputs": []
    },
    {
      "cell_type": "markdown",
      "metadata": {
        "id": "g6SN7g8Nd2OW",
        "colab_type": "text"
      },
      "source": [
        "## Search"
      ]
    },
    {
      "cell_type": "code",
      "metadata": {
        "id": "BdbkV-tIcf4f",
        "colab_type": "code",
        "colab": {}
      },
      "source": [
        "search_str = 'walking'\n",
        "results = ann_df[ann_df.text.str.contains(search_str)]\n",
        "print(len(results))\n",
        "results[['text']]"
      ],
      "execution_count": null,
      "outputs": []
    },
    {
      "cell_type": "markdown",
      "metadata": {
        "id": "LGHY6T66dXaD",
        "colab_type": "text"
      },
      "source": [
        "## View motion"
      ]
    },
    {
      "cell_type": "code",
      "metadata": {
        "id": "nE1CE_6ZeMDI",
        "colab_type": "code",
        "colab": {}
      },
      "source": [
        "sample_id = 2117\n",
        "display_sample(sample_id)"
      ],
      "execution_count": null,
      "outputs": []
    },
    {
      "cell_type": "code",
      "metadata": {
        "id": "wrqVVrfQYoUq",
        "colab_type": "code",
        "colab": {}
      },
      "source": [
        ""
      ],
      "execution_count": null,
      "outputs": []
    }
  ]
}