{
 "cells": [
  {
   "cell_type": "code",
   "execution_count": 1,
   "metadata": {},
   "outputs": [
    {
     "name": "stdout",
     "output_type": "stream",
     "text": [
      "Installing packages:\n",
      "\t.package(path: \"/notebooks/language2motion.gt/code\")\n",
      "\t\tDatasets\n",
      "\t\tModelSupport\n",
      "With SwiftPM flags: ['-c', 'release']\n",
      "Working in: /tmp/tmp7ba3j21x/swift-install\n",
      "[1/2] Compiling jupyterInstalledPackages jupyterInstalledPackages.swift\n",
      "Initializing Swift...\n",
      "Installation complete!\n"
     ]
    }
   ],
   "source": [
    "%install-location /notebooks/language2motion.gt/swift-install\n",
    "%install-swiftpm-flags -c release\n",
    "%install '.package(path: \"/notebooks/language2motion.gt/code\")' Datasets ModelSupport"
   ]
  },
  {
   "cell_type": "code",
   "execution_count": 2,
   "metadata": {},
   "outputs": [],
   "source": [
    "import Foundation\n",
    "import TensorFlow\n",
    "import Datasets\n",
    "import ModelSupport"
   ]
  },
  {
   "cell_type": "code",
   "execution_count": 3,
   "metadata": {},
   "outputs": [
    {
     "data": {
      "text/plain": [
       "('inline', 'module://ipykernel.pylab.backend_inline')\n"
      ]
     },
     "execution_count": 3,
     "metadata": {},
     "output_type": "execute_result"
    }
   ],
   "source": [
    "%include \"EnableIPythonDisplay.swift\"\n",
    "IPythonDisplay.shell.enable_matplotlib(\"inline\")"
   ]
  },
  {
   "cell_type": "markdown",
   "metadata": {},
   "source": [
    "# load dataset"
   ]
  },
  {
   "cell_type": "code",
   "execution_count": 4,
   "metadata": {},
   "outputs": [],
   "source": [
    "let dataURL = URL(fileURLWithPath: \"/notebooks/language2motion.gt/data/\")"
   ]
  },
  {
   "cell_type": "code",
   "execution_count": 5,
   "metadata": {},
   "outputs": [],
   "source": [
    "let serializedDatasetURL = dataURL.appendingPathComponent(\"motion_dataset.motion_flag.normalized.downsampled.sampled.4860.plist\")"
   ]
  },
  {
   "cell_type": "code",
   "execution_count": 6,
   "metadata": {},
   "outputs": [
    {
     "name": "stdout",
     "output_type": "stream",
     "text": [
      "MotionDataset(motionSamples: 4860)\n"
     ]
    }
   ],
   "source": [
    "let motionDataset = MotionDataset(from: serializedDatasetURL)\n",
    "print(motionDataset.description)"
   ]
  },
  {
   "cell_type": "markdown",
   "metadata": {},
   "source": [
    "# train-test split"
   ]
  },
  {
   "cell_type": "code",
   "execution_count": null,
   "metadata": {},
   "outputs": [],
   "source": [
    "// + load samples\n",
    "// + create list of sampleIds\n",
    "// + train-test split sampleIds\n",
    "// + create train list of motion samples"
   ]
  },
  {
   "cell_type": "raw",
   "metadata": {},
   "source": [
    "let allMotionSamples = motionDataset.motionSamples\n",
    "let allSampleIds = allMotionSamples.map {$0.sampleID}\n",
    "let sampleIds = Array(Set(allSampleIds)).sorted()\n",
    "(allSampleIds.count, sampleIds.count)"
   ]
  },
  {
   "cell_type": "raw",
   "metadata": {},
   "source": [
    "let (trainSampleIds, testSampleIds) = sampleIds.trainTestSplit(split: 0.8)"
   ]
  },
  {
   "cell_type": "raw",
   "metadata": {},
   "source": [
    "(trainSampleIds.count, testSampleIds.count)"
   ]
  },
  {
   "cell_type": "raw",
   "metadata": {},
   "source": [
    "var sampleId2motionIdxs: [Int: [Int]] = [:]"
   ]
  },
  {
   "cell_type": "raw",
   "metadata": {},
   "source": [
    "for sampleId in sampleIds {\n",
    "    sampleId2motionIdxs[sampleId] = []\n",
    "}"
   ]
  },
  {
   "cell_type": "raw",
   "metadata": {},
   "source": [
    "for (idx, sampleId) in allSampleIds.enumerated() {\n",
    "    sampleId2motionIdxs[sampleId]!.append(idx)\n",
    "}"
   ]
  },
  {
   "cell_type": "raw",
   "metadata": {},
   "source": [
    "let reverse = sampleId2motionIdxs"
   ]
  },
  {
   "cell_type": "raw",
   "metadata": {},
   "source": [
    "func getMotionSamples(allMotionSamples: [MotionSample], sampleIds: [Int]) -> [MotionSample] {\n",
    "    var motionSamples: [MotionSample] = []\n",
    "    for sampleId in sampleIds {\n",
    "        let idxs = sampleId2motionIdxs[sampleId]\n",
    "        for idx in idxs! {\n",
    "            motionSamples.append(allMotionSamples[idx])\n",
    "        }\n",
    "    }\n",
    "    return motionSamples\n",
    "}\n",
    "let trainMotionSamples = getMotionSamples(allMotionSamples: allMotionSamples, sampleIds: trainSampleIds)\n",
    "trainMotionSamples.count"
   ]
  },
  {
   "cell_type": "raw",
   "metadata": {},
   "source": [
    "let testMotionSamples = getMotionSamples(allMotionSamples: allMotionSamples, sampleIds: testSampleIds)\n",
    "testMotionSamples.count"
   ]
  },
  {
   "cell_type": "raw",
   "metadata": {},
   "source": [
    "trainMotionSamples[0..<40].map {$0.sampleID}"
   ]
  },
  {
   "cell_type": "raw",
   "metadata": {},
   "source": [
    "testMotionSamples[0..<40].map {$0.sampleID}"
   ]
  },
  {
   "cell_type": "raw",
   "metadata": {},
   "source": [
    "extension Array { \n",
    "    public func trainTestSplit(split: Double) -> (train: Array<Element>, test: Array<Element>) {\n",
    "        let shuffled = self.shuffled()\n",
    "        let splitIdx = Int(roundf(Float(split * Double(self.count))))\n",
    "        let train = Array(shuffled[0..<splitIdx])\n",
    "        let test = Array(shuffled[splitIdx..<self.count])\n",
    "        return (train: train, test: test)\n",
    "    }\n",
    "}"
   ]
  },
  {
   "cell_type": "code",
   "execution_count": 7,
   "metadata": {},
   "outputs": [],
   "source": [
    "extension Collection where Iterator.Element == MotionSample {\n",
    "    func motionSamplesWithIds(_ sampleIds: [Int], mapping: [Int: [Int]]) -> [MotionSample] {\n",
    "        var motionSamples: [MotionSample] = []\n",
    "        for sampleId in sampleIds {\n",
    "            let idxs = mapping[sampleId]\n",
    "            for idx in idxs! {\n",
    "                motionSamples.append(self[idx as! Self.Index])\n",
    "            }\n",
    "        }\n",
    "        return motionSamples\n",
    "    }\n",
    "    \n",
    "    \n",
    "    public func trainTestSplitMotionSamples(split: Double) -> (train: Array<Element>, test: Array<Element>) {\n",
    "        // splits multiplied samples into train/test buckets, making sure that samples with same ids end up in same bucket\n",
    "        let allSampleIds = self.map {$0.sampleID}\n",
    "        let sampleIds = Array(Set(allSampleIds)).sorted()\n",
    "        let (trainSampleIds, testSampleIds) = sampleIds.trainTestSplit(split: 0.8)\n",
    "        var mapping: [Int: [Int]] = [:] // sampleIds -> [collection indices]\n",
    "        for sampleId in sampleIds {\n",
    "            mapping[sampleId] = []\n",
    "        }\n",
    "        for (idx, sampleId) in allSampleIds.enumerated() {\n",
    "            mapping[sampleId]!.append(idx)\n",
    "        }\n",
    "        let trainMotionSamples = motionSamplesWithIds(trainSampleIds, mapping: mapping)\n",
    "        let testMotionSamples = motionSamplesWithIds(testSampleIds, mapping: mapping)\n",
    "        return (trainMotionSamples, testMotionSamples)\n",
    "    }\n",
    "}"
   ]
  },
  {
   "cell_type": "code",
   "execution_count": 8,
   "metadata": {},
   "outputs": [
    {
     "data": {
      "text/plain": [
       "▿ 2 elements\n",
       "  - .0 : 3890\n",
       "  - .1 : 970\n"
      ]
     },
     "execution_count": 8,
     "metadata": {},
     "output_type": "execute_result"
    }
   ],
   "source": [
    "let (train, test) = motionDataset.motionSamples.trainTestSplitMotionSamples(split: 0.8)\n",
    "(train.count, test.count)"
   ]
  },
  {
   "cell_type": "code",
   "execution_count": 11,
   "metadata": {},
   "outputs": [
    {
     "data": {
      "text/plain": [
       "▿ 20 elements\n",
       "  - 0 : 882\n",
       "  - 1 : 882\n",
       "  - 2 : 882\n",
       "  - 3 : 882\n",
       "  - 4 : 882\n",
       "  - 5 : 882\n",
       "  - 6 : 882\n",
       "  - 7 : 882\n",
       "  - 8 : 882\n",
       "  - 9 : 882\n",
       "  - 10 : 363\n",
       "  - 11 : 363\n",
       "  - 12 : 363\n",
       "  - 13 : 363\n",
       "  - 14 : 363\n",
       "  - 15 : 363\n",
       "  - 16 : 363\n",
       "  - 17 : 363\n",
       "  - 18 : 363\n",
       "  - 19 : 363\n"
      ]
     },
     "execution_count": 11,
     "metadata": {},
     "output_type": "execute_result"
    }
   ],
   "source": [
    "train[0..<20].map {$0.sampleID}"
   ]
  },
  {
   "cell_type": "code",
   "execution_count": 10,
   "metadata": {},
   "outputs": [
    {
     "data": {
      "text/plain": [
       "▿ 20 elements\n",
       "  - 0 : 3375\n",
       "  - 1 : 3375\n",
       "  - 2 : 3375\n",
       "  - 3 : 3375\n",
       "  - 4 : 3375\n",
       "  - 5 : 3375\n",
       "  - 6 : 3375\n",
       "  - 7 : 3375\n",
       "  - 8 : 3375\n",
       "  - 9 : 3375\n",
       "  - 10 : 3117\n",
       "  - 11 : 3117\n",
       "  - 12 : 3117\n",
       "  - 13 : 3117\n",
       "  - 14 : 3117\n",
       "  - 15 : 3117\n",
       "  - 16 : 3117\n",
       "  - 17 : 3117\n",
       "  - 18 : 3117\n",
       "  - 19 : 3117\n"
      ]
     },
     "execution_count": 10,
     "metadata": {},
     "output_type": "execute_result"
    }
   ],
   "source": [
    "test[0..<20].map {$0.sampleID}"
   ]
  },
  {
   "cell_type": "code",
   "execution_count": null,
   "metadata": {},
   "outputs": [],
   "source": []
  }
 ],
 "metadata": {
  "kernelspec": {
   "display_name": "Swift",
   "language": "swift",
   "name": "swift"
  },
  "language_info": {
   "file_extension": ".swift",
   "mimetype": "text/x-swift",
   "name": "swift",
   "version": ""
  }
 },
 "nbformat": 4,
 "nbformat_minor": 4
}
