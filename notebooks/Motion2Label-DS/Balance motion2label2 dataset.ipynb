{
 "cells": [
  {
   "cell_type": "code",
   "execution_count": 1,
   "metadata": {},
   "outputs": [
    {
     "name": "stdout",
     "output_type": "stream",
     "text": [
      "Installing packages:\n",
      "\t.package(path: \"/notebooks/language2motion.gt/code\")\n",
      "\t\tDatasets\n",
      "\t\tModelSupport\n",
      "With SwiftPM flags: ['-c', 'release']\n",
      "Working in: /tmp/tmpuqcp9d3s/swift-install\n",
      "[1/2] Compiling jupyterInstalledPackages jupyterInstalledPackages.swift\n",
      "Initializing Swift...\n",
      "Installation complete!\n"
     ]
    }
   ],
   "source": [
    "%install-location /notebooks/language2motion.gt/swift-install\n",
    "%install-swiftpm-flags -c release\n",
    "%install '.package(path: \"/notebooks/language2motion.gt/code\")' Datasets ModelSupport"
   ]
  },
  {
   "cell_type": "code",
   "execution_count": 2,
   "metadata": {},
   "outputs": [],
   "source": [
    "import Foundation\n",
    "import TensorFlow\n",
    "import Datasets\n",
    "import ModelSupport"
   ]
  },
  {
   "cell_type": "code",
   "execution_count": 3,
   "metadata": {},
   "outputs": [
    {
     "data": {
      "text/plain": [
       "('inline', 'module://ipykernel.pylab.backend_inline')\n"
      ]
     },
     "execution_count": 3,
     "metadata": {},
     "output_type": "execute_result"
    }
   ],
   "source": [
    "%include \"EnableIPythonDisplay.swift\"\n",
    "IPythonDisplay.shell.enable_matplotlib(\"inline\")"
   ]
  },
  {
   "cell_type": "markdown",
   "metadata": {},
   "source": [
    "# load dataset"
   ]
  },
  {
   "cell_type": "code",
   "execution_count": 4,
   "metadata": {},
   "outputs": [],
   "source": [
    "let dataURL = URL(fileURLWithPath: \"/notebooks/language2motion.gt/data/\")"
   ]
  },
  {
   "cell_type": "code",
   "execution_count": 5,
   "metadata": {},
   "outputs": [
    {
     "name": "stdout",
     "output_type": "stream",
     "text": [
      "batchSize: 10\n",
      "maxSequenceLength: 300\n",
      "\n",
      "Loading dataset...\n",
      "MotionDataset(motionSamples: 3911)\n",
      "dataset.trainingExamples.count: 2410\n",
      "dataset.validationExamples.count: 602\n"
     ]
    }
   ],
   "source": [
    "let batchSize = 10\n",
    "let maxSequenceLength =  300 //600\n",
    "\n",
    "print(\"batchSize: \\(batchSize)\")\n",
    "print(\"maxSequenceLength: \\(maxSequenceLength)\")\n",
    "\n",
    "let serializedDatasetURL = dataURL.appendingPathComponent(\"motion_dataset.motion_flag.normalized.plist\")\n",
    "let labelsURL = dataURL.appendingPathComponent(\"labels_ds_v2.csv\")\n",
    "\n",
    "print(\"\\nLoading dataset...\")\n",
    "let dataset = try! Motion2Label(\n",
    "    serializedDatasetURL: serializedDatasetURL,\n",
    "    labelsURL: labelsURL,\n",
    "    maxSequenceLength: maxSequenceLength,\n",
    "    batchSize: batchSize\n",
    ") { \n",
    "    // TODO: move this to dataset class\n",
    "    (example: Motion2LabelExample) -> LabeledMotionBatch in\n",
    "    let motionFrames = Tensor<Float>(example.motionSample.motionFramesArray)\n",
    "    let motionFlag = Tensor<Int32>(motionFrames[0..., 44...44].squeezingShape(at: 1))\n",
    "    let origMotionFramesCount = Tensor<Int32>(Int32(motionFrames.shape[0]))\n",
    "    let motionBatch = MotionBatch(motionFrames: motionFrames, motionFlag: motionFlag, origMotionFramesCount: origMotionFramesCount)\n",
    "    let label = Tensor<Int32>(Int32(example.label!.idx))\n",
    "    return LabeledMotionBatch(data: motionBatch, label: label)\n",
    "}\n",
    "\n",
    "print(\"dataset.trainingExamples.count: \\(dataset.trainingExamples.count)\")\n",
    "print(\"dataset.validationExamples.count: \\(dataset.validationExamples.count)\")"
   ]
  },
  {
   "cell_type": "markdown",
   "metadata": {},
   "source": [
    "# balance dataset"
   ]
  },
  {
   "cell_type": "code",
   "execution_count": 6,
   "metadata": {},
   "outputs": [
    {
     "data": {
      "text/plain": [
       "3012\n"
      ]
     },
     "execution_count": 6,
     "metadata": {},
     "output_type": "execute_result"
    }
   ],
   "source": [
    "let motionSamplesWithAnnotations = dataset.motionDataset.motionSamples.filter { $0.annotations.count>0 }\n",
    "motionSamplesWithAnnotations.count"
   ]
  },
  {
   "cell_type": "raw",
   "metadata": {},
   "source": [
    "func filterSamples(_ motionSamples: [MotionSample], classIdx: Int) -> [MotionSample] {\n",
    "    let motionSamplesForClass = motionSamples.filter {\n",
    "        (ms: MotionSample) -> Bool in\n",
    "        let labelTuple = dataset.getLabel(ms.sampleID)!\n",
    "        return labelTuple.idx == classIdx\n",
    "    }\n",
    "    return motionSamplesForClass\n",
    "}"
   ]
  },
  {
   "cell_type": "code",
   "execution_count": null,
   "metadata": {},
   "outputs": [],
   "source": [
    "// TODO: code upsampling"
   ]
  },
  {
   "cell_type": "code",
   "execution_count": 10,
   "metadata": {},
   "outputs": [],
   "source": [
    "extension Motion2Label {\n",
    "    public func filterSamples(_ motionSamples: [MotionSample], classIdx: Int) -> [MotionSample] {\n",
    "        let motionSamplesForClass = motionSamples.filter {\n",
    "            (ms: MotionSample) -> Bool in\n",
    "            let labelTuple = self.getLabel(ms.sampleID)!\n",
    "            return labelTuple.idx == classIdx\n",
    "        }\n",
    "        return motionSamplesForClass\n",
    "    }\n",
    "    \n",
    "    public func balanceClassSamples(motionSamples: [MotionSample], numPerClass: Int, split: Double = 0.8) -> (trainSamples: [MotionSample], testSamples: [MotionSample]) {\n",
    "        var allTrainSamples: [MotionSample] = []\n",
    "        var allTestSamples: [MotionSample] = []\n",
    "\n",
    "        for classIdx in (0..<dataset.labels.count) { \n",
    "            let samplesForClass = filterSamples(motionSamples, classIdx: classIdx)\n",
    "\n",
    "            var sampledSamplesForClass: [MotionSample] = []\n",
    "            var trainSamples: [MotionSample]\n",
    "            var testSamples: [MotionSample]\n",
    "            if samplesForClass.count >= numPerClass { // downsample\n",
    "                let sampledSamplesForClass = Array(samplesForClass.choose(numPerClass))\n",
    "                (trainSamples, testSamples) = sampledSamplesForClass.trainTestSplit(split: Float(split))\n",
    "            } else { // upsample\n",
    "                (trainSamples, testSamples) = samplesForClass.trainTestSplit(split: Float(split))\n",
    "                let maxTrainPerClass = Int(Double(numPerClass)*split)\n",
    "                trainSamples = (0..<maxTrainPerClass).map { (a) -> MotionSample in trainSamples.randomElement()! }\n",
    "            }\n",
    "\n",
    "            allTrainSamples.append(contentsOf: trainSamples)\n",
    "            allTestSamples.append(contentsOf: testSamples)\n",
    "\n",
    "            print((samplesForClass.count, trainSamples.count, testSamples.count))\n",
    "        }\n",
    "        allTrainSamples.shuffle()\n",
    "        allTestSamples.shuffle()\n",
    "        return (trainSamples: allTrainSamples, testSamples: allTestSamples)\n",
    "    }\n",
    "}"
   ]
  },
  {
   "cell_type": "code",
   "execution_count": 13,
   "metadata": {},
   "outputs": [
    {
     "name": "stdout",
     "output_type": "stream",
     "text": [
      "(1216, 480, 120)\n",
      "(644, 480, 120)\n",
      "(103, 480, 21)\n",
      "(400, 480, 80)\n",
      "(649, 480, 120)\n"
     ]
    },
    {
     "data": {
      "text/plain": [
       "▿ 2 elements\n",
       "  - .0 : 2400\n",
       "  - .1 : 461\n"
      ]
     },
     "execution_count": 13,
     "metadata": {},
     "output_type": "execute_result"
    }
   ],
   "source": [
    "let numPerClass = 600\n",
    "\n",
    "let (trainSamples, testSamples) = dataset.balanceClassSamples(motionSamples: motionSamplesWithAnnotations, numPerClass: numPerClass, split: 0.8)\n",
    "(trainSamples.count, testSamples.count)"
   ]
  },
  {
   "cell_type": "raw",
   "metadata": {},
   "source": [
    "(allTrainSamples.count, allTestSamples.count)"
   ]
  },
  {
   "cell_type": "raw",
   "metadata": {},
   "source": [
    "let balancedMotionSamples = motionSampleArrays.reduce([], +)\n",
    "balancedMotionSamples.count"
   ]
  },
  {
   "cell_type": "raw",
   "metadata": {},
   "source": [
    "let motionData = dataset.motionData\n",
    "motionData.motionSamples = balancedMotionSamples\n",
    "let serializedDatasetURL = dataURL.appendingPathComponent(\"motion_dataset.motion_flag.balanced.\\(motionData.motionSamples.count).plist\")\n",
    "motionData.write(to: serializedDatasetURL)\n",
    "print(serializedDatasetURL.path)"
   ]
  },
  {
   "cell_type": "code",
   "execution_count": null,
   "metadata": {},
   "outputs": [],
   "source": []
  }
 ],
 "metadata": {
  "kernelspec": {
   "display_name": "Swift",
   "language": "swift",
   "name": "swift"
  },
  "language_info": {
   "file_extension": ".swift",
   "mimetype": "text/x-swift",
   "name": "swift",
   "version": ""
  }
 },
 "nbformat": 4,
 "nbformat_minor": 4
}
