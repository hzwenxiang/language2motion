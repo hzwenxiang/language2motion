{
  "nbformat": 4,
  "nbformat_minor": 0,
  "metadata": {
    "colab": {
      "name": "swift colab ssh server.ipynb",
      "provenance": [],
      "private_outputs": true,
      "collapsed_sections": []
    },
    "kernelspec": {
      "name": "swift",
      "display_name": "Swift"
    },
    "accelerator": "GPU"
  },
  "cells": [
    {
      "cell_type": "markdown",
      "metadata": {
        "id": "504YFETk-ZNx",
        "colab_type": "text"
      },
      "source": [
        "## check GPU type"
      ]
    },
    {
      "cell_type": "code",
      "metadata": {
        "id": "EAJcz2amYe9r",
        "colab_type": "code",
        "colab": {}
      },
      "source": [
        "import Foundation\n",
        "\n",
        "func shell(_ command: String) -> String {\n",
        "    let task = Process()\n",
        "    let pipe = Pipe()\n",
        "\n",
        "    task.standardOutput = pipe\n",
        "    task.arguments = [\"-c\", command]\n",
        "    task.launchPath = \"/bin/bash\"\n",
        "    task.launch()\n",
        "\n",
        "    let data = pipe.fileHandleForReading.readDataToEndOfFile()\n",
        "    return String(data: data, encoding: .utf8)!\n",
        "}\n",
        "\n",
        "func sh(_ command: String) {\n",
        "    print(shell(command))\n",
        "}\n",
        "\n",
        "sh(\"\"\"\n",
        "export PATH=\"$PATH:/opt/bin:/swift/toolchain/usr/bin\"\n",
        "export LD_LIBRARY_PATH=\"/usr/lib64-nvidia:$LD_LIBRARY_PATH\"\n",
        "nvidia-smi\n",
        "\"\"\")"
      ],
      "execution_count": null,
      "outputs": []
    },
    {
      "cell_type": "markdown",
      "metadata": {
        "id": "c2UQZHISpJxT",
        "colab_type": "text"
      },
      "source": [
        "## run colab ssh server"
      ]
    },
    {
      "cell_type": "code",
      "metadata": {
        "id": "_0gdDpIYRa_k",
        "colab_type": "code",
        "colab": {}
      },
      "source": [
        "// run colab ssh server\n",
        "// after it finishes, interrupt cell execution\n",
        "sh(\"bash <(curl -s https://raw.githubusercontent.com/wojtekcz/language2motion/master/notebooks/Colab/swift_colab_ssh_server.sh)\")"
      ],
      "execution_count": null,
      "outputs": []
    },
    {
      "cell_type": "code",
      "metadata": {
        "id": "3rar7f_fUPSw",
        "colab_type": "code",
        "colab": {}
      },
      "source": [
        "sh(\"bash <(curl -s https://raw.githubusercontent.com/wojtekcz/language2motion/master/notebooks/Colab/swift_colab_ssh_server.sh)\")"
      ],
      "execution_count": null,
      "outputs": []
    },
    {
      "cell_type": "code",
      "metadata": {
        "id": "JaFd04JfSbat",
        "colab_type": "code",
        "colab": {}
      },
      "source": [
        "sh(\"ls -l /etc/ssh/\")"
      ],
      "execution_count": null,
      "outputs": []
    },
    {
      "cell_type": "code",
      "metadata": {
        "id": "XJXTtWF4Sk5s",
        "colab_type": "code",
        "colab": {}
      },
      "source": [
        "// sh(\"cat /etc/ssh/sshd_config\")\n",
        "// sh(\"cat /root/.bashrc\")\n",
        "sh(\"ls -la /root/.ssh\")"
      ],
      "execution_count": null,
      "outputs": []
    },
    {
      "cell_type": "markdown",
      "metadata": {
        "id": "hAGInW5t-qs9",
        "colab_type": "text"
      },
      "source": [
        "## setup project sources and data"
      ]
    },
    {
      "cell_type": "markdown",
      "metadata": {
        "id": "n2UmZ9ylo6Ay",
        "colab_type": "text"
      },
      "source": [
        "## set git user name & email"
      ]
    },
    {
      "cell_type": "code",
      "metadata": {
        "id": "A5oOnS6Vox1r",
        "colab_type": "code",
        "colab": {}
      },
      "source": [
        "\n",
        "git config --global user.name \"Wojtek Czarnowski\"\n",
        "git config --global user.email \"wojtek.czarnowski@gmail.com\""
      ],
      "execution_count": null,
      "outputs": []
    },
    {
      "cell_type": "code",
      "metadata": {
        "id": "CsFVnEOTt463",
        "colab_type": "code",
        "colab": {}
      },
      "source": [
        "let dataset_name = \"motion_dataset_v3.10Hz\"\n",
        "// let dataset_name = \"motion_dataset_v3.10Hz.mini\"\n",
        "// let dataset_name = \"motion_dataset_v3.10Hz.midi\""
      ],
      "execution_count": null,
      "outputs": []
    },
    {
      "cell_type": "code",
      "metadata": {
        "id": "52Mx08pk0xB5",
        "colab_type": "code",
        "colab": {}
      },
      "source": [
        "// cd /content/language2motion.gt/data/\n",
        "// wget -nv --show-progress -N https://github.com/wojtekcz/language2motion/releases/download/v0.3.0/motion_dataset_v3.10Hz.tgz\n",
        "// tar xzvf motion_dataset_v3.10Hz.tgz --skip-old-files\n",
        "// wget -nv --show-progress -N https://github.com/wojtekcz/language2motion/releases/download/v0.3.0/motion_dataset_v3.10Hz.midi.tgz\n",
        "// tar xzvf motion_dataset_v3.10Hz.midi.tgz --skip-old-files"
      ],
      "execution_count": null,
      "outputs": []
    },
    {
      "cell_type": "code",
      "metadata": {
        "id": "ssK_Z-qElO2z",
        "colab_type": "code",
        "colab": {}
      },
      "source": [
        "sh(\"ln -s /swift/toolchain/ /swift-tensorflow-toolchain\")\n",
        "sh(\"ln -s /content /notebooks\")\n",
        "sh(\"git clone https://github.com/wojtekcz/language2motion.git /content/language2motion.gt\")\n",
        "sh(\"\"\"\n",
        "cd /content/language2motion.gt/data/\n",
        "wget -nv --show-progress -N  https://github.com/wojtekcz/language2motion/releases/download/v0.3.0/\\(dataset_name).tgz\n",
        "wget -nv -N https://github.com/wojtekcz/language2motion/releases/download/v0.1.0/vocab.txt\n",
        "tar xzvf \\(dataset_name).tgz --skip-old-files\n",
        "\"\"\")"
      ],
      "execution_count": null,
      "outputs": []
    },
    {
      "cell_type": "markdown",
      "metadata": {
        "id": "_yLZFqXU--q1",
        "colab_type": "text"
      },
      "source": [
        "## debug"
      ]
    },
    {
      "cell_type": "code",
      "metadata": {
        "id": "O3zCv2FqghiZ",
        "colab_type": "code",
        "colab": {}
      },
      "source": [
        "sh(\"ps ax|grep ssh\")"
      ],
      "execution_count": null,
      "outputs": []
    },
    {
      "cell_type": "code",
      "metadata": {
        "id": "xVbM1ppxhRk1",
        "colab_type": "code",
        "colab": {}
      },
      "source": [
        "sh(\"kill -9 2760\")  // enter ssh pid to kill the tunnel"
      ],
      "execution_count": null,
      "outputs": []
    },
    {
      "cell_type": "code",
      "metadata": {
        "id": "d-3pDZi1v5Vx",
        "colab_type": "code",
        "colab": {}
      },
      "source": [
        "sh(\"uptime\")"
      ],
      "execution_count": null,
      "outputs": []
    }
  ]
}