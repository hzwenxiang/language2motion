{
 "cells": [
  {
   "cell_type": "code",
   "execution_count": 1,
   "metadata": {},
   "outputs": [],
   "source": [
    "import numpy as np\n",
    "import json\n",
    "from pathlib import Path\n",
    "from ezc3d import c3d\n",
    "from pprint import pprint\n",
    "from tqdm import tqdm\n",
    "import pandas as pd\n",
    "import json"
   ]
  },
  {
   "cell_type": "code",
   "execution_count": 2,
   "metadata": {},
   "outputs": [],
   "source": [
    "data_path = Path('/Users/wcz/Beanflows/All_Beans/swift4tf/language2motion.gt/data/')"
   ]
  },
  {
   "cell_type": "code",
   "execution_count": 3,
   "metadata": {},
   "outputs": [],
   "source": [
    "c3d_folder_path = data_path/'2017-06-22 c3d/'\n",
    "out_folder_path = data_path/'motion-viewer/'\n",
    "meta_folder_path = data_path/'2017-06-22 meta/'"
   ]
  },
  {
   "cell_type": "raw",
   "metadata": {},
   "source": [
    "def different_label_list(c3d_obj) -> (bool, int):\n",
    "    labels = c3d_obj['parameters']['POINT']['LABELS']['value']\n",
    "    num_labels = len(labels)\n",
    "    diff = not num_labels in [53, 54]\n",
    "    return diff, num_labels"
   ]
  },
  {
   "cell_type": "code",
   "execution_count": 4,
   "metadata": {},
   "outputs": [],
   "source": [
    "def get_markers(c3d_obj) -> [str]:\n",
    "    markers = c3d_obj['parameters']['POINT']['LABELS']['value']\n",
    "    return markers"
   ]
  },
  {
   "cell_type": "code",
   "execution_count": 5,
   "metadata": {},
   "outputs": [],
   "source": [
    "def get_points_metadata(c3d_obj) -> [str]:\n",
    "    points = c3d_obj['header']['points']\n",
    "    return points"
   ]
  },
  {
   "cell_type": "code",
   "execution_count": 6,
   "metadata": {},
   "outputs": [],
   "source": [
    "def get_marker_set(motion_num: int) -> str:\n",
    "    meta_path = meta_folder_path/f'{motion_num:05}_meta.json'\n",
    "    with open(str(meta_path)) as f:\n",
    "        meta_dict = json.load(f)\n",
    "    return meta_dict['source']['database']['identifier']"
   ]
  },
  {
   "cell_type": "code",
   "execution_count": 7,
   "metadata": {},
   "outputs": [],
   "source": [
    "# get all kit or cmu label names\n",
    "# from viewer.min.js\n",
    "marker_connections = {\n",
    "        \"kit\": {\n",
    "            \"LFHD\": [\"RFHD\", \"LBHD\"],\n",
    "            \"RBHD\": [\"RFHD\", \"LBHD\"],\n",
    "            \"C7\": [\"RFHD\", \"LBHD\", \"RBHD\", \"LFHD\", \"CLAV\", \"LSHO\", \"RSHO\"],\n",
    "            \"STRN\": [\"CLAV\", \"RASI\", \"LASI\"],\n",
    "            \"T10\": [\"LSHO\", \"RSHO\"],\n",
    "            \"L3\": [\"LPSI\", \"RPSI\", \"T10\"],\n",
    "            \"LUPA\": [\"LSHO\", \"LAEL\"],\n",
    "            \"LAEL\": [\"LFRA\"],\n",
    "            \"LFRA\": [\"LWTS\"],\n",
    "            \"LWPS\": [\"LHPS\", \"LWTS\"],\n",
    "            \"LHTS\": [\"LWTS\", \"LIFD\"],\n",
    "            \"LHPS\": [\"LIFD\"],\n",
    "            \"RUPA\": [\"RSHO\", \"RAEL\"],\n",
    "            \"RAEL\": [\"RFRA\"],\n",
    "            \"RFRA\": [\"RWTS\"],\n",
    "            \"RWPS\": [\"RHPS\", \"RWTS\"],\n",
    "            \"RHTS\": [\"RWTS\", \"RIFD\"],\n",
    "            \"RHPS\": [\"RIFD\"],\n",
    "            \"LHIP\": [\"LASI\", \"LPSI\"],\n",
    "            \"LTHI\": [\"LHIP\"],\n",
    "            \"LKNE\": [\"LTHI\", \"LTIP\"],\n",
    "            \"LHEE\": [\"LTIP\", \"LANK\", \"LMT1\"],\n",
    "            \"LMT5\": [\"LANK\", \"LTOE\"],\n",
    "            \"LMT1\": [\"LTOE\"],\n",
    "            \"RHIP\": [\"RASI\", \"RPSI\"],\n",
    "            \"RTHI\": [\"RHIP\"],\n",
    "            \"RKNE\": [\"RTHI\", \"RTIP\"],\n",
    "            \"RHEE\": [\"RTIP\", \"RANK\", \"RMT1\"],\n",
    "            \"RMT5\": [\"RANK\", \"RTOE\"],\n",
    "            \"RMT1\": [\"RTOE\"]\n",
    "        },\n",
    "        \"cmu\": {\n",
    "            \"LFHD\": [\"RFHD\", \"LBHD\"],\n",
    "            \"RBHD\": [\"RFHD\", \"LBHD\"],\n",
    "            \"C7\": [\"RFHD\", \"LBHD\", \"RBHD\", \"LFHD\", \"CLAV\", \"LSHO\", \"RSHO\"],\n",
    "            \"STRN\": [\"CLAV\", \"RFWT\", \"LFWT\"],\n",
    "            \"T10\": [\"LSHO\", \"RSHO\", \"LBWT\", \"RBWT\"],\n",
    "            \"LBWT\": [\"RBWT\"],\n",
    "            \"LUPA\": [\"LSHO\", \"LELB\"],\n",
    "            \"LELB\": [\"LFRM\"],\n",
    "            \"LFRM\": [\"LWRA\", \"LWRB\"],\n",
    "            \"LFIN\": [\"LWRA\", \"LWRB\"],\n",
    "            \"RUPA\": [\"RSHO\", \"RELB\"],\n",
    "            \"RELB\": [\"RFRM\"],\n",
    "            \"RFRM\": [\"RWRA\", \"RWRB\"],\n",
    "            \"RFIN\": [\"RWRA\", \"RWRB\"],\n",
    "            \"LTHI\": [\"LFWT\", \"LBWT\"],\n",
    "            \"LKNE\": [\"LTHI\", \"LSHN\"],\n",
    "            \"LHEE\": [\"LSHN\", \"LANK\"],\n",
    "            \"LMT5\": [\"LANK\", \"LTOE\"],\n",
    "            \"LANK\": [\"LTOE\"],\n",
    "            \"RTHI\": [\"RFWT\", \"RBWT\"],\n",
    "            \"RKNE\": [\"RTHI\", \"RSHN\"],\n",
    "            \"RHEE\": [\"RSHN\", \"RANK\"],\n",
    "            \"RMT5\": [\"RANK\", \"RTOE\"],\n",
    "            \"RANK\": [\"RTOE\"]\n",
    "        }\n",
    "    }\n",
    "\n",
    "flatten = lambda l: [item for sublist in l for item in sublist]\n",
    "# marker_set_labels = {m_set: set(flatten(marker_connections[m_set].values())) for m_set in ['kit', 'cmu']}\n",
    "marker_set_labels = {m_set: set(flatten(marker_connections[m_set].values())).union(set(marker_connections[m_set].keys())) for m_set in ['kit', 'cmu']}\n",
    "\n",
    "def get_label(raw_label) -> str:\n",
    "    comps = raw_label.split(':')\n",
    "    return comps[1] if len(comps)==2 else comps[0]        \n",
    "\n",
    "def get_good_labels(raw_labels: [str], marker_set: str) -> [str]:\n",
    "    labels = [get_label(l) for l in raw_labels]\n",
    "    good_labels = [l for l in labels if l in marker_set_labels[marker_set]]\n",
    "    return good_labels"
   ]
  },
  {
   "cell_type": "code",
   "execution_count": 115,
   "metadata": {},
   "outputs": [],
   "source": [
    "def c3d2json(c3d_obj, motion_num: int) -> str:\n",
    "    # compute interval\n",
    "    points_metadata = get_points_metadata(c3d_obj)\n",
    "    frame_rate = points_metadata['frame_rate']\n",
    "    interval = int(1000/frame_rate)\n",
    "    \n",
    "    # get marker_set\n",
    "    marker_set = get_marker_set(motion_num)\n",
    "    \n",
    "    # find mapping\n",
    "    raw_labels = c3d_obj['parameters']['POINT']['LABELS']['value']\n",
    "    raw_labels_clean = [get_label(l) for l in raw_labels]\n",
    "    good_labels = get_good_labels(raw_labels, marker_set)\n",
    "    good_label_idxs = [raw_labels_clean.index(l) for l in good_labels]\n",
    "    \n",
    "    # get points\n",
    "    points = c3d_obj.c3d_swig.get_points()\n",
    "\n",
    "\n",
    "    # transpose 2, 53, 3\n",
    "    points3 = np.transpose(points[:3,:,0:], (2, 1, 0))\n",
    "\n",
    "    # identify and remove 4 unconnected points\n",
    "    good_points_mask = [idx in good_label_idxs for idx in range(points3.shape[1])]\n",
    "    good_points = points3[:,good_points_mask,:]\n",
    "\n",
    "    # reshape to 2, 53*3 and divide by 100, and round to 4 decimal places\n",
    "    frames = (np.reshape(good_points, (good_points.shape[0], good_points.shape[1]*3))/100).round(4)\n",
    "\n",
    "    # fill NaNs with column means\n",
    "    col_mean = np.nanmean(frames, axis=0).round(4)\n",
    "    inds = np.where(np.isnan(frames))\n",
    "    frames[inds] = np.take(col_mean, inds[1])\n",
    "\n",
    "    # format json\n",
    "    frames_list = frames[:, :].tolist()\n",
    "\n",
    "    json_out = {\n",
    "        'interval': interval,\n",
    "        'marker_set': marker_set,\n",
    "        'markers': good_labels,\n",
    "        'frames': frames_list\n",
    "    }\n",
    "    json_str = json.dumps(json_out) #, indent=3)\n",
    "    return json_str"
   ]
  },
  {
   "cell_type": "markdown",
   "metadata": {},
   "source": [
    "# save chosen metadata for all c3d files"
   ]
  },
  {
   "cell_type": "code",
   "execution_count": null,
   "metadata": {},
   "outputs": [],
   "source": [
    "all_metadata = []\n",
    "for i in tqdm(range(1, 4000)):\n",
    "    c3d_path = c3d_folder_path/f'{i:05}_raw.c3d'\n",
    "    if c3d_path.exists():\n",
    "        # print(i, c3d_path.name, c3d_path.exists())\n",
    "        c3d_obj = c3d(str(c3d_path))\n",
    "        markers = get_markers(c3d_obj)\n",
    "        # print(i, len(markers))\n",
    "        d1 = {'sample_id': i, 'num_markers': len(markers), 'markers': markers}\n",
    "        d2 = get_points_metadata(c3d_obj)\n",
    "        z = {**d1, **d2}\n",
    "        all_metadata.append(z)\n",
    "print(len(all_metadata))\n",
    "# pprint(all_metadata[:1])"
   ]
  },
  {
   "cell_type": "code",
   "execution_count": 28,
   "metadata": {},
   "outputs": [],
   "source": [
    "df = pd.DataFrame(all_metadata)"
   ]
  },
  {
   "cell_type": "code",
   "execution_count": 29,
   "metadata": {},
   "outputs": [],
   "source": [
    "df.to_csv(data_path/'motion-viewer-info'/'c3d_metadata.csv', index=None)"
   ]
  },
  {
   "cell_type": "markdown",
   "metadata": {},
   "source": [
    "# view one c3d file metadata"
   ]
  },
  {
   "cell_type": "code",
   "execution_count": 35,
   "metadata": {},
   "outputs": [],
   "source": [
    "i = 37\n",
    "c3d_path = c3d_folder_path/f'{i:05}_raw.c3d'\n",
    "c3d_obj = c3d(str(c3d_path))"
   ]
  },
  {
   "cell_type": "code",
   "execution_count": 36,
   "metadata": {},
   "outputs": [
    {
     "data": {
      "text/plain": [
       "dict_keys(['header', 'parameters', 'data'])"
      ]
     },
     "execution_count": 36,
     "metadata": {},
     "output_type": "execute_result"
    }
   ],
   "source": [
    "c3d_obj.keys()"
   ]
  },
  {
   "cell_type": "code",
   "execution_count": 37,
   "metadata": {},
   "outputs": [
    {
     "data": {
      "text/plain": [
       "dict_keys(['points', 'meta_points', 'analogs'])"
      ]
     },
     "execution_count": 37,
     "metadata": {},
     "output_type": "execute_result"
    }
   ],
   "source": [
    "c3d_obj['data'].keys()"
   ]
  },
  {
   "cell_type": "code",
   "execution_count": 38,
   "metadata": {},
   "outputs": [
    {
     "data": {
      "text/plain": [
       "dict_keys(['TRIAL', 'SUBJECTS', 'POINT', 'ANALOG', 'FORCE_PLATFORM', 'EVENT_CONTEXT', 'EVENT', 'MANUFACTURER', 'ANALYSIS'])"
      ]
     },
     "execution_count": 38,
     "metadata": {},
     "output_type": "execute_result"
    }
   ],
   "source": [
    "c3d_obj['parameters'].keys()"
   ]
  },
  {
   "cell_type": "code",
   "execution_count": 39,
   "metadata": {},
   "outputs": [
    {
     "name": "stdout",
     "output_type": "stream",
     "text": [
      "<ezc3d.c3d.Parameter object at 0x7fbe78ad49a0>\n"
     ]
    }
   ],
   "source": [
    "print(c3d_obj['parameters'])"
   ]
  },
  {
   "cell_type": "code",
   "execution_count": 40,
   "metadata": {},
   "outputs": [
    {
     "data": {
      "text/plain": [
       "{'size': 53, 'frame_rate': 100.0, 'first_frame': 0, 'last_frame': 777}"
      ]
     },
     "execution_count": 40,
     "metadata": {},
     "output_type": "execute_result"
    }
   ],
   "source": [
    "get_points_metadata(c3d_obj)"
   ]
  },
  {
   "cell_type": "code",
   "execution_count": null,
   "metadata": {},
   "outputs": [],
   "source": [
    "c = c3d_obj\n",
    "\n",
    "def get_params(c, level=1):\n",
    "    for key in c.keys():\n",
    "        value = c[key]\n",
    "        print(''.join(['    ']*level), key, value)\n",
    "        if hasattr(value, 'keys'):\n",
    "            e = get_params(value, level=level+1)\n",
    "    return None\n",
    "    \n",
    "get_params(c3d_obj)"
   ]
  },
  {
   "cell_type": "markdown",
   "metadata": {},
   "source": [
    "# convert one motion"
   ]
  },
  {
   "cell_type": "code",
   "execution_count": null,
   "metadata": {},
   "outputs": [],
   "source": [
    "# + convert interval\n",
    "# + get marker_set\n",
    "# + cleanup label names\n",
    "# + filter label names\n",
    "# + filter points according to marker_set"
   ]
  },
  {
   "cell_type": "raw",
   "metadata": {},
   "source": [
    "get_marker_set(22)"
   ]
  },
  {
   "cell_type": "code",
   "execution_count": 88,
   "metadata": {},
   "outputs": [],
   "source": [
    "motion_num = 1546\n",
    "c3d_path = c3d_folder_path/f'{motion_num:05}_raw.c3d'\n",
    "c3d_obj = c3d(str(c3d_path))"
   ]
  },
  {
   "cell_type": "code",
   "execution_count": 89,
   "metadata": {},
   "outputs": [
    {
     "data": {
      "text/plain": [
       "(54,\n",
       " ['Slope:Merker1',\n",
       "  'Slope:Marker2',\n",
       "  'Slope:Marker3',\n",
       "  'Slope:Marker4',\n",
       "  'Slope:Marker5'])"
      ]
     },
     "execution_count": 89,
     "metadata": {},
     "output_type": "execute_result"
    }
   ],
   "source": [
    "raw_labels = c3d_obj['parameters']['POINT']['LABELS']['value']\n",
    "len(raw_labels), raw_labels[:5]"
   ]
  },
  {
   "cell_type": "code",
   "execution_count": 90,
   "metadata": {},
   "outputs": [],
   "source": [
    "# + cleanup label names"
   ]
  },
  {
   "cell_type": "raw",
   "metadata": {},
   "source": [
    "raw_labels[:]"
   ]
  },
  {
   "cell_type": "code",
   "execution_count": null,
   "metadata": {},
   "outputs": [],
   "source": []
  },
  {
   "cell_type": "code",
   "execution_count": 91,
   "metadata": {},
   "outputs": [
    {
     "data": {
      "text/plain": [
       "'kit'"
      ]
     },
     "execution_count": 91,
     "metadata": {},
     "output_type": "execute_result"
    }
   ],
   "source": [
    "# get marker_set\n",
    "marker_set = get_marker_set(motion_num)\n",
    "marker_set"
   ]
  },
  {
   "cell_type": "code",
   "execution_count": 92,
   "metadata": {},
   "outputs": [
    {
     "data": {
      "text/plain": [
       "(45, ['RPSI', 'LPSI', 'L3', 'STRN', 'T10'])"
      ]
     },
     "execution_count": 92,
     "metadata": {},
     "output_type": "execute_result"
    }
   ],
   "source": [
    "good_labels = get_good_labels(raw_labels, marker_set)\n",
    "len(good_labels), good_labels[:5]"
   ]
  },
  {
   "cell_type": "code",
   "execution_count": 93,
   "metadata": {},
   "outputs": [],
   "source": [
    "raw_labels_clean = [get_label(l) for l in raw_labels]"
   ]
  },
  {
   "cell_type": "code",
   "execution_count": 94,
   "metadata": {},
   "outputs": [
    {
     "data": {
      "text/plain": [
       "(45, [8, 9, 10])"
      ]
     },
     "execution_count": 94,
     "metadata": {},
     "output_type": "execute_result"
    }
   ],
   "source": [
    "good_label_idxs = [raw_labels_clean.index(l) for l in good_labels]\n",
    "len(good_label_idxs), good_label_idxs[:3]"
   ]
  },
  {
   "cell_type": "code",
   "execution_count": null,
   "metadata": {},
   "outputs": [],
   "source": []
  },
  {
   "cell_type": "code",
   "execution_count": 95,
   "metadata": {},
   "outputs": [
    {
     "data": {
      "text/plain": [
       "(4, 54, 607)"
      ]
     },
     "execution_count": 95,
     "metadata": {},
     "output_type": "execute_result"
    }
   ],
   "source": [
    "# get points\n",
    "points = c3d_obj.c3d_swig.get_points()\n",
    "points.shape"
   ]
  },
  {
   "cell_type": "code",
   "execution_count": null,
   "metadata": {},
   "outputs": [],
   "source": []
  },
  {
   "cell_type": "code",
   "execution_count": 96,
   "metadata": {},
   "outputs": [],
   "source": [
    "# find mapping\n",
    "\n",
    "# transpose 2, 53, 3\n",
    "points3 = np.transpose(points[:3,:,0:], (2, 1, 0))\n",
    "\n",
    "# identify and remove 4 unconnected points\n",
    "good_points_mask = [idx in good_label_idxs for idx in range(points3.shape[1])]\n",
    "good_points = points3[:,good_points_mask,:]\n",
    "\n",
    "# reshape to 2, 53*3 and divide by 100, and round to 4 decimal places\n",
    "frames = (np.reshape(good_points, (good_points.shape[0], good_points.shape[1]*3))/100).round(4)\n",
    "\n",
    "# format json\n",
    "# frames_list = frames[:, :].tolist()"
   ]
  },
  {
   "cell_type": "markdown",
   "metadata": {},
   "source": [
    "# fill nans with means"
   ]
  },
  {
   "cell_type": "code",
   "execution_count": 97,
   "metadata": {},
   "outputs": [
    {
     "data": {
      "text/plain": [
       "(607, 135)"
      ]
     },
     "execution_count": 97,
     "metadata": {},
     "output_type": "execute_result"
    }
   ],
   "source": [
    "frames.shape"
   ]
  },
  {
   "cell_type": "raw",
   "metadata": {},
   "source": [
    "frames"
   ]
  },
  {
   "cell_type": "code",
   "execution_count": null,
   "metadata": {},
   "outputs": [],
   "source": [
    "col_mean = np.nanmean(frames, axis=1).round(4)\n",
    "# col_mean"
   ]
  },
  {
   "cell_type": "code",
   "execution_count": null,
   "metadata": {},
   "outputs": [],
   "source": [
    "inds = np.where(np.isnan(frames))\n",
    "# inds"
   ]
  },
  {
   "cell_type": "raw",
   "metadata": {},
   "source": [
    "np.take(col_mean, inds[0])"
   ]
  },
  {
   "cell_type": "code",
   "execution_count": 107,
   "metadata": {},
   "outputs": [],
   "source": [
    "frames[inds] = np.take(col_mean, inds[1])"
   ]
  },
  {
   "cell_type": "code",
   "execution_count": 108,
   "metadata": {},
   "outputs": [],
   "source": [
    "# format json\n",
    "frames_list = frames[:, :].tolist()"
   ]
  },
  {
   "cell_type": "raw",
   "metadata": {},
   "source": [
    "frames_list[0:2]"
   ]
  },
  {
   "cell_type": "markdown",
   "metadata": {},
   "source": [
    "# convert all"
   ]
  },
  {
   "cell_type": "code",
   "execution_count": 117,
   "metadata": {},
   "outputs": [
    {
     "name": "stderr",
     "output_type": "stream",
     "text": [
      "100%|██████████| 3999/3999 [08:30<00:00,  7.83it/s]  \n"
     ]
    }
   ],
   "source": [
    "for i in tqdm(range(1, 4000)):\n",
    "    c3d_path = c3d_folder_path/f'{i:05}_raw.c3d'\n",
    "    if c3d_path.exists():\n",
    "        # print(i, c3d_path.name, c3d_path.exists())\n",
    "        c3d_obj = c3d(str(c3d_path))\n",
    "        json_str = c3d2json(c3d_obj, motion_num=i)\n",
    "        out_path = out_folder_path/f'{i:05}_raw.json'\n",
    "        out_path.write_text(json_str)"
   ]
  },
  {
   "cell_type": "code",
   "execution_count": null,
   "metadata": {},
   "outputs": [],
   "source": []
  }
 ],
 "metadata": {
  "kernelspec": {
   "display_name": "Python 3",
   "language": "python",
   "name": "python3"
  },
  "language_info": {
   "codemirror_mode": {
    "name": "ipython",
    "version": 3
   },
   "file_extension": ".py",
   "mimetype": "text/x-python",
   "name": "python",
   "nbconvert_exporter": "python",
   "pygments_lexer": "ipython3",
   "version": "3.8.3"
  }
 },
 "nbformat": 4,
 "nbformat_minor": 4
}
