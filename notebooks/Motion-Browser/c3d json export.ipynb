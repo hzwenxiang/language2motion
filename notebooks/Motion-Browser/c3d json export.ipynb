{
 "cells": [
  {
   "cell_type": "code",
   "execution_count": 30,
   "metadata": {},
   "outputs": [],
   "source": [
    "import numpy as np\n",
    "import json\n",
    "from pathlib import Path\n",
    "from ezc3d import c3d\n",
    "from pprint import pprint\n",
    "from tqdm import tqdm\n",
    "import pandas as pd\n",
    "import json"
   ]
  },
  {
   "cell_type": "code",
   "execution_count": 31,
   "metadata": {},
   "outputs": [],
   "source": [
    "data_path = Path('/Users/wcz/Beanflows/All_Beans/swift4tf/language2motion.gt/data/')"
   ]
  },
  {
   "cell_type": "code",
   "execution_count": 37,
   "metadata": {},
   "outputs": [],
   "source": [
    "c3d_folder_path = data_path/'2017-06-22 c3d/'\n",
    "out_folder_path = data_path/'motion-viewer/'\n",
    "meta_folder_path = data_path/'2017-06-22 meta/'"
   ]
  },
  {
   "cell_type": "raw",
   "metadata": {},
   "source": [
    "def different_label_list(c3d_obj) -> (bool, int):\n",
    "    labels = c3d_obj['parameters']['POINT']['LABELS']['value']\n",
    "    num_labels = len(labels)\n",
    "    diff = not num_labels in [53, 54]\n",
    "    return diff, num_labels"
   ]
  },
  {
   "cell_type": "code",
   "execution_count": 34,
   "metadata": {},
   "outputs": [],
   "source": [
    "def get_markers(c3d_obj) -> [str]:\n",
    "    markers = c3d_obj['parameters']['POINT']['LABELS']['value']\n",
    "    return markers"
   ]
  },
  {
   "cell_type": "code",
   "execution_count": 35,
   "metadata": {},
   "outputs": [],
   "source": [
    "def get_points_metadata(c3d_obj) -> [str]:\n",
    "    points = c3d_obj['header']['points']\n",
    "    return points"
   ]
  },
  {
   "cell_type": "code",
   "execution_count": 39,
   "metadata": {},
   "outputs": [],
   "source": [
    "def get_marker_set(motion_num: int) -> str:\n",
    "    meta_path = meta_folder_path/f'{motion_num:05}_meta.json'\n",
    "    with open(str(meta_path)) as f:\n",
    "        meta_dict = json.load(f)\n",
    "    return meta_dict['source']['database']['identifier']"
   ]
  },
  {
   "cell_type": "code",
   "execution_count": 182,
   "metadata": {},
   "outputs": [],
   "source": [
    "# get all kit or cmu label names\n",
    "# from viewer.min.js\n",
    "marker_connections = {\n",
    "        \"kit\": {\n",
    "            \"LFHD\": [\"RFHD\", \"LBHD\"],\n",
    "            \"RBHD\": [\"RFHD\", \"LBHD\"],\n",
    "            \"C7\": [\"RFHD\", \"LBHD\", \"RBHD\", \"LFHD\", \"CLAV\", \"LSHO\", \"RSHO\"],\n",
    "            \"STRN\": [\"CLAV\", \"RASI\", \"LASI\"],\n",
    "            \"T10\": [\"LSHO\", \"RSHO\"],\n",
    "            \"L3\": [\"LPSI\", \"RPSI\", \"T10\"],\n",
    "            \"LUPA\": [\"LSHO\", \"LAEL\"],\n",
    "            \"LAEL\": [\"LFRA\"],\n",
    "            \"LFRA\": [\"LWTS\"],\n",
    "            \"LWPS\": [\"LHPS\", \"LWTS\"],\n",
    "            \"LHTS\": [\"LWTS\", \"LIFD\"],\n",
    "            \"LHPS\": [\"LIFD\"],\n",
    "            \"RUPA\": [\"RSHO\", \"RAEL\"],\n",
    "            \"RAEL\": [\"RFRA\"],\n",
    "            \"RFRA\": [\"RWTS\"],\n",
    "            \"RWPS\": [\"RHPS\", \"RWTS\"],\n",
    "            \"RHTS\": [\"RWTS\", \"RIFD\"],\n",
    "            \"RHPS\": [\"RIFD\"],\n",
    "            \"LHIP\": [\"LASI\", \"LPSI\"],\n",
    "            \"LTHI\": [\"LHIP\"],\n",
    "            \"LKNE\": [\"LTHI\", \"LTIP\"],\n",
    "            \"LHEE\": [\"LTIP\", \"LANK\", \"LMT1\"],\n",
    "            \"LMT5\": [\"LANK\", \"LTOE\"],\n",
    "            \"LMT1\": [\"LTOE\"],\n",
    "            \"RHIP\": [\"RASI\", \"RPSI\"],\n",
    "            \"RTHI\": [\"RHIP\"],\n",
    "            \"RKNE\": [\"RTHI\", \"RTIP\"],\n",
    "            \"RHEE\": [\"RTIP\", \"RANK\", \"RMT1\"],\n",
    "            \"RMT5\": [\"RANK\", \"RTOE\"],\n",
    "            \"RMT1\": [\"RTOE\"]\n",
    "        },\n",
    "        \"cmu\": {\n",
    "            \"LFHD\": [\"RFHD\", \"LBHD\"],\n",
    "            \"RBHD\": [\"RFHD\", \"LBHD\"],\n",
    "            \"C7\": [\"RFHD\", \"LBHD\", \"RBHD\", \"LFHD\", \"CLAV\", \"LSHO\", \"RSHO\"],\n",
    "            \"STRN\": [\"CLAV\", \"RFWT\", \"LFWT\"],\n",
    "            \"T10\": [\"LSHO\", \"RSHO\", \"LBWT\", \"RBWT\"],\n",
    "            \"LBWT\": [\"RBWT\"],\n",
    "            \"LUPA\": [\"LSHO\", \"LELB\"],\n",
    "            \"LELB\": [\"LFRM\"],\n",
    "            \"LFRM\": [\"LWRA\", \"LWRB\"],\n",
    "            \"LFIN\": [\"LWRA\", \"LWRB\"],\n",
    "            \"RUPA\": [\"RSHO\", \"RELB\"],\n",
    "            \"RELB\": [\"RFRM\"],\n",
    "            \"RFRM\": [\"RWRA\", \"RWRB\"],\n",
    "            \"RFIN\": [\"RWRA\", \"RWRB\"],\n",
    "            \"LTHI\": [\"LFWT\", \"LBWT\"],\n",
    "            \"LKNE\": [\"LTHI\", \"LSHN\"],\n",
    "            \"LHEE\": [\"LSHN\", \"LANK\"],\n",
    "            \"LMT5\": [\"LANK\", \"LTOE\"],\n",
    "            \"LANK\": [\"LTOE\"],\n",
    "            \"RTHI\": [\"RFWT\", \"RBWT\"],\n",
    "            \"RKNE\": [\"RTHI\", \"RSHN\"],\n",
    "            \"RHEE\": [\"RSHN\", \"RANK\"],\n",
    "            \"RMT5\": [\"RANK\", \"RTOE\"],\n",
    "            \"RANK\": [\"RTOE\"]\n",
    "        }\n",
    "    }\n",
    "\n",
    "flatten = lambda l: [item for sublist in l for item in sublist]\n",
    "# marker_set_labels = {m_set: set(flatten(marker_connections[m_set].values())) for m_set in ['kit', 'cmu']}\n",
    "marker_set_labels = {m_set: set(flatten(marker_connections[m_set].values())).union(set(marker_connections[m_set].keys())) for m_set in ['kit', 'cmu']}\n",
    "\n",
    "def get_label(raw_label) -> str:\n",
    "    comps = raw_label.split(':')\n",
    "    return comps[1] if len(comps)==2 else comps[0]        \n",
    "\n",
    "def get_good_labels(raw_labels: [str], marker_set: str) -> [str]:\n",
    "    labels = [get_label(l) for l in raw_labels]\n",
    "    good_labels = [l for l in labels if l in marker_set_labels[marker_set]]\n",
    "    return good_labels"
   ]
  },
  {
   "cell_type": "code",
   "execution_count": 148,
   "metadata": {},
   "outputs": [],
   "source": [
    "def c3d2json(c3d_obj, motion_num: int) -> str:\n",
    "    # compute interval\n",
    "    points_metadata = get_points_metadata(c3d_obj)\n",
    "    frame_rate = points_metadata['frame_rate']\n",
    "    interval = int(1000/frame_rate)\n",
    "    \n",
    "    # get marker_set\n",
    "    marker_set = get_marker_set(motion_num)\n",
    "    \n",
    "    # find mapping\n",
    "    raw_labels = c3d_obj['parameters']['POINT']['LABELS']['value']\n",
    "    raw_labels_clean = [get_label(l) for l in raw_labels]\n",
    "    good_labels = get_good_labels(raw_labels, marker_set)\n",
    "    good_label_idxs = [raw_labels_clean.index(l) for l in good_labels]\n",
    "    \n",
    "    # get points\n",
    "    points = c3d_obj.c3d_swig.get_points()\n",
    "\n",
    "\n",
    "    # transpose 2, 53, 3\n",
    "    points3 = np.transpose(points[:3,:53,0:], (2, 1, 0))\n",
    "\n",
    "    # identify and remove 4 unconnected points\n",
    "    good_points_mask = [idx in good_label_idxs for idx in range(points3.shape[1])]\n",
    "    good_points = points3[:,good_points_mask,:]\n",
    "\n",
    "    # reshape to 2, 53*3 and divide by 100, and round to 4 decimal places\n",
    "    frames = (np.reshape(good_points, (good_points.shape[0], good_points.shape[1]*3))/100).round(4)\n",
    "\n",
    "    # format json\n",
    "    frames_list = frames[:, :].tolist()\n",
    "\n",
    "    json_out = {\n",
    "        'interval': interval,\n",
    "        'marker_set': marker_set,\n",
    "        'markers': good_labels,\n",
    "        'frames': frames_list\n",
    "    }\n",
    "    json_str = json.dumps(json_out) #, indent=3)\n",
    "    return json_str"
   ]
  },
  {
   "cell_type": "markdown",
   "metadata": {},
   "source": [
    "# save chosen metadata for all c3d files"
   ]
  },
  {
   "cell_type": "code",
   "execution_count": null,
   "metadata": {},
   "outputs": [],
   "source": [
    "all_metadata = []\n",
    "for i in tqdm(range(1, 4000)):\n",
    "    c3d_path = c3d_folder_path/f'{i:05}_raw.c3d'\n",
    "    if c3d_path.exists():\n",
    "        # print(i, c3d_path.name, c3d_path.exists())\n",
    "        c3d_obj = c3d(str(c3d_path))\n",
    "        markers = get_markers(c3d_obj)\n",
    "        # print(i, len(markers))\n",
    "        d1 = {'sample_id': i, 'num_markers': len(markers), 'markers': markers}\n",
    "        d2 = get_points_metadata(c3d_obj)\n",
    "        z = {**d1, **d2}\n",
    "        all_metadata.append(z)\n",
    "print(len(all_metadata))\n",
    "# pprint(all_metadata[:1])"
   ]
  },
  {
   "cell_type": "code",
   "execution_count": 28,
   "metadata": {},
   "outputs": [],
   "source": [
    "df = pd.DataFrame(all_metadata)"
   ]
  },
  {
   "cell_type": "code",
   "execution_count": 29,
   "metadata": {},
   "outputs": [],
   "source": [
    "df.to_csv(data_path/'motion-viewer-info'/'c3d_metadata.csv', index=None)"
   ]
  },
  {
   "cell_type": "markdown",
   "metadata": {},
   "source": [
    "# view one c3d file metadata"
   ]
  },
  {
   "cell_type": "code",
   "execution_count": 151,
   "metadata": {},
   "outputs": [],
   "source": [
    "i = 19\n",
    "c3d_path = c3d_folder_path/f'{i:05}_raw.c3d'\n",
    "c3d_obj = c3d(str(c3d_path))"
   ]
  },
  {
   "cell_type": "code",
   "execution_count": 152,
   "metadata": {},
   "outputs": [
    {
     "data": {
      "text/plain": [
       "dict_keys(['header', 'parameters', 'data'])"
      ]
     },
     "execution_count": 152,
     "metadata": {},
     "output_type": "execute_result"
    }
   ],
   "source": [
    "c3d_obj.keys()"
   ]
  },
  {
   "cell_type": "code",
   "execution_count": 153,
   "metadata": {},
   "outputs": [
    {
     "data": {
      "text/plain": [
       "dict_keys(['points', 'meta_points', 'analogs'])"
      ]
     },
     "execution_count": 153,
     "metadata": {},
     "output_type": "execute_result"
    }
   ],
   "source": [
    "c3d_obj['data'].keys()"
   ]
  },
  {
   "cell_type": "code",
   "execution_count": 154,
   "metadata": {},
   "outputs": [
    {
     "data": {
      "text/plain": [
       "dict_keys(['TRIAL', 'SUBJECTS', 'POINT', 'ANALOG', 'FORCE_PLATFORM', 'EVENT_CONTEXT', 'EVENT', 'MANUFACTURER', 'ANALYSIS'])"
      ]
     },
     "execution_count": 154,
     "metadata": {},
     "output_type": "execute_result"
    }
   ],
   "source": [
    "c3d_obj['parameters'].keys()"
   ]
  },
  {
   "cell_type": "code",
   "execution_count": 155,
   "metadata": {},
   "outputs": [
    {
     "name": "stdout",
     "output_type": "stream",
     "text": [
      "<ezc3d.c3d.Parameter object at 0x7fac69626580>\n"
     ]
    }
   ],
   "source": [
    "print(c3d_obj['parameters'])"
   ]
  },
  {
   "cell_type": "code",
   "execution_count": 156,
   "metadata": {},
   "outputs": [
    {
     "data": {
      "text/plain": [
       "{'size': 53, 'frame_rate': 100.0, 'first_frame': 0, 'last_frame': 908}"
      ]
     },
     "execution_count": 156,
     "metadata": {},
     "output_type": "execute_result"
    }
   ],
   "source": [
    "get_points_metadata(c3d_obj)"
   ]
  },
  {
   "cell_type": "code",
   "execution_count": 16,
   "metadata": {
    "collapsed": true,
    "jupyter": {
     "outputs_hidden": true
    }
   },
   "outputs": [
    {
     "name": "stdout",
     "output_type": "stream",
     "text": [
      "     header <ezc3d.c3d.Header object at 0x7fac68ee6d60>\n",
      "         points {'size': 53, 'frame_rate': 100.0, 'first_frame': 0, 'last_frame': 908}\n",
      "             size 53\n",
      "             frame_rate 100.0\n",
      "             first_frame 0\n",
      "             last_frame 908\n",
      "         analogs {'size': 0, 'frame_rate': 0.0, 'first_frame': 0, 'last_frame': -1}\n",
      "             size 0\n",
      "             frame_rate 0.0\n",
      "             first_frame 0\n",
      "             last_frame -1\n",
      "         events {'size': 18, 'events_time': (0.0, 0.0, 0.0, 0.0, 0.0, 0.0, 0.0, 0.0, 0.0, 0.0, 0.0, 0.0, 0.0, 0.0, 0.0, 0.0, 0.0, 0.0), 'events_label': ('', '', '', '', '', '', '', '', '', '', '', '', '', '', '', '', '', '')}\n",
      "             size 18\n",
      "             events_time (0.0, 0.0, 0.0, 0.0, 0.0, 0.0, 0.0, 0.0, 0.0, 0.0, 0.0, 0.0, 0.0, 0.0, 0.0, 0.0, 0.0, 0.0)\n",
      "             events_label ('', '', '', '', '', '', '', '', '', '', '', '', '', '', '', '', '', '')\n",
      "     parameters <ezc3d.c3d.Parameter object at 0x7fac691067c0>\n",
      "         TRIAL {'__METADATA__': {'DESCRIPTION': '', 'IS_LOCKED': False}, 'ACTUAL_START_FIELD': {'type': 2, 'description': '', 'is_locked': False, 'value': array([1, 0])}, 'ACTUAL_END_FIELD': {'type': 2, 'description': '', 'is_locked': False, 'value': array([909,   0])}, 'CAMERA_RATE': {'type': 4, 'description': '', 'is_locked': False, 'value': array([100.])}, 'VIDEO_RATE_DIVIDER': {'type': 2, 'description': '', 'is_locked': False, 'value': array([1])}}\n",
      "             __METADATA__ {'DESCRIPTION': '', 'IS_LOCKED': False}\n",
      "                 DESCRIPTION \n",
      "                 IS_LOCKED False\n",
      "             ACTUAL_START_FIELD {'type': 2, 'description': '', 'is_locked': False, 'value': array([1, 0])}\n",
      "                 type 2\n",
      "                 description \n",
      "                 is_locked False\n",
      "                 value [1 0]\n",
      "             ACTUAL_END_FIELD {'type': 2, 'description': '', 'is_locked': False, 'value': array([909,   0])}\n",
      "                 type 2\n",
      "                 description \n",
      "                 is_locked False\n",
      "                 value [909   0]\n",
      "             CAMERA_RATE {'type': 4, 'description': '', 'is_locked': False, 'value': array([100.])}\n",
      "                 type 4\n",
      "                 description \n",
      "                 is_locked False\n",
      "                 value [100.]\n",
      "             VIDEO_RATE_DIVIDER {'type': 2, 'description': '', 'is_locked': False, 'value': array([1])}\n",
      "                 type 2\n",
      "                 description \n",
      "                 is_locked False\n",
      "                 value [1]\n",
      "         SUBJECTS {'__METADATA__': {'DESCRIPTION': '', 'IS_LOCKED': False}, 'USED': {'type': 2, 'description': '', 'is_locked': False, 'value': array([1])}, 'IS_STATIC': {'type': 2, 'description': '', 'is_locked': False, 'value': array([0])}, 'USES_PREFIXES': {'type': 2, 'description': '', 'is_locked': False, 'value': array([0])}, 'NAMES': {'type': -1, 'description': '', 'is_locked': False, 'value': ['subjX']}, 'MARKER_SETS': {'type': -1, 'description': '', 'is_locked': False, 'value': ['suitXXXXXXXXXX']}}\n",
      "             __METADATA__ {'DESCRIPTION': '', 'IS_LOCKED': False}\n",
      "                 DESCRIPTION \n",
      "                 IS_LOCKED False\n",
      "             USED {'type': 2, 'description': '', 'is_locked': False, 'value': array([1])}\n",
      "                 type 2\n",
      "                 description \n",
      "                 is_locked False\n",
      "                 value [1]\n",
      "             IS_STATIC {'type': 2, 'description': '', 'is_locked': False, 'value': array([0])}\n",
      "                 type 2\n",
      "                 description \n",
      "                 is_locked False\n",
      "                 value [0]\n",
      "             USES_PREFIXES {'type': 2, 'description': '', 'is_locked': False, 'value': array([0])}\n",
      "                 type 2\n",
      "                 description \n",
      "                 is_locked False\n",
      "                 value [0]\n",
      "             NAMES {'type': -1, 'description': '', 'is_locked': False, 'value': ['subjX']}\n",
      "                 type -1\n",
      "                 description \n",
      "                 is_locked False\n",
      "                 value ['subjX']\n",
      "             MARKER_SETS {'type': -1, 'description': '', 'is_locked': False, 'value': ['suitXXXXXXXXXX']}\n",
      "                 type -1\n",
      "                 description \n",
      "                 is_locked False\n",
      "                 value ['suitXXXXXXXXXX']\n",
      "         POINT {'__METADATA__': {'DESCRIPTION': '', 'IS_LOCKED': False}, 'USED': {'type': 2, 'description': '', 'is_locked': False, 'value': array([53])}, 'FRAMES': {'type': 2, 'description': '', 'is_locked': False, 'value': array([909])}, 'DATA_START': {'type': 2, 'description': '', 'is_locked': False, 'value': array([14])}, 'SCALE': {'type': 4, 'description': '', 'is_locked': False, 'value': array([-0.01])}, 'RATE': {'type': 4, 'description': '', 'is_locked': False, 'value': array([100.])}, 'MOVIE_DELAY': {'type': 4, 'description': '', 'is_locked': False, 'value': array([0., 0., 0., 0.])}, 'MOVIE_ID': {'type': -1, 'description': '', 'is_locked': False, 'value': ['51873403', '55480635', '59609439', '65652051']}, 'X_SCREEN': {'type': -1, 'description': '', 'is_locked': False, 'value': ['+X']}, 'Y_SCREEN': {'type': -1, 'description': '', 'is_locked': False, 'value': ['+Z']}, 'UNITS': {'type': -1, 'description': '', 'is_locked': False, 'value': ['mm']}, 'LABELS': {'type': -1, 'description': '', 'is_locked': False, 'value': ['RPSI', 'LPSI', 'L3', 'STRN', 'T10', 'C7', 'CLAV', 'RBAK', 'LBAK', 'LSHO', 'LUPA', 'LAEL', 'LAOL', 'LWTS', 'LWPS', 'LFRA', 'LIFD', 'LHPS', 'LHTS', 'RSHO', 'RUPA', 'RAEL', 'RAOL', 'RWTS', 'RWPS', 'RFRA', 'RIFD', 'RHTS', 'RHPS', 'RBHD', 'LFHD', 'RFHD', 'LBHD', 'LHIP', 'RHIP', 'RASI', 'LASI', 'LKNE', 'LTHI', 'LANK', 'LTIP', 'LTOE', 'LMT1', 'LMT5', 'LHEE', 'RKNE', 'RTHI', 'RANK', 'RTIP', 'RTOE', 'RMT1', 'RMT5', 'RHEE']}, 'DESCRIPTIONS': {'type': -1, 'description': '', 'is_locked': False, 'value': ['', '', '', '', '', '', '', '', '', '', '', '', '', '', '', '', '', '', '', '', '', '', '', '', '', '', '', '', '', '', '', '', '', '', '', '', '', '', '', '', '', '', '', '', '', '', '', '', '', '', '', '', '']}}\n",
      "             __METADATA__ {'DESCRIPTION': '', 'IS_LOCKED': False}\n",
      "                 DESCRIPTION \n",
      "                 IS_LOCKED False\n",
      "             USED {'type': 2, 'description': '', 'is_locked': False, 'value': array([53])}\n",
      "                 type 2\n",
      "                 description \n",
      "                 is_locked False\n",
      "                 value [53]\n",
      "             FRAMES {'type': 2, 'description': '', 'is_locked': False, 'value': array([909])}\n",
      "                 type 2\n",
      "                 description \n",
      "                 is_locked False\n",
      "                 value [909]\n",
      "             DATA_START {'type': 2, 'description': '', 'is_locked': False, 'value': array([14])}\n",
      "                 type 2\n",
      "                 description \n",
      "                 is_locked False\n",
      "                 value [14]\n",
      "             SCALE {'type': 4, 'description': '', 'is_locked': False, 'value': array([-0.01])}\n",
      "                 type 4\n",
      "                 description \n",
      "                 is_locked False\n",
      "                 value [-0.01]\n",
      "             RATE {'type': 4, 'description': '', 'is_locked': False, 'value': array([100.])}\n",
      "                 type 4\n",
      "                 description \n",
      "                 is_locked False\n",
      "                 value [100.]\n",
      "             MOVIE_DELAY {'type': 4, 'description': '', 'is_locked': False, 'value': array([0., 0., 0., 0.])}\n",
      "                 type 4\n",
      "                 description \n",
      "                 is_locked False\n",
      "                 value [0. 0. 0. 0.]\n",
      "             MOVIE_ID {'type': -1, 'description': '', 'is_locked': False, 'value': ['51873403', '55480635', '59609439', '65652051']}\n",
      "                 type -1\n",
      "                 description \n",
      "                 is_locked False\n",
      "                 value ['51873403', '55480635', '59609439', '65652051']\n",
      "             X_SCREEN {'type': -1, 'description': '', 'is_locked': False, 'value': ['+X']}\n",
      "                 type -1\n",
      "                 description \n",
      "                 is_locked False\n",
      "                 value ['+X']\n",
      "             Y_SCREEN {'type': -1, 'description': '', 'is_locked': False, 'value': ['+Z']}\n",
      "                 type -1\n",
      "                 description \n",
      "                 is_locked False\n",
      "                 value ['+Z']\n",
      "             UNITS {'type': -1, 'description': '', 'is_locked': False, 'value': ['mm']}\n",
      "                 type -1\n",
      "                 description \n",
      "                 is_locked False\n",
      "                 value ['mm']\n",
      "             LABELS {'type': -1, 'description': '', 'is_locked': False, 'value': ['RPSI', 'LPSI', 'L3', 'STRN', 'T10', 'C7', 'CLAV', 'RBAK', 'LBAK', 'LSHO', 'LUPA', 'LAEL', 'LAOL', 'LWTS', 'LWPS', 'LFRA', 'LIFD', 'LHPS', 'LHTS', 'RSHO', 'RUPA', 'RAEL', 'RAOL', 'RWTS', 'RWPS', 'RFRA', 'RIFD', 'RHTS', 'RHPS', 'RBHD', 'LFHD', 'RFHD', 'LBHD', 'LHIP', 'RHIP', 'RASI', 'LASI', 'LKNE', 'LTHI', 'LANK', 'LTIP', 'LTOE', 'LMT1', 'LMT5', 'LHEE', 'RKNE', 'RTHI', 'RANK', 'RTIP', 'RTOE', 'RMT1', 'RMT5', 'RHEE']}\n",
      "                 type -1\n",
      "                 description \n",
      "                 is_locked False\n",
      "                 value ['RPSI', 'LPSI', 'L3', 'STRN', 'T10', 'C7', 'CLAV', 'RBAK', 'LBAK', 'LSHO', 'LUPA', 'LAEL', 'LAOL', 'LWTS', 'LWPS', 'LFRA', 'LIFD', 'LHPS', 'LHTS', 'RSHO', 'RUPA', 'RAEL', 'RAOL', 'RWTS', 'RWPS', 'RFRA', 'RIFD', 'RHTS', 'RHPS', 'RBHD', 'LFHD', 'RFHD', 'LBHD', 'LHIP', 'RHIP', 'RASI', 'LASI', 'LKNE', 'LTHI', 'LANK', 'LTIP', 'LTOE', 'LMT1', 'LMT5', 'LHEE', 'RKNE', 'RTHI', 'RANK', 'RTIP', 'RTOE', 'RMT1', 'RMT5', 'RHEE']\n",
      "             DESCRIPTIONS {'type': -1, 'description': '', 'is_locked': False, 'value': ['', '', '', '', '', '', '', '', '', '', '', '', '', '', '', '', '', '', '', '', '', '', '', '', '', '', '', '', '', '', '', '', '', '', '', '', '', '', '', '', '', '', '', '', '', '', '', '', '', '', '', '', '']}\n",
      "                 type -1\n",
      "                 description \n",
      "                 is_locked False\n",
      "                 value ['', '', '', '', '', '', '', '', '', '', '', '', '', '', '', '', '', '', '', '', '', '', '', '', '', '', '', '', '', '', '', '', '', '', '', '', '', '', '', '', '', '', '', '', '', '', '', '', '', '', '', '', '']\n",
      "         ANALOG {'__METADATA__': {'DESCRIPTION': '', 'IS_LOCKED': False}, 'GEN_SCALE': {'type': 4, 'description': '', 'is_locked': False, 'value': array([1.])}, 'RATE': {'type': 4, 'description': '', 'is_locked': False, 'value': array([0.])}, 'USED': {'type': 2, 'description': '', 'is_locked': False, 'value': array([0])}, 'GAIN': {'type': 2, 'description': '', 'is_locked': False, 'value': array([], dtype=int64)}, 'SCALE': {'type': 4, 'description': '', 'is_locked': False, 'value': array([], dtype=float64)}, 'OFFSET': {'type': 2, 'description': '', 'is_locked': False, 'value': array([], dtype=int64)}, 'UNITS': {'type': -1, 'description': '', 'is_locked': False, 'value': []}, 'LABELS': {'type': -1, 'description': '', 'is_locked': False, 'value': []}, 'DESCRIPTIONS': {'type': -1, 'description': '', 'is_locked': False, 'value': []}, 'FORMAT': {'type': -1, 'description': '', 'is_locked': False, 'value': []}, 'BITS': {'type': 2, 'description': '', 'is_locked': False, 'value': array([], dtype=int64)}}\n",
      "             __METADATA__ {'DESCRIPTION': '', 'IS_LOCKED': False}\n",
      "                 DESCRIPTION \n",
      "                 IS_LOCKED False\n",
      "             GEN_SCALE {'type': 4, 'description': '', 'is_locked': False, 'value': array([1.])}\n",
      "                 type 4\n",
      "                 description \n",
      "                 is_locked False\n",
      "                 value [1.]\n",
      "             RATE {'type': 4, 'description': '', 'is_locked': False, 'value': array([0.])}\n",
      "                 type 4\n",
      "                 description \n",
      "                 is_locked False\n",
      "                 value [0.]\n",
      "             USED {'type': 2, 'description': '', 'is_locked': False, 'value': array([0])}\n",
      "                 type 2\n",
      "                 description \n",
      "                 is_locked False\n",
      "                 value [0]\n",
      "             GAIN {'type': 2, 'description': '', 'is_locked': False, 'value': array([], dtype=int64)}\n",
      "                 type 2\n",
      "                 description \n",
      "                 is_locked False\n",
      "                 value []\n",
      "             SCALE {'type': 4, 'description': '', 'is_locked': False, 'value': array([], dtype=float64)}\n",
      "                 type 4\n",
      "                 description \n",
      "                 is_locked False\n",
      "                 value []\n",
      "             OFFSET {'type': 2, 'description': '', 'is_locked': False, 'value': array([], dtype=int64)}\n",
      "                 type 2\n",
      "                 description \n",
      "                 is_locked False\n",
      "                 value []\n",
      "             UNITS {'type': -1, 'description': '', 'is_locked': False, 'value': []}\n",
      "                 type -1\n",
      "                 description \n",
      "                 is_locked False\n",
      "                 value []\n",
      "             LABELS {'type': -1, 'description': '', 'is_locked': False, 'value': []}\n",
      "                 type -1\n",
      "                 description \n",
      "                 is_locked False\n",
      "                 value []\n",
      "             DESCRIPTIONS {'type': -1, 'description': '', 'is_locked': False, 'value': []}\n",
      "                 type -1\n",
      "                 description \n",
      "                 is_locked False\n",
      "                 value []\n",
      "             FORMAT {'type': -1, 'description': '', 'is_locked': False, 'value': []}\n",
      "                 type -1\n",
      "                 description \n",
      "                 is_locked False\n",
      "                 value []\n",
      "             BITS {'type': 2, 'description': '', 'is_locked': False, 'value': array([], dtype=int64)}\n",
      "                 type 2\n",
      "                 description \n",
      "                 is_locked False\n",
      "                 value []\n",
      "         FORCE_PLATFORM {'__METADATA__': {'DESCRIPTION': '', 'IS_LOCKED': False}, 'USED': {'type': 2, 'description': '', 'is_locked': False, 'value': array([0])}, 'ZERO': {'type': 2, 'description': '', 'is_locked': False, 'value': array([1, 0])}, 'TYPE': {'type': 2, 'description': '', 'is_locked': False, 'value': array([], dtype=int64)}, 'CORNERS': {'type': 4, 'description': '', 'is_locked': False, 'value': array([], shape=(3, 4, 0), dtype=float64)}, 'ORIGIN': {'type': 4, 'description': '', 'is_locked': False, 'value': array([], shape=(3, 0), dtype=float64)}, 'CHANNEL': {'type': 2, 'description': '', 'is_locked': False, 'value': array([], shape=(6, 0), dtype=int64)}, 'CAL_MATRIX': {'type': 4, 'description': '', 'is_locked': False, 'value': array([], dtype=float64)}}\n",
      "             __METADATA__ {'DESCRIPTION': '', 'IS_LOCKED': False}\n",
      "                 DESCRIPTION \n",
      "                 IS_LOCKED False\n",
      "             USED {'type': 2, 'description': '', 'is_locked': False, 'value': array([0])}\n",
      "                 type 2\n",
      "                 description \n",
      "                 is_locked False\n",
      "                 value [0]\n",
      "             ZERO {'type': 2, 'description': '', 'is_locked': False, 'value': array([1, 0])}\n",
      "                 type 2\n",
      "                 description \n",
      "                 is_locked False\n",
      "                 value [1 0]\n",
      "             TYPE {'type': 2, 'description': '', 'is_locked': False, 'value': array([], dtype=int64)}\n",
      "                 type 2\n",
      "                 description \n",
      "                 is_locked False\n",
      "                 value []\n",
      "             CORNERS {'type': 4, 'description': '', 'is_locked': False, 'value': array([], shape=(3, 4, 0), dtype=float64)}\n",
      "                 type 4\n",
      "                 description \n",
      "                 is_locked False\n",
      "                 value []\n",
      "             ORIGIN {'type': 4, 'description': '', 'is_locked': False, 'value': array([], shape=(3, 0), dtype=float64)}\n",
      "                 type 4\n",
      "                 description \n",
      "                 is_locked False\n",
      "                 value []\n",
      "             CHANNEL {'type': 2, 'description': '', 'is_locked': False, 'value': array([], shape=(6, 0), dtype=int64)}\n",
      "                 type 2\n",
      "                 description \n",
      "                 is_locked False\n",
      "                 value []\n",
      "             CAL_MATRIX {'type': 4, 'description': '', 'is_locked': False, 'value': array([], dtype=float64)}\n",
      "                 type 4\n",
      "                 description \n",
      "                 is_locked False\n",
      "                 value []\n",
      "         EVENT_CONTEXT {'__METADATA__': {'DESCRIPTION': '', 'IS_LOCKED': False}, 'USED': {'type': 2, 'description': '', 'is_locked': False, 'value': array([3])}, 'ICON_IDS': {'type': 2, 'description': '', 'is_locked': False, 'value': array([0, 1, 2])}, 'LABELS': {'type': -1, 'description': '', 'is_locked': False, 'value': ['General', 'Left', 'Right']}, 'DESCRIPTIONS': {'type': -1, 'description': '', 'is_locked': False, 'value': ['For other events', 'Left side', 'Right side']}, 'COLOURS': {'type': 2, 'description': '', 'is_locked': False, 'value': array([[255, 255,   0],\n",
      "       [164,   0, 255],\n",
      "       [  0,   0,   0]])}}\n",
      "             __METADATA__ {'DESCRIPTION': '', 'IS_LOCKED': False}\n",
      "                 DESCRIPTION \n",
      "                 IS_LOCKED False\n",
      "             USED {'type': 2, 'description': '', 'is_locked': False, 'value': array([3])}\n",
      "                 type 2\n",
      "                 description \n",
      "                 is_locked False\n",
      "                 value [3]\n",
      "             ICON_IDS {'type': 2, 'description': '', 'is_locked': False, 'value': array([0, 1, 2])}\n",
      "                 type 2\n",
      "                 description \n",
      "                 is_locked False\n",
      "                 value [0 1 2]\n",
      "             LABELS {'type': -1, 'description': '', 'is_locked': False, 'value': ['General', 'Left', 'Right']}\n",
      "                 type -1\n",
      "                 description \n",
      "                 is_locked False\n",
      "                 value ['General', 'Left', 'Right']\n",
      "             DESCRIPTIONS {'type': -1, 'description': '', 'is_locked': False, 'value': ['For other events', 'Left side', 'Right side']}\n",
      "                 type -1\n",
      "                 description \n",
      "                 is_locked False\n",
      "                 value ['For other events', 'Left side', 'Right side']\n",
      "             COLOURS {'type': 2, 'description': '', 'is_locked': False, 'value': array([[255, 255,   0],\n",
      "       [164,   0, 255],\n",
      "       [  0,   0,   0]])}\n",
      "                 type 2\n",
      "                 description \n",
      "                 is_locked False\n",
      "                 value [[255 255   0]\n",
      " [164   0 255]\n",
      " [  0   0   0]]\n",
      "         EVENT {'__METADATA__': {'DESCRIPTION': '', 'IS_LOCKED': False}, 'USED': {'type': 2, 'description': '', 'is_locked': False, 'value': array([0])}, 'CONTEXTS': {'type': -1, 'description': '', 'is_locked': False, 'value': []}, 'ICON_IDS': {'type': 2, 'description': '', 'is_locked': False, 'value': array([], dtype=int64)}, 'LABELS': {'type': -1, 'description': '', 'is_locked': False, 'value': []}, 'DESCRIPTIONS': {'type': -1, 'description': '', 'is_locked': False, 'value': []}, 'SUBJECTS': {'type': -1, 'description': '', 'is_locked': False, 'value': []}, 'TIMES': {'type': 4, 'description': '', 'is_locked': False, 'value': array([], shape=(2, 0), dtype=float64)}, 'GENERIC_FLAGS': {'type': 1, 'description': '', 'is_locked': False, 'value': array([], dtype=int64)}}\n",
      "             __METADATA__ {'DESCRIPTION': '', 'IS_LOCKED': False}\n",
      "                 DESCRIPTION \n",
      "                 IS_LOCKED False\n",
      "             USED {'type': 2, 'description': '', 'is_locked': False, 'value': array([0])}\n",
      "                 type 2\n",
      "                 description \n",
      "                 is_locked False\n",
      "                 value [0]\n",
      "             CONTEXTS {'type': -1, 'description': '', 'is_locked': False, 'value': []}\n",
      "                 type -1\n",
      "                 description \n",
      "                 is_locked False\n",
      "                 value []\n",
      "             ICON_IDS {'type': 2, 'description': '', 'is_locked': False, 'value': array([], dtype=int64)}\n",
      "                 type 2\n",
      "                 description \n",
      "                 is_locked False\n",
      "                 value []\n",
      "             LABELS {'type': -1, 'description': '', 'is_locked': False, 'value': []}\n",
      "                 type -1\n",
      "                 description \n",
      "                 is_locked False\n",
      "                 value []\n",
      "             DESCRIPTIONS {'type': -1, 'description': '', 'is_locked': False, 'value': []}\n",
      "                 type -1\n",
      "                 description \n",
      "                 is_locked False\n",
      "                 value []\n",
      "             SUBJECTS {'type': -1, 'description': '', 'is_locked': False, 'value': []}\n",
      "                 type -1\n",
      "                 description \n",
      "                 is_locked False\n",
      "                 value []\n",
      "             TIMES {'type': 4, 'description': '', 'is_locked': False, 'value': array([], shape=(2, 0), dtype=float64)}\n",
      "                 type 4\n",
      "                 description \n",
      "                 is_locked False\n",
      "                 value []\n",
      "             GENERIC_FLAGS {'type': 1, 'description': '', 'is_locked': False, 'value': array([], dtype=int64)}\n",
      "                 type 1\n",
      "                 description \n",
      "                 is_locked False\n",
      "                 value []\n",
      "         MANUFACTURER {'__METADATA__': {'DESCRIPTION': '', 'IS_LOCKED': False}, 'COMPANY': {'type': -1, 'description': '', 'is_locked': False, 'value': ['Vicon']}, 'SOFTWARE': {'type': -1, 'description': '', 'is_locked': False, 'value': ['Vicon Nexus']}, 'VERSION_LABEL': {'type': -1, 'description': '', 'is_locked': False, 'value': ['1.7.1.61902 Release']}}\n",
      "             __METADATA__ {'DESCRIPTION': '', 'IS_LOCKED': False}\n",
      "                 DESCRIPTION \n",
      "                 IS_LOCKED False\n",
      "             COMPANY {'type': -1, 'description': '', 'is_locked': False, 'value': ['Vicon']}\n",
      "                 type -1\n",
      "                 description \n",
      "                 is_locked False\n",
      "                 value ['Vicon']\n",
      "             SOFTWARE {'type': -1, 'description': '', 'is_locked': False, 'value': ['Vicon Nexus']}\n",
      "                 type -1\n",
      "                 description \n",
      "                 is_locked False\n",
      "                 value ['Vicon Nexus']\n",
      "             VERSION_LABEL {'type': -1, 'description': '', 'is_locked': False, 'value': ['1.7.1.61902 Release']}\n",
      "                 type -1\n",
      "                 description \n",
      "                 is_locked False\n",
      "                 value ['1.7.1.61902 Release']\n",
      "         ANALYSIS {'__METADATA__': {'DESCRIPTION': '', 'IS_LOCKED': False}, 'USED': {'type': 2, 'description': '', 'is_locked': False, 'value': array([0])}, 'NAMES': {'type': -1, 'description': '', 'is_locked': False, 'value': []}, 'DESCRIPTIONS': {'type': -1, 'description': '', 'is_locked': False, 'value': []}, 'SUBJECTS': {'type': -1, 'description': '', 'is_locked': False, 'value': []}, 'CONTEXTS': {'type': -1, 'description': '', 'is_locked': False, 'value': []}, 'UNITS': {'type': -1, 'description': '', 'is_locked': False, 'value': []}, 'VALUES': {'type': 4, 'description': '', 'is_locked': False, 'value': array([], dtype=float64)}}\n",
      "             __METADATA__ {'DESCRIPTION': '', 'IS_LOCKED': False}\n",
      "                 DESCRIPTION \n",
      "                 IS_LOCKED False\n",
      "             USED {'type': 2, 'description': '', 'is_locked': False, 'value': array([0])}\n",
      "                 type 2\n",
      "                 description \n",
      "                 is_locked False\n",
      "                 value [0]\n",
      "             NAMES {'type': -1, 'description': '', 'is_locked': False, 'value': []}\n",
      "                 type -1\n",
      "                 description \n",
      "                 is_locked False\n",
      "                 value []\n",
      "             DESCRIPTIONS {'type': -1, 'description': '', 'is_locked': False, 'value': []}\n",
      "                 type -1\n",
      "                 description \n",
      "                 is_locked False\n",
      "                 value []\n",
      "             SUBJECTS {'type': -1, 'description': '', 'is_locked': False, 'value': []}\n",
      "                 type -1\n",
      "                 description \n",
      "                 is_locked False\n",
      "                 value []\n",
      "             CONTEXTS {'type': -1, 'description': '', 'is_locked': False, 'value': []}\n",
      "                 type -1\n",
      "                 description \n",
      "                 is_locked False\n",
      "                 value []\n",
      "             UNITS {'type': -1, 'description': '', 'is_locked': False, 'value': []}\n",
      "                 type -1\n",
      "                 description \n",
      "                 is_locked False\n",
      "                 value []\n",
      "             VALUES {'type': 4, 'description': '', 'is_locked': False, 'value': array([], dtype=float64)}\n",
      "                 type 4\n",
      "                 description \n",
      "                 is_locked False\n",
      "                 value []\n",
      "     data <ezc3d.c3d.Data object at 0x7fac69106130>\n",
      "         points [[[ 6.85652161e+01  6.85645370e+01  6.85636368e+01 ...  2.20210892e+02\n",
      "    2.20211243e+02  2.20211441e+02]\n",
      "  [ 9.98426895e+01  9.98421707e+01  9.98404999e+01 ...  2.42828064e+02\n",
      "    2.42874924e+02  2.42885132e+02]\n",
      "  [ 9.32013168e+01  9.31988144e+01  9.31938705e+01 ...  2.37250885e+02\n",
      "    2.37281143e+02  2.37287811e+02]\n",
      "  ...\n",
      "  [-9.31874008e+01 -9.31853180e+01 -9.31837234e+01 ...  3.50968094e+01\n",
      "    3.50957985e+01  3.50956192e+01]\n",
      "  [-8.08810272e+01 -8.08832245e+01 -8.08847198e+01 ...  5.45899239e+01\n",
      "    5.45917969e+01  5.45923080e+01]\n",
      "  [ 1.27750328e+02  1.27745422e+02  1.27741066e+02 ...  2.59624786e+02\n",
      "    2.59625732e+02  2.59626099e+02]]\n",
      "\n",
      " [[ 9.96618835e+02  9.96620117e+02  9.96621277e+02 ...  8.77137512e+02\n",
      "    8.77176147e+02  8.77184753e+02]\n",
      "  [ 8.35928528e+02  8.35928040e+02  8.35926453e+02 ...  7.15829102e+02\n",
      "    7.15870300e+02  7.15879395e+02]\n",
      "  [ 9.10578735e+02  9.10581055e+02  9.10584961e+02 ...  7.87253174e+02\n",
      "    7.87296997e+02  7.87306763e+02]\n",
      "  ...\n",
      "  [ 9.08707520e+02  9.08710693e+02  9.08712952e+02 ...  8.47111389e+02\n",
      "    8.47115112e+02  8.47115967e+02]\n",
      "  [ 1.00554010e+03  1.00553717e+03  1.00553833e+03 ...  9.42337646e+02\n",
      "    9.42341675e+02  9.42342651e+02]\n",
      "  [ 9.57580078e+02  9.57585815e+02  9.57591309e+02 ...  8.74569946e+02\n",
      "    8.74562012e+02  8.74560181e+02]]\n",
      "\n",
      " [[ 1.07223401e+03  1.07222131e+03  1.07220801e+03 ...  1.08179382e+03\n",
      "    1.08181946e+03  1.08182520e+03]\n",
      "  [ 1.06239978e+03  1.06239966e+03  1.06239929e+03 ...  1.06663245e+03\n",
      "    1.06667224e+03  1.06668103e+03]\n",
      "  [ 1.12569019e+03  1.12566821e+03  1.12564380e+03 ...  1.13451086e+03\n",
      "    1.13453796e+03  1.13454395e+03]\n",
      "  ...\n",
      "  [ 5.02847252e+01  5.02802925e+01  5.02772942e+01 ...  5.24145203e+01\n",
      "    5.24136124e+01  5.24134369e+01]\n",
      "  [ 4.12785759e+01  4.12550583e+01  4.12345085e+01 ...  4.29521294e+01\n",
      "    4.29502258e+01  4.29497833e+01]\n",
      "  [ 4.63329430e+01  4.63297501e+01  4.63267822e+01 ...  5.05187988e+01\n",
      "    5.05118408e+01  5.05102692e+01]]\n",
      "\n",
      " [[ 1.00000000e+00  1.00000000e+00  1.00000000e+00 ...  1.00000000e+00\n",
      "    1.00000000e+00  1.00000000e+00]\n",
      "  [ 1.00000000e+00  1.00000000e+00  1.00000000e+00 ...  1.00000000e+00\n",
      "    1.00000000e+00  1.00000000e+00]\n",
      "  [ 1.00000000e+00  1.00000000e+00  1.00000000e+00 ...  1.00000000e+00\n",
      "    1.00000000e+00  1.00000000e+00]\n",
      "  ...\n",
      "  [ 1.00000000e+00  1.00000000e+00  1.00000000e+00 ...  1.00000000e+00\n",
      "    1.00000000e+00  1.00000000e+00]\n",
      "  [ 1.00000000e+00  1.00000000e+00  1.00000000e+00 ...  1.00000000e+00\n",
      "    1.00000000e+00  1.00000000e+00]\n",
      "  [ 1.00000000e+00  1.00000000e+00  1.00000000e+00 ...  1.00000000e+00\n",
      "    1.00000000e+00  1.00000000e+00]]]\n",
      "         meta_points {'residuals': array([[[0., 0., 0., ..., 0., 0., 0.],\n",
      "        [0., 0., 0., ..., 0., 0., 0.],\n",
      "        [0., 0., 0., ..., 0., 0., 0.],\n",
      "        ...,\n",
      "        [0., 0., 0., ..., 0., 0., 0.],\n",
      "        [0., 0., 0., ..., 0., 0., 0.],\n",
      "        [0., 0., 0., ..., 0., 0., 0.]]]), 'camera_masks': array([[[False, False, False, ..., False, False, False],\n",
      "        [False, False, False, ..., False, False, False],\n",
      "        [False, False, False, ..., False, False, False],\n",
      "        ...,\n",
      "        [False, False, False, ..., False, False, False],\n",
      "        [False, False, False, ..., False, False, False],\n",
      "        [False, False, False, ..., False, False, False]],\n",
      "\n",
      "       [[False, False, False, ..., False, False, False],\n",
      "        [False, False, False, ..., False, False, False],\n",
      "        [False, False, False, ..., False, False, False],\n",
      "        ...,\n",
      "        [False, False, False, ..., False, False, False],\n",
      "        [False, False, False, ..., False, False, False],\n",
      "        [False, False, False, ..., False, False, False]],\n",
      "\n",
      "       [[False, False, False, ..., False, False, False],\n",
      "        [False, False, False, ..., False, False, False],\n",
      "        [False, False, False, ..., False, False, False],\n",
      "        ...,\n",
      "        [False, False, False, ..., False, False, False],\n",
      "        [False, False, False, ..., False, False, False],\n",
      "        [False, False, False, ..., False, False, False]],\n",
      "\n",
      "       ...,\n",
      "\n",
      "       [[False, False, False, ..., False, False, False],\n",
      "        [False, False, False, ..., False, False, False],\n",
      "        [False, False, False, ..., False, False, False],\n",
      "        ...,\n",
      "        [False, False, False, ..., False, False, False],\n",
      "        [False, False, False, ..., False, False, False],\n",
      "        [False, False, False, ..., False, False, False]],\n",
      "\n",
      "       [[False, False, False, ..., False, False, False],\n",
      "        [False, False, False, ..., False, False, False],\n",
      "        [False, False, False, ..., False, False, False],\n",
      "        ...,\n",
      "        [False, False, False, ..., False, False, False],\n",
      "        [False, False, False, ..., False, False, False],\n",
      "        [False, False, False, ..., False, False, False]],\n",
      "\n",
      "       [[False, False, False, ..., False, False, False],\n",
      "        [False, False, False, ..., False, False, False],\n",
      "        [False, False, False, ..., False, False, False],\n",
      "        ...,\n",
      "        [False, False, False, ..., False, False, False],\n",
      "        [False, False, False, ..., False, False, False],\n",
      "        [False, False, False, ..., False, False, False]]])}\n",
      "             residuals [[[0. 0. 0. ... 0. 0. 0.]\n",
      "  [0. 0. 0. ... 0. 0. 0.]\n",
      "  [0. 0. 0. ... 0. 0. 0.]\n",
      "  ...\n",
      "  [0. 0. 0. ... 0. 0. 0.]\n",
      "  [0. 0. 0. ... 0. 0. 0.]\n",
      "  [0. 0. 0. ... 0. 0. 0.]]]\n",
      "             camera_masks [[[False False False ... False False False]\n",
      "  [False False False ... False False False]\n",
      "  [False False False ... False False False]\n",
      "  ...\n",
      "  [False False False ... False False False]\n",
      "  [False False False ... False False False]\n",
      "  [False False False ... False False False]]\n",
      "\n",
      " [[False False False ... False False False]\n",
      "  [False False False ... False False False]\n",
      "  [False False False ... False False False]\n",
      "  ...\n",
      "  [False False False ... False False False]\n",
      "  [False False False ... False False False]\n",
      "  [False False False ... False False False]]\n",
      "\n",
      " [[False False False ... False False False]\n",
      "  [False False False ... False False False]\n",
      "  [False False False ... False False False]\n",
      "  ...\n",
      "  [False False False ... False False False]\n",
      "  [False False False ... False False False]\n",
      "  [False False False ... False False False]]\n",
      "\n",
      " ...\n",
      "\n",
      " [[False False False ... False False False]\n",
      "  [False False False ... False False False]\n",
      "  [False False False ... False False False]\n",
      "  ...\n",
      "  [False False False ... False False False]\n",
      "  [False False False ... False False False]\n",
      "  [False False False ... False False False]]\n",
      "\n",
      " [[False False False ... False False False]\n",
      "  [False False False ... False False False]\n",
      "  [False False False ... False False False]\n",
      "  ...\n",
      "  [False False False ... False False False]\n",
      "  [False False False ... False False False]\n",
      "  [False False False ... False False False]]\n",
      "\n",
      " [[False False False ... False False False]\n",
      "  [False False False ... False False False]\n",
      "  [False False False ... False False False]\n",
      "  ...\n",
      "  [False False False ... False False False]\n",
      "  [False False False ... False False False]\n",
      "  [False False False ... False False False]]]\n",
      "         analogs []\n"
     ]
    }
   ],
   "source": [
    "c = c3d_obj\n",
    "\n",
    "def get_params(c, level=1):\n",
    "    for key in c.keys():\n",
    "        value = c[key]\n",
    "        print(''.join(['    ']*level), key, value)\n",
    "        if hasattr(value, 'keys'):\n",
    "            e = get_params(value, level=level+1)\n",
    "    return None\n",
    "    \n",
    "get_params(c3d_obj)"
   ]
  },
  {
   "cell_type": "markdown",
   "metadata": {},
   "source": [
    "# convert one motion"
   ]
  },
  {
   "cell_type": "code",
   "execution_count": null,
   "metadata": {},
   "outputs": [],
   "source": [
    "# + convert interval\n",
    "# + get marker_set\n",
    "# + cleanup label names\n",
    "# + filter label names\n",
    "# + filter points according to marker_set"
   ]
  },
  {
   "cell_type": "raw",
   "metadata": {},
   "source": [
    "get_marker_set(22)"
   ]
  },
  {
   "cell_type": "code",
   "execution_count": 158,
   "metadata": {},
   "outputs": [],
   "source": [
    "motion_num = 19\n",
    "c3d_path = c3d_folder_path/f'{motion_num:05}_raw.c3d'\n",
    "c3d_obj = c3d(str(c3d_path))"
   ]
  },
  {
   "cell_type": "code",
   "execution_count": 159,
   "metadata": {},
   "outputs": [
    {
     "data": {
      "text/plain": [
       "(53, ['RPSI', 'LPSI', 'L3', 'STRN', 'T10'])"
      ]
     },
     "execution_count": 159,
     "metadata": {},
     "output_type": "execute_result"
    }
   ],
   "source": [
    "raw_labels = c3d_obj['parameters']['POINT']['LABELS']['value']\n",
    "len(raw_labels), raw_labels[:5]"
   ]
  },
  {
   "cell_type": "code",
   "execution_count": 160,
   "metadata": {},
   "outputs": [],
   "source": [
    "# + cleanup label names"
   ]
  },
  {
   "cell_type": "raw",
   "metadata": {},
   "source": [
    "raw_labels[:]"
   ]
  },
  {
   "cell_type": "code",
   "execution_count": null,
   "metadata": {},
   "outputs": [],
   "source": []
  },
  {
   "cell_type": "code",
   "execution_count": 183,
   "metadata": {},
   "outputs": [
    {
     "data": {
      "text/plain": [
       "'kit'"
      ]
     },
     "execution_count": 183,
     "metadata": {},
     "output_type": "execute_result"
    }
   ],
   "source": [
    "# get marker_set\n",
    "marker_set = get_marker_set(motion_num)\n",
    "marker_set"
   ]
  },
  {
   "cell_type": "code",
   "execution_count": null,
   "metadata": {},
   "outputs": [],
   "source": [
    "good_labels = get_good_labels(raw_labels, marker_set)\n",
    "len(good_labels), good_labels[:5]"
   ]
  },
  {
   "cell_type": "code",
   "execution_count": 185,
   "metadata": {},
   "outputs": [],
   "source": [
    "raw_labels_clean = [get_label(l) for l in raw_labels]"
   ]
  },
  {
   "cell_type": "code",
   "execution_count": 186,
   "metadata": {},
   "outputs": [
    {
     "data": {
      "text/plain": [
       "(49, [0, 1, 2])"
      ]
     },
     "execution_count": 186,
     "metadata": {},
     "output_type": "execute_result"
    }
   ],
   "source": [
    "good_label_idxs = [raw_labels_clean.index(l) for l in good_labels]\n",
    "len(good_label_idxs), good_label_idxs[:3]"
   ]
  },
  {
   "cell_type": "code",
   "execution_count": null,
   "metadata": {},
   "outputs": [],
   "source": []
  },
  {
   "cell_type": "code",
   "execution_count": 187,
   "metadata": {},
   "outputs": [
    {
     "data": {
      "text/plain": [
       "(4, 53, 909)"
      ]
     },
     "execution_count": 187,
     "metadata": {},
     "output_type": "execute_result"
    }
   ],
   "source": [
    "# get points\n",
    "points = c3d_obj.c3d_swig.get_points()\n",
    "points.shape"
   ]
  },
  {
   "cell_type": "code",
   "execution_count": null,
   "metadata": {},
   "outputs": [],
   "source": []
  },
  {
   "cell_type": "code",
   "execution_count": 188,
   "metadata": {},
   "outputs": [],
   "source": [
    "# find mapping\n",
    "\n",
    "# transpose 2, 53, 3\n",
    "points3 = np.transpose(points[:3,:53,0:], (2, 1, 0))\n",
    "\n",
    "# identify and remove 4 unconnected points\n",
    "good_points_mask = [idx in good_label_idxs for idx in range(points3.shape[1])]\n",
    "good_points = points3[:,good_points_mask,:]\n",
    "\n",
    "# reshape to 2, 53*3 and divide by 100, and round to 4 decimal places\n",
    "frames = (np.reshape(good_points, (good_points.shape[0], good_points.shape[1]*3))/100).round(4)\n",
    "\n",
    "# format json\n",
    "frames_list = frames[:, :].tolist()"
   ]
  },
  {
   "cell_type": "code",
   "execution_count": null,
   "metadata": {},
   "outputs": [],
   "source": []
  },
  {
   "cell_type": "markdown",
   "metadata": {},
   "source": [
    "# convert all"
   ]
  },
  {
   "cell_type": "code",
   "execution_count": null,
   "metadata": {},
   "outputs": [
    {
     "name": "stderr",
     "output_type": "stream",
     "text": [
      " 35%|███▍      | 1381/3999 [01:32<03:13, 13.56it/s]"
     ]
    }
   ],
   "source": [
    "for i in tqdm(range(1, 4000)):\n",
    "    c3d_path = c3d_folder_path/f'{i:05}_raw.c3d'\n",
    "    if c3d_path.exists():\n",
    "        # print(i, c3d_path.name, c3d_path.exists())\n",
    "        c3d_obj = c3d(str(c3d_path))\n",
    "        json_str = c3d2json(c3d_obj, motion_num=i)\n",
    "        out_path = out_folder_path/f'{i:05}_raw.json'\n",
    "        out_path.write_text(json_str)"
   ]
  },
  {
   "cell_type": "raw",
   "metadata": {},
   "source": [
    "# debug"
   ]
  },
  {
   "cell_type": "raw",
   "metadata": {},
   "source": [
    "markers = [\"RPSI\", \"LPSI\", \"T10\", \"CLAV\", \"LSHO\", \"LAEL\", \"LWTS\", \"LFRA\", \"LIFD\", \"LHPS\", \"RSHO\", \"RAEL\", \"RWTS\", \"RFRA\", \n",
    "  \"RIFD\", \"RHPS\", \"RBHD\", \"LFHD\", \"RFHD\", \"LBHD\", \"LHIP\", \"RHIP\", \"RASI\", \"LASI\", \"LTHI\", \"LANK\", \"LTIP\", \"LTOE\", \"LMT1\", \"RTHI\", \"RANK\", \"RTIP\", \"RTOE\", \"RMT1\"]\n",
    "len(markers)"
   ]
  },
  {
   "cell_type": "raw",
   "metadata": {},
   "source": [
    "flatten = lambda l: [item for sublist in l for item in sublist]\n",
    "# set(marker_connections[m_set].keys())\n",
    "marker_set_labels = {m_set: set(flatten(marker_connections[m_set].values())).union(set(marker_connections[m_set].keys())) for m_set in ['kit', 'cmu']}\n"
   ]
  },
  {
   "cell_type": "raw",
   "metadata": {},
   "source": [
    "set(marker_connections['kit'].keys()).union(marker_set_labels['kit'])"
   ]
  },
  {
   "cell_type": "raw",
   "metadata": {},
   "source": [
    "len(marker_set_labels['cmu'])"
   ]
  },
  {
   "cell_type": "code",
   "execution_count": null,
   "metadata": {},
   "outputs": [],
   "source": []
  },
  {
   "cell_type": "code",
   "execution_count": null,
   "metadata": {},
   "outputs": [],
   "source": []
  }
 ],
 "metadata": {
  "kernelspec": {
   "display_name": "Python 3",
   "language": "python",
   "name": "python3"
  },
  "language_info": {
   "codemirror_mode": {
    "name": "ipython",
    "version": 3
   },
   "file_extension": ".py",
   "mimetype": "text/x-python",
   "name": "python",
   "nbconvert_exporter": "python",
   "pygments_lexer": "ipython3",
   "version": "3.8.3"
  }
 },
 "nbformat": 4,
 "nbformat_minor": 4
}
