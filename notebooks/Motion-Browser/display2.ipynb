{
 "cells": [
  {
   "cell_type": "code",
   "execution_count": null,
   "metadata": {},
   "outputs": [],
   "source": [
    "# TODO: copy and host sources\n",
    "# TODO: update viewer with different content"
   ]
  },
  {
   "cell_type": "code",
   "execution_count": 1,
   "metadata": {},
   "outputs": [],
   "source": [
    "import IPython.display\n",
    "\n",
    "def ala(path='/nbextensions/0059ac190ecdcf04e0700e9c9827bf3e917bbddd.json'):\n",
    "#     path='/nbextensions/0059ac190ecdcf04e0700e9c9827bf3e917bbddd.json'\n",
    "    a = f'''\n",
    "        <script\n",
    "          src=\"https://code.jquery.com/jquery-3.5.1.min.js\"\n",
    "          integrity=\"sha256-9/aliU8dGd2tb6OSsuzixeV4y/faTqgFtohetphbbj0=\"\n",
    "          crossorigin=\"anonymous\"></script>\n",
    "        <script src=\"https://motion-annotation.humanoids.kit.edu/static/js/three.min.js\"></script>\n",
    "        <script src=\"https://motion-annotation.humanoids.kit.edu/static/js/controls.min.js\"></script>\n",
    "        <script src=\"https://motion-annotation.humanoids.kit.edu/static/js/viewer.min.js\"></script>\n",
    "                <div id=\"motion-content\" style=\"height: 300px; width: 500px\"></div>\n",
    "            <script>$(document).ready(initViewer('{path}', true, new THREE.Vector3(20, 0, 15), new THREE.Vector3(0, 0, 10)));</script>\n",
    "        '''\n",
    "    display(IPython.display.HTML(a));"
   ]
  },
  {
   "cell_type": "code",
   "execution_count": 8,
   "metadata": {},
   "outputs": [
    {
     "data": {
      "text/html": [
       "\n",
       "        <script\n",
       "          src=\"https://code.jquery.com/jquery-3.5.1.min.js\"\n",
       "          integrity=\"sha256-9/aliU8dGd2tb6OSsuzixeV4y/faTqgFtohetphbbj0=\"\n",
       "          crossorigin=\"anonymous\"></script>\n",
       "        <script src=\"https://motion-annotation.humanoids.kit.edu/static/js/three.min.js\"></script>\n",
       "        <script src=\"https://motion-annotation.humanoids.kit.edu/static/js/controls.min.js\"></script>\n",
       "        <script src=\"https://motion-annotation.humanoids.kit.edu/static/js/viewer.min.js\"></script>\n",
       "                <div id=\"motion-content\" style=\"height: 300px; width: 500px\"></div>\n",
       "            <script>$(document).ready(initViewer('/notebooks/language2motion.gt/data/motion-viewer/03727_raw.json', true, new THREE.Vector3(20, 0, 15), new THREE.Vector3(0, 0, 10)));</script>\n",
       "        "
      ],
      "text/plain": [
       "<IPython.core.display.HTML object>"
      ]
     },
     "metadata": {},
     "output_type": "display_data"
    }
   ],
   "source": [
    "num = 3727\n",
    "ala(path=f\"/notebooks/language2motion.gt/data/motion-viewer/{num:05}_raw.json\")"
   ]
  },
  {
   "cell_type": "code",
   "execution_count": null,
   "metadata": {},
   "outputs": [],
   "source": []
  }
 ],
 "metadata": {
  "kernelspec": {
   "display_name": "Python 3",
   "language": "python",
   "name": "python3"
  },
  "language_info": {
   "codemirror_mode": {
    "name": "ipython",
    "version": 3
   },
   "file_extension": ".py",
   "mimetype": "text/x-python",
   "name": "python",
   "nbconvert_exporter": "python",
   "pygments_lexer": "ipython3",
   "version": "3.6.9"
  }
 },
 "nbformat": 4,
 "nbformat_minor": 4
}
