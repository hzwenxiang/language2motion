{
 "cells": [
  {
   "cell_type": "code",
   "execution_count": 38,
   "metadata": {},
   "outputs": [],
   "source": [
    "# TODO: copy and host sources\n",
    "# TODO: update viewer with different content"
   ]
  },
  {
   "cell_type": "code",
   "execution_count": 47,
   "metadata": {},
   "outputs": [],
   "source": [
    "import IPython.display\n",
    "from pathlib import Path\n",
    "\n",
    "def display_motion(path:Path= Path('/nbextensions/0059ac190ecdcf04e0700e9c9827bf3e917bbddd.json')):\n",
    "#     path='/nbextensions/0059ac190ecdcf04e0700e9c9827bf3e917bbddd.json'\n",
    "#     !jupyter  nbextension install {str(path)} --log-level=50\n",
    "#     nbPath = f'/nbextensions/{path.name}'\n",
    "    nbPath = f'{path}'\n",
    "    print(nbPath)\n",
    "\n",
    "    a = f'''\n",
    "        <script\n",
    "          src=\"https://code.jquery.com/jquery-3.5.1.min.js\"\n",
    "          integrity=\"sha256-9/aliU8dGd2tb6OSsuzixeV4y/faTqgFtohetphbbj0=\"\n",
    "          crossorigin=\"anonymous\"></script>\n",
    "        <script src=\"https://cdn.jsdelivr.net/gh/wojtekcz/language2motion@koszalin-dl-9/notebooks/Motion-Browser/static/js/three.min.js\"></script>\n",
    "        <script src=\"https://cdn.jsdelivr.net/gh/wojtekcz/language2motion@koszalin-dl-9/notebooks/Motion-Browser/static/js/controls.js\"></script>\n",
    "        <script src=\"https://cdn.jsdelivr.net/gh/wojtekcz/language2motion@koszalin-dl-9/notebooks/Motion-Browser/static/js/viewer6.js\"></script>\n",
    "                <div id=\"motion-content\" style=\"height: 300px; width: 700px\"></div>\n",
    "            <script>$(document).ready(initViewer('{nbPath}', true, new THREE.Vector3(20, 0, 15), new THREE.Vector3(0, 0, 10)));</script>\n",
    "           \n",
    "\t\t        <td class=\"left\"><input id=\"motion-ui-slider\" type=\"range\" value=\"0\" max=\"984\" min=\"0\"></td>\n",
    "\t\t        <td class=\"right\"><input id=\"motion-ui-button\" type=\"button\" value=\"Play\"></td>\n",
    "\t\t      \n",
    "          \n",
    "\t\t   \n",
    "        '''\n",
    "    display(IPython.display.HTML(a));"
   ]
  },
  {
   "cell_type": "code",
   "execution_count": 49,
   "metadata": {
    "scrolled": false
   },
   "outputs": [
    {
     "name": "stdout",
     "output_type": "stream",
     "text": [
      "/notebooks/language2motion.gt/data/motion-viewer/01546_raw.json\n"
     ]
    },
    {
     "data": {
      "text/html": [
       "\n",
       "        <script\n",
       "          src=\"https://code.jquery.com/jquery-3.5.1.min.js\"\n",
       "          integrity=\"sha256-9/aliU8dGd2tb6OSsuzixeV4y/faTqgFtohetphbbj0=\"\n",
       "          crossorigin=\"anonymous\"></script>\n",
       "        <script src=\"https://cdn.jsdelivr.net/gh/wojtekcz/language2motion@koszalin-dl-9/notebooks/Motion-Browser/static/js/three.min.js\"></script>\n",
       "        <script src=\"https://cdn.jsdelivr.net/gh/wojtekcz/language2motion@koszalin-dl-9/notebooks/Motion-Browser/static/js/controls.js\"></script>\n",
       "        <script src=\"https://cdn.jsdelivr.net/gh/wojtekcz/language2motion@koszalin-dl-9/notebooks/Motion-Browser/static/js/viewer6.js\"></script>\n",
       "                <div id=\"motion-content\" style=\"height: 300px; width: 700px\"></div>\n",
       "            <script>$(document).ready(initViewer('/notebooks/language2motion.gt/data/motion-viewer/01546_raw.json', true, new THREE.Vector3(20, 0, 15), new THREE.Vector3(0, 0, 10)));</script>\n",
       "           \n",
       "\t\t        <td class=\"left\"><input id=\"motion-ui-slider\" type=\"range\" value=\"0\" max=\"984\" min=\"0\"></td>\n",
       "\t\t        <td class=\"right\"><input id=\"motion-ui-button\" type=\"button\" value=\"Play\"></td>\n",
       "\t\t      \n",
       "          \n",
       "\t\t   \n",
       "        "
      ],
      "text/plain": [
       "<IPython.core.display.HTML object>"
      ]
     },
     "metadata": {},
     "output_type": "display_data"
    }
   ],
   "source": [
    "# path = Path(\"/notebooks/motion-viewer/fix 19/00019_raw_good_short.json\")\n",
    "# path = Path(\"/notebooks/motion-viewer/fix 19/00019_raw_good_new.json\")\n",
    "# path = Path(\"/notebooks/motion-viewer/fix 1546/01546_raw_fixed.json\")\n",
    "path = Path(\"/notebooks/language2motion.gt/data/motion-viewer/01546_raw.json\")\n",
    "# path = Path(\"/notebooks/language2motion.gt/data/motion-viewer/00037_raw.json\")\n",
    "# path = Path(\"/notebooks/motion-viewer/fix NaNs/00037_raw_fixed.json\")\n",
    "# path = Path(\"/notebooks/motion-viewer/fix NaNs/00037_raw_fixed_mean3.json\")\n",
    "# path = Path(\"/notebooks/motion-viewer/fix NaNs/00037_raw_fixed_interp.json\")\n",
    "# path = Path(\"/notebooks/motion-viewer/fix NaNs/01546_raw_fixed_0.json\")\n",
    "# path = Path(\"/notebooks/motion-viewer/fix NaNs/01546_raw_fixed_mean2.json\")\n",
    "display_motion(path)"
   ]
  },
  {
   "cell_type": "raw",
   "metadata": {},
   "source": [
    "path.read_text()"
   ]
  },
  {
   "cell_type": "code",
   "execution_count": null,
   "metadata": {},
   "outputs": [],
   "source": []
  }
 ],
 "metadata": {
  "kernelspec": {
   "display_name": "Python 3",
   "language": "python",
   "name": "python3"
  },
  "language_info": {
   "codemirror_mode": {
    "name": "ipython",
    "version": 3
   },
   "file_extension": ".py",
   "mimetype": "text/x-python",
   "name": "python",
   "nbconvert_exporter": "python",
   "pygments_lexer": "ipython3",
   "version": "3.6.9"
  }
 },
 "nbformat": 4,
 "nbformat_minor": 4
}
