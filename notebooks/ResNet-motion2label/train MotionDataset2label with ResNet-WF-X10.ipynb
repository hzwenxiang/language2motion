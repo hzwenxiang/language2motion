{
 "cells": [
  {
   "cell_type": "markdown",
   "metadata": {},
   "source": [
    "\n",
    "# MotionDataset2label with ResNet"
   ]
  },
  {
   "cell_type": "code",
   "execution_count": 1,
   "metadata": {},
   "outputs": [
    {
     "name": "stdout",
     "output_type": "stream",
     "text": [
      "Installing packages:\n",
      "\t.package(path: \"/home/michal/DeepLearning/language2motion/code\")\n",
      "\t\tBatcher\n",
      "\t\tModelSupport\n",
      "\t\tDatasets\n",
      "\t\tImageClassificationModels\n",
      "With SwiftPM flags: ['-c', 'release']\n",
      "Working in: /tmp/tmp28ve2luz/swift-install\n",
      "[1/2] Compiling jupyterInstalledPackages jupyterInstalledPackages.swift\n",
      "Initializing Swift...\n",
      "Installation complete!\n"
     ]
    }
   ],
   "source": [
    "%install-location /home/michal/DeepLearning/language2motion\n",
    "%install-swiftpm-flags -c release\n",
    "// %install '.package(path: \"/notebooks/language2motion.gt/code\")' Batcher ModelSupport Datasets ImageClassificationModels\n",
    "%install '.package(path: \"/home/michal/DeepLearning/language2motion/code\")' Batcher ModelSupport Datasets ImageClassificationModels\n"
   ]
  },
  {
   "cell_type": "code",
   "execution_count": 2,
   "metadata": {},
   "outputs": [],
   "source": [
    "import Foundation\n",
    "import TensorFlow\n",
    "import PythonKit\n",
    "\n",
    "import Batcher\n",
    "import ModelSupport\n",
    "import Datasets\n",
    "import ImageClassificationModels"
   ]
  },
  {
   "cell_type": "code",
   "execution_count": 3,
   "metadata": {},
   "outputs": [
    {
     "data": {
      "text/plain": [
       "('inline', 'module://ipykernel.pylab.backend_inline')\n"
      ]
     },
     "execution_count": 3,
     "metadata": {},
     "output_type": "execute_result"
    }
   ],
   "source": [
    "%include \"EnableIPythonDisplay.swift\"\n",
    "IPythonDisplay.shell.enable_matplotlib(\"inline\")"
   ]
  },
  {
   "cell_type": "markdown",
   "metadata": {},
   "source": [
    "# Checking X10 warmup"
   ]
  },
  {
   "cell_type": "code",
   "execution_count": 4,
   "metadata": {},
   "outputs": [
    {
     "data": {
      "text/plain": [
       "▿ 2020-06-03 22:55:11 +0000\n",
       "  - timeIntervalSinceReferenceDate : 612917711.447093\n"
      ]
     },
     "execution_count": 4,
     "metadata": {},
     "output_type": "execute_result"
    }
   ],
   "source": [
    "let date = Date()\n",
    "date"
   ]
  },
  {
   "cell_type": "code",
   "execution_count": 5,
   "metadata": {},
   "outputs": [
    {
     "data": {
      "text/plain": [
       "[1.5, 3.5, 5.5]\n"
      ]
     },
     "execution_count": 5,
     "metadata": {},
     "output_type": "execute_result"
    }
   ],
   "source": [
    "let eagerTensor1 = Tensor([0.0, 1.0, 2.0])\n",
    "let eagerTensor2 = Tensor([1.5, 2.5, 3.5])\n",
    "let eagerTensorSum = eagerTensor1 + eagerTensor2\n",
    "eagerTensorSum"
   ]
  },
  {
   "cell_type": "code",
   "execution_count": 6,
   "metadata": {},
   "outputs": [
    {
     "data": {
      "text/plain": [
       "▿ Device(kind: .CPU, ordinal: 0, backend: .TF_EAGER)\n",
       "  - kind : TensorFlow.Device.Kind.CPU\n",
       "  - ordinal : 0\n",
       "  - backend : TensorFlow.Device.Backend.TF_EAGER\n"
      ]
     },
     "execution_count": 6,
     "metadata": {},
     "output_type": "execute_result"
    }
   ],
   "source": [
    "eagerTensor1.device"
   ]
  },
  {
   "cell_type": "code",
   "execution_count": 7,
   "metadata": {},
   "outputs": [
    {
     "data": {
      "text/plain": [
       "▿ Device(kind: .GPU, ordinal: 0, backend: .XLA)\n",
       "  - kind : TensorFlow.Device.Kind.GPU\n",
       "  - ordinal : 0\n",
       "  - backend : TensorFlow.Device.Backend.XLA\n"
      ]
     },
     "execution_count": 7,
     "metadata": {},
     "output_type": "execute_result"
    }
   ],
   "source": [
    "let x10Tensor2 = Tensor([1.5, 2.5, 3.5], on: Device.defaultXLA)\n",
    "x10Tensor2.device"
   ]
  },
  {
   "cell_type": "markdown",
   "metadata": {},
   "source": [
    "# load dataset"
   ]
  },
  {
   "cell_type": "code",
   "execution_count": 8,
   "metadata": {},
   "outputs": [],
   "source": [
    "let batchSize = 25"
   ]
  },
  {
   "cell_type": "code",
   "execution_count": 9,
   "metadata": {},
   "outputs": [
    {
     "name": "stdout",
     "output_type": "stream",
     "text": [
      "MotionData(motionSamples: 3911)\n",
      "trainTensorPairs.count = 2410\n",
      "testTensorPairs.count = 602\n",
      "dataset.training.count: 97\n",
      "dataset.test.count: 25\n"
     ]
    }
   ],
   "source": [
    "\n",
    "\n",
    "let serializedDatasetURL = URL(fileURLWithPath: \"/home/michal/DeepLearning/language2motion/data/motion_dataset_v1.plist\")\n",
    "let labelsURL = URL(fileURLWithPath: \"/home/michal/DeepLearning/language2motion/data/labels_ds_v2.csv\")\n",
    "\n",
    "let dataset = Motion2Label(\n",
    "    batchSize: batchSize, \n",
    "    serializedDatasetURL: serializedDatasetURL,\n",
    "    labelsURL: labelsURL\n",
    ")\n",
    "print(\"dataset.training.count: \\(dataset.training.count)\")\n",
    "print(\"dataset.test.count: \\(dataset.test.count)\")"
   ]
  },
  {
   "cell_type": "code",
   "execution_count": 10,
   "metadata": {},
   "outputs": [],
   "source": [
    "// Statistics from X10 example\n",
    "struct Statistics {\n",
    "    var correctGuessCount = Tensor<Int32>(0, on: Device.default)\n",
    "    var totalGuessCount = Tensor<Int32>(0, on: Device.default)\n",
    "    var totalLoss = Tensor<Float>(0, on: Device.default)\n",
    "    var batches: Int = 0\n",
    "    var accuracy: Float { \n",
    "        Float(correctGuessCount.scalarized()) / Float(totalGuessCount.scalarized()) * 100 \n",
    "    } \n",
    "    var averageLoss: Float { totalLoss.scalarized() / Float(batches) }\n",
    "\n",
    "    init(on device: Device = Device.default) {\n",
    "        correctGuessCount = Tensor<Int32>(0, on: device)\n",
    "        totalGuessCount = Tensor<Int32>(0, on: device)\n",
    "        totalLoss = Tensor<Float>(0, on: device)\n",
    "    }\n",
    "\n",
    "    mutating func update(logits: Tensor<Float>, labels: Tensor<Int32>, loss: Tensor<Float>) {\n",
    "        let correct = logits.argmax(squeezingAxis: 1) .== labels\n",
    "        correctGuessCount += Tensor<Int32>(correct).sum()\n",
    "        totalGuessCount += Int32(labels.shape[0])\n",
    "        totalLoss += loss\n",
    "        batches += 1\n",
    "    }\n",
    "}"
   ]
  },
  {
   "cell_type": "markdown",
   "metadata": {},
   "source": [
    "# 1-channel ResNet"
   ]
  },
  {
   "cell_type": "markdown",
   "metadata": {},
   "source": [
    "# Eager"
   ]
  },
  {
   "cell_type": "code",
   "execution_count": 11,
   "metadata": {},
   "outputs": [],
   "source": [
    "var eagerModel = ResNet(classCount: 5, depth: .resNet18, downsamplingInFirstStage: false, channelCount: 1 )\n",
    "var eagerOptimizer = SGD(for: eagerModel, learningRate: 0.001)"
   ]
  },
  {
   "cell_type": "code",
   "execution_count": 12,
   "metadata": {},
   "outputs": [
    {
     "name": "stdout",
     "output_type": "stream",
     "text": [
      "Starting Eager training...\n",
      "[Epoch 1] Training Loss: 1.398, Training Accuracy: 1028/2410 (42.7%), Test Loss: 1.278, Test Accuracy: 322/602 (53.5%) seconds per epoch: 26.3\n",
      "[Epoch 2] Training Loss: 1.191, Training Accuracy: 1299/2410 (53.9%), Test Loss: 1.199, Test Accuracy: 325/602 (54.0%) seconds per epoch: 23.8\n",
      "[Epoch 3] Training Loss: 1.129, Training Accuracy: 1357/2410 (56.3%), Test Loss: 1.151, Test Accuracy: 332/602 (55.1%) seconds per epoch: 23.8\n",
      "[Epoch 4] Training Loss: 1.084, Training Accuracy: 1394/2410 (57.8%), Test Loss: 1.121, Test Accuracy: 337/602 (56.0%) seconds per epoch: 23.7\n",
      "[Epoch 5] Training Loss: 1.054, Training Accuracy: 1420/2410 (58.9%), Test Loss: 1.095, Test Accuracy: 353/602 (58.6%) seconds per epoch: 24.0\n"
     ]
    }
   ],
   "source": [
    "//Eager\n",
    "\n",
    "print(\"Starting Eager training...\")\n",
    "\n",
    "for epoch in 1...5 {\n",
    "    let start = Date()\n",
    "    var trainStats = Statistics()\n",
    "    var testStats = Statistics()\n",
    "    \n",
    "    Context.local.learningPhase = .training\n",
    "    for batch in dataset.training.sequenced() {\n",
    "        let (images, labels) = (batch.first, batch.second)\n",
    "        let 𝛁model = TensorFlow.gradient(at: eagerModel) { eagerModel -> Tensor<Float> in\n",
    "            let ŷ = eagerModel(images)\n",
    "            let loss = softmaxCrossEntropy(logits: ŷ, labels: labels)\n",
    "            trainStats.update(logits: ŷ, labels: labels, loss: loss)\n",
    "            return loss\n",
    "        }\n",
    "        eagerOptimizer.update(&eagerModel, along: 𝛁model)\n",
    "    }\n",
    "\n",
    "    Context.local.learningPhase = .inference\n",
    "    for batch in dataset.test.sequenced() {\n",
    "        let (images, labels) = (batch.first, batch.second)\n",
    "        let ŷ = eagerModel(images)\n",
    "        let loss = softmaxCrossEntropy(logits: ŷ, labels: labels)\n",
    "        testStats.update(logits: ŷ, labels: labels, loss: loss)\n",
    "    }\n",
    "\n",
    "    print(\n",
    "        \"\"\"\n",
    "        [Epoch \\(epoch)] \\\n",
    "        Training Loss: \\(String(format: \"%.3f\", trainStats.averageLoss)), \\\n",
    "        Training Accuracy: \\(trainStats.correctGuessCount)/\\(trainStats.totalGuessCount) \\\n",
    "        (\\(String(format: \"%.1f\", trainStats.accuracy))%), \\\n",
    "        Test Loss: \\(String(format: \"%.3f\", testStats.averageLoss)), \\\n",
    "        Test Accuracy: \\(testStats.correctGuessCount)/\\(testStats.totalGuessCount) \\\n",
    "        (\\(String(format: \"%.1f\", testStats.accuracy))%) \\\n",
    "        seconds per epoch: \\(String(format: \"%.1f\", Date().timeIntervalSince(start)))\n",
    "        \"\"\")\n",
    "}"
   ]
  },
  {
   "cell_type": "markdown",
   "metadata": {},
   "source": [
    "# X10"
   ]
  },
  {
   "cell_type": "code",
   "execution_count": 13,
   "metadata": {},
   "outputs": [
    {
     "data": {
      "text/plain": [
       "▿ Device(kind: .GPU, ordinal: 0, backend: .XLA)\n",
       "  - kind : TensorFlow.Device.Kind.GPU\n",
       "  - ordinal : 0\n",
       "  - backend : TensorFlow.Device.Backend.XLA\n"
      ]
     },
     "execution_count": 13,
     "metadata": {},
     "output_type": "execute_result"
    }
   ],
   "source": [
    "let device = Device.defaultXLA\n",
    "device"
   ]
  },
  {
   "cell_type": "code",
   "execution_count": 14,
   "metadata": {},
   "outputs": [],
   "source": [
    "//var model = ResNet(classCount: 5, depth: .resNet18, downsamplingInFirstStage: false, channelCount: 1)\n",
    "var model = ResNet(classCount: 5, depth: .resNet18, downsamplingInFirstStage: false, channelCount: 1 )\n",
    "\n",
    "model.move(to: device)"
   ]
  },
  {
   "cell_type": "code",
   "execution_count": 15,
   "metadata": {},
   "outputs": [],
   "source": [
    "var optimizer = SGD(for: model, learningRate: 0.001)\n",
    "optimizer = SGD(copying: optimizer, to: device)"
   ]
  },
  {
   "cell_type": "code",
   "execution_count": 16,
   "metadata": {
    "scrolled": true
   },
   "outputs": [
    {
     "name": "stdout",
     "output_type": "stream",
     "text": [
      "Starting X10 training...\n",
      "[Epoch 1] Training Loss: 1.382, Training Accuracy: 1092/2410 (45.3%), Test Loss: 1.262, Test Accuracy: 315/602 (52.3%) seconds per epoch: 37.7\n",
      "[Epoch 2] Training Loss: 1.186, Training Accuracy: 1331/2410 (55.2%), Test Loss: 1.171, Test Accuracy: 325/602 (54.0%) seconds per epoch: 16.7\n",
      "[Epoch 3] Training Loss: 1.111, Training Accuracy: 1388/2410 (57.6%), Test Loss: 1.120, Test Accuracy: 336/602 (55.8%) seconds per epoch: 8.8\n",
      "[Epoch 4] Training Loss: 1.054, Training Accuracy: 1424/2410 (59.1%), Test Loss: 1.085, Test Accuracy: 338/602 (56.1%) seconds per epoch: 8.7\n",
      "[Epoch 5] Training Loss: 1.026, Training Accuracy: 1442/2410 (59.8%), Test Loss: 1.065, Test Accuracy: 354/602 (58.8%) seconds per epoch: 8.8\n"
     ]
    }
   ],
   "source": [
    "// X10 training\n",
    "print(\"Starting X10 training...\")\n",
    "for epoch in 1...5 {\n",
    "    let start = Date()\n",
    "    var trainStats = Statistics(on: device)\n",
    "    var testStats = Statistics(on: device)\n",
    "    \n",
    "    Context.local.learningPhase = .training\n",
    "    for batch in dataset.training.sequenced() {\n",
    "        let (eagerImages, eagerLabels) = (batch.first, batch.second)\n",
    "        let images = Tensor(copying: eagerImages, to: device)\n",
    "        let labels = Tensor(copying: eagerLabels, to: device)\n",
    "        let 𝛁model = TensorFlow.gradient(at: model) { model -> Tensor<Float> in\n",
    "            let ŷ = model(images)\n",
    "            let loss = softmaxCrossEntropy(logits: ŷ, labels: labels)\n",
    "            trainStats.update(logits: ŷ, labels: labels, loss: loss)\n",
    "            return loss\n",
    "        }\n",
    "        optimizer.update(&model, along: 𝛁model)\n",
    "        LazyTensorBarrier()\n",
    "    }\n",
    "\n",
    "    Context.local.learningPhase = .inference\n",
    "    for batch in dataset.test.sequenced() {\n",
    "        let (eagerImages, eagerLabels) = (batch.first, batch.second)\n",
    "        let images = Tensor(copying: eagerImages, to: device)\n",
    "        let labels = Tensor(copying: eagerLabels, to: device)\n",
    "        let ŷ = model(images)\n",
    "        let loss = softmaxCrossEntropy(logits: ŷ, labels: labels)\n",
    "        LazyTensorBarrier()\n",
    "        testStats.update(logits: ŷ, labels: labels, loss: loss)\n",
    "    }\n",
    "\n",
    "    print(\n",
    "        \"\"\"\n",
    "        [Epoch \\(epoch)] \\\n",
    "        Training Loss: \\(String(format: \"%.3f\", trainStats.averageLoss)), \\\n",
    "        Training Accuracy: \\(trainStats.correctGuessCount)/\\(trainStats.totalGuessCount) \\\n",
    "        (\\(String(format: \"%.1f\", trainStats.accuracy))%), \\\n",
    "        Test Loss: \\(String(format: \"%.3f\", testStats.averageLoss)), \\\n",
    "        Test Accuracy: \\(testStats.correctGuessCount)/\\(testStats.totalGuessCount) \\\n",
    "        (\\(String(format: \"%.1f\", testStats.accuracy))%) \\\n",
    "        seconds per epoch: \\(String(format: \"%.1f\", Date().timeIntervalSince(start)))\n",
    "        \"\"\")\n",
    "}"
   ]
  },
  {
   "cell_type": "code",
   "execution_count": null,
   "metadata": {},
   "outputs": [],
   "source": []
  },
  {
   "cell_type": "code",
   "execution_count": null,
   "metadata": {},
   "outputs": [],
   "source": []
  },
  {
   "cell_type": "code",
   "execution_count": null,
   "metadata": {},
   "outputs": [],
   "source": []
  }
 ],
 "metadata": {
  "kernelspec": {
   "display_name": "Swift",
   "language": "swift",
   "name": "swift"
  },
  "language_info": {
   "file_extension": ".swift",
   "mimetype": "text/x-swift",
   "name": "swift",
   "version": ""
  }
 },
 "nbformat": 4,
 "nbformat_minor": 4
}
