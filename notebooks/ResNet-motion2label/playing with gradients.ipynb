{
 "cells": [
  {
   "cell_type": "markdown",
   "metadata": {},
   "source": [
    "# MotionDataset2label with ResNet"
   ]
  },
  {
   "cell_type": "code",
   "execution_count": 1,
   "metadata": {},
   "outputs": [
    {
     "name": "stdout",
     "output_type": "stream",
     "text": [
      "Installing packages:\n",
      "\t.package(path: \"/notebooks/language2motion.gt/code\")\n",
      "\t\tBatcher\n",
      "\t\tModelSupport\n",
      "\t\tDatasets\n",
      "\t\tImageClassificationModels\n",
      "With SwiftPM flags: ['-c', 'release']\n",
      "Working in: /tmp/tmpl511ldfg/swift-install\n",
      "[1/2] Compiling jupyterInstalledPackages jupyterInstalledPackages.swift\n",
      "Initializing Swift...\n",
      "Installation complete!\n"
     ]
    }
   ],
   "source": [
    "%install-location /notebooks/language2motion.gt/swift-install\n",
    "%install-swiftpm-flags -c release\n",
    "%install '.package(path: \"/notebooks/language2motion.gt/code\")' Batcher ModelSupport Datasets ImageClassificationModels"
   ]
  },
  {
   "cell_type": "code",
   "execution_count": 2,
   "metadata": {},
   "outputs": [],
   "source": [
    "import Foundation\n",
    "import TensorFlow\n",
    "import PythonKit\n",
    "\n",
    "import Batcher\n",
    "import ModelSupport\n",
    "import Datasets\n",
    "import ImageClassificationModels"
   ]
  },
  {
   "cell_type": "code",
   "execution_count": 3,
   "metadata": {},
   "outputs": [
    {
     "data": {
      "text/plain": [
       "('inline', 'module://ipykernel.pylab.backend_inline')\n"
      ]
     },
     "execution_count": 3,
     "metadata": {},
     "output_type": "execute_result"
    }
   ],
   "source": [
    "%include \"EnableIPythonDisplay.swift\"\n",
    "IPythonDisplay.shell.enable_matplotlib(\"inline\")"
   ]
  },
  {
   "cell_type": "markdown",
   "metadata": {},
   "source": [
    "# 1-channel ResNet model"
   ]
  },
  {
   "cell_type": "code",
   "execution_count": 4,
   "metadata": {},
   "outputs": [],
   "source": [
    "var model = ResNet(classCount: 5, depth: .resNet18, downsamplingInFirstStage: false, channelCount: 1)"
   ]
  },
  {
   "cell_type": "code",
   "execution_count": 5,
   "metadata": {},
   "outputs": [],
   "source": [
    "let optimizer = SGD(for: model, learningRate: 0.001)"
   ]
  },
  {
   "cell_type": "markdown",
   "metadata": {},
   "source": [
    "# load dataset"
   ]
  },
  {
   "cell_type": "code",
   "execution_count": 6,
   "metadata": {},
   "outputs": [
    {
     "name": "stdout",
     "output_type": "stream",
     "text": [
      "MotionData(motionSamples: 99)\n",
      "trainTensorPairs.count = 79\n",
      "testTensorPairs.count = 20\n",
      "dataset.training.count: 4\n",
      "dataset.test.count: 1\n"
     ]
    }
   ],
   "source": [
    "let batchSize = 25\n",
    "\n",
    "let serializedDatasetURL = URL(fileURLWithPath: \"/notebooks/language2motion.gt/data/motion_dataset.motion_flag.normalized.100.plist\")\n",
    "let labelsURL = URL(fileURLWithPath: \"/notebooks/language2motion.gt/data/labels_ds_v2.csv\")\n",
    "\n",
    "let dataset = Motion2Label(\n",
    "    batchSize: batchSize, \n",
    "    serializedDatasetURL: serializedDatasetURL,\n",
    "    labelsURL: labelsURL\n",
    ")\n",
    "print(\"dataset.training.count: \\(dataset.training.count)\")\n",
    "print(\"dataset.test.count: \\(dataset.test.count)\")"
   ]
  },
  {
   "cell_type": "code",
   "execution_count": null,
   "metadata": {},
   "outputs": [],
   "source": [
    "Array<PartialKeyPath<TangentVector>>\n",
    "Swift.WritableKeyPath<ImageClassificationModels.ResNet.TangentVector, ImageClassificationModels.ConvBN.TangentVector>\n",
    "Swift.WritableKeyPath<ImageClassificationModels.ResNet.TangentVector, TensorFlow.EmptyTangentVector>\n",
    "Swift.WritableKeyPath<ImageClassificationModels.ResNet.TangentVector, Swift.Array<ImageClassificationModels.ResidualBlock.TangentVector>.DifferentiableView>\n",
    "Swift.WritableKeyPath<ImageClassificationModels.ResNet.TangentVector, TensorFlow.EmptyTangentVector>\n",
    "Swift.WritableKeyPath<ImageClassificationModels.ResNet.TangentVector, TensorFlow.EmptyTangentVector>\n",
    "Swift.WritableKeyPath<ImageClassificationModels.ResNet.TangentVector, TensorFlow.Dense<Swift.Float>.TangentVector>"
   ]
  },
  {
   "cell_type": "code",
   "execution_count": null,
   "metadata": {},
   "outputs": [],
   "source": [
    "Array<PartialKeyPath<TangentVector>>\n",
    "TangentVector\n",
    "EmptyTangentVector\n",
    "DifferentiableView\n",
    "EmptyTangentVector\n",
    "EmptyTangentVector\n",
    "TangentVector"
   ]
  },
  {
   "cell_type": "code",
   "execution_count": null,
   "metadata": {},
   "outputs": [],
   "source": [
    "Array<PartialKeyPath<TangentVector>>"
   ]
  },
  {
   "cell_type": "code",
   "execution_count": 16,
   "metadata": {},
   "outputs": [
    {
     "ename": "",
     "evalue": "",
     "execution_count": 16,
     "output_type": "error",
     "status": "error",
     "traceback": [
      "error: <Cell 16>:36:21: error: value of type 'ResNet.TangentVector' has no member 'count'\n            print(g.count)\n                  ~ ^~~~~\n\n"
     ]
    }
   ],
   "source": [
    "print(\"Starting motion2label training...\")\n",
    "\n",
    "for _ in 1...10 {\n",
    "//     print(\"epoch \\(epoch)\")\n",
    "    Context.local.learningPhase = .training\n",
    "    var trainingLossSum: Float = 0\n",
    "    var trainingBatchCount = 0\n",
    "    for batch in dataset.training.sequenced() {\n",
    "//         print(\"progress \\(100.0*Float(trainingBatchCount)/Float(dataset.training.count))%\")\n",
    "        let (tensors, labels) = (batch.first, batch.second)\n",
    "        let (loss, gradients) = valueWithGradient(at: model) { model -> Tensor<Float> in\n",
    "            let logits = model(tensors)\n",
    "            return softmaxCrossEntropy(logits: logits, labels: labels)\n",
    "        }\n",
    "        trainingLossSum += loss.scalarized()\n",
    "        trainingBatchCount += 1\n",
    "        print(type(of:gradients.allKeyPaths))\n",
    "        for kp in gradients.allKeyPaths {\n",
    "//             print(kp)\n",
    "             let g = gradients[keyPath: kp]\n",
    "//             let g: AnyObject = gradients[keyPath: kp] as AnyObject\n",
    "//             print(type(of:g))\n",
    "            \n",
    "//             if g.isKind(of:Collection) {\n",
    "                \n",
    "//             }\n",
    "//             print((g as! Collection).count)\n",
    "        }\n",
    "//         print(gradients.shape)\n",
    "\n",
    "//         for kp in gradients.allWritableKeyPaths(to: TensorFlow.Dense<Swift.Float>.TangentVector.self) {\n",
    "        for kp in gradients.allKeyPaths(to: ImageClassificationModels.ResNet.TangentVector.self) {\n",
    "            let g: ImageClassificationModels.ResNet.TangentVector = gradients[keyPath: kp] as  ImageClassificationModels.ResNet.TangentVector\n",
    "//             print(type(of:g.weight))\n",
    "//             print(g.weight.scalarCount)\n",
    "//             print(g.count)\n",
    "        }\n",
    "\n",
    "        optimizer.update(&model, along: gradients)\n",
    "    }\n",
    "\n",
    "//     Context.local.learningPhase = .inference\n",
    "//     var testLossSum: Float = 0\n",
    "//     var testBatchCount = 0\n",
    "//     var correctGuessCount = 0\n",
    "//     var totalGuessCount = 0\n",
    "//     for batch in dataset.test.sequenced() {\n",
    "// //         print(\"batch\")\n",
    "//         let (tensors, labels) = (batch.first, batch.second)\n",
    "//         let logits = model(tensors)\n",
    "//         testLossSum += softmaxCrossEntropy(logits: logits, labels: labels).scalarized()\n",
    "//         testBatchCount += 1\n",
    "\n",
    "//         let correctPredictions = logits.argmax(squeezingAxis: 1) .== labels\n",
    "//         correctGuessCount = correctGuessCount\n",
    "//             + Int(\n",
    "//                 Tensor<Int32>(correctPredictions).sum().scalarized())\n",
    "//         totalGuessCount = totalGuessCount + batchSize\n",
    "//     }\n",
    "\n",
    "//     let accuracy = Float(correctGuessCount) / Float(totalGuessCount)\n",
    "//     print(\n",
    "//         \"\"\"\n",
    "//         [Epoch \\(epoch)] \\\n",
    "//         Training loss: \\(trainingLossSum  / Float(trainingBatchCount)) \\\n",
    "//         Accuracy: \\(correctGuessCount)/\\(totalGuessCount) (\\(accuracy*100)%) \\\n",
    "//         Loss: \\(testLossSum / Float(testBatchCount))\n",
    "//         \"\"\"\n",
    "//     )\n",
    "}"
   ]
  },
  {
   "cell_type": "code",
   "execution_count": null,
   "metadata": {},
   "outputs": [],
   "source": []
  }
 ],
 "metadata": {
  "kernelspec": {
   "display_name": "Swift",
   "language": "swift",
   "name": "swift"
  },
  "language_info": {
   "file_extension": ".swift",
   "mimetype": "text/x-swift",
   "name": "swift",
   "version": ""
  }
 },
 "nbformat": 4,
 "nbformat_minor": 4
}
