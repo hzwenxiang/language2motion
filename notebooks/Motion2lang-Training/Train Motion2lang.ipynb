{
    "nbformat": 4,
    "nbformat_minor": 0,
    "metadata": {
        "kernelspec": {
            "display_name": "Swift",
            "language": "swift",
            "name": "swift"
        },
        "language_info": {
            "file_extension": ".swift",
            "mimetype": "text/x-swift",
            "name": "swift",
            "version": ""
        },
        "colab": {
            "name": "Train Motion2lang.ipynb",
            "provenance": [
                {
                    "file_id": "https://github.com/wojtekcz/language2motion/blob/koszalin-dl-9/notebooks/Motion2lang-Training/Train%20Motion2lang.ipynb",
                    "timestamp": 1593866261625
                }
            ],
            "collapsed_sections": [],
            "toc_visible": true
        },
        "accelerator": "GPU"
    },
    "cells": [
        {
            "cell_type": "markdown",
            "metadata": {
                "id": "VOiO12PtN-LD",
                "colab_type": "text"
            },
            "source": [
                "# Train Transformer for the Motion2lang task"
            ]
        },
        {
            "cell_type": "code",
            "metadata": {
                "id": "KiEwgnAxOYNH",
                "colab_type": "code",
                "colab": {
                    "base_uri": "https://localhost:8080/",
                    "height": 238
                },
                "executionInfo": {
                    "status": "ok",
                    "timestamp": 1593870889442,
                    "user_tz": -120,
                    "elapsed": 12612,
                    "user": {
                        "displayName": "Wojtek Czarnowski",
                        "photoUrl": "https://lh3.googleusercontent.com/a-/AOh14GgGr9pBGi8chEriWx0O2kmDEjMcKRBlnHVc3aySPA=s64",
                        "userId": "01174603244603156869"
                    }
                },
                "outputId": "b72f2701-a502-4b78-a725-90ce44797b52"
            },
            "source": [
                "// for colab\n",
                "%install-location $cwd/swift-install\n",
                "%install-swiftpm-flags -c release\n",
                "%install '.package(url: \"https://github.com/wojtekcz/language2motion.git\", .branch(\"koszalin-dl-9\"))' Datasets TranslationModels TextModels ModelSupport SummaryWriter MotionModels"
            ],
            "execution_count": 1,
            "outputs": [
                {
                    "output_type": "stream",
                    "text": [
                        "Installing packages:\n",
                        "\t.package(url: \"https://github.com/wojtekcz/language2motion.git\", .branch(\"koszalin-dl-9\"))\n",
                        "\t\tDatasets\n",
                        "\t\tTranslationModels\n",
                        "\t\tTextModels\n",
                        "\t\tModelSupport\n",
                        "\t\tSummaryWriter\n",
                        "\t\tMotionModels\n",
                        "With SwiftPM flags: ['-c', 'release']\n",
                        "Working in: /tmp/tmpm6t5380f/swift-install\n",
                        "[1/2] Compiling jupyterInstalledPackages jupyterInstalledPackages.swift\n",
                        "Initializing Swift...\n",
                        "Installation complete!\n"
                    ],
                    "name": "stdout"
                }
            ]
        },
        {
            "cell_type": "code",
            "metadata": {
                "id": "R3X_ngFaN-LF",
                "colab_type": "code",
                "colab": {},
                "executionInfo": {
                    "status": "ok",
                    "timestamp": 1593869042090,
                    "user_tz": -120,
                    "elapsed": 8705,
                    "user": {
                        "displayName": "Wojtek Czarnowski",
                        "photoUrl": "https://lh3.googleusercontent.com/a-/AOh14GgGr9pBGi8chEriWx0O2kmDEjMcKRBlnHVc3aySPA=s64",
                        "userId": "01174603244603156869"
                    }
                }
            },
            "source": [
                "// for local development\n",
                "// %install-location /notebooks/language2motion.gt/swift-install\n",
                "// %install-swiftpm-flags -c release\n",
                "// %install '.package(path: \"/notebooks/language2motion.gt\")' Datasets TranslationModels TextModels ModelSupport SummaryWriter MotionModels"
            ],
            "execution_count": 2,
            "outputs": []
        },
        {
            "cell_type": "code",
            "metadata": {
                "id": "3YCslW2KN-LJ",
                "colab_type": "code",
                "colab": {},
                "executionInfo": {
                    "status": "ok",
                    "timestamp": 1593870889443,
                    "user_tz": -120,
                    "elapsed": 11653,
                    "user": {
                        "displayName": "Wojtek Czarnowski",
                        "photoUrl": "https://lh3.googleusercontent.com/a-/AOh14GgGr9pBGi8chEriWx0O2kmDEjMcKRBlnHVc3aySPA=s64",
                        "userId": "01174603244603156869"
                    }
                }
            },
            "source": [
                "import TensorFlow\n",
                "import TextModels\n",
                "import TranslationModels\n",
                "import Foundation\n",
                "import ModelSupport\n",
                "import Datasets\n",
                "import SummaryWriter\n",
                "import MotionModels"
            ],
            "execution_count": 2,
            "outputs": []
        },
        {
            "cell_type": "code",
            "metadata": {
                "id": "kpxIOsZLRUTF",
                "colab_type": "code",
                "colab": {
                    "base_uri": "https://localhost:8080/",
                    "height": 374
                },
                "executionInfo": {
                    "status": "ok",
                    "timestamp": 1593870889443,
                    "user_tz": -120,
                    "elapsed": 10725,
                    "user": {
                        "displayName": "Wojtek Czarnowski",
                        "photoUrl": "https://lh3.googleusercontent.com/a-/AOh14GgGr9pBGi8chEriWx0O2kmDEjMcKRBlnHVc3aySPA=s64",
                        "userId": "01174603244603156869"
                    }
                },
                "outputId": "2df13cc5-b0de-4d9e-ccb4-5841c7c4b9ad"
            },
            "source": [
                "import Foundation\n",
                "\n",
                "func shell(_ command: String) -> String {\n",
                "    let task = Process()\n",
                "    let pipe = Pipe()\n",
                "\n",
                "    task.standardOutput = pipe\n",
                "    task.arguments = [\"-c\", command]\n",
                "    task.launchPath = \"/bin/bash\"\n",
                "    task.launch()\n",
                "\n",
                "    let data = pipe.fileHandleForReading.readDataToEndOfFile()\n",
                "    return String(data: data, encoding: .utf8)!\n",
                "}\n",
                "\n",
                "func sh(_ command: String) {\n",
                "    print(shell(command))\n",
                "}\n",
                "\n",
                "sh(\"\"\"\n",
                "export PATH=\"$PATH:/opt/bin:/swift/toolchain/usr/bin\"\n",
                "export LD_LIBRARY_PATH=\"/usr/lib64-nvidia:$LD_LIBRARY_PATH\"\n",
                "nvidia-smi\n",
                "\"\"\")"
            ],
            "execution_count": 3,
            "outputs": [
                {
                    "output_type": "stream",
                    "text": [
                        "Sat Jul  4 13:54:48 2020       \r\n",
                        "+-----------------------------------------------------------------------------+\r\n",
                        "| NVIDIA-SMI 450.36.06    Driver Version: 418.67       CUDA Version: 10.1     |\r\n",
                        "|-------------------------------+----------------------+----------------------+\r\n",
                        "| GPU  Name        Persistence-M| Bus-Id        Disp.A | Volatile Uncorr. ECC |\r\n",
                        "| Fan  Temp  Perf  Pwr:Usage/Cap|         Memory-Usage | GPU-Util  Compute M. |\r\n",
                        "|                               |                      |               MIG M. |\r\n",
                        "|===============================+======================+======================|\r\n",
                        "|   0  Tesla T4            Off  | 00000000:00:04.0 Off |                    0 |\r\n",
                        "| N/A   53C    P8    10W /  70W |      0MiB / 15079MiB |      0%      Default |\r\n",
                        "|                               |                      |                 ERR! |\r\n",
                        "+-------------------------------+----------------------+----------------------+\r\n",
                        "                                                                               \r\n",
                        "+-----------------------------------------------------------------------------+\r\n",
                        "| Processes:                                                                  |\r\n",
                        "|  GPU   GI   CI        PID   Type   Process name                  GPU Memory |\r\n",
                        "|        ID   ID                                                   Usage      |\r\n",
                        "|=============================================================================|\r\n",
                        "|  No running processes found                                                 |\r\n",
                        "+-----------------------------------------------------------------------------+\r\n",
                        "\r\n"
                    ],
                    "name": "stdout"
                }
            ]
        },
        {
            "cell_type": "code",
            "metadata": {
                "id": "9IDtBlXnRaT3",
                "colab_type": "code",
                "colab": {},
                "executionInfo": {
                    "status": "ok",
                    "timestamp": 1593869042525,
                    "user_tz": -120,
                    "elapsed": 9126,
                    "user": {
                        "displayName": "Wojtek Czarnowski",
                        "photoUrl": "https://lh3.googleusercontent.com/a-/AOh14GgGr9pBGi8chEriWx0O2kmDEjMcKRBlnHVc3aySPA=s64",
                        "userId": "01174603244603156869"
                    }
                }
            },
            "source": [
                "// sh(\"mkdir -p /content/data/\")\n",
                "// sh(\"\"\"\n",
                "// cd /content/data/\n",
                "// wget https://github.com/wojtekcz/language2motion/releases/download/v0.2.0/motion_dataset_v3.norm.10Hz.tgz\n",
                "// wget https://github.com/wojtekcz/language2motion/releases/download/v0.1.0/labels_ds_v2.csv\n",
                "// wget https://github.com/wojtekcz/language2motion/releases/download/v0.1.0/vocab.txt\n",
                "// wget https://github.com/wojtekcz/language2motion/releases/download/v0.1.0/labels_ds_v2.balanced.515.csv\n",
                "// tar xzvf motion_dataset_v3.norm.10Hz.tgz\n",
                "// \"\"\")"
            ],
            "execution_count": 5,
            "outputs": []
        },
        {
            "cell_type": "markdown",
            "metadata": {
                "id": "qbmXosmTN-LM",
                "colab_type": "text"
            },
            "source": [
                "## Set training params"
            ]
        },
        {
            "cell_type": "code",
            "metadata": {
                "id": "sum7wmL6N-LM",
                "colab_type": "code",
                "colab": {
                    "base_uri": "https://localhost:8080/",
                    "height": 102
                },
                "executionInfo": {
                    "status": "ok",
                    "timestamp": 1593870889444,
                    "user_tz": -120,
                    "elapsed": 7204,
                    "user": {
                        "displayName": "Wojtek Czarnowski",
                        "photoUrl": "https://lh3.googleusercontent.com/a-/AOh14GgGr9pBGi8chEriWx0O2kmDEjMcKRBlnHVc3aySPA=s64",
                        "userId": "01174603244603156869"
                    }
                },
                "outputId": "b50c53b2-3f94-4d60-fbd5-bd0e678acb3d"
            },
            "source": [
                "let runName = \"run_3\"\n",
                "let batchSize = 6000\n",
                "// let batchSize = 3000\n",
                "let maxSequenceLength =  50\n",
                "let nEpochs = 3\n",
                "// let learningRate: Float = 2e-5\n",
                "let learningRate: Float = 5e-4\n",
                "\n",
                "print(\"runName: \\(runName)\")\n",
                "print(\"batchSize: \\(batchSize)\")\n",
                "print(\"maxSequenceLength: \\(maxSequenceLength)\")\n",
                "print(\"nEpochs: \\(nEpochs)\")\n",
                "print(\"learningRate: \\(learningRate)\")\n",
                "\n",
                "let dataURL = URL(fileURLWithPath: \"/content/data/\")\n",
                "let motionDatasetURL = dataURL.appendingPathComponent(\"motion_dataset_v3.norm.10Hz.plist\")\n",
                "let langDatasetURL = dataURL.appendingPathComponent(\"labels_ds_v2.csv\")"
            ],
            "execution_count": 4,
            "outputs": [
                {
                    "output_type": "stream",
                    "text": [
                        "runName: run_3\r\n",
                        "batchSize: 6000\r\n",
                        "maxSequenceLength: 50\r\n",
                        "nEpochs: 3\r\n",
                        "learningRate: 0.0005\r\n"
                    ],
                    "name": "stdout"
                }
            ]
        },
        {
            "cell_type": "markdown",
            "metadata": {
                "id": "sHyhFi49N-LP",
                "colab_type": "text"
            },
            "source": [
                "## Select eager or X10 backend"
            ]
        },
        {
            "cell_type": "code",
            "metadata": {
                "id": "bUyfo7oZN-LP",
                "colab_type": "code",
                "colab": {
                    "base_uri": "https://localhost:8080/",
                    "height": 836
                },
                "executionInfo": {
                    "status": "ok",
                    "timestamp": 1593870924772,
                    "user_tz": -120,
                    "elapsed": 38627,
                    "user": {
                        "displayName": "Wojtek Czarnowski",
                        "photoUrl": "https://lh3.googleusercontent.com/a-/AOh14GgGr9pBGi8chEriWx0O2kmDEjMcKRBlnHVc3aySPA=s64",
                        "userId": "01174603244603156869"
                    }
                },
                "outputId": "0ada86bc-7684-467f-e4b0-35b83b73378a"
            },
            "source": [
                "let device = Device.defaultXLA\n",
                "// let device = Device.defaultTFEager\n",
                "print(device)"
            ],
            "execution_count": 5,
            "outputs": [
                {
                    "output_type": "stream",
                    "text": [
                        "2020-07-04 13:54:49.121626: I tensorflow/stream_executor/platform/default/dso_loader.cc:44] Successfully opened dynamic library libcuda.so.1\n",
                        "2020-07-04 13:54:49.204459: I tensorflow/stream_executor/cuda/cuda_gpu_executor.cc:981] successful NUMA node read from SysFS had negative value (-1), but there must be at least one NUMA node, so returning NUMA node zero\n",
                        "2020-07-04 13:54:49.205104: I tensorflow/core/common_runtime/gpu/gpu_device.cc:1561] Found device 0 with properties: \n",
                        "pciBusID: 0000:00:04.0 name: Tesla T4 computeCapability: 7.5\n",
                        "coreClock: 1.59GHz coreCount: 40 deviceMemorySize: 14.73GiB deviceMemoryBandwidth: 298.08GiB/s\n",
                        "2020-07-04 13:54:49.227735: I tensorflow/stream_executor/platform/default/dso_loader.cc:44] Successfully opened dynamic library libcudart.so.10.1\n",
                        "2020-07-04 13:54:51.866140: I tensorflow/stream_executor/platform/default/dso_loader.cc:44] Successfully opened dynamic library libcublas.so.10\n",
                        "2020-07-04 13:54:55.843780: I tensorflow/stream_executor/platform/default/dso_loader.cc:44] Successfully opened dynamic library libcufft.so.10\n",
                        "2020-07-04 13:54:57.444092: I tensorflow/stream_executor/platform/default/dso_loader.cc:44] Successfully opened dynamic library libcurand.so.10\n",
                        "2020-07-04 13:55:02.495011: I tensorflow/stream_executor/platform/default/dso_loader.cc:44] Successfully opened dynamic library libcusolver.so.10\n",
                        "2020-07-04 13:55:02.567253: I tensorflow/stream_executor/platform/default/dso_loader.cc:44] Successfully opened dynamic library libcusparse.so.10\n",
                        "2020-07-04 13:55:14.814121: I tensorflow/stream_executor/platform/default/dso_loader.cc:44] Successfully opened dynamic library libcudnn.so.7\n",
                        "2020-07-04 13:55:14.814271: I tensorflow/stream_executor/cuda/cuda_gpu_executor.cc:981] successful NUMA node read from SysFS had negative value (-1), but there must be at least one NUMA node, so returning NUMA node zero\n",
                        "2020-07-04 13:55:14.814917: I tensorflow/stream_executor/cuda/cuda_gpu_executor.cc:981] successful NUMA node read from SysFS had negative value (-1), but there must be at least one NUMA node, so returning NUMA node zero\n",
                        "2020-07-04 13:55:14.815431: I tensorflow/core/common_runtime/gpu/gpu_device.cc:1703] Adding visible gpu devices: 0\n",
                        "2020-07-04 13:55:14.815914: I tensorflow/compiler/xla/xla_client/xrt_local_service.cc:54] Peer localservice 1 {localhost:44784}\n",
                        "2020-07-04 13:55:14.816015: I tensorflow/core/platform/cpu_feature_guard.cc:143] Your CPU supports instructions that this TensorFlow binary was not compiled to use: SSE3 SSE4.1 SSE4.2 AVX AVX2 FMA\n",
                        "2020-07-04 13:55:14.841725: I tensorflow/core/platform/profile_utils/cpu_utils.cc:102] CPU Frequency: 2200000000 Hz\n",
                        "2020-07-04 13:55:14.842180: I tensorflow/compiler/xla/service/service.cc:168] XLA service 0x1d59a50 initialized for platform Host (this does not guarantee that XLA will be used). Devices:\n",
                        "2020-07-04 13:55:14.842244: I tensorflow/compiler/xla/service/service.cc:176]   StreamExecutor device (0): Host, Default Version\n",
                        "2020-07-04 13:55:14.842474: I tensorflow/stream_executor/cuda/cuda_gpu_executor.cc:981] successful NUMA node read from SysFS had negative value (-1), but there must be at least one NUMA node, so returning NUMA node zero\n",
                        "2020-07-04 13:55:14.843073: I tensorflow/core/common_runtime/gpu/gpu_device.cc:1561] Found device 0 with properties: \n",
                        "pciBusID: 0000:00:04.0 name: Tesla T4 computeCapability: 7.5\n",
                        "coreClock: 1.59GHz coreCount: 40 deviceMemorySize: 14.73GiB deviceMemoryBandwidth: 298.08GiB/s\n",
                        "2020-07-04 13:55:14.843135: I tensorflow/stream_executor/platform/default/dso_loader.cc:44] Successfully opened dynamic library libcudart.so.10.1\n",
                        "2020-07-04 13:55:14.843157: I tensorflow/stream_executor/platform/default/dso_loader.cc:44] Successfully opened dynamic library libcublas.so.10\n",
                        "2020-07-04 13:55:14.843176: I tensorflow/stream_executor/platform/default/dso_loader.cc:44] Successfully opened dynamic library libcufft.so.10\n",
                        "2020-07-04 13:55:14.843193: I tensorflow/stream_executor/platform/default/dso_loader.cc:44] Successfully opened dynamic library libcurand.so.10\n",
                        "2020-07-04 13:55:14.843211: I tensorflow/stream_executor/platform/default/dso_loader.cc:44] Successfully opened dynamic library libcusolver.so.10\n",
                        "2020-07-04 13:55:14.843227: I tensorflow/stream_executor/platform/default/dso_loader.cc:44] Successfully opened dynamic library libcusparse.so.10\n",
                        "2020-07-04 13:55:14.843258: I tensorflow/stream_executor/platform/default/dso_loader.cc:44] Successfully opened dynamic library libcudnn.so.7\n",
                        "2020-07-04 13:55:14.843334: I tensorflow/stream_executor/cuda/cuda_gpu_executor.cc:981] successful NUMA node read from SysFS had negative value (-1), but there must be at least one NUMA node, so returning NUMA node zero\n",
                        "2020-07-04 13:55:14.843883: I tensorflow/stream_executor/cuda/cuda_gpu_executor.cc:981] successful NUMA node read from SysFS had negative value (-1), but there must be at least one NUMA node, so returning NUMA node zero\n",
                        "2020-07-04 13:55:14.844424: I tensorflow/core/common_runtime/gpu/gpu_device.cc:1703] Adding visible gpu devices: 0\n",
                        "2020-07-04 13:55:23.730505: I tensorflow/core/common_runtime/gpu/gpu_device.cc:1102] Device interconnect StreamExecutor with strength 1 edge matrix:\n",
                        "2020-07-04 13:55:23.730559: I tensorflow/core/common_runtime/gpu/gpu_device.cc:1108]      0 \n",
                        "2020-07-04 13:55:23.730573: I tensorflow/core/common_runtime/gpu/gpu_device.cc:1121] 0:   N \n",
                        "2020-07-04 13:55:23.730733: I tensorflow/stream_executor/cuda/cuda_gpu_executor.cc:981] successful NUMA node read from SysFS had negative value (-1), but there must be at least one NUMA node, so returning NUMA node zero\n",
                        "2020-07-04 13:55:23.731370: I tensorflow/stream_executor/cuda/cuda_gpu_executor.cc:981] successful NUMA node read from SysFS had negative value (-1), but there must be at least one NUMA node, so returning NUMA node zero\n",
                        "2020-07-04 13:55:23.731905: I tensorflow/stream_executor/cuda/cuda_gpu_executor.cc:981] successful NUMA node read from SysFS had negative value (-1), but there must be at least one NUMA node, so returning NUMA node zero\n",
                        "2020-07-04 13:55:23.732418: W tensorflow/core/common_runtime/gpu/gpu_bfc_allocator.cc:39] Overriding allow_growth setting because the TF_FORCE_GPU_ALLOW_GROWTH environment variable is set. Original config value was 0.\n",
                        "2020-07-04 13:55:23.732455: I tensorflow/core/common_runtime/gpu/gpu_device.cc:1247] Created TensorFlow device (/job:localservice/replica:0/task:0/device:GPU:0 with 13947 MB memory) -> physical GPU (device: 0, name: Tesla T4, pci bus id: 0000:00:04.0, compute capability: 7.5)\n",
                        "2020-07-04 13:55:23.734561: I tensorflow/compiler/xla/service/service.cc:168] XLA service 0x1564fa90 initialized for platform CUDA (this does not guarantee that XLA will be used). Devices:\n",
                        "2020-07-04 13:55:23.734595: I tensorflow/compiler/xla/service/service.cc:176]   StreamExecutor device (0): Tesla T4, Compute Capability 7.5\n",
                        "2020-07-04 13:55:23.763435: I tensorflow/core/distributed_runtime/rpc/grpc_channel.cc:301] Initialize GrpcChannelCache for job localservice -> {0 -> localhost:44784}\n",
                        "2020-07-04 13:55:23.764905: I tensorflow/core/distributed_runtime/rpc/grpc_server_lib.cc:390] Started server with target: grpc://localhost:44784\n",
                        "Device(kind: .GPU, ordinal: 0, backend: .XLA)\n"
                    ],
                    "name": "stdout"
                }
            ]
        },
        {
            "cell_type": "markdown",
            "metadata": {
                "id": "ysZrpeweN-LS",
                "colab_type": "text"
            },
            "source": [
                "## X10 warmup"
            ]
        },
        {
            "cell_type": "code",
            "metadata": {
                "id": "QJX4GecfN-LT",
                "colab_type": "code",
                "colab": {
                    "base_uri": "https://localhost:8080/",
                    "height": 428
                },
                "executionInfo": {
                    "status": "ok",
                    "timestamp": 1593870928335,
                    "user_tz": -120,
                    "elapsed": 1963,
                    "user": {
                        "displayName": "Wojtek Czarnowski",
                        "photoUrl": "https://lh3.googleusercontent.com/a-/AOh14GgGr9pBGi8chEriWx0O2kmDEjMcKRBlnHVc3aySPA=s64",
                        "userId": "01174603244603156869"
                    }
                },
                "outputId": "6979bcb1-6c88-4d36-cfd3-9f1cde182b54"
            },
            "source": [
                "let eagerTensor1 = Tensor([0.0, 1.0, 2.0])\n",
                "let eagerTensor2 = Tensor([1.5, 2.5, 3.5])\n",
                "let eagerTensorSum = eagerTensor1 + eagerTensor2\n",
                "print(eagerTensorSum)\n",
                "print(eagerTensor1.device)\n",
                "let x10Tensor2 = Tensor([1.5, 2.5, 3.5], on: Device.defaultXLA)\n",
                "print(x10Tensor2.device)"
            ],
            "execution_count": 6,
            "outputs": [
                {
                    "output_type": "stream",
                    "text": [
                        "2020-07-04 13:55:27.506213: I tensorflow/stream_executor/cuda/cuda_gpu_executor.cc:981] successful NUMA node read from SysFS had negative value (-1), but there must be at least one NUMA node, so returning NUMA node zero\r\n",
                        "2020-07-04 13:55:27.508023: I tensorflow/core/common_runtime/gpu/gpu_device.cc:1561] Found device 0 with properties: \r\n",
                        "pciBusID: 0000:00:04.0 name: Tesla T4 computeCapability: 7.5\r\n",
                        "coreClock: 1.59GHz coreCount: 40 deviceMemorySize: 14.73GiB deviceMemoryBandwidth: 298.08GiB/s\r\n",
                        "2020-07-04 13:55:27.508108: I tensorflow/stream_executor/platform/default/dso_loader.cc:44] Successfully opened dynamic library libcudart.so.10.1\r\n",
                        "2020-07-04 13:55:27.508130: I tensorflow/stream_executor/platform/default/dso_loader.cc:44] Successfully opened dynamic library libcublas.so.10\r\n",
                        "2020-07-04 13:55:27.508149: I tensorflow/stream_executor/platform/default/dso_loader.cc:44] Successfully opened dynamic library libcufft.so.10\r\n",
                        "2020-07-04 13:55:27.508166: I tensorflow/stream_executor/platform/default/dso_loader.cc:44] Successfully opened dynamic library libcurand.so.10\r\n",
                        "2020-07-04 13:55:27.508183: I tensorflow/stream_executor/platform/default/dso_loader.cc:44] Successfully opened dynamic library libcusolver.so.10\r\n",
                        "2020-07-04 13:55:27.508200: I tensorflow/stream_executor/platform/default/dso_loader.cc:44] Successfully opened dynamic library libcusparse.so.10\r\n",
                        "2020-07-04 13:55:27.508218: I tensorflow/stream_executor/platform/default/dso_loader.cc:44] Successfully opened dynamic library libcudnn.so.7\r\n",
                        "2020-07-04 13:55:27.508382: I tensorflow/stream_executor/cuda/cuda_gpu_executor.cc:981] successful NUMA node read from SysFS had negative value (-1), but there must be at least one NUMA node, so returning NUMA node zero\r\n",
                        "2020-07-04 13:55:27.508993: I tensorflow/stream_executor/cuda/cuda_gpu_executor.cc:981] successful NUMA node read from SysFS had negative value (-1), but there must be at least one NUMA node, so returning NUMA node zero\r\n",
                        "2020-07-04 13:55:27.509573: I tensorflow/core/common_runtime/gpu/gpu_device.cc:1703] Adding visible gpu devices: 0\r\n",
                        "2020-07-04 13:55:27.509611: I tensorflow/core/common_runtime/gpu/gpu_device.cc:1102] Device interconnect StreamExecutor with strength 1 edge matrix:\r\n",
                        "2020-07-04 13:55:27.509623: I tensorflow/core/common_runtime/gpu/gpu_device.cc:1108]      0 \r\n",
                        "2020-07-04 13:55:27.509674: I tensorflow/core/common_runtime/gpu/gpu_device.cc:1121] 0:   N \r\n",
                        "2020-07-04 13:55:27.510638: I tensorflow/stream_executor/cuda/cuda_gpu_executor.cc:981] successful NUMA node read from SysFS had negative value (-1), but there must be at least one NUMA node, so returning NUMA node zero\r\n",
                        "2020-07-04 13:55:27.514670: I tensorflow/stream_executor/cuda/cuda_gpu_executor.cc:981] successful NUMA node read from SysFS had negative value (-1), but there must be at least one NUMA node, so returning NUMA node zero\r\n",
                        "2020-07-04 13:55:27.517765: I tensorflow/core/common_runtime/gpu/gpu_device.cc:1247] Created TensorFlow device (/job:localhost/replica:0/task:0/device:GPU:0 with 13947 MB memory) -> physical GPU (device: 0, name: Tesla T4, pci bus id: 0000:00:04.0, compute capability: 7.5)\n",
                        "[1.5, 3.5, 5.5]\n",
                        "Device(kind: .CPU, ordinal: 0, backend: .TF_EAGER)\n",
                        "Device(kind: .GPU, ordinal: 0, backend: .XLA)\n"
                    ],
                    "name": "stdout"
                }
            ]
        },
        {
            "cell_type": "markdown",
            "metadata": {
                "id": "XHwl5J2LN-LV",
                "colab_type": "text"
            },
            "source": [
                "## Instantiate model"
            ]
        },
        {
            "cell_type": "code",
            "metadata": {
                "id": "Xp5-Mh2TN-LW",
                "colab_type": "code",
                "colab": {},
                "executionInfo": {
                    "status": "ok",
                    "timestamp": 1593870931518,
                    "user_tz": -120,
                    "elapsed": 1684,
                    "user": {
                        "displayName": "Wojtek Czarnowski",
                        "photoUrl": "https://lh3.googleusercontent.com/a-/AOh14GgGr9pBGi8chEriWx0O2kmDEjMcKRBlnHVc3aySPA=s64",
                        "userId": "01174603244603156869"
                    }
                }
            },
            "source": [
                "// instantiate text processor\n",
                "let vocabularyURL = dataURL.appendingPathComponent(\"vocab.txt\")\n",
                "let vocabulary: Vocabulary = try! Vocabulary(fromFile: vocabularyURL)\n",
                "let tokenizer: Tokenizer = BERTTokenizer(vocabulary: vocabulary, caseSensitive: false, unknownToken: \"[UNK]\", maxTokenLength: nil)\n",
                "let textProcessor = TextProcessor(vocabulary: vocabulary, tokenizer: tokenizer, maxSequenceLength: maxSequenceLength)\n",
                "\n",
                "// instantiate model\n",
                "let sourceVocabSize = vocabulary.count\n",
                "let inputSize = 48 // TODO: get value from dataset\n",
                "let targetVocabSize = vocabulary.count\n",
                "let layerCount: Int = 6\n",
                "let modelSize: Int = 256\n",
                "let feedForwardSize: Int = 1024\n",
                "let headCount: Int = 8\n",
                "let dropoutProbability: Double = 0.1\n",
                "\n",
                "var model = MotionLangTransformer(\n",
                "    sourceVocabSize: sourceVocabSize, \n",
                "    inputSize: inputSize,\n",
                "    targetVocabSize: targetVocabSize,\n",
                "    layerCount: layerCount, \n",
                "    modelSize: modelSize, \n",
                "    feedForwardSize: feedForwardSize, \n",
                "    headCount: headCount, \n",
                "    dropoutProbability: dropoutProbability\n",
                ")\n",
                "\n",
                "model.move(to: device)"
            ],
            "execution_count": 7,
            "outputs": []
        },
        {
            "cell_type": "markdown",
            "metadata": {
                "id": "ysEn7gicN-LZ",
                "colab_type": "text"
            },
            "source": [
                "## Load dataset"
            ]
        },
        {
            "cell_type": "code",
            "metadata": {
                "id": "CFwP-zu-N-LZ",
                "colab_type": "code",
                "colab": {
                    "base_uri": "https://localhost:8080/",
                    "height": 119
                },
                "executionInfo": {
                    "status": "ok",
                    "timestamp": 1593871016321,
                    "user_tz": -120,
                    "elapsed": 82438,
                    "user": {
                        "displayName": "Wojtek Czarnowski",
                        "photoUrl": "https://lh3.googleusercontent.com/a-/AOh14GgGr9pBGi8chEriWx0O2kmDEjMcKRBlnHVc3aySPA=s64",
                        "userId": "01174603244603156869"
                    }
                },
                "outputId": "b4e93daf-83f2-4481-92e3-d09cdd3bf080"
            },
            "source": [
                "print(\"\\nLoading dataset...\")\n",
                "\n",
                "var dataset = try Motion2Lang(\n",
                "    motionDatasetURL: motionDatasetURL,\n",
                "    langDatasetURL: langDatasetURL,\n",
                "    maxSequenceLength: maxSequenceLength,\n",
                "    batchSize: batchSize\n",
                ") { (example: Motion2Lang.Example) -> MotionLangBatch in    \n",
                "    let singleBatch = textProcessor.preprocess(example: example)\n",
                "    return singleBatch\n",
                "}\n",
                "\n",
                "print(\"Dataset acquired.\")"
            ],
            "execution_count": 8,
            "outputs": [
                {
                    "output_type": "stream",
                    "text": [
                        "\r\n",
                        "Loading dataset...\n",
                        "MotionDataset(motionSamples: 39102)\n",
                        "keeping 30120 annotatated motions\n",
                        "keeping 29970 longer motions, with minimum 10 frames\n",
                        "Dataset acquired.\n"
                    ],
                    "name": "stdout"
                }
            ]
        },
        {
            "cell_type": "markdown",
            "metadata": {
                "id": "Wzeal8UdN-Lb",
                "colab_type": "text"
            },
            "source": [
                "## Check model on a batch"
            ]
        },
        {
            "cell_type": "code",
            "metadata": {
                "id": "BxIdHymZN-Lc",
                "colab_type": "code",
                "colab": {},
                "executionInfo": {
                    "status": "ok",
                    "timestamp": 1593869142997,
                    "user_tz": -120,
                    "elapsed": 109572,
                    "user": {
                        "displayName": "Wojtek Czarnowski",
                        "photoUrl": "https://lh3.googleusercontent.com/a-/AOh14GgGr9pBGi8chEriWx0O2kmDEjMcKRBlnHVc3aySPA=s64",
                        "userId": "01174603244603156869"
                    }
                }
            },
            "source": [
                "// get a batch\n",
                "// print(\"\\nOne batch (MotionLangBatch):\")\n",
                "// var epochIterator = dataset.trainingEpochs.enumerated().makeIterator()\n",
                "// let epoch = epochIterator.next()\n",
                "// let batches = Array(epoch!.1)\n",
                "// let batch: MotionLangBatch = batches[0]\n",
                "// print(\"type: \\(type(of:batch))\")\n",
                "// print(\"motionFrames.shape: \\(batch.motionFrames.shape)\")\n",
                "// // print(\"motionFlag.shape: \\(batch.motionFlag.shape)\")\n",
                "// print(\"mask.shape: \\(batch.mask.shape)\")\n",
                "// print(\"origMotionFramesCount.shape: \\(batch.origMotionFramesCount.shape)\")\n",
                "// print(\"origMotionFramesCount: \\(batch.origMotionFramesCount)\")\n",
                "// print(\"targetTokenIds.shape: \\(batch.targetTokenIds.shape)\")\n",
                "// print(\"targetMask.shape: \\(batch.targetMask.shape)\")\n",
                "// print(\"targetTruth.shape: \\(batch.targetTruth.shape)\")"
            ],
            "execution_count": 11,
            "outputs": []
        },
        {
            "cell_type": "code",
            "metadata": {
                "id": "xb3enWa55kr5",
                "colab_type": "code",
                "colab": {},
                "executionInfo": {
                    "status": "ok",
                    "timestamp": 1593869142998,
                    "user_tz": -120,
                    "elapsed": 109571,
                    "user": {
                        "displayName": "Wojtek Czarnowski",
                        "photoUrl": "https://lh3.googleusercontent.com/a-/AOh14GgGr9pBGi8chEriWx0O2kmDEjMcKRBlnHVc3aySPA=s64",
                        "userId": "01174603244603156869"
                    }
                }
            },
            "source": [
                "// run one batch\n",
                "// print(\"\\nRun one batch:\")\n",
                "// print(\"==============\")\n",
                "// let deviceBatch = MotionLangBatch(copying: batch, to: device)\n",
                "// let output = model(deviceBatch)\n",
                "// print(\"output.shape: \\(output.shape)\")"
            ],
            "execution_count": 12,
            "outputs": []
        },
        {
            "cell_type": "markdown",
            "metadata": {
                "id": "gGL_PkLMN-Lf",
                "colab_type": "text"
            },
            "source": [
                "## Optimizer"
            ]
        },
        {
            "cell_type": "code",
            "metadata": {
                "id": "jon3S7pPN-Lf",
                "colab_type": "code",
                "colab": {},
                "executionInfo": {
                    "status": "ok",
                    "timestamp": 1593871016322,
                    "user_tz": -120,
                    "elapsed": 78451,
                    "user": {
                        "displayName": "Wojtek Czarnowski",
                        "photoUrl": "https://lh3.googleusercontent.com/a-/AOh14GgGr9pBGi8chEriWx0O2kmDEjMcKRBlnHVc3aySPA=s64",
                        "userId": "01174603244603156869"
                    }
                }
            },
            "source": [
                "var optimizer = Adam(for: model, learningRate: learningRate)\n",
                "optimizer = Adam(copying: optimizer, to: device)\n",
                "\n",
                "let logdirURL = dataURL.appendingPathComponent(\"tboard/Motion2lang/\\(runName)\", isDirectory: true)\n",
                "let summaryWriter = SummaryWriter(logdir: logdirURL, flushMillis: 30*1000)"
            ],
            "execution_count": 9,
            "outputs": []
        },
        {
            "cell_type": "markdown",
            "metadata": {
                "id": "TQGXiJB1N-Li",
                "colab_type": "text"
            },
            "source": [
                "## Training helpers"
            ]
        },
        {
            "cell_type": "code",
            "metadata": {
                "id": "0g22npgZN-Li",
                "colab_type": "code",
                "colab": {},
                "executionInfo": {
                    "status": "ok",
                    "timestamp": 1593871017599,
                    "user_tz": -120,
                    "elapsed": 77203,
                    "user": {
                        "displayName": "Wojtek Czarnowski",
                        "photoUrl": "https://lh3.googleusercontent.com/a-/AOh14GgGr9pBGi8chEriWx0O2kmDEjMcKRBlnHVc3aySPA=s64",
                        "userId": "01174603244603156869"
                    }
                }
            },
            "source": [
                "func update(model: inout MotionLangTransformer, using optimizer: inout Adam<MotionLangTransformer>, for batch: MotionLangBatch) -> Float {\n",
                "    let labels = batch.targetTruth.reshaped(to: [-1])\n",
                "    let resultSize = batch.targetTruth.shape.last! * batch.targetTruth.shape.first!\n",
                "    let padIndex = textProcessor.padId\n",
                "    let result = withLearningPhase(.training) { () -> Float in\n",
                "        let (loss, grad) = valueWithGradient(at: model) {\n",
                "            (model) -> Tensor<Float> in\n",
                "            let logits = model.generate(input: batch).reshaped(to: [resultSize, -1])\n",
                "            let sce = softmaxCrossEntropy(logits: logits, labels: labels)\n",
                "            return sce\n",
                "        }\n",
                "        optimizer.update(&model, along: grad)\n",
                "        LazyTensorBarrier()\n",
                "        return loss.scalarized()\n",
                "    }\n",
                "    return result\n",
                "}\n",
                "\n",
                "/// returns validation loss\n",
                "func validate(model: inout MotionLangTransformer, for batch: MotionLangBatch) -> Float {\n",
                "    let labels = batch.targetTruth.reshaped(to: [-1])\n",
                "    let resultSize = batch.targetTruth.shape.last! * batch.targetTruth.shape.first!\n",
                "    let padIndex = textProcessor.padId\n",
                "    let result = withLearningPhase(.inference) { () -> Float in\n",
                "        softmaxCrossEntropy(logits: model.generate(input: batch).reshaped(to: [resultSize, -1]), labels: labels).scalarized()\n",
                "    }\n",
                "    LazyTensorBarrier()\n",
                "    return result\n",
                "}"
            ],
            "execution_count": 10,
            "outputs": []
        },
        {
            "cell_type": "markdown",
            "metadata": {
                "id": "Kr2TXD10N-Lk",
                "colab_type": "text"
            },
            "source": [
                "## setup decoding"
            ]
        },
        {
            "cell_type": "code",
            "metadata": {
                "id": "TWM7srrpN-Lk",
                "colab_type": "code",
                "colab": {},
                "executionInfo": {
                    "status": "ok",
                    "timestamp": 1593871019638,
                    "user_tz": -120,
                    "elapsed": 76929,
                    "user": {
                        "displayName": "Wojtek Czarnowski",
                        "photoUrl": "https://lh3.googleusercontent.com/a-/AOh14GgGr9pBGi8chEriWx0O2kmDEjMcKRBlnHVc3aySPA=s64",
                        "userId": "01174603244603156869"
                    }
                }
            },
            "source": [
                "func greedyDecode(model: MotionLangTransformer, input: MotionLangBatch, maxLength: Int, startSymbol: Int32) -> Tensor<Int32> {\n",
                "    let memory = model.encode(input: input)\n",
                "    var ys = Tensor(repeating: startSymbol, shape: [1,1])\n",
                "    // ys = Tensor(copying: ys, to: device)\n",
                "    for _ in 0..<maxLength {\n",
                "        let decoderInput = MotionLangBatch(motionFrames: input.motionFrames,\n",
                "                                     mask: input.mask,\n",
                "                                     origMotionFramesCount: input.origMotionFramesCount,\n",
                "                                     targetTokenIds: ys,\n",
                "                                     targetMask: Tensor<Float>(subsequentMask(size: ys.shape[1])),\n",
                "                                     targetTruth: input.targetTruth)\n",
                "        // decoderInput = MotionLangBatch(copying: decoderInput, to: device)\n",
                "        let out = model.decode(input: decoderInput, memory: memory)\n",
                "        let prob = model.generate(input: out[0...,-1])\n",
                "        let nextWord = Int32(prob.argmax().scalarized())\n",
                "        ys = Tensor(concatenating: [ys, Tensor(repeating: nextWord, shape: [1,1])], alongAxis: 1) // , on: device\n",
                "        // ys = Tensor(copying: ys, to: device)\n",
                "    }\n",
                "    return ys\n",
                "}"
            ],
            "execution_count": 11,
            "outputs": []
        },
        {
            "cell_type": "code",
            "metadata": {
                "id": "s73XJlq5U7NT",
                "colab_type": "code",
                "colab": {
                    "base_uri": "https://localhost:8080/",
                    "height": 85
                },
                "executionInfo": {
                    "status": "ok",
                    "timestamp": 1593871020316,
                    "user_tz": -120,
                    "elapsed": 75346,
                    "user": {
                        "displayName": "Wojtek Czarnowski",
                        "photoUrl": "https://lh3.googleusercontent.com/a-/AOh14GgGr9pBGi8chEriWx0O2kmDEjMcKRBlnHVc3aySPA=s64",
                        "userId": "01174603244603156869"
                    }
                },
                "outputId": "0dd9796c-0c06-417f-e49e-7aabaeb175a9"
            },
            "source": [
                "// get example\n",
                "let example = dataset.trainExamples[0]\n",
                "print(\"example.id: \\(example.id)\")\n",
                "print(\"example.motionSample.timestepsArray.last: \\(example.motionSample.timestepsArray.last!)\")\n",
                "print(\"example.motionSample.motionFramesArray.shape: \\(example.motionSample.motionFramesArray.shape)\")\n",
                "print(\"example.targetSentence: \\(example.targetSentence)\")\n",
                "\n",
                "let singleExampleBatch = textProcessor.preprocess(example: example)\n",
                "var source = Motion2Lang.reduceDataBatches([singleExampleBatch])"
            ],
            "execution_count": 12,
            "outputs": [
                {
                    "output_type": "stream",
                    "text": [
                        "example.id: 2069\r\n",
                        "example.motionSample.timestepsArray.last: 3.9\r\n",
                        "example.motionSample.motionFramesArray.shape: [40, 48]\r\n",
                        "example.targetSentence: Subject starts on its knees and stands up.\r\n"
                    ],
                    "name": "stdout"
                }
            ]
        },
        {
            "cell_type": "code",
            "metadata": {
                "id": "FE4T4N8xN-Lo",
                "colab_type": "code",
                "colab": {
                    "base_uri": "https://localhost:8080/",
                    "height": 88
                },
                "executionInfo": {
                    "status": "ok",
                    "timestamp": 1593871022458,
                    "user_tz": -120,
                    "elapsed": 75134,
                    "user": {
                        "displayName": "Wojtek Czarnowski",
                        "photoUrl": "https://lh3.googleusercontent.com/a-/AOh14GgGr9pBGi8chEriWx0O2kmDEjMcKRBlnHVc3aySPA=s64",
                        "userId": "01174603244603156869"
                    }
                },
                "outputId": "9e158d62-aa85-4977-85b0-30897a7dc79f"
            },
            "source": [
                "var outputStr = textProcessor.decode(tensor: source.targetTokenIds)\n",
                "print(\"decode(source.targetTokenIds): \\(outputStr)\")\n",
                "\n",
                "Context.local.learningPhase = .inference\n",
                "source = MotionLangBatch(copying: source, to: Device.defaultTFEager)\n",
                "model.move(to: Device.defaultTFEager)\n",
                "let out = greedyDecode(model: model, input: source, maxLength: 50, startSymbol: textProcessor.bosId)\n",
                "outputStr = textProcessor.decode(tensor: out)\n",
                "print(\"greedyDecode(): \\\"\\(outputStr)\\\"\")\n",
                "model.move(to: device)"
            ],
            "execution_count": 13,
            "outputs": [
                {
                    "output_type": "stream",
                    "text": [
                        "decode(source.targetTokenIds): [CLS] subject starts on its knees and stands up .\n",
                        "2020-07-04 13:56:59.633709: I tensorflow/stream_executor/platform/default/dso_loader.cc:44] Successfully opened dynamic library libcublas.so.10\n",
                        "greedyDecode(): \"[CLS] mora mora mora mora mora mora mora mora mora mora mora mora mora mora mora mora mora mora mora mora mora mora mora mora mora mora mora mora mora mora mora mora mora mora mora mora relief relief mora mora mora mora mora mora mora mora mora mora mora mora\"\n"
                    ],
                    "name": "stdout"
                }
            ]
        },
        {
            "cell_type": "markdown",
            "metadata": {
                "id": "22deJipJN-Lr",
                "colab_type": "text"
            },
            "source": [
                "## Training loop"
            ]
        },
        {
            "cell_type": "code",
            "metadata": {
                "id": "7QPJMsdTN-Lr",
                "colab_type": "code",
                "colab": {
                    "base_uri": "https://localhost:8080/",
                    "height": 411
                },
                "outputId": "5fbf5afb-590a-48d9-ac2a-2abf65f29924"
            },
            "source": [
                "print(\"\\nTraining Transformer for the Motion2lang task!\")\n",
                "var trainingStepCount = 0\n",
                "time() {\n",
                "    LazyTensorBarrier()\n",
                "    for (epoch, epochBatches) in dataset.trainingEpochs.prefix(nEpochs).enumerated() {\n",
                "        print(\"[Epoch \\(epoch + 1)]\")\n",
                "        Context.local.learningPhase = .training\n",
                "        var trainingLossSum: Float = 0\n",
                "        var trainingBatchCount = 0\n",
                "        if epoch == 0 {\n",
                "            print(\"epochBatches.count: \\(epochBatches.count)\")\n",
                "        }\n",
                "\n",
                "        for eagerBatch in epochBatches {\n",
                "            if (trainingStepCount < 5) {\n",
                "                print(\"==> step \\(trainingStepCount)\")\n",
                "            }\n",
                "            let batch = MotionLangBatch(copying: eagerBatch, to: device)\n",
                "            let loss: Float = update(model: &model, using: &optimizer, for: batch)\n",
                "            if (trainingStepCount < 5) {\n",
                "                print(\"current loss at step \\(trainingStepCount): \\(loss)\")\n",
                "            }\n",
                "            trainingLossSum += loss\n",
                "            trainingBatchCount += 1\n",
                "            summaryWriter.writeScalarSummary(tag: \"TrainingLoss\", step: trainingStepCount, value: trainingLossSum / Float(trainingBatchCount))\n",
                "            trainingStepCount += 1\n",
                "        }\n",
                "        print(\n",
                "            \"\"\"\n",
                "            Training loss: \\(trainingLossSum / Float(trainingBatchCount))\n",
                "            \"\"\"\n",
                "        )\n",
                "        summaryWriter.writeScalarSummary(tag: \"EpochTrainingLoss\", step: epoch+1, value: trainingLossSum / Float(trainingBatchCount))\n",
                "\n",
                "        if epoch == 0 {\n",
                "            print(\"dataset.validationBatches.count: \\(dataset.validationBatches.count)\")\n",
                "        }\n",
                "        Context.local.learningPhase = .inference\n",
                "        var devLossSum: Float = 0\n",
                "        var devBatchCount = 0\n",
                "        var totalGuessCount = 0\n",
                "\n",
                "        for eagerBatch in dataset.validationBatches {\n",
                "            let batch = MotionLangBatch(copying: eagerBatch, to: device)\n",
                "            let loss: Float = validate(model: &model, for: batch)\n",
                "            let valBatchSize = batch.motionFrames.shape[0]\n",
                "\n",
                "            devLossSum += loss\n",
                "            devBatchCount += 1\n",
                "            totalGuessCount += valBatchSize\n",
                "        }\n",
                "\n",
                "        print(\n",
                "            \"\"\"\n",
                "            totalGuessCount: \\(totalGuessCount) \\\n",
                "            Eval loss: \\(devLossSum / Float(devBatchCount))\n",
                "            \"\"\"\n",
                "        )\n",
                "        summaryWriter.writeScalarSummary(tag: \"EpochTestLoss\", step: epoch+1, value: devLossSum / Float(devBatchCount))\n",
                "\n",
                "        print(\"\\nEncoding/decoding one example\") // on eager device\n",
                "        Context.local.learningPhase = .inference\n",
                "        source = MotionLangBatch(copying: source, to: Device.defaultTFEager)\n",
                "        model.move(to: Device.defaultTFEager)\n",
                "        let out = greedyDecode(model: model, input: source, maxLength: 50, startSymbol: textProcessor.bosId)\n",
                "        outputStr = textProcessor.decode(tensor: out)\n",
                "        print(\"greedyDecode(): \\\"\\(outputStr)\\\"\")\n",
                "        model.move(to: device)\n",
                "    }\n",
                "    summaryWriter.flush()\n",
                "}\n",
                "\n",
                "\n",
                "print(\"\\nFinished training.\")"
            ],
            "execution_count": null,
            "outputs": [
                {
                    "output_type": "stream",
                    "text": [
                        "\r\n",
                        "Training Transformer for the Motion2lang task!\n",
                        "2020-07-04 13:57:02.366909: W tensorflow/compiler/jit/xla_device.cc:398] XLA_GPU and XLA_CPU devices are deprecated and will be removed in subsequent releases. Instead, use either @tf.function(experimental_compile=True) for must-compile semantics, or run with TF_XLA_FLAGS=--tf_xla_auto_jit=2 for auto-clustering best-effort compilation.\n",
                        "[Epoch 1]\n",
                        "epochBatches.count: 199\n",
                        "==> step 0\n",
                        "current loss at step 0: 11.6007\n",
                        "==> step 1\n",
                        "current loss at step 1: 10.313914\n",
                        "==> step 2\n",
                        "current loss at step 2: 9.06369\n",
                        "==> step 3\n",
                        "current loss at step 3: 7.8494\n",
                        "==> step 4\n",
                        "current loss at step 4: 6.7248254\n",
                        "Training loss: 1.4837726\n",
                        "dataset.validationBatches.count: 50\n",
                        "totalGuessCount: 5993 Eval loss: 0.9534913\n",
                        "\n",
                        "Encoding/decoding one example\n",
                        "greedyDecode(): \"[CLS] [PAD] [PAD] [PAD] [PAD] [PAD] [PAD] [PAD] [PAD] [PAD] [PAD] [PAD] [PAD] [PAD] [PAD] [PAD] [PAD] [PAD] [PAD] [PAD] [PAD] [PAD] [PAD] [PAD] [PAD] [PAD] [PAD] [PAD] [PAD] [PAD] [PAD] [PAD] [PAD] [PAD] [PAD] [PAD] [PAD] [PAD] [PAD] [PAD] [PAD] [PAD] [PAD] [PAD] [PAD] [PAD] [PAD] [PAD] [PAD] [PAD] [PAD]\"\n",
                        "[Epoch 2]\n"
                    ],
                    "name": "stdout"
                }
            ]
        },
        {
            "cell_type": "markdown",
            "metadata": {
                "id": "90NRg5U_N-Lt",
                "colab_type": "text"
            },
            "source": [
                "## Decoding"
            ]
        },
        {
            "cell_type": "code",
            "metadata": {
                "id": "NwwLts3d_ZYB",
                "colab_type": "code",
                "colab": {}
            },
            "source": [
                "// // get example\n",
                "// let example = dataset.trainExamples[0]\n",
                "// print(\"example.id: \\(example.id)\")\n",
                "// print(\"example.motionSample.timestepsArray.last: \\(example.motionSample.timestepsArray.last!)\")\n",
                "// print(\"example.motionSample.motionFramesArray.shape: \\(example.motionSample.motionFramesArray.shape)\")\n",
                "// print(\"example.targetSentence: \\(example.targetSentence)\")\n",
                "\n",
                "// let singleExampleBatch = textProcessor.preprocess(example: example)\n",
                "// var source = Motion2Lang.reduceDataBatches([singleExampleBatch])"
            ],
            "execution_count": null,
            "outputs": []
        },
        {
            "cell_type": "code",
            "metadata": {
                "id": "NX35KcjKN-Lu",
                "colab_type": "code",
                "colab": {}
            },
            "source": [
                "// // encode/decode one example\n",
                "// print(\"\\nEncoding/decoding one example\") // on eager device\n",
                "// // Context.local.learningPhase = .inference\n",
                "// source = MotionLangBatch(copying: source, to: Device.defaultTFEager)\n",
                "// model.move(to: Device.defaultTFEager)\n",
                "// let out = greedyDecode(model: model, input: source, maxLength: 50, startSymbol: textProcessor.bosId)\n",
                "// outputStr = textProcessor.decode(tensor: out)\n",
                "// print(\"greedyDecode(): \\\"\\(outputStr)\\\"\")\n",
                "// model.move(to: device)"
            ],
            "execution_count": null,
            "outputs": []
        },
        {
            "cell_type": "code",
            "metadata": {
                "id": "MMY-iAwaN-Lw",
                "colab_type": "code",
                "colab": {}
            },
            "source": [
                ""
            ],
            "execution_count": null,
            "outputs": []
        }
    ]
}