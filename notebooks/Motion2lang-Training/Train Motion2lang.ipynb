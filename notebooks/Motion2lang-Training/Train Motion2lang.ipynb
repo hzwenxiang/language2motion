{
  "nbformat": 4,
  "nbformat_minor": 0,
  "metadata": {
    "kernelspec": {
      "display_name": "Swift",
      "language": "swift",
      "name": "swift"
    },
    "language_info": {
      "file_extension": ".swift",
      "mimetype": "text/x-swift",
      "name": "swift",
      "version": ""
    },
    "colab": {
      "name": "Train Motion2lang.ipynb",
      "provenance": [],
      "toc_visible": true
    },
    "accelerator": "GPU"
  },
  "cells": [
    {
      "cell_type": "markdown",
      "metadata": {
        "id": "VOiO12PtN-LD",
        "colab_type": "text"
      },
      "source": [
        "# Train Motion 2 language transformer"
      ]
    },
    {
      "cell_type": "code",
      "metadata": {
        "id": "KiEwgnAxOYNH",
        "colab_type": "code",
        "colab": {}
      },
      "source": [
        "// for colab\n",
        "%install-location $cwd/swift-install\n",
        "%install-swiftpm-flags -c release\n",
        "%install '.package(url: \"https://github.com/wojtekcz/language2motion.git\", .branch(\"koszalin-dl-9\"))' Datasets TranslationModels TextModels ModelSupport SummaryWriter MotionModels"
      ],
      "execution_count": null,
      "outputs": []
    },
    {
      "cell_type": "code",
      "metadata": {
        "id": "R3X_ngFaN-LF",
        "colab_type": "code",
        "colab": {}
      },
      "source": [
        "// for local development\n",
        "%install-location /notebooks/language2motion.gt/swift-install\n",
        "%install-swiftpm-flags -c release\n",
        "%install '.package(path: \"/notebooks/language2motion.gt\")' Datasets TranslationModels TextModels ModelSupport SummaryWriter MotionModels"
      ],
      "execution_count": null,
      "outputs": []
    },
    {
      "cell_type": "code",
      "metadata": {
        "id": "3YCslW2KN-LJ",
        "colab_type": "code",
        "colab": {}
      },
      "source": [
        "import TensorFlow\n",
        "import TextModels\n",
        "import TranslationModels\n",
        "import Foundation\n",
        "import ModelSupport\n",
        "import Datasets\n",
        "import SummaryWriter\n",
        "import MotionModels"
      ],
      "execution_count": null,
      "outputs": []
    },
    {
      "cell_type": "code",
      "metadata": {
        "id": "kpxIOsZLRUTF",
        "colab_type": "code",
        "colab": {}
      },
      "source": [
        "func shell(_ command: String) -> String {\n",
        "    let task = Process()\n",
        "    let pipe = Pipe()\n",
        "\n",
        "    task.standardOutput = pipe\n",
        "    task.arguments = [\"-c\", command]\n",
        "    task.launchPath = \"/bin/bash\"\n",
        "    task.launch()\n",
        "\n",
        "    let data = pipe.fileHandleForReading.readDataToEndOfFile()\n",
        "    return String(data: data, encoding: .utf8)!\n",
        "}\n",
        "\n",
        "func sh(_ command: String) {\n",
        "    print(shell(command))\n",
        "}\n",
        "\n",
        "sh(\"\"\"\n",
        "export PATH=\"$PATH:/opt/bin:/swift/toolchain/usr/bin\"\n",
        "export LD_LIBRARY_PATH=\"/usr/lib64-nvidia:$LD_LIBRARY_PATH\"\n",
        "nvidia-smi\n",
        "\"\"\")"
      ],
      "execution_count": null,
      "outputs": []
    },
    {
      "cell_type": "code",
      "metadata": {
        "id": "ZyCB7_WsTKBM",
        "colab_type": "code",
        "colab": {}
      },
      "source": [
        "// sh(\"ls -l /\")"
      ],
      "execution_count": null,
      "outputs": []
    },
    {
      "cell_type": "code",
      "metadata": {
        "id": "9IDtBlXnRaT3",
        "colab_type": "code",
        "colab": {}
      },
      "source": [
        "sh(\"mkdir -p /content/data/\")\n",
        "sh(\"\"\"\n",
        "cd /content/data/\n",
        "wget https://github.com/wojtekcz/language2motion/releases/download/v0.2.0/motion_dataset_v3.norm.10Hz.tgz\n",
        "wget https://github.com/wojtekcz/language2motion/releases/download/v0.1.0/labels_ds_v2.csv\n",
        "wget https://github.com/wojtekcz/language2motion/releases/download/v0.1.0/vocab.txt\n",
        "wget https://github.com/wojtekcz/language2motion/releases/download/v0.1.0/labels_ds_v2.balanced.515.csv\n",
        "tar xzvf motion_dataset_v3.norm.10Hz.tgz\n",
        "\"\"\")"
      ],
      "execution_count": null,
      "outputs": []
    },
    {
      "cell_type": "markdown",
      "metadata": {
        "id": "qbmXosmTN-LM",
        "colab_type": "text"
      },
      "source": [
        "## Set training params"
      ]
    },
    {
      "cell_type": "code",
      "metadata": {
        "id": "sum7wmL6N-LM",
        "colab_type": "code",
        "colab": {}
      },
      "source": [
        "let runName = \"run_1\"\n",
        "// let batchSize = 6000\n",
        "// let batchSize = 3000\n",
        "let batchSize = 200\n",
        "let maxSequenceLength =  50\n",
        "let nEpochs = 40\n",
        "// let learningRate: Float = 2e-5\n",
        "let learningRate: Float = 5e-4\n",
        "\n",
        "print(\"runName: \\(runName)\")\n",
        "print(\"batchSize: \\(batchSize)\")\n",
        "print(\"maxSequenceLength: \\(maxSequenceLength)\")\n",
        "print(\"nEpochs: \\(nEpochs)\")\n",
        "print(\"learningRate: \\(learningRate)\")\n",
        "\n",
        "// let dataURL = URL(fileURLWithPath: \"/notebooks/language2motion.gt/data/\")\n",
        "let dataURL = URL(fileURLWithPath: \"/content/data/\")\n",
        "let motionDatasetURL = dataURL.appendingPathComponent(\"motion_dataset_v3.norm.10Hz.plist\")\n",
        "// let motionDatasetURL = dataURL.appendingPathComponent(\"motion_dataset.motion_flag.normalized.downsampled.sampled.490.plist\")\n",
        "let langDatasetURL = dataURL.appendingPathComponent(\"labels_ds_v2.csv\")"
      ],
      "execution_count": null,
      "outputs": []
    },
    {
      "cell_type": "markdown",
      "metadata": {
        "id": "sHyhFi49N-LP",
        "colab_type": "text"
      },
      "source": [
        "## Select eager or X10 backend"
      ]
    },
    {
      "cell_type": "code",
      "metadata": {
        "id": "bUyfo7oZN-LP",
        "colab_type": "code",
        "colab": {}
      },
      "source": [
        "let device = Device.defaultXLA\n",
        "// let device = Device.defaultTFEager\n",
        "print(device)"
      ],
      "execution_count": null,
      "outputs": []
    },
    {
      "cell_type": "markdown",
      "metadata": {
        "id": "ysZrpeweN-LS",
        "colab_type": "text"
      },
      "source": [
        "## X10 warmup"
      ]
    },
    {
      "cell_type": "code",
      "metadata": {
        "id": "QJX4GecfN-LT",
        "colab_type": "code",
        "colab": {}
      },
      "source": [
        "/// X10 warmup\n",
        "let eagerTensor1 = Tensor([0.0, 1.0, 2.0])\n",
        "let eagerTensor2 = Tensor([1.5, 2.5, 3.5])\n",
        "let eagerTensorSum = eagerTensor1 + eagerTensor2\n",
        "print(eagerTensorSum)\n",
        "print(eagerTensor1.device)\n",
        "let x10Tensor2 = Tensor([1.5, 2.5, 3.5], on: Device.defaultXLA)\n",
        "print(x10Tensor2.device)"
      ],
      "execution_count": null,
      "outputs": []
    },
    {
      "cell_type": "markdown",
      "metadata": {
        "id": "XHwl5J2LN-LV",
        "colab_type": "text"
      },
      "source": [
        "## Instantiate model"
      ]
    },
    {
      "cell_type": "code",
      "metadata": {
        "id": "Xp5-Mh2TN-LW",
        "colab_type": "code",
        "colab": {}
      },
      "source": [
        "// instantiate text processor\n",
        "let vocabularyURL = dataURL.appendingPathComponent(\"vocab.txt\")\n",
        "let vocabulary: Vocabulary = try! Vocabulary(fromFile: vocabularyURL)\n",
        "let tokenizer: Tokenizer = BERTTokenizer(vocabulary: vocabulary, caseSensitive: false, unknownToken: \"[UNK]\", maxTokenLength: nil)\n",
        "let textProcessor = TextProcessor(vocabulary: vocabulary, tokenizer: tokenizer, maxSequenceLength: maxSequenceLength)\n",
        "\n",
        "// instantiate model\n",
        "let sourceVocabSize = vocabulary.count\n",
        "let inputSize = 48 // TODO: get value from dataset\n",
        "let targetVocabSize = vocabulary.count\n",
        "let layerCount: Int = 6\n",
        "let modelSize: Int = 256\n",
        "let feedForwardSize: Int = 1024\n",
        "let headCount: Int = 8\n",
        "let dropoutProbability: Double = 0.1\n",
        "\n",
        "var model = MotionLangTransformer(\n",
        "    sourceVocabSize: sourceVocabSize, \n",
        "    inputSize: inputSize,\n",
        "    targetVocabSize: targetVocabSize,\n",
        "    layerCount: layerCount, \n",
        "    modelSize: modelSize, \n",
        "    feedForwardSize: feedForwardSize, \n",
        "    headCount: headCount, \n",
        "    dropoutProbability: dropoutProbability\n",
        ")\n",
        "\n",
        "model.move(to: device)"
      ],
      "execution_count": null,
      "outputs": []
    },
    {
      "cell_type": "markdown",
      "metadata": {
        "id": "ysEn7gicN-LZ",
        "colab_type": "text"
      },
      "source": [
        "## Load dataset"
      ]
    },
    {
      "cell_type": "code",
      "metadata": {
        "id": "CFwP-zu-N-LZ",
        "colab_type": "code",
        "colab": {}
      },
      "source": [
        "// load dataset\n",
        "print(\"\\nLoading dataset...\")\n",
        "\n",
        "var dataset = try Motion2Lang(\n",
        "    motionDatasetURL: motionDatasetURL,\n",
        "    langDatasetURL: langDatasetURL,\n",
        "    maxSequenceLength: maxSequenceLength,\n",
        "    batchSize: batchSize\n",
        ") { (example: Motion2Lang.Example) -> MotionLangBatch in    \n",
        "    let singleBatch = textProcessor.preprocess(example: example)\n",
        "    return singleBatch\n",
        "}\n",
        "\n",
        "print(\"Dataset acquired.\")\n",
        "\n"
      ],
      "execution_count": null,
      "outputs": []
    },
    {
      "cell_type": "markdown",
      "metadata": {
        "id": "Wzeal8UdN-Lb",
        "colab_type": "text"
      },
      "source": [
        "## Test model on a batch"
      ]
    },
    {
      "cell_type": "code",
      "metadata": {
        "id": "BxIdHymZN-Lc",
        "colab_type": "code",
        "colab": {}
      },
      "source": [
        "// get a batch\n",
        "// print(\"\\nOne batch (MotionLangBatch):\")\n",
        "// var epochIterator = dataset.trainingEpochs.enumerated().makeIterator()\n",
        "// let epoch = epochIterator.next()\n",
        "// let batches = Array(epoch!.1)\n",
        "// let batch: MotionLangBatch = batches[0]\n",
        "// print(\"type: \\(type(of:batch))\")\n",
        "// print(\"motionFrames.shape: \\(batch.motionFrames.shape)\")\n",
        "// // print(\"motionFlag.shape: \\(batch.motionFlag.shape)\")\n",
        "// print(\"mask.shape: \\(batch.mask.shape)\")\n",
        "// print(\"origMotionFramesCount.shape: \\(batch.origMotionFramesCount.shape)\")\n",
        "// print(\"origMotionFramesCount: \\(batch.origMotionFramesCount)\")\n",
        "// print(\"targetTokenIds.shape: \\(batch.targetTokenIds.shape)\")\n",
        "// print(\"targetMask.shape: \\(batch.targetMask.shape)\")\n",
        "// print(\"targetTruth.shape: \\(batch.targetTruth.shape)\")\n",
        "\n",
        "// run one batch\n",
        "// print(\"\\nRun one batch:\")\n",
        "// print(\"==============\")\n",
        "// let deviceBatch = MotionLangBatch(copying: batch, to: device)\n",
        "// let output = model(deviceBatch)\n",
        "// print(\"output.shape: \\(output.shape)\")"
      ],
      "execution_count": null,
      "outputs": []
    },
    {
      "cell_type": "markdown",
      "metadata": {
        "id": "gGL_PkLMN-Lf",
        "colab_type": "text"
      },
      "source": [
        "## Optimizer"
      ]
    },
    {
      "cell_type": "code",
      "metadata": {
        "id": "jon3S7pPN-Lf",
        "colab_type": "code",
        "colab": {}
      },
      "source": [
        "var optimizer = Adam(for: model, learningRate: learningRate)\n",
        "optimizer = Adam(copying: optimizer, to: device)\n",
        "\n",
        "let logdirURL = dataURL.appendingPathComponent(\"tboard/Motion2lang/\\(runName)\", isDirectory: true)\n",
        "let summaryWriter = SummaryWriter(logdir: logdirURL, flushMillis: 30*1000)"
      ],
      "execution_count": null,
      "outputs": []
    },
    {
      "cell_type": "markdown",
      "metadata": {
        "id": "TQGXiJB1N-Li",
        "colab_type": "text"
      },
      "source": [
        "## Training helpers"
      ]
    },
    {
      "cell_type": "code",
      "metadata": {
        "id": "0g22npgZN-Li",
        "colab_type": "code",
        "colab": {}
      },
      "source": [
        "@differentiable(wrt: logits)\n",
        "public func softmaxCrossEntropy2(logits: Tensor<Float>, labels: Tensor<Int32>, ignoreIndex: Int32) -> Tensor<Float> {\n",
        "    // print(\"softmaxCrossEntropy2() - start\")\n",
        "    // FIXME: use logits.device, move code back to Utilities.swift\n",
        "    // print(\"  LazyTensorBarrier()\")\n",
        "    // time {\n",
        "    //     LazyTensorBarrier()\n",
        "    // }\n",
        "    // let ids = Tensor<Int32>(rangeFrom: 0, to: Int32(labels.shape.first!), stride: 1, on: device)    \n",
        "    // let indices = ids.gathering(where: labels .!= Tensor(ignoreIndex, on: device))\n",
        "    // let maskedLogits = logits.gathering(atIndices: indices, alongAxis: 0)\n",
        "    // let maskedTargets = labels.gathering(atIndices: indices, alongAxis: 0)\n",
        "    // print(\"  maskedLogits.shape: \\(maskedLogits.shape)\")\n",
        "    // print(\"  maskedTargets.shape: \\(maskedTargets.shape)\")\n",
        "    let sce = softmaxCrossEntropy(logits: logits, labels: labels)\n",
        "    // print(\"sce: \\(sce)\")\n",
        "    // let maskedSCE = softmaxCrossEntropy(logits: maskedLogits, labels: maskedTargets)\n",
        "    // print(\"maskedSCE: \\(maskedSCE)\")\n",
        "    // print(\"softmaxCrossEntropy2() - stop\")\n",
        "    return sce\n",
        "}\n",
        "\n",
        "func update(model: inout MotionLangTransformer, using optimizer: inout Adam<MotionLangTransformer>, for batch: MotionLangBatch) -> Float {\n",
        "    // print(\"update() - start\")\n",
        "    let labels = batch.targetTruth.reshaped(to: [-1])\n",
        "    let resultSize = batch.targetTruth.shape.last! * batch.targetTruth.shape.first!\n",
        "    // print(\"  resultSize: \\(resultSize)\")\n",
        "    let padIndex = textProcessor.padId\n",
        "    let result = withLearningPhase(.training) { () -> Float in\n",
        "        let (loss, grad) = valueWithGradient(at: model) {\n",
        "            (model) -> Tensor<Float> in\n",
        "            let logits = model.generate(input: batch).reshaped(to: [resultSize, -1])\n",
        "            // print(\"  logits.shape: \\(logits.shape)\")\n",
        "            // print(\"  labels.shape: \\(labels.shape)\")\n",
        "            let sce = softmaxCrossEntropy2(logits: logits, labels: labels,ignoreIndex: padIndex)\n",
        "            return sce\n",
        "        }\n",
        "        optimizer.update(&model, along: grad)\n",
        "        LazyTensorBarrier()\n",
        "        return loss.scalarized()\n",
        "    }\n",
        "    // print(\"update() - stop\")\n",
        "    return result\n",
        "}\n",
        "\n",
        "/// returns validation loss\n",
        "func validate(model: inout MotionLangTransformer, for batch: MotionLangBatch) -> Float {\n",
        "    let labels = batch.targetTruth.reshaped(to: [-1])\n",
        "    let resultSize = batch.targetTruth.shape.last! * batch.targetTruth.shape.first!\n",
        "    let padIndex = textProcessor.padId\n",
        "    let result = withLearningPhase(.inference) { () -> Float in\n",
        "        softmaxCrossEntropy2(logits: model.generate(input: batch).reshaped(to: [resultSize, -1]), labels: labels,ignoreIndex: padIndex).scalarized()\n",
        "    }\n",
        "    LazyTensorBarrier()\n",
        "    return result\n",
        "}"
      ],
      "execution_count": null,
      "outputs": []
    },
    {
      "cell_type": "markdown",
      "metadata": {
        "id": "Kr2TXD10N-Lk",
        "colab_type": "text"
      },
      "source": [
        "## setup decoding"
      ]
    },
    {
      "cell_type": "code",
      "metadata": {
        "id": "TWM7srrpN-Lk",
        "colab_type": "code",
        "colab": {}
      },
      "source": [
        "func greedyDecode(model: MotionLangTransformer, input: MotionLangBatch, maxLength: Int, startSymbol: Int32) -> Tensor<Int32> {\n",
        "    let memory = model.encode(input: input)\n",
        "    var ys = Tensor(repeating: startSymbol, shape: [1,1])\n",
        "    // ys = Tensor(copying: ys, to: device)\n",
        "    for _ in 0..<maxLength {\n",
        "        let decoderInput = MotionLangBatch(motionFrames: input.motionFrames,\n",
        "                                     mask: input.mask,\n",
        "                                     origMotionFramesCount: input.origMotionFramesCount,\n",
        "                                     targetTokenIds: ys,\n",
        "                                     targetMask: Tensor<Float>(subsequentMask(size: ys.shape[1])),\n",
        "                                     targetTruth: input.targetTruth)\n",
        "        // decoderInput = MotionLangBatch(copying: decoderInput, to: device)\n",
        "        let out = model.decode(input: decoderInput, memory: memory)\n",
        "        let prob = model.generate(input: out[0...,-1])\n",
        "        let nextWord = Int32(prob.argmax().scalarized())\n",
        "        ys = Tensor(concatenating: [ys, Tensor(repeating: nextWord, shape: [1,1])], alongAxis: 1) // , on: device\n",
        "        // ys = Tensor(copying: ys, to: device)\n",
        "    }\n",
        "    return ys\n",
        "}"
      ],
      "execution_count": null,
      "outputs": []
    },
    {
      "cell_type": "code",
      "metadata": {
        "id": "s73XJlq5U7NT",
        "colab_type": "code",
        "colab": {}
      },
      "source": [
        "// get example\n",
        "let example = dataset.trainExamples[0]\n",
        "print(\"example.id: \\(example.id)\")\n",
        "print(\"example.motionSample.timestepsArray.last: \\(example.motionSample.timestepsArray.last!)\")\n",
        "print(\"example.motionSample.motionFramesArray.shape: \\(example.motionSample.motionFramesArray.shape)\")\n",
        "print(\"example.targetSentence: \\(example.targetSentence)\")"
      ],
      "execution_count": null,
      "outputs": []
    },
    {
      "cell_type": "code",
      "metadata": {
        "id": "gxbUStI7N-Lm",
        "colab_type": "code",
        "colab": {}
      },
      "source": [
        "// setup decoding\n",
        "// var epochIterator2 = dataset.trainingEpochs.enumerated().makeIterator()\n",
        "// let epoch2 = epochIterator2.next()\n",
        "// let batches2 = Array(epoch2!.1)\n",
        "// let batch2 = batches2[0]\n",
        "\n",
        "// let exampleIndex = 1 // FIXME: utilize exampleIndex\n",
        "// var source = batch2 //Motion2Lang.reduceDataBatches(batches2)\n",
        "\n",
        "let oneExample = dataset.trainExamples[0]\n",
        "let singleExampleBatch = textProcessor.preprocess(example: oneExample)\n",
        "var source = Motion2Lang.reduceDataBatches([singleExampleBatch])"
      ],
      "execution_count": null,
      "outputs": []
    },
    {
      "cell_type": "code",
      "metadata": {
        "id": "FE4T4N8xN-Lo",
        "colab_type": "code",
        "colab": {}
      },
      "source": [
        "var outputStr = textProcessor.decode(tensor: source.targetTokenIds)\n",
        "print(\"decode(source.targetTokenIds): \\(outputStr)\")\n",
        "\n",
        "Context.local.learningPhase = .inference\n",
        "source = MotionLangBatch(copying: source, to: Device.defaultTFEager)\n",
        "model.move(to: Device.defaultTFEager)\n",
        "let out = greedyDecode(model: model, input: source, maxLength: 50, startSymbol: textProcessor.bosId)\n",
        "outputStr = textProcessor.decode(tensor: out)\n",
        "print(\"greedyDecode(): \\\"\\(outputStr)\\\"\")\n",
        "model.move(to: device)"
      ],
      "execution_count": null,
      "outputs": []
    },
    {
      "cell_type": "markdown",
      "metadata": {
        "id": "22deJipJN-Lr",
        "colab_type": "text"
      },
      "source": [
        "## Training loop"
      ]
    },
    {
      "cell_type": "code",
      "metadata": {
        "id": "7QPJMsdTN-Lr",
        "colab_type": "code",
        "colab": {}
      },
      "source": [
        "print(\"\\nTraining Transformer for the Motion2lang task!\")\n",
        "var trainingStepCount = 0\n",
        "time() {\n",
        "    LazyTensorBarrier()\n",
        "    for (epoch, epochBatches) in dataset.trainingEpochs.prefix(nEpochs).enumerated() {\n",
        "        print(\"[Epoch \\(epoch + 1)]\")\n",
        "        Context.local.learningPhase = .training\n",
        "        var trainingLossSum: Float = 0\n",
        "        var trainingBatchCount = 0\n",
        "        if epoch == 0 {\n",
        "            print(\"epochBatches.count: \\(epochBatches.count)\")\n",
        "        }\n",
        "\n",
        "        for eagerBatch in epochBatches {\n",
        "            print(\"==> step \\(trainingStepCount)\")\n",
        "            // print(\"eagerBatch.tokenIds.shape: \\(eagerBatch.tokenIds.shape)\")\n",
        "            // print(\"eagerBatch.targetTokenIds.shape: \\(eagerBatch.targetTokenIds.shape)\")\n",
        "            // print(\"eagerBatch.mask.shape: \\(eagerBatch.mask.shape)\")\n",
        "            // print(\"eagerBatch.targetTruth.shape: \\(eagerBatch.targetTruth.shape)\")\n",
        "            // print(\"eagerBatch.tokenCount: \\(eagerBatch.tokenCount)\")\n",
        "            let batch = MotionLangBatch(copying: eagerBatch, to: device)\n",
        "            let loss: Float = update(model: &model, using: &optimizer, for: batch)\n",
        "            print(\"current loss at step \\(trainingStepCount): \\(loss)\")\n",
        "            trainingLossSum += loss\n",
        "            trainingBatchCount += 1\n",
        "            summaryWriter.writeScalarSummary(tag: \"TrainingLoss\", step: trainingStepCount, value: trainingLossSum / Float(trainingBatchCount))\n",
        "            trainingStepCount += 1\n",
        "        }\n",
        "        print(\n",
        "            \"\"\"\n",
        "            Training loss: \\(trainingLossSum / Float(trainingBatchCount))\n",
        "            \"\"\"\n",
        "        )\n",
        "        summaryWriter.writeScalarSummary(tag: \"EpochTrainingLoss\", step: epoch+1, value: trainingLossSum / Float(trainingBatchCount))\n",
        "\n",
        "        if epoch == 0 {\n",
        "            print(\"dataset.validationBatches.count: \\(dataset.validationBatches.count)\")\n",
        "        }\n",
        "        Context.local.learningPhase = .inference\n",
        "        var devLossSum: Float = 0\n",
        "        var devBatchCount = 0\n",
        "        var totalGuessCount = 0\n",
        "\n",
        "        for eagerBatch in dataset.validationBatches {\n",
        "            let batch = MotionLangBatch(copying: eagerBatch, to: device)\n",
        "            let loss: Float = validate(model: &model, for: batch)\n",
        "            let valBatchSize = batch.motionFrames.shape[0]\n",
        "\n",
        "            devLossSum += loss\n",
        "            devBatchCount += 1\n",
        "            totalGuessCount += valBatchSize\n",
        "        }\n",
        "\n",
        "        print(\n",
        "            \"\"\"\n",
        "            totalGuessCount: \\(totalGuessCount) \\\n",
        "            Eval loss: \\(devLossSum / Float(devBatchCount))\n",
        "            \"\"\"\n",
        "        )\n",
        "        summaryWriter.writeScalarSummary(tag: \"EpochTestLoss\", step: epoch+1, value: devLossSum / Float(devBatchCount))\n",
        "\n",
        "        print(\"\\nEncoding/decoding one example\") // on eager device\n",
        "        Context.local.learningPhase = .inference\n",
        "        source = MotionLangBatch(copying: source, to: Device.defaultTFEager)\n",
        "        model.move(to: Device.defaultTFEager)\n",
        "        let out = greedyDecode(model: model, input: source, maxLength: 50, startSymbol: textProcessor.bosId)\n",
        "        outputStr = textProcessor.decode(tensor: out)\n",
        "        print(\"greedyDecode(): \\\"\\(outputStr)\\\"\")\n",
        "        model.move(to: device)\n",
        "    }\n",
        "    summaryWriter.flush()\n",
        "}\n",
        "\n",
        "\n",
        "print(\"\\nFinished training.\")"
      ],
      "execution_count": null,
      "outputs": []
    },
    {
      "cell_type": "markdown",
      "metadata": {
        "id": "90NRg5U_N-Lt",
        "colab_type": "text"
      },
      "source": [
        "## Decoding"
      ]
    },
    {
      "cell_type": "code",
      "metadata": {
        "id": "NX35KcjKN-Lu",
        "colab_type": "code",
        "colab": {}
      },
      "source": [
        "// encode/decode one example\n",
        "// print(\"\\nEncoding/decoding one example\")\n",
        "// Context.local.learningPhase = .inference\n",
        "// source = MotionLangBatch(copying: source, to: device)\n",
        "// model.move(to: Device.defaultTFEager)\n",
        "// let out = greedyDecode(model: model, input: source, maxLength: 50, startSymbol: textProcessor.bosId)\n",
        "// outputStr = textProcessor.decode(tensor: out)\n",
        "// print(\"greedyDecode(), outputStr: \\(outputStr)\")"
      ],
      "execution_count": null,
      "outputs": []
    },
    {
      "cell_type": "code",
      "metadata": {
        "id": "MMY-iAwaN-Lw",
        "colab_type": "code",
        "colab": {}
      },
      "source": [
        ""
      ],
      "execution_count": null,
      "outputs": []
    }
  ]
}