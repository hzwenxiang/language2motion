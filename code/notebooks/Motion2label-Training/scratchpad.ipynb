{
 "cells": [
  {
   "cell_type": "code",
   "execution_count": 1,
   "metadata": {},
   "outputs": [],
   "source": [
    "import TensorFlow"
   ]
  },
  {
   "cell_type": "code",
   "execution_count": 2,
   "metadata": {},
   "outputs": [
    {
     "data": {
      "text/plain": [
       "[[1.0, 2.0, 3.0],\n",
       " [4.0, 5.0, 6.0]]\n"
      ]
     },
     "execution_count": 2,
     "metadata": {},
     "output_type": "execute_result"
    }
   ],
   "source": [
    "var t = Tensor<Float>([[1, 2, 3], [4, 5, 6]])\n",
    "t"
   ]
  },
  {
   "cell_type": "code",
   "execution_count": 3,
   "metadata": {},
   "outputs": [
    {
     "data": {
      "text/plain": [
       "[[2.0],\n",
       " [5.0]]\n"
      ]
     },
     "execution_count": 3,
     "metadata": {},
     "output_type": "execute_result"
    }
   ],
   "source": [
    "t[0..., 1..<2]"
   ]
  },
  {
   "cell_type": "code",
   "execution_count": 4,
   "metadata": {},
   "outputs": [
    {
     "data": {
      "text/plain": [
       "[[1.0],\n",
       " [1.0]]\n"
      ]
     },
     "execution_count": 4,
     "metadata": {},
     "output_type": "execute_result"
    }
   ],
   "source": [
    "var mf = Tensor<Float>([[1], [1]])\n",
    "mf"
   ]
  },
  {
   "cell_type": "code",
   "execution_count": 5,
   "metadata": {},
   "outputs": [],
   "source": [
    "t[0..., 1..<2] = mf"
   ]
  },
  {
   "cell_type": "code",
   "execution_count": 6,
   "metadata": {},
   "outputs": [
    {
     "data": {
      "text/plain": [
       "[[1.0, 1.0, 3.0],\n",
       " [4.0, 1.0, 6.0]]\n"
      ]
     },
     "execution_count": 6,
     "metadata": {},
     "output_type": "execute_result"
    }
   ],
   "source": [
    "t"
   ]
  },
  {
   "cell_type": "code",
   "execution_count": null,
   "metadata": {},
   "outputs": [],
   "source": []
  },
  {
   "cell_type": "markdown",
   "metadata": {},
   "source": [
    "# visualize training progress in tensorboard"
   ]
  },
  {
   "cell_type": "raw",
   "metadata": {},
   "source": [
    "let summaryWriter = SummaryWriter(logdir: URL(fileURLWithPath: \"/notebooks/language2motion.gt/data/tboard/run_3\"), flushMillis: 30*1000)"
   ]
  },
  {
   "cell_type": "raw",
   "metadata": {},
   "source": [
    "for step in 0..<2000 {\n",
    "    let float_i = Float(step)/50\n",
    "    let value = sinf(float_i)\n",
    "    summaryWriter.writeScalarSummary(tag: \"trainingLoss\", step: step, value: value)\n",
    "}"
   ]
  },
  {
   "cell_type": "markdown",
   "metadata": {},
   "source": [
    "# write text"
   ]
  },
  {
   "cell_type": "markdown",
   "metadata": {},
   "source": [
    "doesn't work"
   ]
  },
  {
   "cell_type": "raw",
   "metadata": {},
   "source": [
    "let summaryMetadata = StringTensor(\"ala ma kota\")\n",
    "let stepTensor = Tensor<Int64>(1)\n",
    "let thirdParam = Tensor(100) //Tensor(\"ala ma kota\")\n",
    "let tagTensor = StringTensor(\"text\")\n",
    "_Raw.writeSummary(writer: summaryWriter.writerHandle, step: stepTensor, thirdParam, tag: tagTensor, summaryMetadata: summaryMetadata)"
   ]
  }
 ],
 "metadata": {
  "kernelspec": {
   "display_name": "Swift",
   "language": "swift",
   "name": "swift"
  },
  "language_info": {
   "file_extension": ".swift",
   "mimetype": "text/x-swift",
   "name": "swift",
   "version": ""
  }
 },
 "nbformat": 4,
 "nbformat_minor": 4
}
