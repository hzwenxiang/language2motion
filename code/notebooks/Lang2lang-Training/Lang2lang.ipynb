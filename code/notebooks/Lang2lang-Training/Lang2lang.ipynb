{
 "cells": [
  {
   "cell_type": "code",
   "execution_count": null,
   "metadata": {},
   "outputs": [],
   "source": [
    "%install-location /notebooks/language2motion.gt/swift-install\n",
    "%install-swiftpm-flags -c release\n",
    "%install '.package(path: \"/notebooks/language2motion.gt/code\")' Datasets TranslationModels TextModels ModelSupport"
   ]
  },
  {
   "cell_type": "code",
   "execution_count": null,
   "metadata": {},
   "outputs": [],
   "source": [
    "import TensorFlow\n",
    "import TranslationModels\n",
    "import Foundation\n",
    "import ModelSupport\n",
    "import Datasets"
   ]
  },
  {
   "cell_type": "code",
   "execution_count": null,
   "metadata": {},
   "outputs": [],
   "source": [
    "// instantiate model\n",
    "let sourceVocabSize = 100\n",
    "let targetVocabSize = 100\n",
    "let layerCount: Int = 6\n",
    "let modelSize: Int = 256\n",
    "let feedForwardSize: Int = 1024\n",
    "let headCount: Int = 8\n",
    "let dropoutProbability: Double = 0.1\n",
    "var model = TransformerModel(\n",
    "    sourceVocabSize: sourceVocabSize, \n",
    "    targetVocabSize: targetVocabSize,\n",
    "    layerCount: layerCount, \n",
    "    modelSize: modelSize, \n",
    "    feedForwardSize: feedForwardSize, \n",
    "    headCount: headCount, \n",
    "    dropoutProbability: dropoutProbability\n",
    ")"
   ]
  },
  {
   "cell_type": "code",
   "execution_count": 4,
   "metadata": {},
   "outputs": [
    {
     "name": "stdout",
     "output_type": "stream",
     "text": [
      "\n",
      "Loading dataset...\n",
      "Dataset acquired.\n"
     ]
    }
   ],
   "source": [
    "// load dataset\n",
    "let batchSize = 512\n",
    "let maxSequenceLength =  50\n",
    "\n",
    "let dataURL = URL(fileURLWithPath: \"/notebooks/language2motion.gt/data/\")\n",
    "let dsURL = dataURL.appendingPathComponent(\"labels_ds_v2.balanced.515.csv\")\n",
    "\n",
    "print(\"\\nLoading dataset...\")\n",
    "var dataset = try Language2Language(\n",
    "    datasetURL: dsURL,\n",
    "    maxSequenceLength: maxSequenceLength,\n",
    "    batchSize: batchSize,\n",
    "    entropy: SystemRandomNumberGenerator()\n",
    ") { (example: L2LExample) -> TextBatch in\n",
    "// TODO: extract preprocess func from BERT\n",
    "    // TODO: tokenize\n",
    "    let tokenIds: Tensor<Int32> = Tensor([1,2,3])\n",
    "    let tokenTypeIds: Tensor<Int32> = Tensor([1,2,3])\n",
    "    let mask: Tensor<Int32> = Tensor([1,2,3])\n",
    "    let textBatch = TextBatch(tokenIds: tokenIds, tokenTypeIds: tokenTypeIds, mask: mask)\n",
    "    return textBatch\n",
    "        // bertClassifier.bert.preprocess(\n",
    "        // sequences: [example.text],\n",
    "        // maxSequenceLength: maxSequenceLength)\n",
    "}\n",
    "\n",
    "print(\"Dataset acquired.\")"
   ]
  },
  {
   "cell_type": "code",
   "execution_count": null,
   "metadata": {},
   "outputs": [],
   "source": [
    "public struct Example {\n",
    "    public let id: String\n",
    "    public let sourceSentence: String\n",
    "    public let targetSentence: String\n",
    "\n",
    "    public init(id: String, sourceSentence: String, targetSentence: String) {\n",
    "        self.id = id\n",
    "        self.sourceSentence = sourceSentence\n",
    "        self.targetSentence = targetSentence\n",
    "    }\n",
    "}"
   ]
  },
  {
   "cell_type": "code",
   "execution_count": null,
   "metadata": {},
   "outputs": [],
   "source": [
    "TranslationBatch"
   ]
  },
  {
   "cell_type": "code",
   "execution_count": null,
   "metadata": {},
   "outputs": [],
   "source": []
  },
  {
   "cell_type": "code",
   "execution_count": null,
   "metadata": {},
   "outputs": [],
   "source": []
  },
  {
   "cell_type": "code",
   "execution_count": null,
   "metadata": {},
   "outputs": [],
   "source": [
    "// get a batch\n",
    "// print(\"\\nOne batch (LabeledMotionBatch):\")\n",
    "// var epochIterator = dataset.trainingEpochs.enumerated().makeIterator()\n",
    "// let epoch = epochIterator.next()\n",
    "// let batches = Array(epoch!.1)\n",
    "// let batch = batches[0]\n",
    "// print(\"type: \\(type(of:batch))\")\n",
    "// print(\"\\nOne motionBatch\")\n",
    "// let motionBatch = batch.data\n",
    "// print(\"type: \\(type(of:motionBatch))\")\n",
    "// print(\"motionFrames.shape: \\(motionBatch.motionFrames.shape)\")\n",
    "// print(\"motionFlag.shape: \\(motionBatch.motionFlag.shape)\")"
   ]
  },
  {
   "cell_type": "code",
   "execution_count": null,
   "metadata": {},
   "outputs": [],
   "source": [
    "// run one batch\n",
    "// print(\"\\nRun one batch:\")\n",
    "// print(\"==============\")\n",
    "// let classifierOutput = motionClassifier(motionBatch)\n",
    "// print(\"classifierOutput.shape: \\(classifierOutput.shape)\")"
   ]
  },
  {
   "cell_type": "code",
   "execution_count": null,
   "metadata": {},
   "outputs": [],
   "source": []
  },
  {
   "cell_type": "code",
   "execution_count": null,
   "metadata": {},
   "outputs": [],
   "source": []
  },
  {
   "cell_type": "code",
   "execution_count": null,
   "metadata": {},
   "outputs": [],
   "source": []
  }
 ],
 "metadata": {
  "kernelspec": {
   "display_name": "Swift",
   "language": "swift",
   "name": "swift"
  },
  "language_info": {
   "file_extension": ".swift",
   "mimetype": "text/x-swift",
   "name": "swift",
   "version": ""
  }
 },
 "nbformat": 4,
 "nbformat_minor": 4
}
