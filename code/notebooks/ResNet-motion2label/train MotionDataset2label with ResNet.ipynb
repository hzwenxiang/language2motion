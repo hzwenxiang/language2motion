{
 "cells": [
  {
   "cell_type": "markdown",
   "metadata": {},
   "source": [
    "# MotionDataset2label with ResNet"
   ]
  },
  {
   "cell_type": "code",
   "execution_count": 1,
   "metadata": {},
   "outputs": [
    {
     "name": "stdout",
     "output_type": "stream",
     "text": [
      "Installing packages:\n",
      "\t.package(path: \"/notebooks/language2motion.gt/code\")\n",
      "\t\tBatcher\n",
      "\t\tModelSupport\n",
      "\t\tDatasets\n",
      "\t\tImageClassificationModels\n",
      "With SwiftPM flags: ['-c', 'release']\n",
      "Working in: /tmp/tmpt3u_a4v0/swift-install\n",
      "[1/2] Compiling Datasets ArrayUtils.swift\n",
      "[2/3] Compiling jupyterInstalledPackages jupyterInstalledPackages.swift\n",
      "[3/3] Linking libjupyterInstalledPackages.so\n",
      "Initializing Swift...\n",
      "Installation complete!\n"
     ]
    }
   ],
   "source": [
    "%install-location /notebooks/language2motion.gt/swift-install\n",
    "%install-swiftpm-flags -c release\n",
    "%install '.package(path: \"/notebooks/language2motion.gt/code\")' Batcher ModelSupport Datasets ImageClassificationModels"
   ]
  },
  {
   "cell_type": "code",
   "execution_count": 2,
   "metadata": {},
   "outputs": [],
   "source": [
    "import Foundation\n",
    "import TensorFlow\n",
    "import PythonKit\n",
    "\n",
    "import Batcher\n",
    "import ModelSupport\n",
    "import Datasets\n",
    "import ImageClassificationModels"
   ]
  },
  {
   "cell_type": "code",
   "execution_count": 3,
   "metadata": {},
   "outputs": [
    {
     "data": {
      "text/plain": [
       "('inline', 'module://ipykernel.pylab.backend_inline')\n"
      ]
     },
     "execution_count": 3,
     "metadata": {},
     "output_type": "execute_result"
    }
   ],
   "source": [
    "%include \"EnableIPythonDisplay.swift\"\n",
    "IPythonDisplay.shell.enable_matplotlib(\"inline\")"
   ]
  },
  {
   "cell_type": "markdown",
   "metadata": {},
   "source": [
    "# 1-channel ResNet model"
   ]
  },
  {
   "cell_type": "code",
   "execution_count": 42,
   "metadata": {},
   "outputs": [],
   "source": [
    "var model = ResNet(classCount: 5, depth: .resNet18, downsamplingInFirstStage: true, channelCount: 1)"
   ]
  },
  {
   "cell_type": "code",
   "execution_count": 43,
   "metadata": {},
   "outputs": [],
   "source": [
    "let optimizer = SGD(for: model, learningRate: 0.001)"
   ]
  },
  {
   "cell_type": "markdown",
   "metadata": {},
   "source": [
    "# load dataset"
   ]
  },
  {
   "cell_type": "code",
   "execution_count": 41,
   "metadata": {},
   "outputs": [
    {
     "name": "stdout",
     "output_type": "stream",
     "text": [
      "MotionData(motionSamples: 515)\n",
      "trainTensorPairs.count = 412\n",
      "testTensorPairs.count = 103\n",
      "dataset.training.count: 42\n",
      "dataset.test.count: 11\n"
     ]
    }
   ],
   "source": [
    "let batchSize = 10\n",
    "let maxSequenceLength =  300\n",
    "\n",
    "let dataURL = URL(fileURLWithPath: \"/notebooks/language2motion.gt/data/\")\n",
    "let serializedDatasetURL = dataURL.appendingPathComponent(\"motion_dataset.motion_flag.balanced.515.plist\")\n",
    "let labelsURL = dataURL.appendingPathComponent(\"labels_ds_v2.csv\")\n",
    "\n",
    "let dataset = Motion2Label(\n",
    "    batchSize: batchSize, \n",
    "    serializedDatasetURL: serializedDatasetURL,\n",
    "    labelsURL: labelsURL,\n",
    "    tensorWidth: maxSequenceLength\n",
    ")\n",
    "print(\"dataset.training.count: \\(dataset.training.count)\")\n",
    "print(\"dataset.test.count: \\(dataset.test.count)\")"
   ]
  },
  {
   "cell_type": "code",
   "execution_count": 44,
   "metadata": {},
   "outputs": [
    {
     "name": "stdout",
     "output_type": "stream",
     "text": [
      "Starting motion2label training...\n",
      "progress 0.0%\n",
      "progress 2.3809524%\n",
      "progress 4.7619047%\n",
      "progress 7.142857%\n",
      "progress 9.523809%\n",
      "progress 11.904762%\n",
      "progress 14.285714%\n",
      "progress 16.666666%\n",
      "progress 19.047619%\n",
      "progress 21.428572%\n",
      "progress 23.809525%\n",
      "progress 26.190475%\n",
      "progress 28.571428%\n",
      "progress 30.952381%\n",
      "progress 33.333332%\n",
      "progress 35.714287%\n",
      "progress 38.095238%\n",
      "progress 40.47619%\n",
      "progress 42.857143%\n",
      "progress 45.238094%\n",
      "progress 47.61905%\n",
      "progress 50.0%\n",
      "progress 52.38095%\n",
      "progress 54.761906%\n",
      "progress 57.142857%\n",
      "progress 59.52381%\n",
      "progress 61.904762%\n",
      "progress 64.28571%\n",
      "progress 66.666664%\n",
      "progress 69.04762%\n",
      "progress 71.42857%\n",
      "progress 73.809525%\n",
      "progress 76.190475%\n",
      "progress 78.57143%\n",
      "progress 80.95238%\n",
      "progress 83.333336%\n",
      "progress 85.71429%\n",
      "progress 88.09524%\n",
      "progress 90.47619%\n",
      "progress 92.85714%\n",
      "progress 95.2381%\n",
      "progress 97.61905%\n",
      "[Epoch 1] Training loss: 1.7782195 Accuracy: 18/110 (16.363636%) Loss: 1.942091\n"
     ]
    }
   ],
   "source": [
    "print(\"Starting motion2label training...\")\n",
    "\n",
    "for epoch in 1...1 {\n",
    "//     print(\"epoch \\(epoch)\")\n",
    "    Context.local.learningPhase = .training\n",
    "    var trainingLossSum: Float = 0\n",
    "    var trainingBatchCount = 0\n",
    "    for batch in dataset.training.sequenced() {\n",
    "        print(\"progress \\(100.0*Float(trainingBatchCount)/Float(dataset.training.count))%\")\n",
    "        let (tensors, labels) = (batch.first, batch.second)\n",
    "        let (loss, gradients) = valueWithGradient(at: model) { model -> Tensor<Float> in\n",
    "            let logits = model(tensors)\n",
    "            return softmaxCrossEntropy(logits: logits, labels: labels)\n",
    "        }\n",
    "        trainingLossSum += loss.scalarized()\n",
    "        trainingBatchCount += 1\n",
    "        optimizer.update(&model, along: gradients)\n",
    "    }\n",
    "\n",
    "    Context.local.learningPhase = .inference\n",
    "    var testLossSum: Float = 0\n",
    "    var testBatchCount = 0\n",
    "    var correctGuessCount = 0\n",
    "    var totalGuessCount = 0\n",
    "    for batch in dataset.test.sequenced() {\n",
    "//         print(\"batch\")\n",
    "        let (tensors, labels) = (batch.first, batch.second)\n",
    "        let logits = model(tensors)\n",
    "        testLossSum += softmaxCrossEntropy(logits: logits, labels: labels).scalarized()\n",
    "        testBatchCount += 1\n",
    "\n",
    "        let correctPredictions = logits.argmax(squeezingAxis: 1) .== labels\n",
    "        correctGuessCount = correctGuessCount\n",
    "            + Int(\n",
    "                Tensor<Int32>(correctPredictions).sum().scalarized())\n",
    "        totalGuessCount = totalGuessCount + batchSize\n",
    "    }\n",
    "\n",
    "    let accuracy = Float(correctGuessCount) / Float(totalGuessCount)\n",
    "    print(\n",
    "        \"\"\"\n",
    "        [Epoch \\(epoch)] \\\n",
    "        Training loss: \\(trainingLossSum  / Float(trainingBatchCount)) \\\n",
    "        Accuracy: \\(correctGuessCount)/\\(totalGuessCount) (\\(accuracy*100)%) \\\n",
    "        Loss: \\(testLossSum / Float(testBatchCount))\n",
    "        \"\"\"\n",
    "    )\n",
    "}"
   ]
  },
  {
   "cell_type": "code",
   "execution_count": 45,
   "metadata": {},
   "outputs": [],
   "source": [
    "let motionSamples = Array(dataset.testMotionSamples[0..<10])\n",
    "let tensorPairs: Motion2Label.SourceDataSet = motionSamples.map {\n",
    "    Motion2Label.getTensorPair($0, labelsDict: dataset.labelsDict, labels: dataset.labels, tensorWidth: maxSequenceLength)\n",
    "}"
   ]
  },
  {
   "cell_type": "code",
   "execution_count": 46,
   "metadata": {},
   "outputs": [
    {
     "data": {
      "text/plain": [
       "▿ [10, 300, 45, 1]\n",
       "  ▿ dimensions : 4 elements\n",
       "    - 0 : 10\n",
       "    - 1 : 300\n",
       "    - 2 : 45\n",
       "    - 3 : 1\n"
      ]
     },
     "execution_count": 46,
     "metadata": {},
     "output_type": "execute_result"
    }
   ],
   "source": [
    "let t = Tensor(stacking: tensorPairs.map { $0.first })\n",
    "t.shape"
   ]
  },
  {
   "cell_type": "raw",
   "metadata": {},
   "source": [
    "extension ResNet {\n",
    "    @differentiable\n",
    "    public func extractFeatures(_ input: Tensor<Float>) -> Tensor<Float> {\n",
    "        let inputLayer = maxPool(relu(initialLayer(input)))\n",
    "        let blocksReduced = residualBlocks.differentiableReduce(inputLayer) { last, layer in\n",
    "            layer(last)\n",
    "        }\n",
    "        return blocksReduced.sequenced(through: avgPool, flatten)\n",
    "    }\n",
    "}"
   ]
  },
  {
   "cell_type": "code",
   "execution_count": 50,
   "metadata": {},
   "outputs": [
    {
     "data": {
      "text/plain": [
       "▿ [10, 512]\n",
       "  ▿ dimensions : 2 elements\n",
       "    - 0 : 10\n",
       "    - 1 : 512\n"
      ]
     },
     "execution_count": 50,
     "metadata": {},
     "output_type": "execute_result"
    }
   ],
   "source": [
    "let logits = model.extractFeatures(t)\n",
    "logits.shape"
   ]
  },
  {
   "cell_type": "code",
   "execution_count": null,
   "metadata": {},
   "outputs": [],
   "source": []
  }
 ],
 "metadata": {
  "kernelspec": {
   "display_name": "Swift",
   "language": "swift",
   "name": "swift"
  },
  "language_info": {
   "file_extension": ".swift",
   "mimetype": "text/x-swift",
   "name": "swift",
   "version": ""
  }
 },
 "nbformat": 4,
 "nbformat_minor": 4
}
