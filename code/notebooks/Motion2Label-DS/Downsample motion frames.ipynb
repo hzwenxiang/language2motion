{
 "cells": [
  {
   "cell_type": "code",
   "execution_count": 1,
   "metadata": {},
   "outputs": [
    {
     "name": "stdout",
     "output_type": "stream",
     "text": [
      "Installing packages:\n",
      "\t.package(path: \"/notebooks/language2motion.gt/code\")\n",
      "\t\tDatasets\n",
      "\t\tModelSupport\n",
      "With SwiftPM flags: ['-c', 'release']\n",
      "Working in: /tmp/tmp4sq0war8/swift-install\n",
      "[1/2] Compiling Datasets ArrayUtils.swift\n",
      "[2/3] Compiling jupyterInstalledPackages jupyterInstalledPackages.swift\n",
      "[3/3] Linking libjupyterInstalledPackages.so\n",
      "Initializing Swift...\n",
      "Installation complete!\n"
     ]
    }
   ],
   "source": [
    "%install-location /notebooks/language2motion.gt/swift-install\n",
    "%install-swiftpm-flags -c release\n",
    "%install '.package(path: \"/notebooks/language2motion.gt/code\")' Datasets ModelSupport"
   ]
  },
  {
   "cell_type": "code",
   "execution_count": 2,
   "metadata": {},
   "outputs": [],
   "source": [
    "import Foundation\n",
    "import TensorFlow\n",
    "import Datasets\n",
    "import ModelSupport"
   ]
  },
  {
   "cell_type": "code",
   "execution_count": 3,
   "metadata": {},
   "outputs": [
    {
     "data": {
      "text/plain": [
       "('inline', 'module://ipykernel.pylab.backend_inline')\n"
      ]
     },
     "execution_count": 3,
     "metadata": {},
     "output_type": "execute_result"
    }
   ],
   "source": [
    "%include \"EnableIPythonDisplay.swift\"\n",
    "IPythonDisplay.shell.enable_matplotlib(\"inline\")"
   ]
  },
  {
   "cell_type": "markdown",
   "metadata": {},
   "source": [
    "# load dataset"
   ]
  },
  {
   "cell_type": "code",
   "execution_count": 4,
   "metadata": {},
   "outputs": [],
   "source": [
    "let dataURL = URL(fileURLWithPath: \"/notebooks/language2motion.gt/data/\")"
   ]
  },
  {
   "cell_type": "code",
   "execution_count": 5,
   "metadata": {},
   "outputs": [],
   "source": [
    "let datasetFolderURL = URL(fileURLWithPath: \"/notebooks/language2motion.gt/data/2017-06-22/\")"
   ]
  },
  {
   "cell_type": "code",
   "execution_count": null,
   "metadata": {},
   "outputs": [],
   "source": [
    "public class MotionDataset: Codable {\n",
    "    public let datasetFolderURL: URL\n",
    "    public var motionSamples: [MotionSample]\n",
    "    public var maxSampleID = 3966\n",
    "\n",
    "    public init(datasetFolderURL: URL, grouppedJoints: Bool = true, normalized: Bool = true, sampled: Int? = nil) {\n",
    "        self.datasetFolderURL = datasetFolderURL\n",
    "        var motionSamples: [MotionSample] = []\n",
    "        let fm = FileManager()\n",
    "        \n",
    "        var sampleIDs: [Int] = Array<Int>((0...maxSampleID))\n",
    "        if sampled != nil {\n",
    "            sampleIDs = Array(sampleIDs.choose(sampled!))\n",
    "        }\n",
    "        \n",
    "        for sampleID in sampleIDs {\n",
    "            let mmmFilename = String(format: \"%05d_mmm.xml\", sampleID)\n",
    "            let annotationsFilename = String(format: \"%05d_annotations.json\", sampleID)\n",
    "            print(\"Sample \\(sampleID), \\(mmmFilename), \\(annotationsFilename)\")\n",
    "            \n",
    "            let mmmURL = datasetFolderURL.appendingPathComponent(mmmFilename)\n",
    "            let annotationsURL = datasetFolderURL.appendingPathComponent(annotationsFilename)\n",
    "            \n",
    "            if fm.fileExists(atPath: mmmURL.path) {\n",
    "                let motionSample = MotionSample(sampleID: sampleID, mmmURL: mmmURL, annotationsURL: annotationsURL, grouppedJoints: grouppedJoints, normalized: normalized)            \n",
    "                motionSamples.append(motionSample)\n",
    "            } else {\n",
    "                print(\"** Sample \\(sampleID) doesn't exist.\")\n",
    "            }\n",
    "        }\n",
    "        self.motionSamples = motionSamples\n",
    "    }\n",
    "\n",
    "    // TODO: code throwing errors\n",
    "    public init(from serializedDatasetURL: URL) {\n",
    "        let data: Data = FileManager.default.contents(atPath: serializedDatasetURL.path)!\n",
    "        let motionData = try! PropertyListDecoder().decode(MotionDataset.self, from: data)\n",
    "        datasetFolderURL = motionData.datasetFolderURL\n",
    "        motionSamples = motionData.motionSamples\n",
    "        maxSampleID = motionData.maxSampleID\n",
    "    }\n",
    "\n",
    "    // TODO: code throwing errors\n",
    "    public func write(to serializedDatasetURL: URL) {\n",
    "        let encoder = PropertyListEncoder()\n",
    "        encoder.outputFormat = .binary\n",
    "        let mdData = try! encoder.encode(self)\n",
    "        try! mdData.write(to: serializedDatasetURL) \n",
    "    }\n",
    "\n",
    "    public var description: String {\n",
    "        return \"MotionDataset(motionSamples: \\(motionSamples.count))\"\n",
    "    }\n",
    "}"
   ]
  },
  {
   "cell_type": "code",
   "execution_count": null,
   "metadata": {},
   "outputs": [],
   "source": [
    "let motionDataset = MotionDataset(datasetFolderURL: datasetFolderURL, grouppedJoints: false, normalized: true, sampled: 2)"
   ]
  },
  {
   "cell_type": "markdown",
   "metadata": {},
   "source": [
    "# downsample motion"
   ]
  },
  {
   "cell_type": "code",
   "execution_count": 6,
   "metadata": {},
   "outputs": [],
   "source": [
    "let grouppedJoints: Bool = false\n",
    "let normalized: Bool = true\n",
    "let sampled: Int? = 2"
   ]
  },
  {
   "cell_type": "code",
   "execution_count": 7,
   "metadata": {},
   "outputs": [],
   "source": [
    "let fm = FileManager()\n",
    "\n",
    "var motionSamples: [MotionSample] = []"
   ]
  },
  {
   "cell_type": "code",
   "execution_count": 8,
   "metadata": {},
   "outputs": [],
   "source": [
    "let sampleID = 1"
   ]
  },
  {
   "cell_type": "code",
   "execution_count": 9,
   "metadata": {},
   "outputs": [
    {
     "name": "stdout",
     "output_type": "stream",
     "text": [
      "Sample 1, 00001_mmm.xml, 00001_annotations.json\n"
     ]
    }
   ],
   "source": [
    "let mmmFilename = String(format: \"%05d_mmm.xml\", sampleID)\n",
    "let annotationsFilename = String(format: \"%05d_annotations.json\", sampleID)\n",
    "print(\"Sample \\(sampleID), \\(mmmFilename), \\(annotationsFilename)\")\n",
    "\n",
    "let mmmURL = datasetFolderURL.appendingPathComponent(mmmFilename)\n",
    "let annotationsURL = datasetFolderURL.appendingPathComponent(annotationsFilename)"
   ]
  },
  {
   "cell_type": "code",
   "execution_count": 10,
   "metadata": {},
   "outputs": [],
   "source": [
    "\n",
    "let mmm_doc = MotionSample.loadMMM(fileURL: mmmURL)\n",
    "let jointNames = MotionSample.getJointNames(mmm_doc: mmm_doc)\n",
    "\n",
    "let motionFrames = MotionSample.getMotionFrames(mmm_doc: mmm_doc, jointNames: jointNames)\n",
    "\n",
    "let annotations = MotionSample.getAnnotations(fileURL: annotationsURL)\n",
    "let timestamps: [Float] = motionFrames.map { $0.timestamp }\n",
    "let timestampsArray = ShapedArray<Float>(shape: [timestamps.count], scalars: timestamps)\n",
    "let motionFramesArray = MotionSample.getJointPositions(motionFrames: motionFrames, grouppedJoints: grouppedJoints, normalized: normalized)"
   ]
  },
  {
   "cell_type": "raw",
   "metadata": {},
   "source": [
    "motionFrames.count"
   ]
  },
  {
   "cell_type": "raw",
   "metadata": {},
   "source": [
    "timestamps.count"
   ]
  },
  {
   "cell_type": "raw",
   "metadata": {},
   "source": [
    "Double(motionFrames.count) / 10"
   ]
  },
  {
   "cell_type": "code",
   "execution_count": 36,
   "metadata": {},
   "outputs": [],
   "source": [
    "var motionFramesBuckets = [[MotionFrame]](repeating: [], count:10)\n",
    "var timestampsBuckets = [[Float]](repeating: [], count:10)"
   ]
  },
  {
   "cell_type": "code",
   "execution_count": 38,
   "metadata": {},
   "outputs": [
    {
     "name": "stdout",
     "output_type": "stream",
     "text": [
      "0 38\n",
      "1 38\n",
      "2 38\n",
      "3 38\n",
      "4 38\n",
      "5 38\n",
      "6 38\n",
      "7 38\n",
      "8 37\n",
      "9 37\n"
     ]
    }
   ],
   "source": [
    "for idx in 0..<motionFrames.count {\n",
    "    let bucket = idx % 10\n",
    "    //let b_idx = idx / 10\n",
    "    //print(idx, bucket, b_idx)\n",
    "    motionFramesBuckets[bucket].append(motionFrames[idx])\n",
    "    timestampsBuckets[bucket].append(timestamps[idx])\n",
    "}\n",
    "for (idx, mfb) in motionFramesBuckets.enumerated() {\n",
    "    print(idx, mfb.count)\n",
    "}"
   ]
  },
  {
   "cell_type": "raw",
   "metadata": {},
   "source": [
    "for offset in 0..<10 {\n",
    "    print(offset)\n",
    "    \n",
    "}"
   ]
  },
  {
   "cell_type": "code",
   "execution_count": null,
   "metadata": {},
   "outputs": [],
   "source": []
  },
  {
   "cell_type": "code",
   "execution_count": null,
   "metadata": {},
   "outputs": [],
   "source": []
  },
  {
   "cell_type": "code",
   "execution_count": 13,
   "metadata": {},
   "outputs": [
    {
     "data": {
      "text/plain": [
       "▿ 1 element\n",
       "  - 0 : 378\n"
      ]
     },
     "execution_count": 13,
     "metadata": {},
     "output_type": "execute_result"
    }
   ],
   "source": [
    "timestampsArray.shape"
   ]
  },
  {
   "cell_type": "code",
   "execution_count": 11,
   "metadata": {},
   "outputs": [
    {
     "data": {
      "text/plain": [
       "▿ 2 elements\n",
       "  - 0 : 378\n",
       "  - 1 : 45\n"
      ]
     },
     "execution_count": 11,
     "metadata": {},
     "output_type": "execute_result"
    }
   ],
   "source": [
    "motionFramesArray.shape"
   ]
  },
  {
   "cell_type": "code",
   "execution_count": null,
   "metadata": {},
   "outputs": [],
   "source": [
    "if fm.fileExists(atPath: mmmURL.path) {\n",
    "    let motionSample = MotionSample(sampleID: sampleID, mmmURL: mmmURL, annotationsURL: annotationsURL, grouppedJoints: grouppedJoints, normalized: normalized)            \n",
    "    motionSamples.append(motionSample)\n",
    "} else {\n",
    "    print(\"** Sample \\(sampleID) doesn't exist.\")\n",
    "}"
   ]
  },
  {
   "cell_type": "code",
   "execution_count": null,
   "metadata": {},
   "outputs": [],
   "source": []
  },
  {
   "cell_type": "code",
   "execution_count": null,
   "metadata": {},
   "outputs": [],
   "source": []
  },
  {
   "cell_type": "code",
   "execution_count": null,
   "metadata": {},
   "outputs": [],
   "source": []
  }
 ],
 "metadata": {
  "kernelspec": {
   "display_name": "Swift",
   "language": "swift",
   "name": "swift"
  },
  "language_info": {
   "file_extension": ".swift",
   "mimetype": "text/x-swift",
   "name": "swift",
   "version": ""
  }
 },
 "nbformat": 4,
 "nbformat_minor": 4
}
