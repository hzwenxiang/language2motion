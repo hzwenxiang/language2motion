{
 "cells": [
  {
   "cell_type": "markdown",
   "metadata": {},
   "source": [
    "# Transformer-motion2label"
   ]
  },
  {
   "cell_type": "code",
   "execution_count": 1,
   "metadata": {},
   "outputs": [
    {
     "name": "stdout",
     "output_type": "stream",
     "text": [
      "Installing packages:\n",
      "\t.package(path: \"/notebooks/language2motion.gt/code\")\n",
      "\t\tBatcher\n",
      "\t\tModelSupport\n",
      "\t\tDatasets\n",
      "\t\tImageClassificationModels\n",
      "\t\tTextModels\n",
      "With SwiftPM flags: ['-c', 'release']\n",
      "Working in: /tmp/tmpv4z76f9p/swift-install\n",
      "[1/2] Compiling jupyterInstalledPackages jupyterInstalledPackages.swift\n",
      "Initializing Swift...\n",
      "Installation complete!\n"
     ]
    }
   ],
   "source": [
    "%install-location /notebooks/language2motion.gt/swift-install\n",
    "%install-swiftpm-flags -c release\n",
    "%install '.package(path: \"/notebooks/language2motion.gt/code\")' Batcher ModelSupport Datasets ImageClassificationModels TextModels"
   ]
  },
  {
   "cell_type": "code",
   "execution_count": 2,
   "metadata": {},
   "outputs": [],
   "source": [
    "// + load Motion2Label dataset\n",
    "// + create sliding resnet feature extractor\n",
    "// TODO: create tiny transformer encoder\n",
    "// TODO: copy relevant sources here\n",
    "// TODO: feed sliced features to transformer\n",
    "// TODO: make it train"
   ]
  },
  {
   "cell_type": "code",
   "execution_count": 3,
   "metadata": {},
   "outputs": [],
   "source": [
    "import Foundation\n",
    "import TensorFlow\n",
    "import PythonKit\n",
    "\n",
    "import Batcher\n",
    "import ModelSupport\n",
    "import Datasets\n",
    "import ImageClassificationModels\n",
    "import TextModels"
   ]
  },
  {
   "cell_type": "code",
   "execution_count": 4,
   "metadata": {},
   "outputs": [
    {
     "data": {
      "text/plain": [
       "('inline', 'module://ipykernel.pylab.backend_inline')\n"
      ]
     },
     "execution_count": 4,
     "metadata": {},
     "output_type": "execute_result"
    }
   ],
   "source": [
    "%include \"EnableIPythonDisplay.swift\"\n",
    "IPythonDisplay.shell.enable_matplotlib(\"inline\")"
   ]
  },
  {
   "cell_type": "code",
   "execution_count": null,
   "metadata": {},
   "outputs": [],
   "source": []
  },
  {
   "cell_type": "markdown",
   "metadata": {},
   "source": [
    "# load dataset"
   ]
  },
  {
   "cell_type": "code",
   "execution_count": 5,
   "metadata": {},
   "outputs": [
    {
     "name": "stdout",
     "output_type": "stream",
     "text": [
      "MotionData(motionSamples: 494)\n",
      "trainTensorPairs.count = 395\n",
      "testTensorPairs.count = 99\n",
      "dataset.training.count: 198\n",
      "dataset.test.count: 50\n"
     ]
    }
   ],
   "source": [
    "let batchSize = 2\n",
    "let tensorWidth = 60\n",
    "\n",
    "let serializedDatasetURL = URL(fileURLWithPath: \"/notebooks/language2motion.gt/data/motion_dataset.normalized.500.plist\")\n",
    "let labelsURL = URL(fileURLWithPath: \"/notebooks/language2motion.gt/data/labels_ds_v2.csv\")\n",
    "\n",
    "let dataset = Motion2Label(\n",
    "    batchSize: batchSize, \n",
    "    serializedDatasetURL: serializedDatasetURL,\n",
    "    labelsURL: labelsURL,\n",
    "    tensorWidth: tensorWidth\n",
    ")\n",
    "print(\"dataset.training.count: \\(dataset.training.count)\")\n",
    "print(\"dataset.test.count: \\(dataset.test.count)\")"
   ]
  },
  {
   "cell_type": "markdown",
   "metadata": {},
   "source": [
    "# 1-channel ResNet model"
   ]
  },
  {
   "cell_type": "code",
   "execution_count": 6,
   "metadata": {},
   "outputs": [],
   "source": [
    "let nOutputs = 128"
   ]
  },
  {
   "cell_type": "code",
   "execution_count": 7,
   "metadata": {},
   "outputs": [],
   "source": [
    "var resnet = ResNet(classCount: nOutputs, depth: .resNet18, downsamplingInFirstStage: false, channelCount: 1)\n",
    "// let optimizer = SGD(for: resnet, learningRate: 0.001)"
   ]
  },
  {
   "cell_type": "markdown",
   "metadata": {},
   "source": [
    "# Sliding ResNet feature extractor"
   ]
  },
  {
   "cell_type": "code",
   "execution_count": 8,
   "metadata": {},
   "outputs": [],
   "source": [
    "var batchIterator = dataset.training.sequenced()"
   ]
  },
  {
   "cell_type": "code",
   "execution_count": 9,
   "metadata": {},
   "outputs": [],
   "source": [
    "let batch = batchIterator.next()"
   ]
  },
  {
   "cell_type": "code",
   "execution_count": 10,
   "metadata": {},
   "outputs": [
    {
     "data": {
      "text/plain": [
       "▿ [2, 60, 44, 1]\n",
       "  ▿ dimensions : 4 elements\n",
       "    - 0 : 2\n",
       "    - 1 : 60\n",
       "    - 2 : 44\n",
       "    - 3 : 1\n"
      ]
     },
     "execution_count": 10,
     "metadata": {},
     "output_type": "execute_result"
    }
   ],
   "source": [
    "let batchTensor = batch!.first\n",
    "batchTensor.shape"
   ]
  },
  {
   "cell_type": "code",
   "execution_count": 11,
   "metadata": {},
   "outputs": [],
   "source": [
    "let stride = 10\n",
    "let tWidth = stride*2"
   ]
  },
  {
   "cell_type": "raw",
   "metadata": {},
   "source": [
    "func emb(_ batchTensor: Tensor<Float>) -> Tensor<Float> {\n",
    "    var emb1: [Tensor<Float>] = []\n",
    "\n",
    "    for i in 0..<(tensorWidth/stride)-1 {\n",
    "        let start = i*stride\n",
    "        let end = i*stride+tWidth\n",
    "        // print(start, end)\n",
    "        let t1 = batchTensor[0..., start..<end]\n",
    "        let emb2 = resnet(t1)\n",
    "        emb1.append(emb2)\n",
    "    }\n",
    "    let emb3 = Tensor(stacking: emb1, alongAxis: 1)\n",
    "    return emb3\n",
    "}\n",
    "time() {\n",
    "    let emb3 = emb(batchTensor)\n",
    "    print(emb3.shape)\n",
    "}"
   ]
  },
  {
   "cell_type": "code",
   "execution_count": 12,
   "metadata": {},
   "outputs": [
    {
     "name": "stdout",
     "output_type": "stream",
     "text": [
      "[2, 60, 44, 1]\n",
      "[2, 5, 128]\n",
      "average: 391.6182 ms,   min: 391.6182 ms,   max: 391.6182 ms\n"
     ]
    }
   ],
   "source": [
    "func extractMotionFeatures(_ batchTensor: Tensor<Float>, resnet: ResNet) -> Tensor<Float> {\n",
    "    // sliding resnet feature extractor\n",
    "    var t2: [Tensor<Float>] = []\n",
    "    let origBatchSize = batchTensor.shape[0]\n",
    "    let nElements = (tensorWidth/stride)-1\n",
    "    for i in 0..<nElements {\n",
    "        let start = i*stride\n",
    "        let end = i*stride+tWidth\n",
    "        // print(start, end)\n",
    "        let t1 = batchTensor[0..., start..<end]\n",
    "        // print(t1.shape)\n",
    "        t2.append(t1)\n",
    "    }\n",
    "    let t3 = Tensor(concatenating: t2)\n",
    "    // print(t3.shape)\n",
    "    let emb2 = resnet(t3)\n",
    "    let outShape: Array<Int> = [origBatchSize, nElements, resnet.classifier.weight.shape[1]]\n",
    "    // print(outShape)\n",
    "    let emb3 = emb2.reshaped(to: TensorShape(outShape))\n",
    "    return emb3\n",
    "}\n",
    "time() {\n",
    "    print(batchTensor.shape)\n",
    "    let emb3 = extractMotionFeatures(batchTensor, resnet: resnet)\n",
    "    print(emb3.shape)\n",
    "}"
   ]
  },
  {
   "cell_type": "markdown",
   "metadata": {},
   "source": [
    "# Tiny BERT/Transformer"
   ]
  },
  {
   "cell_type": "code",
   "execution_count": 13,
   "metadata": {},
   "outputs": [
    {
     "name": "stdout",
     "output_type": "stream",
     "text": [
      "Loading BERT pre-trained model 'BERT Base Uncased'.\n",
      "Loading resource: uncased_L-12_H-768_A-12\n"
     ]
    }
   ],
   "source": [
    "let bertPretrained = BERT.PreTrainedModel.bertBase(cased: false, multilingual: false)\n",
    "let workspaceURL = URL(\n",
    "    fileURLWithPath: \"bert_models\", isDirectory: true,\n",
    "    relativeTo: URL(\n",
    "        fileURLWithPath: NSTemporaryDirectory(),\n",
    "        isDirectory: true))\n",
    "let bert = try BERT.PreTrainedModel.load(bertPretrained)(from: workspaceURL)\n",
    "var bertClassifier = BERTClassifier(bert: bert, classCount: 5)"
   ]
  },
  {
   "cell_type": "markdown",
   "metadata": {},
   "source": [
    "# train"
   ]
  },
  {
   "cell_type": "raw",
   "metadata": {},
   "source": [
    "print(\"Starting motion2label training...\")\n",
    "\n",
    "for epoch in 1...10 {\n",
    "//     print(\"epoch \\(epoch)\")\n",
    "    Context.local.learningPhase = .training\n",
    "    dataset.newTrainCrops()\n",
    "    var trainingLossSum: Float = 0\n",
    "    var trainingBatchCount = 0\n",
    "    for batch in dataset.training.sequenced() {\n",
    "        print(\"progress \\(100.0*Float(trainingBatchCount)/Float(dataset.training.count))%\")\n",
    "        let (tensors, labels) = (batch.first, batch.second)\n",
    "        let (loss, gradients) = valueWithGradient(at: model) { model -> Tensor<Float> in\n",
    "            let logits = model(tensors)\n",
    "            return softmaxCrossEntropy(logits: logits, labels: labels)\n",
    "        }\n",
    "        trainingLossSum += loss.scalarized()\n",
    "        trainingBatchCount += 1\n",
    "        optimizer.update(&model, along: gradients)\n",
    "    }\n",
    "\n",
    "    Context.local.learningPhase = .inference\n",
    "    var testLossSum: Float = 0\n",
    "    var testBatchCount = 0\n",
    "    var correctGuessCount = 0\n",
    "    var totalGuessCount = 0\n",
    "    for batch in dataset.test.sequenced() {\n",
    "//         print(\"batch\")\n",
    "        let (tensors, labels) = (batch.first, batch.second)\n",
    "        let logits = model(tensors)\n",
    "        testLossSum += softmaxCrossEntropy(logits: logits, labels: labels).scalarized()\n",
    "        testBatchCount += 1\n",
    "\n",
    "        let correctPredictions = logits.argmax(squeezingAxis: 1) .== labels\n",
    "        correctGuessCount = correctGuessCount\n",
    "            + Int(\n",
    "                Tensor<Int32>(correctPredictions).sum().scalarized())\n",
    "        totalGuessCount = totalGuessCount + batchSize\n",
    "    }\n",
    "\n",
    "    let accuracy = Float(correctGuessCount) / Float(totalGuessCount)\n",
    "    print(\n",
    "        \"\"\"\n",
    "        [Epoch \\(epoch)] \\\n",
    "        Training loss: \\(trainingLossSum  / Float(trainingBatchCount)) \\\n",
    "        Accuracy: \\(correctGuessCount)/\\(totalGuessCount) (\\(accuracy*100)%) \\\n",
    "        Loss: \\(testLossSum / Float(testBatchCount))\n",
    "        \"\"\"\n",
    "    )\n",
    "}\n"
   ]
  },
  {
   "cell_type": "code",
   "execution_count": null,
   "metadata": {},
   "outputs": [],
   "source": []
  },
  {
   "cell_type": "code",
   "execution_count": null,
   "metadata": {},
   "outputs": [],
   "source": []
  }
 ],
 "metadata": {
  "kernelspec": {
   "display_name": "Swift",
   "language": "swift",
   "name": "swift"
  },
  "language_info": {
   "file_extension": ".swift",
   "mimetype": "text/x-swift",
   "name": "swift",
   "version": ""
  }
 },
 "nbformat": 4,
 "nbformat_minor": 4
}
