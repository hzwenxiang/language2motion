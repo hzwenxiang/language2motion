{
 "cells": [
  {
   "cell_type": "markdown",
   "metadata": {},
   "source": [
    "# Transformer-motion2label"
   ]
  },
  {
   "cell_type": "code",
   "execution_count": null,
   "metadata": {},
   "outputs": [],
   "source": [
    "%install-location /notebooks/language2motion.gt/swift-install\n",
    "%install-swiftpm-flags -c release\n",
    "%install '.package(path: \"/notebooks/language2motion.gt/code\")' Batcher ModelSupport Datasets ImageClassificationModels"
   ]
  },
  {
   "cell_type": "code",
   "execution_count": null,
   "metadata": {},
   "outputs": [],
   "source": [
    "// TODO: load Motion2Label dataset\n",
    "// TODO: create tiny transformer encoder\n",
    "// TODO: copy relevant sources here\n",
    "// TODO: feed motion data to transformer"
   ]
  },
  {
   "cell_type": "code",
   "execution_count": null,
   "metadata": {},
   "outputs": [],
   "source": [
    "import Foundation\n",
    "import TensorFlow\n",
    "import PythonKit\n",
    "\n",
    "import Batcher\n",
    "import ModelSupport\n",
    "import Datasets\n",
    "import ImageClassificationModels"
   ]
  },
  {
   "cell_type": "code",
   "execution_count": null,
   "metadata": {},
   "outputs": [],
   "source": [
    "%include \"EnableIPythonDisplay.swift\"\n",
    "IPythonDisplay.shell.enable_matplotlib(\"inline\")"
   ]
  },
  {
   "cell_type": "markdown",
   "metadata": {},
   "source": [
    "# 1-channel ResNet model"
   ]
  },
  {
   "cell_type": "code",
   "execution_count": null,
   "metadata": {},
   "outputs": [],
   "source": [
    "var model = ResNet(classCount: 5, depth: .resNet18, downsamplingInFirstStage: false, channelCount: 1)\n",
    "let optimizer = SGD(for: model, learningRate: 0.001)"
   ]
  },
  {
   "cell_type": "markdown",
   "metadata": {},
   "source": [
    "# load dataset"
   ]
  },
  {
   "cell_type": "code",
   "execution_count": null,
   "metadata": {},
   "outputs": [],
   "source": [
    "let batchSize = 10\n",
    "\n",
    "// let serializedDatasetURL = URL(fileURLWithPath: \"/notebooks/language2motion.gt/data/motion_dataset_v1.plist\")\n",
    "// let serializedDatasetURL = URL(fileURLWithPath: \"/notebooks/language2motion.gt/data/motion_dataset.500.plist\")\n",
    "// let serializedDatasetURL = URL(fileURLWithPath: \"/notebooks/language2motion.gt/data/motion_dataset.grouppedJoints.normalized.500.plist\")\n",
    "let serializedDatasetURL = URL(fileURLWithPath: \"/notebooks/language2motion.gt/data/motion_dataset.normalized.500.plist\")\n",
    "let labelsURL = URL(fileURLWithPath: \"/notebooks/language2motion.gt/data/labels_ds_v2.csv\")\n",
    "\n",
    "let dataset = Motion2Label(\n",
    "    batchSize: batchSize, \n",
    "    serializedDatasetURL: serializedDatasetURL,\n",
    "    labelsURL: labelsURL,\n",
    "    tensorWidth: 224\n",
    ")\n",
    "print(\"dataset.training.count: \\(dataset.training.count)\")\n",
    "print(\"dataset.test.count: \\(dataset.test.count)\")"
   ]
  },
  {
   "cell_type": "markdown",
   "metadata": {},
   "source": [
    "# train"
   ]
  },
  {
   "cell_type": "code",
   "execution_count": null,
   "metadata": {},
   "outputs": [],
   "source": [
    "print(\"Starting motion2label training...\")\n",
    "\n",
    "for epoch in 1...10 {\n",
    "//     print(\"epoch \\(epoch)\")\n",
    "    Context.local.learningPhase = .training\n",
    "    dataset.newTrainCrops()\n",
    "    var trainingLossSum: Float = 0\n",
    "    var trainingBatchCount = 0\n",
    "    for batch in dataset.training.sequenced() {\n",
    "        print(\"progress \\(100.0*Float(trainingBatchCount)/Float(dataset.training.count))%\")\n",
    "        let (tensors, labels) = (batch.first, batch.second)\n",
    "        let (loss, gradients) = valueWithGradient(at: model) { model -> Tensor<Float> in\n",
    "            let logits = model(tensors)\n",
    "            return softmaxCrossEntropy(logits: logits, labels: labels)\n",
    "        }\n",
    "        trainingLossSum += loss.scalarized()\n",
    "        trainingBatchCount += 1\n",
    "        optimizer.update(&model, along: gradients)\n",
    "    }\n",
    "\n",
    "    Context.local.learningPhase = .inference\n",
    "    var testLossSum: Float = 0\n",
    "    var testBatchCount = 0\n",
    "    var correctGuessCount = 0\n",
    "    var totalGuessCount = 0\n",
    "    for batch in dataset.test.sequenced() {\n",
    "//         print(\"batch\")\n",
    "        let (tensors, labels) = (batch.first, batch.second)\n",
    "        let logits = model(tensors)\n",
    "        testLossSum += softmaxCrossEntropy(logits: logits, labels: labels).scalarized()\n",
    "        testBatchCount += 1\n",
    "\n",
    "        let correctPredictions = logits.argmax(squeezingAxis: 1) .== labels\n",
    "        correctGuessCount = correctGuessCount\n",
    "            + Int(\n",
    "                Tensor<Int32>(correctPredictions).sum().scalarized())\n",
    "        totalGuessCount = totalGuessCount + batchSize\n",
    "    }\n",
    "\n",
    "    let accuracy = Float(correctGuessCount) / Float(totalGuessCount)\n",
    "    print(\n",
    "        \"\"\"\n",
    "        [Epoch \\(epoch)] \\\n",
    "        Training loss: \\(trainingLossSum  / Float(trainingBatchCount)) \\\n",
    "        Accuracy: \\(correctGuessCount)/\\(totalGuessCount) (\\(accuracy*100)%) \\\n",
    "        Loss: \\(testLossSum / Float(testBatchCount))\n",
    "        \"\"\"\n",
    "    )\n",
    "}\n"
   ]
  },
  {
   "cell_type": "code",
   "execution_count": null,
   "metadata": {},
   "outputs": [],
   "source": []
  },
  {
   "cell_type": "code",
   "execution_count": null,
   "metadata": {},
   "outputs": [],
   "source": []
  }
 ],
 "metadata": {
  "kernelspec": {
   "display_name": "Swift",
   "language": "swift",
   "name": "swift"
  },
  "language_info": {
   "file_extension": ".swift",
   "mimetype": "text/x-swift",
   "name": "swift",
   "version": ""
  }
 },
 "nbformat": 4,
 "nbformat_minor": 4
}
