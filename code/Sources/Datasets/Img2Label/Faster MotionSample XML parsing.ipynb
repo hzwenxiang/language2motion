{
 "cells": [
  {
   "cell_type": "markdown",
   "metadata": {},
   "source": [
    "# Faster MotionSample XML parsing"
   ]
  },
  {
   "cell_type": "code",
   "execution_count": 1,
   "metadata": {},
   "outputs": [],
   "source": [
    "%include \"EnableIPythonDisplay.swift\"\n",
    "\n",
    "import PythonKit\n",
    "import Foundation\n",
    "\n",
    "let np = Python.import(\"numpy\")\n",
    "let plt = Python.import(\"matplotlib.pyplot\")\n",
    "IPythonDisplay.shell.enable_matplotlib(\"inline\")\n",
    "\n",
    "%include \"Sources/MotionDataset/MotionFrame.swift\"\n",
    "// %include \"Sources/MotionDataset/MotionSample.swift\"\n",
    "// %include \"Sources/MotionDataset/MotionDataset.swift\""
   ]
  },
  {
   "cell_type": "code",
   "execution_count": null,
   "metadata": {},
   "outputs": [],
   "source": []
  },
  {
   "cell_type": "code",
   "execution_count": 2,
   "metadata": {},
   "outputs": [],
   "source": [
    "let mmmURL = URL(fileURLWithPath: \"/notebooks/m2l.gt/data/2017-06-22/00003_mmm.xml\")\n",
    "let annotationsURL = URL(fileURLWithPath: \"/notebooks/m2l.gt/data/2017-06-22/00003_annotations.json\")"
   ]
  },
  {
   "cell_type": "code",
   "execution_count": 28,
   "metadata": {},
   "outputs": [],
   "source": [
    "import Foundation\n",
    "import FoundationXML\n",
    "\n",
    "struct MotionSample {\n",
    "\n",
    "    var motionFrames: [MotionFrame] = []\n",
    "    var jointNames: [String] = []\n",
    "    var annotations: [String] = []\n",
    "    \n",
    "    init(mmmURL: URL, annotationsURL: URL) {\n",
    "        let mmm_doc = loadMMM(fileURL: mmmURL)\n",
    "        self.jointNames = getJointNames(mmm_doc: mmm_doc)\n",
    "        self.motionFrames = getMotionFrames(mmm_doc: mmm_doc)\n",
    "        self.annotations = getAnnotations(fileURL: annotationsURL)\n",
    "    }\n",
    "    \n",
    "    func loadMMM(fileURL: URL) -> XMLDocument {\n",
    "        let mmm_text = try! String(contentsOf: fileURL, encoding: .utf8)\n",
    "        return try! XMLDocument(data: mmm_text.data(using: .utf8)!, options: [])\n",
    "    }\n",
    "    \n",
    "    func getAnnotations(fileURL: URL) -> [String] {\n",
    "        let annotationsData = try! Data(contentsOf: fileURL)\n",
    "        return try! JSONSerialization.jsonObject(with: annotationsData) as! [String]        \n",
    "    }\n",
    "    \n",
    "    func getJointNames(mmm_doc: XMLDocument) -> [String] {\n",
    "        let jointNode: [XMLNode] = try! mmm_doc.nodes(forXPath: \"/MMM/Motion/JointOrder/Joint/@name\")\n",
    "        return jointNode.map {$0.stringValue!.replacingOccurrences(of: \"_joint\", with: \"\")}\n",
    "    }\n",
    "    \n",
    "    func getMotionFrames(mmm_doc: XMLDocument) -> [MotionFrame] {\n",
    "        var motionFrames: [MotionFrame] = []\n",
    "        var count = 0\n",
    "        for motionFrame in try! mmm_doc.nodes(forXPath: \"/MMM/Motion/MotionFrames/MotionFrame\") {\n",
    "            count += 1\n",
    "            var mf = MotionFrame(jointNames: self.jointNames)\n",
    "            let tNode: [XMLNode] = try! motionFrame.nodes(forXPath:\"Timestep\")\n",
    "            mf.timestamp = Float(tNode[0].stringValue!)!\n",
    "            let jpNode: [XMLNode] = try! motionFrame.nodes(forXPath:\"JointPosition\")\n",
    "            let jointPosition: String = jpNode[0].stringValue!            \n",
    "            let comps = jointPosition.split(separator: \" \")\n",
    "            mf.jointPositions = comps.map {\n",
    "                var xx = Float($0)\n",
    "                if xx==nil { xx = 0.0 }\n",
    "                return xx!\n",
    "            }\n",
    "            motionFrames.append(mf)\n",
    "        }\n",
    "        return motionFrames\n",
    "    }\n",
    "    \n",
    "    func describe() -> String {\n",
    "        return \"MotionSample(timestamp: \\(self.motionFrames.last!.timestamp), motions: \\(self.motionFrames.count), annotations: \\(self.annotations.count))\"\n",
    "    }\n",
    "}\n"
   ]
  },
  {
   "cell_type": "code",
   "execution_count": 29,
   "metadata": {
    "scrolled": false
   },
   "outputs": [
    {
     "name": "stdout",
     "output_type": "stream",
     "text": [
      "MotionSample(timestamp: 5.68, motions: 569, annotations: 1)\r\n",
      "0.04938197135925293\r\n"
     ]
    }
   ],
   "source": [
    "let date = Date()\n",
    "let motionSample = MotionSample(mmmURL: mmmURL, annotationsURL: annotationsURL)\n",
    "print(motionSample.describe())\n",
    "print(abs(date.timeIntervalSinceNow))"
   ]
  },
  {
   "cell_type": "code",
   "execution_count": null,
   "metadata": {},
   "outputs": [],
   "source": []
  }
 ],
 "metadata": {
  "kernelspec": {
   "display_name": "Swift",
   "language": "swift",
   "name": "swift"
  },
  "language_info": {
   "file_extension": ".swift",
   "mimetype": "text/x-swift",
   "name": "swift",
   "version": ""
  }
 },
 "nbformat": 4,
 "nbformat_minor": 2
}
